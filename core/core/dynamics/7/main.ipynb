{
 "cells": [
  {
   "cell_type": "code",
   "execution_count": 1207,
   "metadata": {},
   "outputs": [],
   "source": [
    "import pandas as pd\n",
    "import seaborn as sns\n",
    "import matplotlib.pyplot as plt\n",
    "from sklearn.preprocessing import scale\n",
    "from sklearn.preprocessing import StandardScaler"
   ]
  },
  {
   "attachments": {},
   "cell_type": "markdown",
   "metadata": {},
   "source": [
    "# Dataframe:"
   ]
  },
  {
   "cell_type": "code",
   "execution_count": 1208,
   "metadata": {},
   "outputs": [],
   "source": [
    "path = r'../../../data/Dados_Satisfacao.xlsx'\n",
    "df = pd.read_excel(\n",
    "    io=path\n",
    ")"
   ]
  },
  {
   "cell_type": "code",
   "execution_count": 1209,
   "metadata": {},
   "outputs": [
    {
     "data": {
      "text/html": [
       "<div>\n",
       "<style scoped>\n",
       "    .dataframe tbody tr th:only-of-type {\n",
       "        vertical-align: middle;\n",
       "    }\n",
       "\n",
       "    .dataframe tbody tr th {\n",
       "        vertical-align: top;\n",
       "    }\n",
       "\n",
       "    .dataframe thead th {\n",
       "        text-align: right;\n",
       "    }\n",
       "</style>\n",
       "<table border=\"1\" class=\"dataframe\">\n",
       "  <thead>\n",
       "    <tr style=\"text-align: right;\">\n",
       "      <th></th>\n",
       "      <th>Instituição</th>\n",
       "      <th>Comentario</th>\n",
       "      <th>Data</th>\n",
       "      <th>Classificação</th>\n",
       "      <th>Elogio quanto ao app</th>\n",
       "      <th>Reclamação quanto ao app</th>\n",
       "      <th>Elogio a Instituição</th>\n",
       "      <th>Reclamação a Instituição</th>\n",
       "      <th>Não Classificável</th>\n",
       "    </tr>\n",
       "  </thead>\n",
       "  <tbody>\n",
       "    <tr>\n",
       "      <th>0</th>\n",
       "      <td>Banco do Brasil</td>\n",
       "      <td>Muito bom ajuda muito</td>\n",
       "      <td>2019-07-21</td>\n",
       "      <td>5</td>\n",
       "      <td>SIM</td>\n",
       "      <td>NÃO</td>\n",
       "      <td>NÃO</td>\n",
       "      <td>NÃO</td>\n",
       "      <td>NÃO</td>\n",
       "    </tr>\n",
       "    <tr>\n",
       "      <th>1</th>\n",
       "      <td>Banco do Brasil</td>\n",
       "      <td>excelente</td>\n",
       "      <td>2019-07-21</td>\n",
       "      <td>5</td>\n",
       "      <td>SIM</td>\n",
       "      <td>NÃO</td>\n",
       "      <td>NÃO</td>\n",
       "      <td>NÃO</td>\n",
       "      <td>NÃO</td>\n",
       "    </tr>\n",
       "    <tr>\n",
       "      <th>2</th>\n",
       "      <td>Banco do Brasil</td>\n",
       "      <td>Bom</td>\n",
       "      <td>2019-07-21</td>\n",
       "      <td>5</td>\n",
       "      <td>SIM</td>\n",
       "      <td>NÃO</td>\n",
       "      <td>NÃO</td>\n",
       "      <td>NÃO</td>\n",
       "      <td>NÃO</td>\n",
       "    </tr>\n",
       "    <tr>\n",
       "      <th>3</th>\n",
       "      <td>Banco do Brasil</td>\n",
       "      <td>aplicativo muito top</td>\n",
       "      <td>2019-07-21</td>\n",
       "      <td>5</td>\n",
       "      <td>SIM</td>\n",
       "      <td>NÃO</td>\n",
       "      <td>NÃO</td>\n",
       "      <td>NÃO</td>\n",
       "      <td>NÃO</td>\n",
       "    </tr>\n",
       "    <tr>\n",
       "      <th>4</th>\n",
       "      <td>Banco do Brasil</td>\n",
       "      <td>Fácil e prático</td>\n",
       "      <td>2019-07-21</td>\n",
       "      <td>5</td>\n",
       "      <td>SIM</td>\n",
       "      <td>NÃO</td>\n",
       "      <td>NÃO</td>\n",
       "      <td>NÃO</td>\n",
       "      <td>NÃO</td>\n",
       "    </tr>\n",
       "  </tbody>\n",
       "</table>\n",
       "</div>"
      ],
      "text/plain": [
       "       Instituição             Comentario       Data  Classificação  \\\n",
       "0  Banco do Brasil  Muito bom ajuda muito 2019-07-21              5   \n",
       "1  Banco do Brasil              excelente 2019-07-21              5   \n",
       "2  Banco do Brasil                    Bom 2019-07-21              5   \n",
       "3  Banco do Brasil   aplicativo muito top 2019-07-21              5   \n",
       "4  Banco do Brasil        Fácil e prático 2019-07-21              5   \n",
       "\n",
       "  Elogio quanto ao app Reclamação quanto ao app Elogio a Instituição  \\\n",
       "0                  SIM                      NÃO                  NÃO   \n",
       "1                  SIM                      NÃO                  NÃO   \n",
       "2                  SIM                      NÃO                  NÃO   \n",
       "3                  SIM                      NÃO                  NÃO   \n",
       "4                  SIM                      NÃO                  NÃO   \n",
       "\n",
       "  Reclamação a Instituição Não Classificável  \n",
       "0                      NÃO               NÃO  \n",
       "1                      NÃO               NÃO  \n",
       "2                      NÃO               NÃO  \n",
       "3                      NÃO               NÃO  \n",
       "4                      NÃO               NÃO  "
      ]
     },
     "metadata": {},
     "output_type": "display_data"
    }
   ],
   "source": [
    "display(df.head())"
   ]
  },
  {
   "cell_type": "code",
   "execution_count": 1210,
   "metadata": {},
   "outputs": [
    {
     "data": {
      "text/plain": [
       "Index(['Instituição', 'Comentario', 'Data', 'Classificação',\n",
       "       'Elogio quanto ao app', 'Reclamação quanto ao app',\n",
       "       'Elogio a Instituição', 'Reclamação a Instituição',\n",
       "       'Não Classificável'],\n",
       "      dtype='object')"
      ]
     },
     "execution_count": 1210,
     "metadata": {},
     "output_type": "execute_result"
    }
   ],
   "source": [
    "df.columns"
   ]
  },
  {
   "attachments": {},
   "cell_type": "markdown",
   "metadata": {},
   "source": [
    "# Satisfação Dos Clientes:"
   ]
  },
  {
   "attachments": {},
   "cell_type": "markdown",
   "metadata": {},
   "source": [
    "## Código:"
   ]
  },
  {
   "cell_type": "code",
   "execution_count": 1211,
   "metadata": {},
   "outputs": [],
   "source": [
    "class Dynamics():\n",
    "    def verificando_as_dimensões_do_dataframe(self, dataframe):\n",
    "        dataframe = dataframe.shape\n",
    "        print(f'Linhas: {dataframe[0]} \\nColunas: {dataframe[1]}')\n",
    "\n",
    "    def descrição(self, dataframe):\n",
    "        dataframe = dataframe.describe().round(decimals=2)\n",
    "        display(dataframe)\n",
    "\n",
    "    def verificando_valores_nulos(self, dataframe):\n",
    "        valores_nulos = dataframe.isnull().sum()\n",
    "        percent_missing = (valores_nulos / len(dataframe))\n",
    "        dataframe = pd.DataFrame(\n",
    "            {\n",
    "            'Quantidade': valores_nulos,\n",
    "            'Porcentagem': percent_missing\n",
    "            }\n",
    "        )\n",
    "        dataframe = dataframe.style.format('{:.2%}', subset=['Porcentagem'])\n",
    "        display(dataframe)\n",
    "\n",
    "    def verificando_valores_duplicados(self, dataframe):\n",
    "        valores_repetidos = dataframe.apply(lambda x: x.duplicated()).sum()\n",
    "        percent_missing = (valores_repetidos / len(dataframe))\n",
    "        dataframe = pd.DataFrame(\n",
    "            {\n",
    "                'Quantidade': valores_repetidos,\n",
    "                'Porcentagem': percent_missing\n",
    "            },\n",
    "            index=dataframe.columns\n",
    "        )\n",
    "\n",
    "        dataframe = dataframe.style.format('{:.2%}', subset=['Porcentagem'])\n",
    "        display(dataframe)\n",
    "    \n",
    "    def verificando_tipos(self, dataframe):\n",
    "        dataframe = (\n",
    "            dataframe.dtypes\n",
    "            .to_frame('Tipos')\n",
    "        )\n",
    "        display(dataframe)\n",
    "\n",
    "    def verificando_a_distribuição(self, dataframe, coluna):\n",
    "        sns.histplot(data=dataframe[coluna], kde=True)\n",
    "        plt.show()\n",
    "\n",
    "    def gráfico_de_barras_barplot(self, dataframe, x, y, title):\n",
    "        plt.subplots(figsize = (10,4))\n",
    "        sns.barplot(\n",
    "            data=dataframe, \n",
    "            x=x,\n",
    "            y=y\n",
    "        )\n",
    "        ax = plt.gca()\n",
    "        ax.set_title(title)\n",
    "    \n",
    "    def normalizando_os_dados(self, dataframe):\n",
    "        scaler = StandardScaler()\n",
    "        dataframe = pd.DataFrame(\n",
    "            scaler.fit_transform(dataframe), \n",
    "            index=dataframe.index, \n",
    "            columns=dataframe.columns\n",
    "        )\n",
    "        return dataframe\n",
    "\n",
    "    def substituindo_valores(self, dataframe, colunas, valores):      \n",
    "        return dataframe[colunas].replace(valores)\n",
    "    \n",
    "    def convertendo_para_inteiro(self, dataframe, colunas):\n",
    "        return dataframe[colunas].astype(int)\n",
    "\n",
    "    def agrupando_por_condição(self, dataframe, coluna_1, coluna_2):\n",
    "        dataframe = dataframe.groupby(coluna_1)[coluna_2].mean().reset_index()\n",
    "        dataframe[coluna_2] = dataframe[coluna_2]*100\n",
    "        return dataframe\n",
    "    \n",
    "\n",
    "if __name__ == '__main__':\n",
    "    dynamics = Dynamics()"
   ]
  },
  {
   "attachments": {},
   "cell_type": "markdown",
   "metadata": {},
   "source": [
    "## Output:"
   ]
  },
  {
   "attachments": {},
   "cell_type": "markdown",
   "metadata": {},
   "source": [
    "### Data Understanding:"
   ]
  },
  {
   "cell_type": "code",
   "execution_count": 1212,
   "metadata": {},
   "outputs": [
    {
     "data": {
      "text/html": [
       "<div>\n",
       "<style scoped>\n",
       "    .dataframe tbody tr th:only-of-type {\n",
       "        vertical-align: middle;\n",
       "    }\n",
       "\n",
       "    .dataframe tbody tr th {\n",
       "        vertical-align: top;\n",
       "    }\n",
       "\n",
       "    .dataframe thead th {\n",
       "        text-align: right;\n",
       "    }\n",
       "</style>\n",
       "<table border=\"1\" class=\"dataframe\">\n",
       "  <thead>\n",
       "    <tr style=\"text-align: right;\">\n",
       "      <th></th>\n",
       "      <th>Instituição</th>\n",
       "      <th>Comentario</th>\n",
       "      <th>Data</th>\n",
       "      <th>Classificação</th>\n",
       "      <th>Elogio quanto ao app</th>\n",
       "      <th>Reclamação quanto ao app</th>\n",
       "      <th>Elogio a Instituição</th>\n",
       "      <th>Reclamação a Instituição</th>\n",
       "      <th>Não Classificável</th>\n",
       "    </tr>\n",
       "  </thead>\n",
       "  <tbody>\n",
       "    <tr>\n",
       "      <th>0</th>\n",
       "      <td>Banco do Brasil</td>\n",
       "      <td>Muito bom ajuda muito</td>\n",
       "      <td>2019-07-21</td>\n",
       "      <td>5</td>\n",
       "      <td>SIM</td>\n",
       "      <td>NÃO</td>\n",
       "      <td>NÃO</td>\n",
       "      <td>NÃO</td>\n",
       "      <td>NÃO</td>\n",
       "    </tr>\n",
       "    <tr>\n",
       "      <th>1</th>\n",
       "      <td>Banco do Brasil</td>\n",
       "      <td>excelente</td>\n",
       "      <td>2019-07-21</td>\n",
       "      <td>5</td>\n",
       "      <td>SIM</td>\n",
       "      <td>NÃO</td>\n",
       "      <td>NÃO</td>\n",
       "      <td>NÃO</td>\n",
       "      <td>NÃO</td>\n",
       "    </tr>\n",
       "    <tr>\n",
       "      <th>2</th>\n",
       "      <td>Banco do Brasil</td>\n",
       "      <td>Bom</td>\n",
       "      <td>2019-07-21</td>\n",
       "      <td>5</td>\n",
       "      <td>SIM</td>\n",
       "      <td>NÃO</td>\n",
       "      <td>NÃO</td>\n",
       "      <td>NÃO</td>\n",
       "      <td>NÃO</td>\n",
       "    </tr>\n",
       "    <tr>\n",
       "      <th>3</th>\n",
       "      <td>Banco do Brasil</td>\n",
       "      <td>aplicativo muito top</td>\n",
       "      <td>2019-07-21</td>\n",
       "      <td>5</td>\n",
       "      <td>SIM</td>\n",
       "      <td>NÃO</td>\n",
       "      <td>NÃO</td>\n",
       "      <td>NÃO</td>\n",
       "      <td>NÃO</td>\n",
       "    </tr>\n",
       "    <tr>\n",
       "      <th>4</th>\n",
       "      <td>Banco do Brasil</td>\n",
       "      <td>Fácil e prático</td>\n",
       "      <td>2019-07-21</td>\n",
       "      <td>5</td>\n",
       "      <td>SIM</td>\n",
       "      <td>NÃO</td>\n",
       "      <td>NÃO</td>\n",
       "      <td>NÃO</td>\n",
       "      <td>NÃO</td>\n",
       "    </tr>\n",
       "  </tbody>\n",
       "</table>\n",
       "</div>"
      ],
      "text/plain": [
       "       Instituição             Comentario       Data  Classificação  \\\n",
       "0  Banco do Brasil  Muito bom ajuda muito 2019-07-21              5   \n",
       "1  Banco do Brasil              excelente 2019-07-21              5   \n",
       "2  Banco do Brasil                    Bom 2019-07-21              5   \n",
       "3  Banco do Brasil   aplicativo muito top 2019-07-21              5   \n",
       "4  Banco do Brasil        Fácil e prático 2019-07-21              5   \n",
       "\n",
       "  Elogio quanto ao app Reclamação quanto ao app Elogio a Instituição  \\\n",
       "0                  SIM                      NÃO                  NÃO   \n",
       "1                  SIM                      NÃO                  NÃO   \n",
       "2                  SIM                      NÃO                  NÃO   \n",
       "3                  SIM                      NÃO                  NÃO   \n",
       "4                  SIM                      NÃO                  NÃO   \n",
       "\n",
       "  Reclamação a Instituição Não Classificável  \n",
       "0                      NÃO               NÃO  \n",
       "1                      NÃO               NÃO  \n",
       "2                      NÃO               NÃO  \n",
       "3                      NÃO               NÃO  \n",
       "4                      NÃO               NÃO  "
      ]
     },
     "metadata": {},
     "output_type": "display_data"
    }
   ],
   "source": [
    "display(df.head())"
   ]
  },
  {
   "cell_type": "code",
   "execution_count": 1213,
   "metadata": {},
   "outputs": [
    {
     "name": "stdout",
     "output_type": "stream",
     "text": [
      "Linhas: 8702 \n",
      "Colunas: 9\n"
     ]
    }
   ],
   "source": [
    "dynamics.verificando_as_dimensões_do_dataframe(dataframe=df)"
   ]
  },
  {
   "cell_type": "code",
   "execution_count": 1214,
   "metadata": {},
   "outputs": [
    {
     "data": {
      "text/html": [
       "<div>\n",
       "<style scoped>\n",
       "    .dataframe tbody tr th:only-of-type {\n",
       "        vertical-align: middle;\n",
       "    }\n",
       "\n",
       "    .dataframe tbody tr th {\n",
       "        vertical-align: top;\n",
       "    }\n",
       "\n",
       "    .dataframe thead th {\n",
       "        text-align: right;\n",
       "    }\n",
       "</style>\n",
       "<table border=\"1\" class=\"dataframe\">\n",
       "  <thead>\n",
       "    <tr style=\"text-align: right;\">\n",
       "      <th></th>\n",
       "      <th>Classificação</th>\n",
       "    </tr>\n",
       "  </thead>\n",
       "  <tbody>\n",
       "    <tr>\n",
       "      <th>count</th>\n",
       "      <td>8702.00</td>\n",
       "    </tr>\n",
       "    <tr>\n",
       "      <th>mean</th>\n",
       "      <td>4.16</td>\n",
       "    </tr>\n",
       "    <tr>\n",
       "      <th>std</th>\n",
       "      <td>1.44</td>\n",
       "    </tr>\n",
       "    <tr>\n",
       "      <th>min</th>\n",
       "      <td>1.00</td>\n",
       "    </tr>\n",
       "    <tr>\n",
       "      <th>25%</th>\n",
       "      <td>4.00</td>\n",
       "    </tr>\n",
       "    <tr>\n",
       "      <th>50%</th>\n",
       "      <td>5.00</td>\n",
       "    </tr>\n",
       "    <tr>\n",
       "      <th>75%</th>\n",
       "      <td>5.00</td>\n",
       "    </tr>\n",
       "    <tr>\n",
       "      <th>max</th>\n",
       "      <td>5.00</td>\n",
       "    </tr>\n",
       "  </tbody>\n",
       "</table>\n",
       "</div>"
      ],
      "text/plain": [
       "       Classificação\n",
       "count        8702.00\n",
       "mean            4.16\n",
       "std             1.44\n",
       "min             1.00\n",
       "25%             4.00\n",
       "50%             5.00\n",
       "75%             5.00\n",
       "max             5.00"
      ]
     },
     "metadata": {},
     "output_type": "display_data"
    }
   ],
   "source": [
    "dynamics.descrição(dataframe=df)"
   ]
  },
  {
   "cell_type": "code",
   "execution_count": 1215,
   "metadata": {},
   "outputs": [
    {
     "data": {
      "text/html": [
       "<style type=\"text/css\">\n",
       "</style>\n",
       "<table id=\"T_f0171\">\n",
       "  <thead>\n",
       "    <tr>\n",
       "      <th class=\"blank level0\" >&nbsp;</th>\n",
       "      <th id=\"T_f0171_level0_col0\" class=\"col_heading level0 col0\" >Quantidade</th>\n",
       "      <th id=\"T_f0171_level0_col1\" class=\"col_heading level0 col1\" >Porcentagem</th>\n",
       "    </tr>\n",
       "  </thead>\n",
       "  <tbody>\n",
       "    <tr>\n",
       "      <th id=\"T_f0171_level0_row0\" class=\"row_heading level0 row0\" >Instituição</th>\n",
       "      <td id=\"T_f0171_row0_col0\" class=\"data row0 col0\" >0</td>\n",
       "      <td id=\"T_f0171_row0_col1\" class=\"data row0 col1\" >0.00%</td>\n",
       "    </tr>\n",
       "    <tr>\n",
       "      <th id=\"T_f0171_level0_row1\" class=\"row_heading level0 row1\" >Comentario</th>\n",
       "      <td id=\"T_f0171_row1_col0\" class=\"data row1 col0\" >4</td>\n",
       "      <td id=\"T_f0171_row1_col1\" class=\"data row1 col1\" >0.05%</td>\n",
       "    </tr>\n",
       "    <tr>\n",
       "      <th id=\"T_f0171_level0_row2\" class=\"row_heading level0 row2\" >Data</th>\n",
       "      <td id=\"T_f0171_row2_col0\" class=\"data row2 col0\" >0</td>\n",
       "      <td id=\"T_f0171_row2_col1\" class=\"data row2 col1\" >0.00%</td>\n",
       "    </tr>\n",
       "    <tr>\n",
       "      <th id=\"T_f0171_level0_row3\" class=\"row_heading level0 row3\" >Classificação</th>\n",
       "      <td id=\"T_f0171_row3_col0\" class=\"data row3 col0\" >0</td>\n",
       "      <td id=\"T_f0171_row3_col1\" class=\"data row3 col1\" >0.00%</td>\n",
       "    </tr>\n",
       "    <tr>\n",
       "      <th id=\"T_f0171_level0_row4\" class=\"row_heading level0 row4\" >Elogio quanto ao app</th>\n",
       "      <td id=\"T_f0171_row4_col0\" class=\"data row4 col0\" >0</td>\n",
       "      <td id=\"T_f0171_row4_col1\" class=\"data row4 col1\" >0.00%</td>\n",
       "    </tr>\n",
       "    <tr>\n",
       "      <th id=\"T_f0171_level0_row5\" class=\"row_heading level0 row5\" >Reclamação quanto ao app</th>\n",
       "      <td id=\"T_f0171_row5_col0\" class=\"data row5 col0\" >0</td>\n",
       "      <td id=\"T_f0171_row5_col1\" class=\"data row5 col1\" >0.00%</td>\n",
       "    </tr>\n",
       "    <tr>\n",
       "      <th id=\"T_f0171_level0_row6\" class=\"row_heading level0 row6\" >Elogio a Instituição</th>\n",
       "      <td id=\"T_f0171_row6_col0\" class=\"data row6 col0\" >0</td>\n",
       "      <td id=\"T_f0171_row6_col1\" class=\"data row6 col1\" >0.00%</td>\n",
       "    </tr>\n",
       "    <tr>\n",
       "      <th id=\"T_f0171_level0_row7\" class=\"row_heading level0 row7\" >Reclamação a Instituição</th>\n",
       "      <td id=\"T_f0171_row7_col0\" class=\"data row7 col0\" >0</td>\n",
       "      <td id=\"T_f0171_row7_col1\" class=\"data row7 col1\" >0.00%</td>\n",
       "    </tr>\n",
       "    <tr>\n",
       "      <th id=\"T_f0171_level0_row8\" class=\"row_heading level0 row8\" >Não Classificável</th>\n",
       "      <td id=\"T_f0171_row8_col0\" class=\"data row8 col0\" >0</td>\n",
       "      <td id=\"T_f0171_row8_col1\" class=\"data row8 col1\" >0.00%</td>\n",
       "    </tr>\n",
       "  </tbody>\n",
       "</table>\n"
      ],
      "text/plain": [
       "<pandas.io.formats.style.Styler at 0x7ff434d05550>"
      ]
     },
     "metadata": {},
     "output_type": "display_data"
    }
   ],
   "source": [
    "dynamics.verificando_valores_nulos(dataframe=df)"
   ]
  },
  {
   "cell_type": "code",
   "execution_count": 1216,
   "metadata": {},
   "outputs": [
    {
     "data": {
      "text/html": [
       "<style type=\"text/css\">\n",
       "</style>\n",
       "<table id=\"T_8b8f0\">\n",
       "  <thead>\n",
       "    <tr>\n",
       "      <th class=\"blank level0\" >&nbsp;</th>\n",
       "      <th id=\"T_8b8f0_level0_col0\" class=\"col_heading level0 col0\" >Quantidade</th>\n",
       "      <th id=\"T_8b8f0_level0_col1\" class=\"col_heading level0 col1\" >Porcentagem</th>\n",
       "    </tr>\n",
       "  </thead>\n",
       "  <tbody>\n",
       "    <tr>\n",
       "      <th id=\"T_8b8f0_level0_row0\" class=\"row_heading level0 row0\" >Instituição</th>\n",
       "      <td id=\"T_8b8f0_row0_col0\" class=\"data row0 col0\" >8697</td>\n",
       "      <td id=\"T_8b8f0_row0_col1\" class=\"data row0 col1\" >99.94%</td>\n",
       "    </tr>\n",
       "    <tr>\n",
       "      <th id=\"T_8b8f0_level0_row1\" class=\"row_heading level0 row1\" >Comentario</th>\n",
       "      <td id=\"T_8b8f0_row1_col0\" class=\"data row1 col0\" >2825</td>\n",
       "      <td id=\"T_8b8f0_row1_col1\" class=\"data row1 col1\" >32.46%</td>\n",
       "    </tr>\n",
       "    <tr>\n",
       "      <th id=\"T_8b8f0_level0_row2\" class=\"row_heading level0 row2\" >Data</th>\n",
       "      <td id=\"T_8b8f0_row2_col0\" class=\"data row2 col0\" >8642</td>\n",
       "      <td id=\"T_8b8f0_row2_col1\" class=\"data row2 col1\" >99.31%</td>\n",
       "    </tr>\n",
       "    <tr>\n",
       "      <th id=\"T_8b8f0_level0_row3\" class=\"row_heading level0 row3\" >Classificação</th>\n",
       "      <td id=\"T_8b8f0_row3_col0\" class=\"data row3 col0\" >8697</td>\n",
       "      <td id=\"T_8b8f0_row3_col1\" class=\"data row3 col1\" >99.94%</td>\n",
       "    </tr>\n",
       "    <tr>\n",
       "      <th id=\"T_8b8f0_level0_row4\" class=\"row_heading level0 row4\" >Elogio quanto ao app</th>\n",
       "      <td id=\"T_8b8f0_row4_col0\" class=\"data row4 col0\" >8699</td>\n",
       "      <td id=\"T_8b8f0_row4_col1\" class=\"data row4 col1\" >99.97%</td>\n",
       "    </tr>\n",
       "    <tr>\n",
       "      <th id=\"T_8b8f0_level0_row5\" class=\"row_heading level0 row5\" >Reclamação quanto ao app</th>\n",
       "      <td id=\"T_8b8f0_row5_col0\" class=\"data row5 col0\" >8700</td>\n",
       "      <td id=\"T_8b8f0_row5_col1\" class=\"data row5 col1\" >99.98%</td>\n",
       "    </tr>\n",
       "    <tr>\n",
       "      <th id=\"T_8b8f0_level0_row6\" class=\"row_heading level0 row6\" >Elogio a Instituição</th>\n",
       "      <td id=\"T_8b8f0_row6_col0\" class=\"data row6 col0\" >8700</td>\n",
       "      <td id=\"T_8b8f0_row6_col1\" class=\"data row6 col1\" >99.98%</td>\n",
       "    </tr>\n",
       "    <tr>\n",
       "      <th id=\"T_8b8f0_level0_row7\" class=\"row_heading level0 row7\" >Reclamação a Instituição</th>\n",
       "      <td id=\"T_8b8f0_row7_col0\" class=\"data row7 col0\" >8700</td>\n",
       "      <td id=\"T_8b8f0_row7_col1\" class=\"data row7 col1\" >99.98%</td>\n",
       "    </tr>\n",
       "    <tr>\n",
       "      <th id=\"T_8b8f0_level0_row8\" class=\"row_heading level0 row8\" >Não Classificável</th>\n",
       "      <td id=\"T_8b8f0_row8_col0\" class=\"data row8 col0\" >8700</td>\n",
       "      <td id=\"T_8b8f0_row8_col1\" class=\"data row8 col1\" >99.98%</td>\n",
       "    </tr>\n",
       "  </tbody>\n",
       "</table>\n"
      ],
      "text/plain": [
       "<pandas.io.formats.style.Styler at 0x7ff434d05130>"
      ]
     },
     "metadata": {},
     "output_type": "display_data"
    }
   ],
   "source": [
    "dynamics.verificando_valores_duplicados(dataframe=df)"
   ]
  },
  {
   "cell_type": "code",
   "execution_count": 1217,
   "metadata": {},
   "outputs": [
    {
     "data": {
      "text/html": [
       "<div>\n",
       "<style scoped>\n",
       "    .dataframe tbody tr th:only-of-type {\n",
       "        vertical-align: middle;\n",
       "    }\n",
       "\n",
       "    .dataframe tbody tr th {\n",
       "        vertical-align: top;\n",
       "    }\n",
       "\n",
       "    .dataframe thead th {\n",
       "        text-align: right;\n",
       "    }\n",
       "</style>\n",
       "<table border=\"1\" class=\"dataframe\">\n",
       "  <thead>\n",
       "    <tr style=\"text-align: right;\">\n",
       "      <th></th>\n",
       "      <th>Tipos</th>\n",
       "    </tr>\n",
       "  </thead>\n",
       "  <tbody>\n",
       "    <tr>\n",
       "      <th>Instituição</th>\n",
       "      <td>object</td>\n",
       "    </tr>\n",
       "    <tr>\n",
       "      <th>Comentario</th>\n",
       "      <td>object</td>\n",
       "    </tr>\n",
       "    <tr>\n",
       "      <th>Data</th>\n",
       "      <td>datetime64[ns]</td>\n",
       "    </tr>\n",
       "    <tr>\n",
       "      <th>Classificação</th>\n",
       "      <td>int64</td>\n",
       "    </tr>\n",
       "    <tr>\n",
       "      <th>Elogio quanto ao app</th>\n",
       "      <td>object</td>\n",
       "    </tr>\n",
       "    <tr>\n",
       "      <th>Reclamação quanto ao app</th>\n",
       "      <td>object</td>\n",
       "    </tr>\n",
       "    <tr>\n",
       "      <th>Elogio a Instituição</th>\n",
       "      <td>object</td>\n",
       "    </tr>\n",
       "    <tr>\n",
       "      <th>Reclamação a Instituição</th>\n",
       "      <td>object</td>\n",
       "    </tr>\n",
       "    <tr>\n",
       "      <th>Não Classificável</th>\n",
       "      <td>object</td>\n",
       "    </tr>\n",
       "  </tbody>\n",
       "</table>\n",
       "</div>"
      ],
      "text/plain": [
       "                                   Tipos\n",
       "Instituição                       object\n",
       "Comentario                        object\n",
       "Data                      datetime64[ns]\n",
       "Classificação                      int64\n",
       "Elogio quanto ao app              object\n",
       "Reclamação quanto ao app          object\n",
       "Elogio a Instituição              object\n",
       "Reclamação a Instituição          object\n",
       "Não Classificável                 object"
      ]
     },
     "metadata": {},
     "output_type": "display_data"
    }
   ],
   "source": [
    "dynamics.verificando_tipos(dataframe=df)"
   ]
  },
  {
   "cell_type": "code",
   "execution_count": 1218,
   "metadata": {},
   "outputs": [
    {
     "data": {
      "image/png": "[encoded data removed]",
      "text/plain": [
       "<Figure size 640x480 with 1 Axes>"
      ]
     },
     "metadata": {},
     "output_type": "display_data"
    }
   ],
   "source": [
    "dynamics.verificando_a_distribuição(dataframe=df, coluna='Classificação')"
   ]
  },
  {
   "cell_type": "code",
   "execution_count": 1219,
   "metadata": {},
   "outputs": [],
   "source": [
    "colunas=[\n",
    "    'Elogio quanto ao app', 'Reclamação quanto ao app',\n",
    "    'Elogio a Instituição', 'Reclamação a Instituição',\n",
    "    'Não Classificável'\n",
    "]\n",
    "\n",
    "df[colunas] = dynamics.substituindo_valores(\n",
    "    dataframe=df,\n",
    "    colunas=colunas,\n",
    "    valores={'NAO':'0', 'NÃO':'0', 'SIM':'1'}\n",
    ")"
   ]
  },
  {
   "cell_type": "code",
   "execution_count": 1220,
   "metadata": {},
   "outputs": [],
   "source": [
    "df[colunas] = dynamics.convertendo_para_inteiro(\n",
    "    dataframe=df,\n",
    "    colunas=colunas,\n",
    ")"
   ]
  },
  {
   "cell_type": "code",
   "execution_count": 1221,
   "metadata": {},
   "outputs": [
    {
     "data": {
      "text/html": [
       "<div>\n",
       "<style scoped>\n",
       "    .dataframe tbody tr th:only-of-type {\n",
       "        vertical-align: middle;\n",
       "    }\n",
       "\n",
       "    .dataframe tbody tr th {\n",
       "        vertical-align: top;\n",
       "    }\n",
       "\n",
       "    .dataframe thead th {\n",
       "        text-align: right;\n",
       "    }\n",
       "</style>\n",
       "<table border=\"1\" class=\"dataframe\">\n",
       "  <thead>\n",
       "    <tr style=\"text-align: right;\">\n",
       "      <th></th>\n",
       "      <th>Tipos</th>\n",
       "    </tr>\n",
       "  </thead>\n",
       "  <tbody>\n",
       "    <tr>\n",
       "      <th>Instituição</th>\n",
       "      <td>object</td>\n",
       "    </tr>\n",
       "    <tr>\n",
       "      <th>Comentario</th>\n",
       "      <td>object</td>\n",
       "    </tr>\n",
       "    <tr>\n",
       "      <th>Data</th>\n",
       "      <td>datetime64[ns]</td>\n",
       "    </tr>\n",
       "    <tr>\n",
       "      <th>Classificação</th>\n",
       "      <td>int64</td>\n",
       "    </tr>\n",
       "    <tr>\n",
       "      <th>Elogio quanto ao app</th>\n",
       "      <td>int64</td>\n",
       "    </tr>\n",
       "    <tr>\n",
       "      <th>Reclamação quanto ao app</th>\n",
       "      <td>int64</td>\n",
       "    </tr>\n",
       "    <tr>\n",
       "      <th>Elogio a Instituição</th>\n",
       "      <td>int64</td>\n",
       "    </tr>\n",
       "    <tr>\n",
       "      <th>Reclamação a Instituição</th>\n",
       "      <td>int64</td>\n",
       "    </tr>\n",
       "    <tr>\n",
       "      <th>Não Classificável</th>\n",
       "      <td>int64</td>\n",
       "    </tr>\n",
       "  </tbody>\n",
       "</table>\n",
       "</div>"
      ],
      "text/plain": [
       "                                   Tipos\n",
       "Instituição                       object\n",
       "Comentario                        object\n",
       "Data                      datetime64[ns]\n",
       "Classificação                      int64\n",
       "Elogio quanto ao app               int64\n",
       "Reclamação quanto ao app           int64\n",
       "Elogio a Instituição               int64\n",
       "Reclamação a Instituição           int64\n",
       "Não Classificável                  int64"
      ]
     },
     "metadata": {},
     "output_type": "display_data"
    }
   ],
   "source": [
    "dynamics.verificando_tipos(dataframe=df)"
   ]
  },
  {
   "cell_type": "code",
   "execution_count": 1223,
   "metadata": {},
   "outputs": [
    {
     "data": {
      "image/png": "[encoded data removed]",
      "text/plain": [
       "<Figure size 1000x400 with 1 Axes>"
      ]
     },
     "metadata": {},
     "output_type": "display_data"
    }
   ],
   "source": [
    "df_elogio_ao_app = dynamics.agrupando_por_condição(\n",
    "    dataframe=df,\n",
    "    coluna_1='Instituição',\n",
    "    coluna_2='Elogio quanto ao app',\n",
    ")\n",
    "\n",
    "dynamics.gráfico_de_barras_barplot(\n",
    "    dataframe=df_elogio_ao_app, \n",
    "    x='Instituição', \n",
    "    y='Elogio quanto ao app',\n",
    "    title='Elogio quanto ao app para cada instituição'\n",
    ")"
   ]
  },
  {
   "cell_type": "code",
   "execution_count": 1224,
   "metadata": {},
   "outputs": [
    {
     "data": {
      "image/png": "[encoded data removed]",
      "text/plain": [
       "<Figure size 1000x400 with 1 Axes>"
      ]
     },
     "metadata": {},
     "output_type": "display_data"
    }
   ],
   "source": [
    "df_reclamações_ao_app = dynamics.agrupando_por_condição(\n",
    "    dataframe=df,\n",
    "    coluna_1='Instituição',\n",
    "    coluna_2='Reclamação quanto ao app',\n",
    ")\n",
    "\n",
    "dynamics.gráfico_de_barras_barplot(\n",
    "    dataframe=df_reclamações_ao_app, \n",
    "    x='Instituição', \n",
    "    y='Reclamação quanto ao app',\n",
    "    title='Reclamação quanto ao app para cada instituição'\n",
    ")"
   ]
  },
  {
   "cell_type": "code",
   "execution_count": 1225,
   "metadata": {},
   "outputs": [
    {
     "data": {
      "image/png": "[encoded data removed]",
      "text/plain": [
       "<Figure size 1000x400 with 1 Axes>"
      ]
     },
     "metadata": {},
     "output_type": "display_data"
    }
   ],
   "source": [
    "df_elogio_a_instituição = dynamics.agrupando_por_condição(\n",
    "    dataframe=df,\n",
    "    coluna_1='Instituição',\n",
    "    coluna_2='Elogio a Instituição',\n",
    ")\n",
    "\n",
    "dynamics.gráfico_de_barras_barplot(\n",
    "    dataframe=df_elogio_a_instituição, \n",
    "    x='Instituição', \n",
    "    y='Elogio a Instituição',\n",
    "    title='Elogio a Instituição para cada instituição'\n",
    ")"
   ]
  },
  {
   "cell_type": "code",
   "execution_count": 1226,
   "metadata": {},
   "outputs": [
    {
     "data": {
      "image/png": "[encoded data removed]",
      "text/plain": [
       "<Figure size 1000x400 with 1 Axes>"
      ]
     },
     "metadata": {},
     "output_type": "display_data"
    }
   ],
   "source": [
    "df_reclamação_a_instituição = dynamics.agrupando_por_condição(\n",
    "    dataframe=df,\n",
    "    coluna_1='Instituição',\n",
    "    coluna_2='Reclamação a Instituição',\n",
    ")\n",
    "\n",
    "dynamics.gráfico_de_barras_barplot(\n",
    "    dataframe=df_reclamação_a_instituição, \n",
    "    x='Instituição', \n",
    "    y='Reclamação a Instituição',\n",
    "    title='Reclamação a Instituição para cada instituição'\n",
    ")"
   ]
  }
 ],
 "metadata": {
  "kernelspec": {
   "display_name": "base",
   "language": "python",
   "name": "python3"
  },
  "language_info": {
   "codemirror_mode": {
    "name": "ipython",
    "version": 3
   },
   "file_extension": ".py",
   "mimetype": "text/x-python",
   "name": "python",
   "nbconvert_exporter": "python",
   "pygments_lexer": "ipython3",
   "version": "3.9.13"
  },
  "orig_nbformat": 4
 },
 "nbformat": 4,
 "nbformat_minor": 2
}
