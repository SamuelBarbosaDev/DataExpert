{
 "cells": [
  {
   "cell_type": "code",
   "execution_count": 2,
   "metadata": {},
   "outputs": [],
   "source": [
    "import pandas as pd\n",
    "import seaborn as sns\n",
    "import plotly.express as px\n",
    "import matplotlib.pyplot as plt\n",
    "import plotly.graph_objects as go"
   ]
  },
  {
   "cell_type": "code",
   "execution_count": 51,
   "metadata": {},
   "outputs": [],
   "source": [
    "class Dynamics():\n",
    "    \"\"\"\n",
    "        04/02/22\n",
    "    \"\"\"\n",
    "    def __init__(self):\n",
    "        path = r'data/houses_to_rent .xlsx'\n",
    "        self.df = pd.read_excel(\n",
    "            path\n",
    "        )\n",
    "        \n",
    "    def infos(self):\n",
    "        print(f'Head:\\n{self.df.head(10)}\\n')\n",
    "        print(f'Tail:\\n{self.df.tail(10)}\\n')\n",
    "        print(f'Dtypes:\\n{self.df.dtypes}\\n')\n",
    "        print(f'Info:\\n{self.df.info()}\\n')\n",
    "        print(f'Describe:\\n{self.df.describe()}\\n')\n",
    "    \n",
    "    def filtro_erros(self):\n",
    "        erro = self.df.loc[\n",
    "            self.df['property tax'] > self.df['rent amount'] \n",
    "        ]\n",
    "        print(f'Erros: \\n{erro.head(10)}')\n",
    "\n",
    "    def filtro_aluguel(self):\n",
    "        condição = self.df[\n",
    "            (self.df['animal']=='accept') & \n",
    "            (self.df['total']<=2000)\n",
    "        ]\n",
    "        print(f'filtro_aluguel: \\n{condição.head(10)}')\n",
    "\n",
    "    def grafico_box(self):\n",
    "        condição = self.df[\n",
    "            (self.df['animal']=='accept') & \n",
    "            (self.df['total']<=2000)\n",
    "        ]\n",
    "\n",
    "        sns.boxplot(\n",
    "            data=condição,\n",
    "            x = 'bathroom',\n",
    "            y = 'total'\n",
    "        )\n",
    "\n",
    "    def grafico_histograma(self):\n",
    "        condição = self.df[\n",
    "            (self.df['animal']=='accept') & \n",
    "            (self.df['total']<=2000)\n",
    "        ]\n",
    "\n",
    "        sns.histplot(\n",
    "            data=condição,\n",
    "            x='area',\n",
    "            kde=True,\n",
    "            color='green',\n",
    "            hue = 'furniture',\n",
    "        )\n",
    "        \n",
    "    def grafico_de_barras(self):\n",
    "        pass\n",
    "\n",
    "    def grafico_de_barras(self):\n",
    "        pass\n",
    "\n",
    "    def grafico_de_barras(self):\n",
    "        pass\n",
    "\n",
    "    def grafico_de_linhas(self):\n",
    "        pass\n",
    "\n",
    "    def grafico_de_linhas(self):\n",
    "        pass\n",
    "\n",
    "    def grafico_de_linhas(self):\n",
    "        pass\n",
    "\n",
    "    def grafico_de_pizza (self):\n",
    "        pass\n",
    "\n",
    "    def grafico_de_pizza (self):\n",
    "        pass\n",
    "    \n",
    "if __name__ == '__main__':\n",
    "    dynamics = Dynamics()"
   ]
  },
  {
   "cell_type": "code",
   "execution_count": 40,
   "metadata": {},
   "outputs": [
    {
     "name": "stdout",
     "output_type": "stream",
     "text": [
      "Head:\n",
      "   index       city  area  rooms  bathroom  parking spaces floor      animal  \\\n",
      "0      0  Barcelona   240      3         3               4     -      accept   \n",
      "1      1      Porto    64      2         1               1    10      accept   \n",
      "2      2  Barcelona   443      5         5               4     3      accept   \n",
      "3      3  Barcelona    73      2         2               1    12      accept   \n",
      "4      4  Barcelona    19      1         1               0     -  not accept   \n",
      "5      5  Barcelona    13      1         1               0     2      accept   \n",
      "6      6  Barcelona    55      1         1               1     2      accept   \n",
      "7      7  Barcelona    55      2         2               1     2      accept   \n",
      "8      8  Barcelona    82      3         1               1     3      accept   \n",
      "9      9  Barcelona    32      1         1               1    16      accept   \n",
      "\n",
      "       furniture   hoa  rent amount  property tax  fire insurance  total  \n",
      "0      furnished   600         8000          1000             121   9121  \n",
      "1  not furnished   540          820           122              11   1493  \n",
      "2      furnished  4172         7000          1417              89  12680  \n",
      "3  not furnished   700         1250           150              16   2116  \n",
      "4  not furnished     0         1200            41              16   1257  \n",
      "5  not furnished     0         2200            42              28   2270  \n",
      "6      furnished  1950         5000           375              64   7389  \n",
      "7  not furnished   600         1300            67              17   1984  \n",
      "8      furnished   828         2000           109              26   2963  \n",
      "9  not furnished   533         2900             0              37   3470  \n",
      "\n",
      "Tail:\n",
      "      index       city  area  rooms  bathroom  parking spaces floor  \\\n",
      "6070   6070  Barcelona   200      4         5               3     2   \n",
      "6071   6071      Porto   600      5         5               4     -   \n",
      "6072   6072  Barcelona   200      4         4               4    21   \n",
      "6073   6073  Barcelona    88      2         2               1     1   \n",
      "6074   6074      Porto    28      1         1               0     -   \n",
      "6075   6075  Barcelona    50      2         1               1     2   \n",
      "6076   6076  Barcelona    84      2         2               1    16   \n",
      "6077   6077      Porto    48      1         1               0    13   \n",
      "6078   6078  Barcelona   160      3         2               2     -   \n",
      "6079   6079  Barcelona    60      2         1               1     4   \n",
      "\n",
      "          animal      furniture   hoa  rent amount  property tax  \\\n",
      "6070      accept  not furnished  2600         4500           834   \n",
      "6071      accept  not furnished  3300         5000           916   \n",
      "6072      accept      furnished  2000        10000           862   \n",
      "6073      accept  not furnished  1200         6000             0   \n",
      "6074  not accept      furnished     0         1390             0   \n",
      "6075      accept  not furnished   420         1150             0   \n",
      "6076  not accept      furnished   768         2900            63   \n",
      "6077      accept  not furnished   250          950            42   \n",
      "6078  not accept  not furnished     0         3500           250   \n",
      "6079      accept      furnished   489         1900             0   \n",
      "\n",
      "      fire insurance  total  \n",
      "6070              58   7992  \n",
      "6071              76   9292  \n",
      "6072             127  12990  \n",
      "6073              77   7277  \n",
      "6074              18   1408  \n",
      "6075              15   1585  \n",
      "6076              37   3768  \n",
      "6077              13   1255  \n",
      "6078              53   3803  \n",
      "6079              25   2414  \n",
      "\n",
      "Dtypes:\n",
      "index              int64\n",
      "city              object\n",
      "area               int64\n",
      "rooms              int64\n",
      "bathroom           int64\n",
      "parking spaces     int64\n",
      "floor             object\n",
      "animal            object\n",
      "furniture         object\n",
      "hoa               object\n",
      "rent amount        int64\n",
      "property tax       int64\n",
      "fire insurance     int64\n",
      "total              int64\n",
      "dtype: object\n",
      "\n",
      "<class 'pandas.core.frame.DataFrame'>\n",
      "RangeIndex: 6080 entries, 0 to 6079\n",
      "Data columns (total 14 columns):\n",
      " #   Column          Non-Null Count  Dtype \n",
      "---  ------          --------------  ----- \n",
      " 0   index           6080 non-null   int64 \n",
      " 1   city            6080 non-null   object\n",
      " 2   area            6080 non-null   int64 \n",
      " 3   rooms           6080 non-null   int64 \n",
      " 4   bathroom        6080 non-null   int64 \n",
      " 5   parking spaces  6080 non-null   int64 \n",
      " 6   floor           6080 non-null   object\n",
      " 7   animal          6080 non-null   object\n",
      " 8   furniture       6080 non-null   object\n",
      " 9   hoa             6080 non-null   object\n",
      " 10  rent amount     6080 non-null   int64 \n",
      " 11  property tax    6080 non-null   int64 \n",
      " 12  fire insurance  6080 non-null   int64 \n",
      " 13  total           6080 non-null   int64 \n",
      "dtypes: int64(9), object(5)\n",
      "memory usage: 665.1+ KB\n",
      "Info:\n",
      "None\n",
      "\n",
      "Describe:\n",
      "            index          area        rooms     bathroom  parking spaces  \\\n",
      "count  6080.00000   6080.000000  6080.000000  6080.000000     6080.000000   \n",
      "mean   3039.50000    151.143914     2.492599     2.341612        1.756250   \n",
      "std    1755.28915    375.559485     1.129665     1.438860        1.611909   \n",
      "min       0.00000     10.000000     1.000000     1.000000        0.000000   \n",
      "25%    1519.75000     58.000000     2.000000     1.000000        1.000000   \n",
      "50%    3039.50000    100.000000     3.000000     2.000000        1.000000   \n",
      "75%    4559.25000    200.000000     3.000000     3.000000        2.000000   \n",
      "max    6079.00000  24606.000000    10.000000    10.000000       12.000000   \n",
      "\n",
      "        rent amount   property tax  fire insurance          total  \n",
      "count   6080.000000    6080.000000     6080.000000    6080.000000  \n",
      "mean    4395.844408     490.533224       58.204276    6033.194572  \n",
      "std     3576.668946    6212.549484       49.313441    8751.347700  \n",
      "min      420.000000       0.000000        3.000000     660.000000  \n",
      "25%     1800.000000      34.000000       23.000000    2451.500000  \n",
      "50%     3111.000000     145.000000       41.000000    4128.500000  \n",
      "75%     5952.500000     458.000000       77.000000    8074.000000  \n",
      "max    45000.000000  366300.000000      677.000000  372700.000000  \n",
      "\n"
     ]
    }
   ],
   "source": [
    "dynamics.infos()"
   ]
  },
  {
   "cell_type": "code",
   "execution_count": 44,
   "metadata": {},
   "outputs": [
    {
     "name": "stdout",
     "output_type": "stream",
     "text": [
      "Erros: \n",
      "      index       city  area  rooms  bathroom  parking spaces floor  \\\n",
      "1519   1519  Barcelona   360      3         5               6    17   \n",
      "1659   1659  Barcelona   260      3         4               3     3   \n",
      "2421   2421  Barcelona   717      5         5               8    16   \n",
      "2611   2611  Barcelona    42      1         2               1     6   \n",
      "4715   4715  Barcelona    84      3         1               1    17   \n",
      "5025   5025  Barcelona   300      4         5               5     6   \n",
      "5627   5627  Barcelona    93      3         3               0    16   \n",
      "\n",
      "          animal      furniture   hoa  rent amount  property tax  \\\n",
      "1519      accept  not furnished  7552         3000          4830   \n",
      "1659      accept  not furnished  3400         1040          1250   \n",
      "2421      accept  not furnished  4300         2500          5032   \n",
      "2611  not accept  not furnished   690         2500        313700   \n",
      "4715      accept  not furnished   710         2300          3000   \n",
      "5025  not accept  not furnished  3500         2290         10830   \n",
      "5627  not accept      furnished  1221         5100        366300   \n",
      "\n",
      "      fire insurance   total  \n",
      "1519              39   15420  \n",
      "1659              14    5704  \n",
      "2421              32   11860  \n",
      "2611              32  316900  \n",
      "4715              30    6040  \n",
      "5025              30   16650  \n",
      "5627              65  372700  \n"
     ]
    }
   ],
   "source": [
    "dynamics.filtro_erros()"
   ]
  },
  {
   "cell_type": "code",
   "execution_count": 46,
   "metadata": {},
   "outputs": [
    {
     "name": "stdout",
     "output_type": "stream",
     "text": [
      "filtro_aluguel: \n",
      "    index       city  area  rooms  bathroom  parking spaces floor  animal  \\\n",
      "1       1      Porto    64      2         1               1    10  accept   \n",
      "7       7  Barcelona    55      2         2               1     2  accept   \n",
      "10     10      Porto    60      1         1               0     6  accept   \n",
      "11     11      Porto    64      1         2               1     4  accept   \n",
      "15     15      Porto    56      2         1               1     1  accept   \n",
      "33     33  Barcelona    50      1         1               0     1  accept   \n",
      "40     40  Barcelona    25      1         1               0    14  accept   \n",
      "58     58  Barcelona    90      2         2               0     -  accept   \n",
      "70     70      Porto    72      2         2               1     2  accept   \n",
      "77     77      Porto    62      2         1               1     3  accept   \n",
      "\n",
      "        furniture  hoa  rent amount  property tax  fire insurance  total  \n",
      "1   not furnished  540          820           122              11   1493  \n",
      "7   not furnished  600         1300            67              17   1984  \n",
      "10  not furnished  480          720            20              10   1230  \n",
      "11      furnished  406         1550             0               7   1963  \n",
      "15  not furnished  345          950            11              13   1319  \n",
      "33  not furnished  325         1550            25              20   1920  \n",
      "40  not furnished  257         1698             0              22   1977  \n",
      "58  not furnished    0         1700            38              26   1764  \n",
      "70  not furnished  500         1200            97              16   1813  \n",
      "77  not furnished  485          980            48              13   1526  \n"
     ]
    }
   ],
   "source": [
    "dynamics.filtro_aluguel()"
   ]
  },
  {
   "cell_type": "code",
   "execution_count": 48,
   "metadata": {},
   "outputs": [
    {
     "data": {
      "image/png": "[encoded data removed]",
      "text/plain": [
       "<Figure size 640x480 with 1 Axes>"
      ]
     },
     "metadata": {},
     "output_type": "display_data"
    }
   ],
   "source": [
    "dynamics.grafico_box()"
   ]
  },
  {
   "cell_type": "code",
   "execution_count": 52,
   "metadata": {},
   "outputs": [
    {
     "data": {
      "image/png": "[encoded data removed]",
      "text/plain": [
       "<Figure size 640x480 with 1 Axes>"
      ]
     },
     "metadata": {},
     "output_type": "display_data"
    }
   ],
   "source": [
    "dynamics.grafico_histograma()"
   ]
  }
 ],
 "metadata": {
  "kernelspec": {
   "display_name": "venv",
   "language": "python",
   "name": "python3"
  },
  "language_info": {
   "codemirror_mode": {
    "name": "ipython",
    "version": 3
   },
   "file_extension": ".py",
   "mimetype": "text/x-python",
   "name": "python",
   "nbconvert_exporter": "python",
   "pygments_lexer": "ipython3",
   "version": "3.10.6"
  },
  "orig_nbformat": 4,
  "vscode": {
   "interpreter": {
    "hash": "0f60f0d8225b498888813588bdbdff26fd82099ded266fc9d2291ee5204b5ef8"
   }
  }
 },
 "nbformat": 4,
 "nbformat_minor": 2
}
