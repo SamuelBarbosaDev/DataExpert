{
 "cells": [
  {
   "cell_type": "code",
   "execution_count": 1,
   "metadata": {},
   "outputs": [],
   "source": [
    "import pandas as pd\n",
    "import seaborn as sns"
   ]
  },
  {
   "cell_type": "code",
   "execution_count": 2,
   "metadata": {},
   "outputs": [],
   "source": [
    "class Dynamics():\n",
    "    \"\"\"\n",
    "        15/04/23\n",
    "    \"\"\"\n",
    "    def __init__(self):\n",
    "        path = r'../../../data/2019-Nov.csv'\n",
    "        self.df = pd.read_csv(\n",
    "            path,\n",
    "            sep=',',\n",
    "            decimal='.',\n",
    "            date_parser=['Date'],\n",
    "        )\n",
    "\n",
    "    def dataframe(self):\n",
    "        df = self.df.head()\n",
    "        display(df)\n",
    "\n",
    "    def tipos(self):\n",
    "        df = self.df.dtypes\n",
    "        display(df)\n",
    "\n",
    "    def estatística_dos_dados(self):\n",
    "        df = self.df.describe().round(decimals=2)\n",
    "        display(df)\n",
    "\n",
    "    def tamanho_do_dataframe(self): \n",
    "        df = self.df.shape\n",
    "        display(df)\n",
    "\n",
    "    def verificando_valores_nulos(self):\n",
    "        df = self.df.isnull().sum()\n",
    "        display(df)\n",
    "\n",
    "    def contagem_valores_de_duplicados_por_coluna(self):\n",
    "        df = self.df.apply(lambda x: x.duplicated()).sum()\n",
    "        display(df)\n",
    "\n",
    "    def removendo_valores_nulos(self):\n",
    "        self.df = self.df.dropna()\n",
    "\n",
    "    def removendo_duplicatas(self):\n",
    "        self.df = self.df.drop_duplicates()\n",
    "\n",
    "    def agrupando(self):\n",
    "        self.df_agrupado = (\n",
    "                self.df[['user_session','event_type','product_id','event_time']]\n",
    "                .groupby('user_session')\n",
    "                .count()\n",
    "                .reset_index()\n",
    "            )\n",
    "        \n",
    "        display(self.df_agrupado)\n",
    "\n",
    "    def transformando_a_coluna_event_time_para_datetime(self):\n",
    "        self.df['event_time'] = pd.to_datetime(\n",
    "            arg=self.df['event_time'],\n",
    "            format='%Y-%m-%d %H:%M:%S UTC'\n",
    "        )\n",
    "\n",
    "    def calculando_quartis(self):\n",
    "        percentiles = [.01, .10, .25, .50, .75, .99]\n",
    "        df = self.df.describe(percentiles=percentiles).round(decimals=2)\n",
    "        display(df)\n",
    "\n",
    "    def calculando_quartis_entre_75_a_25(self):\n",
    "        df = self.df\n",
    "        q1 = df['price'].quantile(0.25)\n",
    "        q3 = df['price'].quantile(0.75)\n",
    "        iqr = q3 - q1\n",
    "\n",
    "        df['price'] = df['price'].clip(lower=q1 - 1.5*iqr, upper=q3 + 1.5*iqr)\n",
    "        sns.boxplot(\n",
    "            x=df['price']\n",
    "        )\n",
    "\n",
    "    def calcular_lower_bound_de_25(self):\n",
    "        pass\n",
    "\n",
    "    def calcular_upper_bound_de_75(self):\n",
    "        pass\n",
    "\n",
    "    def comparar_valores_com_o_descri_percentiles_de_todos_os_valores_calculados(self):\n",
    "        pass\n",
    "\n",
    "if __name__ == '__main__':\n",
    "    dynamics = Dynamics()"
   ]
  },
  {
   "cell_type": "code",
   "execution_count": 3,
   "metadata": {},
   "outputs": [
    {
     "data": {
      "text/html": [
       "<div>\n",
       "<style scoped>\n",
       "    .dataframe tbody tr th:only-of-type {\n",
       "        vertical-align: middle;\n",
       "    }\n",
       "\n",
       "    .dataframe tbody tr th {\n",
       "        vertical-align: top;\n",
       "    }\n",
       "\n",
       "    .dataframe thead th {\n",
       "        text-align: right;\n",
       "    }\n",
       "</style>\n",
       "<table border=\"1\" class=\"dataframe\">\n",
       "  <thead>\n",
       "    <tr style=\"text-align: right;\">\n",
       "      <th></th>\n",
       "      <th>event_time</th>\n",
       "      <th>event_type</th>\n",
       "      <th>product_id</th>\n",
       "      <th>category_id</th>\n",
       "      <th>category_code</th>\n",
       "      <th>brand</th>\n",
       "      <th>price</th>\n",
       "      <th>user_id</th>\n",
       "      <th>user_session</th>\n",
       "    </tr>\n",
       "  </thead>\n",
       "  <tbody>\n",
       "    <tr>\n",
       "      <th>0</th>\n",
       "      <td>2019-11-01 00:00:02 UTC</td>\n",
       "      <td>view</td>\n",
       "      <td>5802432</td>\n",
       "      <td>1487580009286598681</td>\n",
       "      <td>NaN</td>\n",
       "      <td>NaN</td>\n",
       "      <td>0.32</td>\n",
       "      <td>562076640</td>\n",
       "      <td>09fafd6c-6c99-46b1-834f-33527f4de241</td>\n",
       "    </tr>\n",
       "    <tr>\n",
       "      <th>1</th>\n",
       "      <td>2019-11-01 00:00:09 UTC</td>\n",
       "      <td>cart</td>\n",
       "      <td>5844397</td>\n",
       "      <td>1487580006317032337</td>\n",
       "      <td>NaN</td>\n",
       "      <td>NaN</td>\n",
       "      <td>2.38</td>\n",
       "      <td>553329724</td>\n",
       "      <td>2067216c-31b5-455d-a1cc-af0575a34ffb</td>\n",
       "    </tr>\n",
       "    <tr>\n",
       "      <th>2</th>\n",
       "      <td>2019-11-01 00:00:10 UTC</td>\n",
       "      <td>view</td>\n",
       "      <td>5837166</td>\n",
       "      <td>1783999064103190764</td>\n",
       "      <td>NaN</td>\n",
       "      <td>pnb</td>\n",
       "      <td>22.22</td>\n",
       "      <td>556138645</td>\n",
       "      <td>57ed222e-a54a-4907-9944-5a875c2d7f4f</td>\n",
       "    </tr>\n",
       "    <tr>\n",
       "      <th>3</th>\n",
       "      <td>2019-11-01 00:00:11 UTC</td>\n",
       "      <td>cart</td>\n",
       "      <td>5876812</td>\n",
       "      <td>1487580010100293687</td>\n",
       "      <td>NaN</td>\n",
       "      <td>jessnail</td>\n",
       "      <td>3.16</td>\n",
       "      <td>564506666</td>\n",
       "      <td>186c1951-8052-4b37-adce-dd9644b1d5f7</td>\n",
       "    </tr>\n",
       "    <tr>\n",
       "      <th>4</th>\n",
       "      <td>2019-11-01 00:00:24 UTC</td>\n",
       "      <td>remove_from_cart</td>\n",
       "      <td>5826182</td>\n",
       "      <td>1487580007483048900</td>\n",
       "      <td>NaN</td>\n",
       "      <td>NaN</td>\n",
       "      <td>3.33</td>\n",
       "      <td>553329724</td>\n",
       "      <td>2067216c-31b5-455d-a1cc-af0575a34ffb</td>\n",
       "    </tr>\n",
       "  </tbody>\n",
       "</table>\n",
       "</div>"
      ],
      "text/plain": [
       "                event_time        event_type  product_id          category_id  \\\n",
       "0  2019-11-01 00:00:02 UTC              view     5802432  1487580009286598681   \n",
       "1  2019-11-01 00:00:09 UTC              cart     5844397  1487580006317032337   \n",
       "2  2019-11-01 00:00:10 UTC              view     5837166  1783999064103190764   \n",
       "3  2019-11-01 00:00:11 UTC              cart     5876812  1487580010100293687   \n",
       "4  2019-11-01 00:00:24 UTC  remove_from_cart     5826182  1487580007483048900   \n",
       "\n",
       "  category_code     brand  price    user_id  \\\n",
       "0           NaN       NaN   0.32  562076640   \n",
       "1           NaN       NaN   2.38  553329724   \n",
       "2           NaN       pnb  22.22  556138645   \n",
       "3           NaN  jessnail   3.16  564506666   \n",
       "4           NaN       NaN   3.33  553329724   \n",
       "\n",
       "                           user_session  \n",
       "0  09fafd6c-6c99-46b1-834f-33527f4de241  \n",
       "1  2067216c-31b5-455d-a1cc-af0575a34ffb  \n",
       "2  57ed222e-a54a-4907-9944-5a875c2d7f4f  \n",
       "3  186c1951-8052-4b37-adce-dd9644b1d5f7  \n",
       "4  2067216c-31b5-455d-a1cc-af0575a34ffb  "
      ]
     },
     "metadata": {},
     "output_type": "display_data"
    }
   ],
   "source": [
    "dynamics.dataframe()"
   ]
  },
  {
   "cell_type": "code",
   "execution_count": 4,
   "metadata": {},
   "outputs": [
    {
     "data": {
      "text/plain": [
       "event_time        object\n",
       "event_type        object\n",
       "product_id         int64\n",
       "category_id        int64\n",
       "category_code     object\n",
       "brand             object\n",
       "price            float64\n",
       "user_id            int64\n",
       "user_session      object\n",
       "dtype: object"
      ]
     },
     "metadata": {},
     "output_type": "display_data"
    }
   ],
   "source": [
    "dynamics.tipos()"
   ]
  },
  {
   "cell_type": "code",
   "execution_count": 5,
   "metadata": {},
   "outputs": [
    {
     "data": {
      "text/html": [
       "<div>\n",
       "<style scoped>\n",
       "    .dataframe tbody tr th:only-of-type {\n",
       "        vertical-align: middle;\n",
       "    }\n",
       "\n",
       "    .dataframe tbody tr th {\n",
       "        vertical-align: top;\n",
       "    }\n",
       "\n",
       "    .dataframe thead th {\n",
       "        text-align: right;\n",
       "    }\n",
       "</style>\n",
       "<table border=\"1\" class=\"dataframe\">\n",
       "  <thead>\n",
       "    <tr style=\"text-align: right;\">\n",
       "      <th></th>\n",
       "      <th>product_id</th>\n",
       "      <th>category_id</th>\n",
       "      <th>price</th>\n",
       "      <th>user_id</th>\n",
       "    </tr>\n",
       "  </thead>\n",
       "  <tbody>\n",
       "    <tr>\n",
       "      <th>count</th>\n",
       "      <td>4635837.00</td>\n",
       "      <td>4.635837e+06</td>\n",
       "      <td>4635837.00</td>\n",
       "      <td>4.635837e+06</td>\n",
       "    </tr>\n",
       "    <tr>\n",
       "      <th>mean</th>\n",
       "      <td>5481406.23</td>\n",
       "      <td>1.550049e+18</td>\n",
       "      <td>8.12</td>\n",
       "      <td>5.068070e+08</td>\n",
       "    </tr>\n",
       "    <tr>\n",
       "      <th>std</th>\n",
       "      <td>1305581.80</td>\n",
       "      <td>1.642371e+17</td>\n",
       "      <td>18.79</td>\n",
       "      <td>8.504375e+07</td>\n",
       "    </tr>\n",
       "    <tr>\n",
       "      <th>min</th>\n",
       "      <td>3752.00</td>\n",
       "      <td>1.487580e+18</td>\n",
       "      <td>-79.37</td>\n",
       "      <td>1.120748e+06</td>\n",
       "    </tr>\n",
       "    <tr>\n",
       "      <th>25%</th>\n",
       "      <td>5723529.00</td>\n",
       "      <td>1.487580e+18</td>\n",
       "      <td>1.94</td>\n",
       "      <td>4.698573e+08</td>\n",
       "    </tr>\n",
       "    <tr>\n",
       "      <th>50%</th>\n",
       "      <td>5810145.00</td>\n",
       "      <td>1.487580e+18</td>\n",
       "      <td>3.97</td>\n",
       "      <td>5.421750e+08</td>\n",
       "    </tr>\n",
       "    <tr>\n",
       "      <th>75%</th>\n",
       "      <td>5856186.00</td>\n",
       "      <td>1.487580e+18</td>\n",
       "      <td>6.35</td>\n",
       "      <td>5.680491e+08</td>\n",
       "    </tr>\n",
       "    <tr>\n",
       "      <th>max</th>\n",
       "      <td>5909246.00</td>\n",
       "      <td>2.195085e+18</td>\n",
       "      <td>327.78</td>\n",
       "      <td>5.799699e+08</td>\n",
       "    </tr>\n",
       "  </tbody>\n",
       "</table>\n",
       "</div>"
      ],
      "text/plain": [
       "       product_id   category_id       price       user_id\n",
       "count  4635837.00  4.635837e+06  4635837.00  4.635837e+06\n",
       "mean   5481406.23  1.550049e+18        8.12  5.068070e+08\n",
       "std    1305581.80  1.642371e+17       18.79  8.504375e+07\n",
       "min       3752.00  1.487580e+18      -79.37  1.120748e+06\n",
       "25%    5723529.00  1.487580e+18        1.94  4.698573e+08\n",
       "50%    5810145.00  1.487580e+18        3.97  5.421750e+08\n",
       "75%    5856186.00  1.487580e+18        6.35  5.680491e+08\n",
       "max    5909246.00  2.195085e+18      327.78  5.799699e+08"
      ]
     },
     "metadata": {},
     "output_type": "display_data"
    }
   ],
   "source": [
    "dynamics.estatística_dos_dados()"
   ]
  },
  {
   "cell_type": "code",
   "execution_count": 6,
   "metadata": {},
   "outputs": [
    {
     "data": {
      "text/plain": [
       "(4635837, 9)"
      ]
     },
     "metadata": {},
     "output_type": "display_data"
    }
   ],
   "source": [
    "dynamics.tamanho_do_dataframe()"
   ]
  },
  {
   "cell_type": "code",
   "execution_count": 7,
   "metadata": {},
   "outputs": [
    {
     "data": {
      "text/plain": [
       "event_time             0\n",
       "event_type             0\n",
       "product_id             0\n",
       "category_id            0\n",
       "category_code    4560089\n",
       "brand            1986029\n",
       "price                  0\n",
       "user_id                0\n",
       "user_session         813\n",
       "dtype: int64"
      ]
     },
     "metadata": {},
     "output_type": "display_data"
    }
   ],
   "source": [
    "dynamics.verificando_valores_nulos()"
   ]
  },
  {
   "cell_type": "code",
   "execution_count": 8,
   "metadata": {},
   "outputs": [
    {
     "data": {
      "text/plain": [
       "event_time       2825102\n",
       "event_type       4635833\n",
       "product_id       4592418\n",
       "category_id      4635346\n",
       "category_code    4635826\n",
       "brand            4635597\n",
       "price            4633299\n",
       "user_id          4267605\n",
       "user_session     3693814\n",
       "dtype: int64"
      ]
     },
     "metadata": {},
     "output_type": "display_data"
    }
   ],
   "source": [
    "dynamics.contagem_valores_de_duplicados_por_coluna() "
   ]
  },
  {
   "cell_type": "code",
   "execution_count": 9,
   "metadata": {},
   "outputs": [],
   "source": [
    "dynamics.removendo_valores_nulos()"
   ]
  },
  {
   "cell_type": "code",
   "execution_count": 10,
   "metadata": {},
   "outputs": [],
   "source": [
    "dynamics.removendo_duplicatas()"
   ]
  },
  {
   "cell_type": "code",
   "execution_count": 11,
   "metadata": {},
   "outputs": [
    {
     "data": {
      "text/plain": [
       "(54865, 9)"
      ]
     },
     "metadata": {},
     "output_type": "display_data"
    }
   ],
   "source": [
    "dynamics.tamanho_do_dataframe()"
   ]
  },
  {
   "cell_type": "code",
   "execution_count": 12,
   "metadata": {},
   "outputs": [
    {
     "data": {
      "text/html": [
       "<div>\n",
       "<style scoped>\n",
       "    .dataframe tbody tr th:only-of-type {\n",
       "        vertical-align: middle;\n",
       "    }\n",
       "\n",
       "    .dataframe tbody tr th {\n",
       "        vertical-align: top;\n",
       "    }\n",
       "\n",
       "    .dataframe thead th {\n",
       "        text-align: right;\n",
       "    }\n",
       "</style>\n",
       "<table border=\"1\" class=\"dataframe\">\n",
       "  <thead>\n",
       "    <tr style=\"text-align: right;\">\n",
       "      <th></th>\n",
       "      <th>user_session</th>\n",
       "      <th>event_type</th>\n",
       "      <th>product_id</th>\n",
       "      <th>event_time</th>\n",
       "    </tr>\n",
       "  </thead>\n",
       "  <tbody>\n",
       "    <tr>\n",
       "      <th>0</th>\n",
       "      <td>00001bc6-1e04-4861-be5d-1bc73929c21a</td>\n",
       "      <td>1</td>\n",
       "      <td>1</td>\n",
       "      <td>1</td>\n",
       "    </tr>\n",
       "    <tr>\n",
       "      <th>1</th>\n",
       "      <td>0000d72e-be5f-4a03-9f17-6ac81584f177</td>\n",
       "      <td>1</td>\n",
       "      <td>1</td>\n",
       "      <td>1</td>\n",
       "    </tr>\n",
       "    <tr>\n",
       "      <th>2</th>\n",
       "      <td>00026821-ef52-4ca1-a963-c4bd31851bed</td>\n",
       "      <td>1</td>\n",
       "      <td>1</td>\n",
       "      <td>1</td>\n",
       "    </tr>\n",
       "    <tr>\n",
       "      <th>3</th>\n",
       "      <td>00086db9-7892-406d-b899-98399fd80cbe</td>\n",
       "      <td>6</td>\n",
       "      <td>6</td>\n",
       "      <td>6</td>\n",
       "    </tr>\n",
       "    <tr>\n",
       "      <th>4</th>\n",
       "      <td>000f23da-9d0b-4ae6-85e8-2c477f38d94b</td>\n",
       "      <td>1</td>\n",
       "      <td>1</td>\n",
       "      <td>1</td>\n",
       "    </tr>\n",
       "    <tr>\n",
       "      <th>...</th>\n",
       "      <td>...</td>\n",
       "      <td>...</td>\n",
       "      <td>...</td>\n",
       "      <td>...</td>\n",
       "    </tr>\n",
       "    <tr>\n",
       "      <th>26565</th>\n",
       "      <td>ffeb9168-6d9c-40e4-84c9-6ac6c1908c3d</td>\n",
       "      <td>1</td>\n",
       "      <td>1</td>\n",
       "      <td>1</td>\n",
       "    </tr>\n",
       "    <tr>\n",
       "      <th>26566</th>\n",
       "      <td>ffeeb6bc-3674-42a3-9f4e-c74486e834de</td>\n",
       "      <td>2</td>\n",
       "      <td>2</td>\n",
       "      <td>2</td>\n",
       "    </tr>\n",
       "    <tr>\n",
       "      <th>26567</th>\n",
       "      <td>fff32e24-e6c9-4aca-a600-ba16c33c5c45</td>\n",
       "      <td>17</td>\n",
       "      <td>17</td>\n",
       "      <td>17</td>\n",
       "    </tr>\n",
       "    <tr>\n",
       "      <th>26568</th>\n",
       "      <td>fff6d5a8-c813-48d2-a9e2-49db9d500bfa</td>\n",
       "      <td>1</td>\n",
       "      <td>1</td>\n",
       "      <td>1</td>\n",
       "    </tr>\n",
       "    <tr>\n",
       "      <th>26569</th>\n",
       "      <td>fffc43f1-1653-4fe2-99b5-7cf8033b5a09</td>\n",
       "      <td>1</td>\n",
       "      <td>1</td>\n",
       "      <td>1</td>\n",
       "    </tr>\n",
       "  </tbody>\n",
       "</table>\n",
       "<p>26570 rows × 4 columns</p>\n",
       "</div>"
      ],
      "text/plain": [
       "                               user_session  event_type  product_id  \\\n",
       "0      00001bc6-1e04-4861-be5d-1bc73929c21a           1           1   \n",
       "1      0000d72e-be5f-4a03-9f17-6ac81584f177           1           1   \n",
       "2      00026821-ef52-4ca1-a963-c4bd31851bed           1           1   \n",
       "3      00086db9-7892-406d-b899-98399fd80cbe           6           6   \n",
       "4      000f23da-9d0b-4ae6-85e8-2c477f38d94b           1           1   \n",
       "...                                     ...         ...         ...   \n",
       "26565  ffeb9168-6d9c-40e4-84c9-6ac6c1908c3d           1           1   \n",
       "26566  ffeeb6bc-3674-42a3-9f4e-c74486e834de           2           2   \n",
       "26567  fff32e24-e6c9-4aca-a600-ba16c33c5c45          17          17   \n",
       "26568  fff6d5a8-c813-48d2-a9e2-49db9d500bfa           1           1   \n",
       "26569  fffc43f1-1653-4fe2-99b5-7cf8033b5a09           1           1   \n",
       "\n",
       "       event_time  \n",
       "0               1  \n",
       "1               1  \n",
       "2               1  \n",
       "3               6  \n",
       "4               1  \n",
       "...           ...  \n",
       "26565           1  \n",
       "26566           2  \n",
       "26567          17  \n",
       "26568           1  \n",
       "26569           1  \n",
       "\n",
       "[26570 rows x 4 columns]"
      ]
     },
     "metadata": {},
     "output_type": "display_data"
    }
   ],
   "source": [
    "dynamics.agrupando()"
   ]
  },
  {
   "cell_type": "code",
   "execution_count": 13,
   "metadata": {},
   "outputs": [],
   "source": [
    "dynamics.transformando_a_coluna_event_time_para_datetime()"
   ]
  },
  {
   "cell_type": "code",
   "execution_count": 14,
   "metadata": {},
   "outputs": [
    {
     "data": {
      "text/plain": [
       "event_time       datetime64[ns]\n",
       "event_type               object\n",
       "product_id                int64\n",
       "category_id               int64\n",
       "category_code            object\n",
       "brand                    object\n",
       "price                   float64\n",
       "user_id                   int64\n",
       "user_session             object\n",
       "dtype: object"
      ]
     },
     "metadata": {},
     "output_type": "display_data"
    }
   ],
   "source": [
    "dynamics.tipos()"
   ]
  },
  {
   "cell_type": "code",
   "execution_count": 15,
   "metadata": {},
   "outputs": [
    {
     "data": {
      "text/html": [
       "<div>\n",
       "<style scoped>\n",
       "    .dataframe tbody tr th:only-of-type {\n",
       "        vertical-align: middle;\n",
       "    }\n",
       "\n",
       "    .dataframe tbody tr th {\n",
       "        vertical-align: top;\n",
       "    }\n",
       "\n",
       "    .dataframe thead th {\n",
       "        text-align: right;\n",
       "    }\n",
       "</style>\n",
       "<table border=\"1\" class=\"dataframe\">\n",
       "  <thead>\n",
       "    <tr style=\"text-align: right;\">\n",
       "      <th></th>\n",
       "      <th>product_id</th>\n",
       "      <th>category_id</th>\n",
       "      <th>price</th>\n",
       "      <th>user_id</th>\n",
       "    </tr>\n",
       "  </thead>\n",
       "  <tbody>\n",
       "    <tr>\n",
       "      <th>count</th>\n",
       "      <td>54865.00</td>\n",
       "      <td>5.486500e+04</td>\n",
       "      <td>54865.00</td>\n",
       "      <td>5.486500e+04</td>\n",
       "    </tr>\n",
       "    <tr>\n",
       "      <th>mean</th>\n",
       "      <td>5522523.58</td>\n",
       "      <td>1.614899e+18</td>\n",
       "      <td>37.37</td>\n",
       "      <td>5.111918e+08</td>\n",
       "    </tr>\n",
       "    <tr>\n",
       "      <th>std</th>\n",
       "      <td>1299684.33</td>\n",
       "      <td>2.469364e+17</td>\n",
       "      <td>35.67</td>\n",
       "      <td>8.289645e+07</td>\n",
       "    </tr>\n",
       "    <tr>\n",
       "      <th>min</th>\n",
       "      <td>5395.00</td>\n",
       "      <td>1.487580e+18</td>\n",
       "      <td>0.94</td>\n",
       "      <td>2.055497e+07</td>\n",
       "    </tr>\n",
       "    <tr>\n",
       "      <th>1%</th>\n",
       "      <td>5395.00</td>\n",
       "      <td>1.487580e+18</td>\n",
       "      <td>1.27</td>\n",
       "      <td>2.330105e+08</td>\n",
       "    </tr>\n",
       "    <tr>\n",
       "      <th>10%</th>\n",
       "      <td>5732026.00</td>\n",
       "      <td>1.487580e+18</td>\n",
       "      <td>1.98</td>\n",
       "      <td>3.969008e+08</td>\n",
       "    </tr>\n",
       "    <tr>\n",
       "      <th>25%</th>\n",
       "      <td>5767493.00</td>\n",
       "      <td>1.487580e+18</td>\n",
       "      <td>4.16</td>\n",
       "      <td>4.766110e+08</td>\n",
       "    </tr>\n",
       "    <tr>\n",
       "      <th>50%</th>\n",
       "      <td>5854573.00</td>\n",
       "      <td>1.487580e+18</td>\n",
       "      <td>24.44</td>\n",
       "      <td>5.482052e+08</td>\n",
       "    </tr>\n",
       "    <tr>\n",
       "      <th>75%</th>\n",
       "      <td>5868559.00</td>\n",
       "      <td>1.487580e+18</td>\n",
       "      <td>62.70</td>\n",
       "      <td>5.688303e+08</td>\n",
       "    </tr>\n",
       "    <tr>\n",
       "      <th>99%</th>\n",
       "      <td>5901987.00</td>\n",
       "      <td>2.193075e+18</td>\n",
       "      <td>150.79</td>\n",
       "      <td>5.791884e+08</td>\n",
       "    </tr>\n",
       "    <tr>\n",
       "      <th>max</th>\n",
       "      <td>5907080.00</td>\n",
       "      <td>2.193075e+18</td>\n",
       "      <td>150.79</td>\n",
       "      <td>5.799614e+08</td>\n",
       "    </tr>\n",
       "  </tbody>\n",
       "</table>\n",
       "</div>"
      ],
      "text/plain": [
       "       product_id   category_id     price       user_id\n",
       "count    54865.00  5.486500e+04  54865.00  5.486500e+04\n",
       "mean   5522523.58  1.614899e+18     37.37  5.111918e+08\n",
       "std    1299684.33  2.469364e+17     35.67  8.289645e+07\n",
       "min       5395.00  1.487580e+18      0.94  2.055497e+07\n",
       "1%        5395.00  1.487580e+18      1.27  2.330105e+08\n",
       "10%    5732026.00  1.487580e+18      1.98  3.969008e+08\n",
       "25%    5767493.00  1.487580e+18      4.16  4.766110e+08\n",
       "50%    5854573.00  1.487580e+18     24.44  5.482052e+08\n",
       "75%    5868559.00  1.487580e+18     62.70  5.688303e+08\n",
       "99%    5901987.00  2.193075e+18    150.79  5.791884e+08\n",
       "max    5907080.00  2.193075e+18    150.79  5.799614e+08"
      ]
     },
     "metadata": {},
     "output_type": "display_data"
    }
   ],
   "source": [
    "dynamics.calculando_quartis()"
   ]
  },
  {
   "cell_type": "code",
   "execution_count": 16,
   "metadata": {},
   "outputs": [
    {
     "data": {
      "image/png": "[encoded data removed]",
      "text/plain": [
       "<Figure size 640x480 with 1 Axes>"
      ]
     },
     "metadata": {},
     "output_type": "display_data"
    }
   ],
   "source": [
    "dynamics.calculando_quartis_entre_75_a_25()"
   ]
  }
 ],
 "metadata": {
  "kernelspec": {
   "display_name": "base",
   "language": "python",
   "name": "python3"
  },
  "language_info": {
   "codemirror_mode": {
    "name": "ipython",
    "version": 3
   },
   "file_extension": ".py",
   "mimetype": "text/x-python",
   "name": "python",
   "nbconvert_exporter": "python",
   "pygments_lexer": "ipython3",
   "version": "3.9.13"
  },
  "orig_nbformat": 4
 },
 "nbformat": 4,
 "nbformat_minor": 2
}
