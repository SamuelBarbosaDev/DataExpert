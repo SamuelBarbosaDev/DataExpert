{
 "cells": [
  {
   "cell_type": "code",
   "execution_count": 1,
   "metadata": {},
   "outputs": [],
   "source": [
    "import pandas as pd\n",
    "import seaborn as sns"
   ]
  },
  {
   "cell_type": "code",
   "execution_count": 2,
   "metadata": {},
   "outputs": [],
   "source": [
    "class Dynamics():\n",
    "    \"\"\"\n",
    "        15/04/23\n",
    "    \"\"\"\n",
    "    def __init__(self):\n",
    "        path = r'../../../data/2019-Nov.csv'\n",
    "        self.df = pd.read_csv(\n",
    "            path,\n",
    "            sep=',',\n",
    "            decimal='.',\n",
    "            date_parser=['Date'],\n",
    "        )\n",
    "\n",
    "    def dataframe(self):\n",
    "        df = self.df.head()\n",
    "        display(df)\n",
    "\n",
    "    def tipos(self):\n",
    "        df = self.df.dtypes\n",
    "        display(df)\n",
    "\n",
    "    def estatística_dos_dados(self):\n",
    "        df = self.df.describe().round(decimals=2)\n",
    "        display(df)\n",
    "\n",
    "    def tamanho_do_dataframe(self): \n",
    "        df = self.df.shape\n",
    "        display(df)\n",
    "\n",
    "    def verificando_valores_nulos(self):\n",
    "        df = self.df.isnull().sum()\n",
    "        display(df)\n",
    "\n",
    "    def contagem_valores_de_duplicados_por_coluna(self):\n",
    "        df = self.df.apply(lambda x: x.duplicated()).sum()\n",
    "        display(df)\n",
    "\n",
    "    def removendo_valores_nulos(self):\n",
    "        self.df = self.df.dropna()\n",
    "\n",
    "    def removendo_duplicatas(self):\n",
    "        self.df = self.df.drop_duplicates()\n",
    "\n",
    "    def agrupando(self):\n",
    "        self.df_agrupado = (\n",
    "                self.df[['user_session','event_type','product_id','event_time']]\n",
    "                .groupby('user_session')\n",
    "                .count()\n",
    "                .reset_index()\n",
    "            )\n",
    "        \n",
    "        display(self.df_agrupado)\n",
    "\n",
    "    def transformando_a_coluna_event_time_para_datetime(self):\n",
    "        self.df['event_time'] = pd.to_datetime(\n",
    "            arg=self.df['event_time'],\n",
    "            format='%Y-%m-%d %H:%M:%S UTC'\n",
    "        )\n",
    "\n",
    "    def calculando_quartis(self):\n",
    "        percentiles = [.01, .10, .25, .50, .75, .99]\n",
    "        df = self.df.describe(percentiles=percentiles).round(decimals=2)\n",
    "        display(df)\n",
    "\n",
    "    def calculando_quartis_entre_75_a_25(self):\n",
    "        df = self.df\n",
    "        q1 = df['price'].quantile(0.25)\n",
    "        q3 = df['price'].quantile(0.75)\n",
    "        iqr = q3 - q1\n",
    "\n",
    "        df['price'] = df['price'].clip(lower=q1 - 1.5*iqr, upper=q3 + 1.5*iqr)\n",
    "        sns.boxplot(\n",
    "            x=df['price']\n",
    "        )\n",
    "\n",
    "    def calcular_lower_bound_de_25(self):\n",
    "        pass\n",
    "\n",
    "    def calcular_upper_bound_de_75(self):\n",
    "        pass\n",
    "\n",
    "    def comparar_valores_com_o_descri_percentiles_de_todos_os_valores_calculados(self):\n",
    "        pass\n",
    "\n",
    "if __name__ == '__main__':\n",
    "    dynamics = Dynamics()"
   ]
  },
  {
   "cell_type": "code",
   "execution_count": 3,
   "metadata": {},
   "outputs": [
    {
     "data": {
      "text/html": [
       "<div>\n",
       "<style scoped>\n",
       "    .dataframe tbody tr th:only-of-type {\n",
       "        vertical-align: middle;\n",
       "    }\n",
       "\n",
       "    .dataframe tbody tr th {\n",
       "        vertical-align: top;\n",
       "    }\n",
       "\n",
       "    .dataframe thead th {\n",
       "        text-align: right;\n",
       "    }\n",
       "</style>\n",
       "<table border=\"1\" class=\"dataframe\">\n",
       "  <thead>\n",
       "    <tr style=\"text-align: right;\">\n",
       "      <th></th>\n",
       "      <th>event_time</th>\n",
       "      <th>event_type</th>\n",
       "      <th>product_id</th>\n",
       "      <th>category_id</th>\n",
       "      <th>category_code</th>\n",
       "      <th>brand</th>\n",
       "      <th>price</th>\n",
       "      <th>user_id</th>\n",
       "      <th>user_session</th>\n",
       "    </tr>\n",
       "  </thead>\n",
       "  <tbody>\n",
       "    <tr>\n",
       "      <th>0</th>\n",
       "      <td>2019-11-01 00:00:02 UTC</td>\n",
       "      <td>view</td>\n",
       "      <td>5802432</td>\n",
       "      <td>1487580009286598681</td>\n",
       "      <td>NaN</td>\n",
       "      <td>NaN</td>\n",
       "      <td>0.32</td>\n",
       "      <td>562076640</td>\n",
       "      <td>09fafd6c-6c99-46b1-834f-33527f4de241</td>\n",
       "    </tr>\n",
       "    <tr>\n",
       "      <th>1</th>\n",
       "      <td>2019-11-01 00:00:09 UTC</td>\n",
       "      <td>cart</td>\n",
       "      <td>5844397</td>\n",
       "      <td>1487580006317032337</td>\n",
       "      <td>NaN</td>\n",
       "      <td>NaN</td>\n",
       "      <td>2.38</td>\n",
       "      <td>553329724</td>\n",
       "      <td>2067216c-31b5-455d-a1cc-af0575a34ffb</td>\n",
       "    </tr>\n",
       "    <tr>\n",
       "      <th>2</th>\n",
       "      <td>2019-11-01 00:00:10 UTC</td>\n",
       "      <td>view</td>\n",
       "      <td>5837166</td>\n",
       "      <td>1783999064103190764</td>\n",
       "      <td>NaN</td>\n",
       "      <td>pnb</td>\n",
       "      <td>22.22</td>\n",
       "      <td>556138645</td>\n",
       "      <td>57ed222e-a54a-4907-9944-5a875c2d7f4f</td>\n",
       "    </tr>\n",
       "    <tr>\n",
       "      <th>3</th>\n",
       "      <td>2019-11-01 00:00:11 UTC</td>\n",
       "      <td>cart</td>\n",
       "      <td>5876812</td>\n",
       "      <td>1487580010100293687</td>\n",
       "      <td>NaN</td>\n",
       "      <td>jessnail</td>\n",
       "      <td>3.16</td>\n",
       "      <td>564506666</td>\n",
       "      <td>186c1951-8052-4b37-adce-dd9644b1d5f7</td>\n",
       "    </tr>\n",
       "    <tr>\n",
       "      <th>4</th>\n",
       "      <td>2019-11-01 00:00:24 UTC</td>\n",
       "      <td>remove_from_cart</td>\n",
       "      <td>5826182</td>\n",
       "      <td>1487580007483048900</td>\n",
       "      <td>NaN</td>\n",
       "      <td>NaN</td>\n",
       "      <td>3.33</td>\n",
       "      <td>553329724</td>\n",
       "      <td>2067216c-31b5-455d-a1cc-af0575a34ffb</td>\n",
       "    </tr>\n",
       "  </tbody>\n",
       "</table>\n",
       "</div>"
      ],
      "text/plain": [
       "                event_time        event_type  product_id          category_id  \\\n",
       "0  2019-11-01 00:00:02 UTC              view     5802432  1487580009286598681   \n",
       "1  2019-11-01 00:00:09 UTC              cart     5844397  1487580006317032337   \n",
       "2  2019-11-01 00:00:10 UTC              view     5837166  1783999064103190764   \n",
       "3  2019-11-01 00:00:11 UTC              cart     5876812  1487580010100293687   \n",
       "4  2019-11-01 00:00:24 UTC  remove_from_cart     5826182  1487580007483048900   \n",
       "\n",
       "  category_code     brand  price    user_id  \\\n",
       "0           NaN       NaN   0.32  562076640   \n",
       "1           NaN       NaN   2.38  553329724   \n",
       "2           NaN       pnb  22.22  556138645   \n",
       "3           NaN  jessnail   3.16  564506666   \n",
       "4           NaN       NaN   3.33  553329724   \n",
       "\n",
       "                           user_session  \n",
       "0  09fafd6c-6c99-46b1-834f-33527f4de241  \n",
       "1  2067216c-31b5-455d-a1cc-af0575a34ffb  \n",
       "2  57ed222e-a54a-4907-9944-5a875c2d7f4f  \n",
       "3  186c1951-8052-4b37-adce-dd9644b1d5f7  \n",
       "4  2067216c-31b5-455d-a1cc-af0575a34ffb  "
      ]
     },
     "metadata": {},
     "output_type": "display_data"
    }
   ],
   "source": [
    "dynamics.dataframe()"
   ]
  },
  {
   "cell_type": "code",
   "execution_count": 4,
   "metadata": {},
   "outputs": [
    {
     "data": {
      "text/plain": [
       "event_time        object\n",
       "event_type        object\n",
       "product_id         int64\n",
       "category_id        int64\n",
       "category_code     object\n",
       "brand             object\n",
       "price            float64\n",
       "user_id            int64\n",
       "user_session      object\n",
       "dtype: object"
      ]
     },
     "metadata": {},
     "output_type": "display_data"
    }
   ],
   "source": [
    "dynamics.tipos()"
   ]
  },
  {
   "cell_type": "code",
   "execution_count": 5,
   "metadata": {},
   "outputs": [
    {
     "data": {
      "text/html": [
       "<div>\n",
       "<style scoped>\n",
       "    .dataframe tbody tr th:only-of-type {\n",
       "        vertical-align: middle;\n",
       "    }\n",
       "\n",
       "    .dataframe tbody tr th {\n",
       "        vertical-align: top;\n",
       "    }\n",
       "\n",
       "    .dataframe thead th {\n",
       "        text-align: right;\n",
       "    }\n",
       "</style>\n",
       "<table border=\"1\" class=\"dataframe\">\n",
       "  <thead>\n",
       "    <tr style=\"text-align: right;\">\n",
       "      <th></th>\n",
       "      <th>product_id</th>\n",
       "      <th>category_id</th>\n",
       "      <th>price</th>\n",
       "      <th>user_id</th>\n",
       "    </tr>\n",
       "  </thead>\n",
       "  <tbody>\n",
       "    <tr>\n",
       "      <th>count</th>\n",
       "      <td>99999.00</td>\n",
       "      <td>9.999900e+04</td>\n",
       "      <td>99999.00</td>\n",
       "      <td>9.999900e+04</td>\n",
       "    </tr>\n",
       "    <tr>\n",
       "      <th>mean</th>\n",
       "      <td>5472866.58</td>\n",
       "      <td>1.544516e+18</td>\n",
       "      <td>8.54</td>\n",
       "      <td>5.033069e+08</td>\n",
       "    </tr>\n",
       "    <tr>\n",
       "      <th>std</th>\n",
       "      <td>1329275.84</td>\n",
       "      <td>1.578448e+17</td>\n",
       "      <td>19.96</td>\n",
       "      <td>8.313584e+07</td>\n",
       "    </tr>\n",
       "    <tr>\n",
       "      <th>min</th>\n",
       "      <td>3762.00</td>\n",
       "      <td>1.487580e+18</td>\n",
       "      <td>-7.94</td>\n",
       "      <td>1.311745e+07</td>\n",
       "    </tr>\n",
       "    <tr>\n",
       "      <th>25%</th>\n",
       "      <td>5724678.00</td>\n",
       "      <td>1.487580e+18</td>\n",
       "      <td>1.90</td>\n",
       "      <td>4.700687e+08</td>\n",
       "    </tr>\n",
       "    <tr>\n",
       "      <th>50%</th>\n",
       "      <td>5812043.00</td>\n",
       "      <td>1.487580e+18</td>\n",
       "      <td>3.97</td>\n",
       "      <td>5.399051e+08</td>\n",
       "    </tr>\n",
       "    <tr>\n",
       "      <th>75%</th>\n",
       "      <td>5857855.00</td>\n",
       "      <td>1.487580e+18</td>\n",
       "      <td>6.75</td>\n",
       "      <td>5.653610e+08</td>\n",
       "    </tr>\n",
       "    <tr>\n",
       "      <th>max</th>\n",
       "      <td>5900879.00</td>\n",
       "      <td>2.195085e+18</td>\n",
       "      <td>299.81</td>\n",
       "      <td>5.665739e+08</td>\n",
       "    </tr>\n",
       "  </tbody>\n",
       "</table>\n",
       "</div>"
      ],
      "text/plain": [
       "       product_id   category_id     price       user_id\n",
       "count    99999.00  9.999900e+04  99999.00  9.999900e+04\n",
       "mean   5472866.58  1.544516e+18      8.54  5.033069e+08\n",
       "std    1329275.84  1.578448e+17     19.96  8.313584e+07\n",
       "min       3762.00  1.487580e+18     -7.94  1.311745e+07\n",
       "25%    5724678.00  1.487580e+18      1.90  4.700687e+08\n",
       "50%    5812043.00  1.487580e+18      3.97  5.399051e+08\n",
       "75%    5857855.00  1.487580e+18      6.75  5.653610e+08\n",
       "max    5900879.00  2.195085e+18    299.81  5.665739e+08"
      ]
     },
     "metadata": {},
     "output_type": "display_data"
    }
   ],
   "source": [
    "dynamics.estatística_dos_dados()"
   ]
  },
  {
   "cell_type": "code",
   "execution_count": 6,
   "metadata": {},
   "outputs": [
    {
     "data": {
      "text/plain": [
       "(99999, 9)"
      ]
     },
     "metadata": {},
     "output_type": "display_data"
    }
   ],
   "source": [
    "dynamics.tamanho_do_dataframe()"
   ]
  },
  {
   "cell_type": "code",
   "execution_count": 7,
   "metadata": {},
   "outputs": [
    {
     "data": {
      "text/plain": [
       "event_time           0\n",
       "event_type           0\n",
       "product_id           0\n",
       "category_id          0\n",
       "category_code    98385\n",
       "brand            39082\n",
       "price                0\n",
       "user_id              0\n",
       "user_session        44\n",
       "dtype: int64"
      ]
     },
     "metadata": {},
     "output_type": "display_data"
    }
   ],
   "source": [
    "dynamics.verificando_valores_nulos()"
   ]
  },
  {
   "cell_type": "code",
   "execution_count": 8,
   "metadata": {},
   "outputs": [
    {
     "data": {
      "text/plain": [
       "event_time       54293\n",
       "event_type       99995\n",
       "product_id       81812\n",
       "category_id      99555\n",
       "category_code    99988\n",
       "brand            99784\n",
       "price            98706\n",
       "user_id          86850\n",
       "user_session     77948\n",
       "dtype: int64"
      ]
     },
     "metadata": {},
     "output_type": "display_data"
    }
   ],
   "source": [
    "dynamics.contagem_valores_de_duplicados_por_coluna() "
   ]
  },
  {
   "cell_type": "code",
   "execution_count": 9,
   "metadata": {},
   "outputs": [],
   "source": [
    "dynamics.removendo_valores_nulos()"
   ]
  },
  {
   "cell_type": "code",
   "execution_count": 10,
   "metadata": {},
   "outputs": [],
   "source": [
    "dynamics.removendo_duplicatas()"
   ]
  },
  {
   "cell_type": "code",
   "execution_count": 11,
   "metadata": {},
   "outputs": [
    {
     "data": {
      "text/plain": [
       "(1180, 9)"
      ]
     },
     "metadata": {},
     "output_type": "display_data"
    }
   ],
   "source": [
    "dynamics.tamanho_do_dataframe()"
   ]
  },
  {
   "cell_type": "code",
   "execution_count": 12,
   "metadata": {},
   "outputs": [
    {
     "data": {
      "text/html": [
       "<div>\n",
       "<style scoped>\n",
       "    .dataframe tbody tr th:only-of-type {\n",
       "        vertical-align: middle;\n",
       "    }\n",
       "\n",
       "    .dataframe tbody tr th {\n",
       "        vertical-align: top;\n",
       "    }\n",
       "\n",
       "    .dataframe thead th {\n",
       "        text-align: right;\n",
       "    }\n",
       "</style>\n",
       "<table border=\"1\" class=\"dataframe\">\n",
       "  <thead>\n",
       "    <tr style=\"text-align: right;\">\n",
       "      <th></th>\n",
       "      <th>user_session</th>\n",
       "      <th>event_type</th>\n",
       "      <th>product_id</th>\n",
       "      <th>event_time</th>\n",
       "    </tr>\n",
       "  </thead>\n",
       "  <tbody>\n",
       "    <tr>\n",
       "      <th>0</th>\n",
       "      <td>00633c93-c459-452f-9324-ed12d9bbdd69</td>\n",
       "      <td>2</td>\n",
       "      <td>2</td>\n",
       "      <td>2</td>\n",
       "    </tr>\n",
       "    <tr>\n",
       "      <th>1</th>\n",
       "      <td>01515de5-463d-4cbe-a9b8-1f61dcab1bdd</td>\n",
       "      <td>7</td>\n",
       "      <td>7</td>\n",
       "      <td>7</td>\n",
       "    </tr>\n",
       "    <tr>\n",
       "      <th>2</th>\n",
       "      <td>01f6ea82-5bbf-49a2-9975-2181f342c9c1</td>\n",
       "      <td>1</td>\n",
       "      <td>1</td>\n",
       "      <td>1</td>\n",
       "    </tr>\n",
       "    <tr>\n",
       "      <th>3</th>\n",
       "      <td>021f1fe4-7c45-442a-ab8e-0a2880ead6e4</td>\n",
       "      <td>3</td>\n",
       "      <td>3</td>\n",
       "      <td>3</td>\n",
       "    </tr>\n",
       "    <tr>\n",
       "      <th>4</th>\n",
       "      <td>02d35457-bc3d-4865-8512-5468f4bb6033</td>\n",
       "      <td>1</td>\n",
       "      <td>1</td>\n",
       "      <td>1</td>\n",
       "    </tr>\n",
       "    <tr>\n",
       "      <th>...</th>\n",
       "      <td>...</td>\n",
       "      <td>...</td>\n",
       "      <td>...</td>\n",
       "      <td>...</td>\n",
       "    </tr>\n",
       "    <tr>\n",
       "      <th>562</th>\n",
       "      <td>fde9a562-f06e-45a0-88cd-528d20039359</td>\n",
       "      <td>3</td>\n",
       "      <td>3</td>\n",
       "      <td>3</td>\n",
       "    </tr>\n",
       "    <tr>\n",
       "      <th>563</th>\n",
       "      <td>fe14c5f3-60cd-4363-a577-ce29ca523f1c</td>\n",
       "      <td>2</td>\n",
       "      <td>2</td>\n",
       "      <td>2</td>\n",
       "    </tr>\n",
       "    <tr>\n",
       "      <th>564</th>\n",
       "      <td>feda20dc-3c36-4eb2-b638-a46e7e56c67d</td>\n",
       "      <td>1</td>\n",
       "      <td>1</td>\n",
       "      <td>1</td>\n",
       "    </tr>\n",
       "    <tr>\n",
       "      <th>565</th>\n",
       "      <td>ff56cb25-aae1-4f1c-bd69-e7c904b966a8</td>\n",
       "      <td>1</td>\n",
       "      <td>1</td>\n",
       "      <td>1</td>\n",
       "    </tr>\n",
       "    <tr>\n",
       "      <th>566</th>\n",
       "      <td>ff5791c6-384d-488e-832e-9b133b8559e0</td>\n",
       "      <td>2</td>\n",
       "      <td>2</td>\n",
       "      <td>2</td>\n",
       "    </tr>\n",
       "  </tbody>\n",
       "</table>\n",
       "<p>567 rows × 4 columns</p>\n",
       "</div>"
      ],
      "text/plain": [
       "                             user_session  event_type  product_id  event_time\n",
       "0    00633c93-c459-452f-9324-ed12d9bbdd69           2           2           2\n",
       "1    01515de5-463d-4cbe-a9b8-1f61dcab1bdd           7           7           7\n",
       "2    01f6ea82-5bbf-49a2-9975-2181f342c9c1           1           1           1\n",
       "3    021f1fe4-7c45-442a-ab8e-0a2880ead6e4           3           3           3\n",
       "4    02d35457-bc3d-4865-8512-5468f4bb6033           1           1           1\n",
       "..                                    ...         ...         ...         ...\n",
       "562  fde9a562-f06e-45a0-88cd-528d20039359           3           3           3\n",
       "563  fe14c5f3-60cd-4363-a577-ce29ca523f1c           2           2           2\n",
       "564  feda20dc-3c36-4eb2-b638-a46e7e56c67d           1           1           1\n",
       "565  ff56cb25-aae1-4f1c-bd69-e7c904b966a8           1           1           1\n",
       "566  ff5791c6-384d-488e-832e-9b133b8559e0           2           2           2\n",
       "\n",
       "[567 rows x 4 columns]"
      ]
     },
     "metadata": {},
     "output_type": "display_data"
    }
   ],
   "source": [
    "dynamics.agrupando()"
   ]
  },
  {
   "cell_type": "code",
   "execution_count": 13,
   "metadata": {},
   "outputs": [],
   "source": [
    "dynamics.transformando_a_coluna_event_time_para_datetime()"
   ]
  },
  {
   "cell_type": "code",
   "execution_count": 14,
   "metadata": {},
   "outputs": [
    {
     "data": {
      "text/plain": [
       "event_time       datetime64[ns]\n",
       "event_type               object\n",
       "product_id                int64\n",
       "category_id               int64\n",
       "category_code            object\n",
       "brand                    object\n",
       "price                   float64\n",
       "user_id                   int64\n",
       "user_session             object\n",
       "dtype: object"
      ]
     },
     "metadata": {},
     "output_type": "display_data"
    }
   ],
   "source": [
    "dynamics.tipos()"
   ]
  },
  {
   "cell_type": "code",
   "execution_count": 15,
   "metadata": {},
   "outputs": [
    {
     "data": {
      "text/html": [
       "<div>\n",
       "<style scoped>\n",
       "    .dataframe tbody tr th:only-of-type {\n",
       "        vertical-align: middle;\n",
       "    }\n",
       "\n",
       "    .dataframe tbody tr th {\n",
       "        vertical-align: top;\n",
       "    }\n",
       "\n",
       "    .dataframe thead th {\n",
       "        text-align: right;\n",
       "    }\n",
       "</style>\n",
       "<table border=\"1\" class=\"dataframe\">\n",
       "  <thead>\n",
       "    <tr style=\"text-align: right;\">\n",
       "      <th></th>\n",
       "      <th>product_id</th>\n",
       "      <th>category_id</th>\n",
       "      <th>price</th>\n",
       "      <th>user_id</th>\n",
       "    </tr>\n",
       "  </thead>\n",
       "  <tbody>\n",
       "    <tr>\n",
       "      <th>count</th>\n",
       "      <td>1180.00</td>\n",
       "      <td>1.180000e+03</td>\n",
       "      <td>1180.00</td>\n",
       "      <td>1.180000e+03</td>\n",
       "    </tr>\n",
       "    <tr>\n",
       "      <th>mean</th>\n",
       "      <td>5428589.32</td>\n",
       "      <td>1.596411e+18</td>\n",
       "      <td>38.04</td>\n",
       "      <td>5.071139e+08</td>\n",
       "    </tr>\n",
       "    <tr>\n",
       "      <th>std</th>\n",
       "      <td>1449719.49</td>\n",
       "      <td>2.387652e+17</td>\n",
       "      <td>38.54</td>\n",
       "      <td>8.416228e+07</td>\n",
       "    </tr>\n",
       "    <tr>\n",
       "      <th>min</th>\n",
       "      <td>5395.00</td>\n",
       "      <td>1.487580e+18</td>\n",
       "      <td>0.94</td>\n",
       "      <td>1.192125e+08</td>\n",
       "    </tr>\n",
       "    <tr>\n",
       "      <th>1%</th>\n",
       "      <td>5395.00</td>\n",
       "      <td>1.487580e+18</td>\n",
       "      <td>1.27</td>\n",
       "      <td>2.341362e+08</td>\n",
       "    </tr>\n",
       "    <tr>\n",
       "      <th>10%</th>\n",
       "      <td>5712697.00</td>\n",
       "      <td>1.487580e+18</td>\n",
       "      <td>1.98</td>\n",
       "      <td>3.940487e+08</td>\n",
       "    </tr>\n",
       "    <tr>\n",
       "      <th>25%</th>\n",
       "      <td>5749199.00</td>\n",
       "      <td>1.487580e+18</td>\n",
       "      <td>2.94</td>\n",
       "      <td>4.846737e+08</td>\n",
       "    </tr>\n",
       "    <tr>\n",
       "      <th>50%</th>\n",
       "      <td>5823935.00</td>\n",
       "      <td>1.487580e+18</td>\n",
       "      <td>24.44</td>\n",
       "      <td>5.441903e+08</td>\n",
       "    </tr>\n",
       "    <tr>\n",
       "      <th>75%</th>\n",
       "      <td>5861762.00</td>\n",
       "      <td>1.487580e+18</td>\n",
       "      <td>63.33</td>\n",
       "      <td>5.646261e+08</td>\n",
       "    </tr>\n",
       "    <tr>\n",
       "      <th>99%</th>\n",
       "      <td>5892333.63</td>\n",
       "      <td>2.193075e+18</td>\n",
       "      <td>150.79</td>\n",
       "      <td>5.665380e+08</td>\n",
       "    </tr>\n",
       "    <tr>\n",
       "      <th>max</th>\n",
       "      <td>5896431.00</td>\n",
       "      <td>2.193075e+18</td>\n",
       "      <td>150.79</td>\n",
       "      <td>5.665738e+08</td>\n",
       "    </tr>\n",
       "  </tbody>\n",
       "</table>\n",
       "</div>"
      ],
      "text/plain": [
       "       product_id   category_id    price       user_id\n",
       "count     1180.00  1.180000e+03  1180.00  1.180000e+03\n",
       "mean   5428589.32  1.596411e+18    38.04  5.071139e+08\n",
       "std    1449719.49  2.387652e+17    38.54  8.416228e+07\n",
       "min       5395.00  1.487580e+18     0.94  1.192125e+08\n",
       "1%        5395.00  1.487580e+18     1.27  2.341362e+08\n",
       "10%    5712697.00  1.487580e+18     1.98  3.940487e+08\n",
       "25%    5749199.00  1.487580e+18     2.94  4.846737e+08\n",
       "50%    5823935.00  1.487580e+18    24.44  5.441903e+08\n",
       "75%    5861762.00  1.487580e+18    63.33  5.646261e+08\n",
       "99%    5892333.63  2.193075e+18   150.79  5.665380e+08\n",
       "max    5896431.00  2.193075e+18   150.79  5.665738e+08"
      ]
     },
     "metadata": {},
     "output_type": "display_data"
    }
   ],
   "source": [
    "dynamics.calculando_quartis()"
   ]
  },
  {
   "cell_type": "code",
   "execution_count": 16,
   "metadata": {},
   "outputs": [
    {
     "data": {
      "image/png": "[encoded data removed]",
      "text/plain": [
       "<Figure size 640x480 with 1 Axes>"
      ]
     },
     "metadata": {},
     "output_type": "display_data"
    }
   ],
   "source": [
    "dynamics.calculando_quartis_entre_75_a_25()"
   ]
  }
 ],
 "metadata": {
  "kernelspec": {
   "display_name": "base",
   "language": "python",
   "name": "python3"
  },
  "language_info": {
   "codemirror_mode": {
    "name": "ipython",
    "version": 3
   },
   "file_extension": ".py",
   "mimetype": "text/x-python",
   "name": "python",
   "nbconvert_exporter": "python",
   "pygments_lexer": "ipython3",
   "version": "3.9.13"
  },
  "orig_nbformat": 4
 },
 "nbformat": 4,
 "nbformat_minor": 2
}
