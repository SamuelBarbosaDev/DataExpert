{
 "cells": [
  {
   "cell_type": "code",
   "execution_count": 43,
   "metadata": {},
   "outputs": [],
   "source": [
    "import numpy as np\n",
    "import pandas as pd"
   ]
  },
  {
   "cell_type": "code",
   "execution_count": 44,
   "metadata": {},
   "outputs": [],
   "source": [
    "class  EstatísticaInferencial():\n",
    "    def __init__(self):\n",
    "        path = r'../../data/Iris.csv'\n",
    "        self.df = pd.read_csv(\n",
    "            filepath_or_buffer=path,\n",
    "            sep=',',\n",
    "            decimal='.',\n",
    "        )\n",
    "\n",
    "    def dataframe(self):\n",
    "        display(\n",
    "            self.df.head(10)\n",
    "        )\n",
    "    \n",
    "    def amostra_aleatória(self):\n",
    "        amostra = self.df.sample(\n",
    "            n=30,\n",
    "            replace=True,\n",
    "        )\n",
    "\n",
    "        display(\n",
    "            amostra.head(10)\n",
    "        )\n",
    "\n",
    "    def amostra_sistemática_aleatória(self):\n",
    "        amostra = self.df.sample(\n",
    "            n=30,\n",
    "            replace=True,\n",
    "        )\n",
    "        \n",
    "        indexes = np.arange(\n",
    "            start=3, \n",
    "            stop=len(amostra), \n",
    "            step=3,\n",
    "        )\n",
    "\n",
    "        amostra_sistemática = amostra.iloc[indexes]\n",
    "        display(\n",
    "            amostra_sistemática\n",
    "        )\n",
    "    \n",
    "    def amostra_estratificada_aleatória(self):\n",
    "        amostra = self.df.groupby(\n",
    "            by='Species',\n",
    "            group_keys=False,\n",
    "        ).apply(lambda x : x.sample(2))\n",
    "\n",
    "        display(\n",
    "            amostra\n",
    "        )\n",
    "\n",
    "    def amostragem_clusterizada_aleatória(self):\n",
    "        df = self.df\n",
    "\n",
    "        n = len(df)\n",
    "        k = int(n/30)\n",
    "        data = None\n",
    "        for k in range(k):\n",
    "            sample_k = df.sample(30)\n",
    "            sample_k['cluster'] = np.repeat(\n",
    "                a=k, \n",
    "                repeats=len(sample_k),\n",
    "            )\n",
    "            df = df.drop(\n",
    "                index= sample_k.index\n",
    "            )\n",
    "            data = pd.concat(\n",
    "                objs=[data, sample_k],\n",
    "                axis=0\n",
    "            )\n",
    "\n",
    "        escolha_cluster_aleatório = np.random.randint(\n",
    "            low=0,\n",
    "            high=k,\n",
    "            size=2,\n",
    "        )\n",
    "\n",
    "        amostra = data[\n",
    "            data.cluster.isin(escolha_cluster_aleatório)\n",
    "        ]\n",
    "\n",
    "        # display(amostra)\n",
    "        display(amostra.groupby(['cluster'])['cluster'].count())\n",
    "\n",
    "\n",
    "if __name__ == \"__main__\":\n",
    "    estatística_inferencial = EstatísticaInferencial()"
   ]
  },
  {
   "cell_type": "code",
   "execution_count": 45,
   "metadata": {},
   "outputs": [
    {
     "data": {
      "text/plain": [
       "cluster\n",
       "0    30\n",
       "2    30\n",
       "Name: cluster, dtype: int64"
      ]
     },
     "metadata": {},
     "output_type": "display_data"
    }
   ],
   "source": [
    "estatística_inferencial.amostragem_clusterizada_aleatória()"
   ]
  }
 ],
 "metadata": {
  "kernelspec": {
   "display_name": "venv",
   "language": "python",
   "name": "python3"
  },
  "language_info": {
   "codemirror_mode": {
    "name": "ipython",
    "version": 3
   },
   "file_extension": ".py",
   "mimetype": "text/x-python",
   "name": "python",
   "nbconvert_exporter": "python",
   "pygments_lexer": "ipython3",
   "version": "3.10.6"
  },
  "orig_nbformat": 4
 },
 "nbformat": 4,
 "nbformat_minor": 2
}
