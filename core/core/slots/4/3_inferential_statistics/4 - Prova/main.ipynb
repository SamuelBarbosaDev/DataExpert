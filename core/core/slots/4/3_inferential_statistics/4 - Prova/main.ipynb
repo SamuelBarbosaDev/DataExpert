{
 "cells": [
  {
   "cell_type": "code",
   "execution_count": 28,
   "metadata": {},
   "outputs": [],
   "source": [
    "import random\n",
    "import numpy as np\n",
    "import pandas as pd\n",
    "import seaborn as sns\n",
    "import scipy.stats as st\n",
    "from scipy.stats import norm"
   ]
  },
  {
   "cell_type": "code",
   "execution_count": 29,
   "metadata": {},
   "outputs": [],
   "source": [
    "class  EstatísticaInferencial():\n",
    "    def __init__(self):\n",
    "        pass\n",
    "\n",
    "    def tamanho_da_amostra(self):\n",
    "        z = 1.96\n",
    "        p = 0.5\n",
    "        e = 0.03\n",
    "        n = 5754\n",
    "\n",
    "        tamanho_da_amostra = (\n",
    "            (z**2)*p*(1-p)/(e**2))/1+(((z**2)*p*(1-p))/((e**2)*n)\n",
    "        )\n",
    "\n",
    "        print(tamanho_da_amostra)\n",
    "\n",
    "    def intervalo_de_confiaça(self):\n",
    "        lista = self.df['rating'].values.tolist()\n",
    "        means = []\n",
    "\n",
    "        for i in range(20):\n",
    "            amostra = random.sample(\n",
    "                population=lista, \n",
    "                k=30\n",
    "            )\n",
    "            means.append(np.mean(amostra))\n",
    "\n",
    "        teste_de_normalização_95 = st.norm.interval(\n",
    "            alpha=0.95,\n",
    "            loc=np.mean(means),\n",
    "            scale=st.sem(means),\n",
    "        )\n",
    "\n",
    "        print(f'intervalo_de_confiança:{teste_de_normalização_95}')\n",
    "\n",
    "    def tamanho_da_amostra_desconhecido(self):\n",
    "        z = 1.645\n",
    "        p = 0.5\n",
    "        e = 0.03\n",
    "        n = 3000\n",
    "\n",
    "        # tamanho_da_amostra = ((z**2)*p*(1-p)/(e**2))/1+(((z**2)*p*(1-p))/((e**2)*n))\n",
    "# n = (Z^2 * p * (1-p) * N) / ((N-1) * E^2 + Z^2 * p * (1-p))\n",
    "        tamanho_da_amostra = ((z**2) * p * (1-p) * n) / ((n-1) * e**2 + z**2 * p * (1-p))\n",
    "        print(tamanho_da_amostra)\n",
    "if __name__ == \"__main__\":\n",
    "    estatística_inferencial = EstatísticaInferencial()"
   ]
  },
  {
   "cell_type": "code",
   "execution_count": 30,
   "metadata": {},
   "outputs": [
    {
     "name": "stdout",
     "output_type": "stream",
     "text": [
      "601.230890006795\n"
     ]
    }
   ],
   "source": [
    "estatística_inferencial.tamanho_da_amostra_desconhecido()"
   ]
  }
 ],
 "metadata": {
  "kernelspec": {
   "display_name": "venv",
   "language": "python",
   "name": "python3"
  },
  "language_info": {
   "codemirror_mode": {
    "name": "ipython",
    "version": 3
   },
   "file_extension": ".py",
   "mimetype": "text/x-python",
   "name": "python",
   "nbconvert_exporter": "python",
   "pygments_lexer": "ipython3",
   "version": "3.10.6"
  },
  "orig_nbformat": 4
 },
 "nbformat": 4,
 "nbformat_minor": 2
}
