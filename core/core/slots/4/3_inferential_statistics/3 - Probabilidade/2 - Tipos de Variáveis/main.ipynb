{
 "cells": [
  {
   "cell_type": "code",
   "execution_count": 3,
   "metadata": {},
   "outputs": [],
   "source": [
    "import numpy as np\n",
    "import pandas as pd"
   ]
  },
  {
   "cell_type": "code",
   "execution_count": 4,
   "metadata": {},
   "outputs": [],
   "source": [
    "class  EstatísticaInferencial():\n",
    "    def __init__(self):\n",
    "        path = r'../../data/cost-of-living.csv'\n",
    "        self.df = pd.read_csv(\n",
    "            filepath_or_buffer=path,\n",
    "            sep=',',\n",
    "            decimal='.',\n",
    "        )\n",
    "\n",
    "    def funcion(self):\n",
    "        pass\n",
    "\n",
    "if __name__ == \"__main__\":\n",
    "    estatística_inferencial = EstatísticaInferencial()"
   ]
  },
  {
   "cell_type": "code",
   "execution_count": null,
   "metadata": {},
   "outputs": [],
   "source": [
    "estatística_inferencial.funcion()"
   ]
  }
 ],
 "metadata": {
  "kernelspec": {
   "display_name": "venv",
   "language": "python",
   "name": "python3"
  },
  "language_info": {
   "codemirror_mode": {
    "name": "ipython",
    "version": 3
   },
   "file_extension": ".py",
   "mimetype": "text/x-python",
   "name": "python",
   "nbconvert_exporter": "python",
   "pygments_lexer": "ipython3",
   "version": "3.10.6"
  },
  "orig_nbformat": 4
 },
 "nbformat": 4,
 "nbformat_minor": 2
}
