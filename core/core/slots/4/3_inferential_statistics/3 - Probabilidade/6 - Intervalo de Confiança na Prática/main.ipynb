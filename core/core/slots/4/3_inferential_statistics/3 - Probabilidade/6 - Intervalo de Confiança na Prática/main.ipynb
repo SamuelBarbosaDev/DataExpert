{
 "cells": [
  {
   "cell_type": "code",
   "execution_count": 17,
   "metadata": {},
   "outputs": [],
   "source": [
    "import random\n",
    "import numpy as np\n",
    "import pandas as pd\n",
    "from scipy import stats as st"
   ]
  },
  {
   "cell_type": "code",
   "execution_count": 18,
   "metadata": {},
   "outputs": [],
   "source": [
    "class  EstatísticaInferencial():\n",
    "    def __init__(self):\n",
    "        pass\n",
    "\n",
    "    def intervalo_de_confiança(self):\n",
    "        amostra = [23, 65, 4, 66, 3, 65, 87, 33, 22, 32, 12, 4, 7, 58, 86, 47]\n",
    "        teste_95 = st.t.interval(\n",
    "            alpha=0.95,\n",
    "            df=len(amostra)-1,\n",
    "            loc=np.mean(amostra),\n",
    "            scale=st.sem(amostra)\n",
    "        )\n",
    "\n",
    "        teste_99 = st.t.interval(\n",
    "            alpha=0.99,\n",
    "            df=len(amostra)-1,\n",
    "            loc=np.mean(amostra),\n",
    "            scale=st.sem(amostra)\n",
    "        )\n",
    "\n",
    "        print(f'intervalo_de_confiança:\\nteste 95:{teste_95}\\nteste 99:{teste_99}')\n",
    "    \n",
    "    def teste_de_normalização(self):\n",
    "        np.random.seed(100)\n",
    "        amostra = np.random.randint(10, 50, 90)\n",
    "        teste_de_normalização_95 = st.norm.interval(\n",
    "            alpha=0.95,\n",
    "            loc=np.mean(amostra),\n",
    "            scale=st.sem(amostra),\n",
    "        )\n",
    "\n",
    "        teste_de_normalização_99 = st.norm.interval(\n",
    "            alpha=0.99,\n",
    "            loc=np.mean(amostra),\n",
    "            scale=st.sem(amostra),\n",
    "        )\n",
    "\n",
    "        print(f'intervalo_de_confiança:\\nTeste De Normalização 95:{teste_de_normalização_95}\\nTeste De Normalização 99:{teste_de_normalização_99}')\n",
    "\n",
    "\n",
    "if __name__ == \"__main__\":\n",
    "    estatística_inferencial = EstatísticaInferencial()"
   ]
  },
  {
   "cell_type": "code",
   "execution_count": 19,
   "metadata": {},
   "outputs": [
    {
     "name": "stdout",
     "output_type": "stream",
     "text": [
      "intervalo_de_confiança:\n",
      "teste 95:(22.602663413349585, 54.14733658665041)\n",
      "teste 99:(16.56986390514599, 60.18013609485401)\n"
     ]
    },
    {
     "name": "stderr",
     "output_type": "stream",
     "text": [
      "/tmp/ipykernel_16786/1346349947.py:7: DeprecationWarning: Use of keyword argument 'alpha' for method 'interval' is deprecated and wil be removed in SciPy 1.11.0. Use first positional argument or keyword argument 'confidence' instead.\n",
      "  teste_95 = st.t.interval(\n",
      "/tmp/ipykernel_16786/1346349947.py:14: DeprecationWarning: Use of keyword argument 'alpha' for method 'interval' is deprecated and wil be removed in SciPy 1.11.0. Use first positional argument or keyword argument 'confidence' instead.\n",
      "  teste_99 = st.t.interval(\n"
     ]
    }
   ],
   "source": [
    "estatística_inferencial.intervalo_de_confiança()"
   ]
  },
  {
   "cell_type": "code",
   "execution_count": 20,
   "metadata": {},
   "outputs": [
    {
     "name": "stdout",
     "output_type": "stream",
     "text": [
      "intervalo_de_confiança:\n",
      "Teste De Normalização 95:(25.878641453003194, 30.87691410255236)\n",
      "Teste De Normalização 99:(25.09335590589908, 31.662199649656472)\n"
     ]
    },
    {
     "name": "stderr",
     "output_type": "stream",
     "text": [
      "/tmp/ipykernel_16786/1346349947.py:26: DeprecationWarning: Use of keyword argument 'alpha' for method 'interval' is deprecated and wil be removed in SciPy 1.11.0. Use first positional argument or keyword argument 'confidence' instead.\n",
      "  teste_de_normalização_95 = st.norm.interval(\n",
      "/tmp/ipykernel_16786/1346349947.py:32: DeprecationWarning: Use of keyword argument 'alpha' for method 'interval' is deprecated and wil be removed in SciPy 1.11.0. Use first positional argument or keyword argument 'confidence' instead.\n",
      "  teste_de_normalização_99 = st.norm.interval(\n"
     ]
    }
   ],
   "source": [
    "estatística_inferencial.teste_de_normalização()"
   ]
  }
 ],
 "metadata": {
  "kernelspec": {
   "display_name": "venv",
   "language": "python",
   "name": "python3"
  },
  "language_info": {
   "codemirror_mode": {
    "name": "ipython",
    "version": 3
   },
   "file_extension": ".py",
   "mimetype": "text/x-python",
   "name": "python",
   "nbconvert_exporter": "python",
   "pygments_lexer": "ipython3",
   "version": "3.10.6"
  },
  "orig_nbformat": 4
 },
 "nbformat": 4,
 "nbformat_minor": 2
}
