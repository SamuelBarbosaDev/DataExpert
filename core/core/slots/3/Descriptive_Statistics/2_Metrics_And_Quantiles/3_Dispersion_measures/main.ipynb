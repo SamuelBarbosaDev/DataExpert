{
 "cells": [
  {
   "cell_type": "code",
   "execution_count": 20,
   "metadata": {},
   "outputs": [],
   "source": [
    "import sidetable\n",
    "import numpy as np\n",
    "import pandas as pd\n",
    "import seaborn as sns\n",
    "from scipy import stats\n",
    "import plotly.express as px\n",
    "import matplotlib.pyplot as plt\n",
    "import plotly.graph_objects as go"
   ]
  },
  {
   "cell_type": "code",
   "execution_count": 21,
   "metadata": {},
   "outputs": [],
   "source": [
    "class DispersionMeasures():\n",
    "    \"\"\"\n",
    "        Medidas de Dispersão\n",
    "    \"\"\"\n",
    "    def __init__(self):\n",
    "        sns.set_theme(\n",
    "            context='talk',\n",
    "            style='ticks',\n",
    "            font_scale=8,\n",
    "            palette='viridis',\n",
    "            rc={\n",
    "                'figure.figsize': (12, 8),\n",
    "                'axes.grid': True,\n",
    "                'grid.alpha': .2,\n",
    "                'axes.titlesize': 'x-large',\n",
    "                'axes.titleweight': 'bold',\n",
    "                'axes.titlepad': 20,\n",
    "            }\n",
    "        )\n",
    "\n",
    "        self.df = sns.load_dataset('tips')\n",
    "\n",
    "    def amostragem(self):\n",
    "        df_tips_sample = self.df.sample(50)\n",
    "        print(df_tips_sample.shape)\n",
    "        print(df_tips_sample.head())\n",
    "    \n",
    "    def dispersion_forma_1(self):\n",
    "        resultado = self.df.select_dtypes('number').apply(lambda x: x.max() - x.min())\n",
    "        print(resultado)\n",
    "\n",
    "    def variancia_forma_1(self):\n",
    "        resultado = self.df['tip'].var()\n",
    "        print(resultado)\n",
    "\n",
    "    def variancia_forma_2(self):\n",
    "        resultado = np.var(\n",
    "            self.df['tip'],\n",
    "            ddof=1\n",
    "        )\n",
    "        print(resultado)\n",
    "    \n",
    "    def desvio_padrão(self):\n",
    "        resultado = self.df['tip'].std()\n",
    "        print(resultado)        \n",
    "\n",
    "if __name__ == '__main__':\n",
    "    dispersion_measures = DispersionMeasures()\n"
   ]
  },
  {
   "cell_type": "code",
   "execution_count": 22,
   "metadata": {},
   "outputs": [
    {
     "name": "stdout",
     "output_type": "stream",
     "text": [
      "total_bill    47.74\n",
      "tip            9.00\n",
      "size           5.00\n",
      "dtype: float64\n"
     ]
    }
   ],
   "source": [
    "dispersion_measures.dispersion_forma_1()"
   ]
  },
  {
   "cell_type": "code",
   "execution_count": 23,
   "metadata": {},
   "outputs": [
    {
     "name": "stdout",
     "output_type": "stream",
     "text": [
      "1.914454638062471\n"
     ]
    }
   ],
   "source": [
    "dispersion_measures.variancia_forma_1()"
   ]
  },
  {
   "cell_type": "code",
   "execution_count": 24,
   "metadata": {},
   "outputs": [
    {
     "name": "stdout",
     "output_type": "stream",
     "text": [
      "1.914454638062471\n"
     ]
    }
   ],
   "source": [
    "dispersion_measures.variancia_forma_2()"
   ]
  },
  {
   "cell_type": "code",
   "execution_count": 25,
   "metadata": {},
   "outputs": [
    {
     "name": "stdout",
     "output_type": "stream",
     "text": [
      "1.3836381890011822\n"
     ]
    }
   ],
   "source": [
    "dispersion_measures.desvio_padrão()"
   ]
  }
 ],
 "metadata": {
  "kernelspec": {
   "display_name": "venv",
   "language": "python",
   "name": "python3"
  },
  "language_info": {
   "codemirror_mode": {
    "name": "ipython",
    "version": 3
   },
   "file_extension": ".py",
   "mimetype": "text/x-python",
   "name": "python",
   "nbconvert_exporter": "python",
   "pygments_lexer": "ipython3",
   "version": "3.10.6"
  },
  "orig_nbformat": 4,
  "vscode": {
   "interpreter": {
    "hash": "0f60f0d8225b498888813588bdbdff26fd82099ded266fc9d2291ee5204b5ef8"
   }
  }
 },
 "nbformat": 4,
 "nbformat_minor": 2
}
