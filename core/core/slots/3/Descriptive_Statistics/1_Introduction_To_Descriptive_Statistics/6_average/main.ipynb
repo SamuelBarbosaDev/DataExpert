{
 "cells": [
  {
   "cell_type": "code",
   "execution_count": 222,
   "metadata": {},
   "outputs": [],
   "source": [
    "import sidetable\n",
    "import numpy as np\n",
    "import pandas as pd\n",
    "import seaborn as sns\n",
    "from scipy import stats\n",
    "import plotly.express as px\n",
    "import matplotlib.pyplot as plt\n",
    "import plotly.graph_objects as go"
   ]
  },
  {
   "cell_type": "code",
   "execution_count": 223,
   "metadata": {},
   "outputs": [],
   "source": [
    "class Average():\n",
    "    \"\"\"\n",
    "        Média\n",
    "    \"\"\"\n",
    "    def __init__(self):\n",
    "        sns.set_theme(\n",
    "            context='talk',\n",
    "            style='ticks',\n",
    "            font_scale=8,\n",
    "            palette='viridis',\n",
    "            rc={\n",
    "                'figure.figsize': (12, 8),\n",
    "                'axes.grid': True,\n",
    "                'grid.alpha': .2,\n",
    "                'axes.titlesize': 'x-large',\n",
    "                'axes.titleweight': 'bold',\n",
    "                'axes.titlepad': 20,\n",
    "            }\n",
    "        )\n",
    "        self.df = sns.load_dataset('tips')\n",
    "\n",
    "    def amostragem(self):\n",
    "\n",
    "        df_sample = self.df.sample(50)\n",
    "        print(df_sample.shape)\n",
    "        print(df_sample.head())\n",
    "    \n",
    "    def average_forma_1(self):\n",
    "        resultado = self.df['tip'].mean()\n",
    "        print(resultado)\n",
    "\n",
    "    def average_forma_2(self):\n",
    "        resultado = self.df['tip'].agg('mean')\n",
    "        print(resultado)\n",
    "\n",
    "    def average_forma_3(self):\n",
    "        resultado = np.mean(self.df['tip'])\n",
    "        print(resultado)\n",
    "\n",
    "    def average_forma_4(self):\n",
    "        resultado = np.sum(self.df['tip']) / len(self.df['tip'])\n",
    "        print(resultado)\n",
    "\n",
    "    def average_ponderada(self):\n",
    "        resultado = np.average(\n",
    "            a=self.df['tip'],\n",
    "            weights=self.df['size']\n",
    "        )\n",
    "        print(resultado)\n",
    "\n",
    "    def trimmed_mean(self):\n",
    "        value = self.df['tip'].sort_values().reset_index()\n",
    "        rank = 10\n",
    "        ignorando_os_10_primeiros_e_os_10_ultimos = value[rank:-rank]\n",
    "        resultado = value[rank:-rank].sum() / (len(value[rank:-rank]) - 2 * rank)\n",
    "        \n",
    "        print(resultado)\n",
    "\n",
    "        resultado_2 = stats.trim_mean(value, .1)\n",
    "        print(resultado_2)\n",
    "\n",
    "    def media_harmonica(self):\n",
    "        value = self.df['tip'].sort_values().reset_index()\n",
    "        resultado = stats.hmean(value)\n",
    "        print(resultado)\n",
    "\n",
    "if __name__ == '__main__':\n",
    "    average = Average()\n"
   ]
  },
  {
   "cell_type": "code",
   "execution_count": 224,
   "metadata": {},
   "outputs": [
    {
     "name": "stdout",
     "output_type": "stream",
     "text": [
      "(50, 7)\n",
      "     total_bill   tip     sex smoker   day    time  size\n",
      "55        19.49  3.51    Male     No   Sun  Dinner     2\n",
      "86        13.03  2.00    Male     No  Thur   Lunch     2\n",
      "198       13.00  2.00  Female    Yes  Thur   Lunch     2\n",
      "127       14.52  2.00  Female     No  Thur   Lunch     2\n",
      "92         5.75  1.00  Female    Yes   Fri  Dinner     2\n"
     ]
    }
   ],
   "source": [
    "average.amostragem()"
   ]
  },
  {
   "cell_type": "code",
   "execution_count": 225,
   "metadata": {},
   "outputs": [
    {
     "name": "stdout",
     "output_type": "stream",
     "text": [
      "2.99827868852459\n"
     ]
    }
   ],
   "source": [
    "average.average_forma_1()"
   ]
  },
  {
   "cell_type": "code",
   "execution_count": 226,
   "metadata": {},
   "outputs": [
    {
     "name": "stdout",
     "output_type": "stream",
     "text": [
      "2.99827868852459\n"
     ]
    }
   ],
   "source": [
    "average.average_forma_2()"
   ]
  },
  {
   "cell_type": "code",
   "execution_count": 227,
   "metadata": {},
   "outputs": [
    {
     "name": "stdout",
     "output_type": "stream",
     "text": [
      "2.99827868852459\n"
     ]
    }
   ],
   "source": [
    "average.average_forma_3()"
   ]
  },
  {
   "cell_type": "code",
   "execution_count": 228,
   "metadata": {},
   "outputs": [
    {
     "name": "stdout",
     "output_type": "stream",
     "text": [
      "2.99827868852459\n"
     ]
    }
   ],
   "source": [
    "average.average_forma_4()"
   ]
  },
  {
   "cell_type": "code",
   "execution_count": 229,
   "metadata": {},
   "outputs": [
    {
     "name": "stdout",
     "output_type": "stream",
     "text": [
      "3.2478309409888357\n"
     ]
    }
   ],
   "source": [
    "average.average_ponderada()"
   ]
  },
  {
   "cell_type": "code",
   "execution_count": 230,
   "metadata": {},
   "outputs": [
    {
     "name": "stdout",
     "output_type": "stream",
     "text": [
      "index    131.700980\n",
      "tip        3.185147\n",
      "dtype: float64\n",
      "[121.5          2.84270408]\n"
     ]
    }
   ],
   "source": [
    "average.trimmed_mean()"
   ]
  },
  {
   "cell_type": "code",
   "execution_count": 231,
   "metadata": {},
   "outputs": [
    {
     "name": "stdout",
     "output_type": "stream",
     "text": [
      "[0.         2.48225291]\n"
     ]
    }
   ],
   "source": [
    "average.media_harmonica()"
   ]
  }
 ],
 "metadata": {
  "kernelspec": {
   "display_name": "venv",
   "language": "python",
   "name": "python3"
  },
  "language_info": {
   "codemirror_mode": {
    "name": "ipython",
    "version": 3
   },
   "file_extension": ".py",
   "mimetype": "text/x-python",
   "name": "python",
   "nbconvert_exporter": "python",
   "pygments_lexer": "ipython3",
   "version": "3.10.6"
  },
  "orig_nbformat": 4,
  "vscode": {
   "interpreter": {
    "hash": "0f60f0d8225b498888813588bdbdff26fd82099ded266fc9d2291ee5204b5ef8"
   }
  }
 },
 "nbformat": 4,
 "nbformat_minor": 2
}
