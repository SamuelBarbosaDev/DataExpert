{
 "cells": [
  {
   "cell_type": "code",
   "execution_count": 61,
   "metadata": {},
   "outputs": [],
   "source": [
    "import sidetable\n",
    "import numpy as np\n",
    "import pandas as pd\n",
    "import seaborn as sns\n",
    "from scipy import stats\n",
    "import plotly.express as px\n",
    "import matplotlib.pyplot as plt\n",
    "import plotly.graph_objects as go"
   ]
  },
  {
   "cell_type": "code",
   "execution_count": 62,
   "metadata": {},
   "outputs": [],
   "source": [
    "class Median():\n",
    "    \"\"\"\n",
    "        Média\n",
    "    \"\"\"\n",
    "    def __init__(self):\n",
    "        sns.set_theme(\n",
    "            context='talk',\n",
    "            style='ticks',\n",
    "            font_scale=8,\n",
    "            palette='viridis',\n",
    "            rc={\n",
    "                'figure.figsize': (12, 8),\n",
    "                'axes.grid': True,\n",
    "                'grid.alpha': .2,\n",
    "                'axes.titlesize': 'x-large',\n",
    "                'axes.titleweight': 'bold',\n",
    "                'axes.titlepad': 20,\n",
    "            }\n",
    "        )\n",
    "        self.df = sns.load_dataset('tips')\n",
    "\n",
    "    def amostragem(self):\n",
    "        df_sample = self.df.sample(50)\n",
    "        print(df_sample.shape)\n",
    "        print(df_sample.head())\n",
    "\n",
    "    def mediana_forma_1(self):\n",
    "        value = [i for i in range(100)]\n",
    "        value.append(7000)\n",
    "        np.random.shuffle(value)\n",
    "        resultado = int((len(value) + 1)/2 - 1)\n",
    "        print(resultado)\n",
    "\n",
    "    def mediana_forma_2(self):\n",
    "        value = [i for i in range(100)]\n",
    "        value.append(7000)\n",
    "        resultado = np.median(value)\n",
    "        print(resultado)\n",
    "\n",
    "if __name__ == '__main__':\n",
    "    median = Median()"
   ]
  },
  {
   "cell_type": "code",
   "execution_count": 63,
   "metadata": {},
   "outputs": [
    {
     "name": "stdout",
     "output_type": "stream",
     "text": [
      "(50, 7)\n",
      "     total_bill   tip     sex smoker  day    time  size\n",
      "30         9.55  1.45    Male     No  Sat  Dinner     2\n",
      "26        13.37  2.00    Male     No  Sat  Dinner     2\n",
      "97        12.03  1.50    Male    Yes  Fri  Dinner     2\n",
      "51        10.29  2.60  Female     No  Sun  Dinner     2\n",
      "213       13.27  2.50  Female    Yes  Sat  Dinner     2\n"
     ]
    }
   ],
   "source": [
    "median.amostragem()"
   ]
  },
  {
   "cell_type": "code",
   "execution_count": 64,
   "metadata": {},
   "outputs": [
    {
     "name": "stdout",
     "output_type": "stream",
     "text": [
      "50\n"
     ]
    }
   ],
   "source": [
    "median.mediana_forma_1()"
   ]
  },
  {
   "cell_type": "code",
   "execution_count": 65,
   "metadata": {},
   "outputs": [
    {
     "name": "stdout",
     "output_type": "stream",
     "text": [
      "50.0\n"
     ]
    }
   ],
   "source": [
    "median.mediana_forma_2()"
   ]
  }
 ],
 "metadata": {
  "kernelspec": {
   "display_name": "venv",
   "language": "python",
   "name": "python3"
  },
  "language_info": {
   "codemirror_mode": {
    "name": "ipython",
    "version": 3
   },
   "file_extension": ".py",
   "mimetype": "text/x-python",
   "name": "python",
   "nbconvert_exporter": "python",
   "pygments_lexer": "ipython3",
   "version": "3.10.6"
  },
  "orig_nbformat": 4,
  "vscode": {
   "interpreter": {
    "hash": "0f60f0d8225b498888813588bdbdff26fd82099ded266fc9d2291ee5204b5ef8"
   }
  }
 },
 "nbformat": 4,
 "nbformat_minor": 2
}
