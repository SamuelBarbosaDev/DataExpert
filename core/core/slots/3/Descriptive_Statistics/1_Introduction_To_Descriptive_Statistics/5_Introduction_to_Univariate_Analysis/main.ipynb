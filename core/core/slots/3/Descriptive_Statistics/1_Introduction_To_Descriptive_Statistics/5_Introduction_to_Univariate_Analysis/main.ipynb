{
 "cells": [
  {
   "cell_type": "code",
   "execution_count": 3,
   "metadata": {},
   "outputs": [],
   "source": [
    "import sidetable\n",
    "import numpy as np\n",
    "import pandas as pd\n",
    "import seaborn as sns\n",
    "from scipy import stats\n",
    "import plotly.express as px\n",
    "import matplotlib.pyplot as plt\n",
    "import plotly.graph_objects as go"
   ]
  },
  {
   "cell_type": "code",
   "execution_count": 4,
   "metadata": {},
   "outputs": [],
   "source": [
    "class IntroductionToUnivariateAnalysis():\n",
    "    \"\"\"\n",
    "        Introdução à Análise Univariada\n",
    "    \"\"\"\n",
    "    def __init__(self):\n",
    "        sns.set_theme(\n",
    "            context='talk',\n",
    "            style='ticks',\n",
    "            font_scale=8,\n",
    "            palette='viridis',\n",
    "            rc={\n",
    "                'figure.figsize': (12, 8),\n",
    "                'axes.grid': True,\n",
    "                'grid.alpha': .2,\n",
    "                'axes.titlesize': 'x-large',\n",
    "                'axes.titleweight': 'bold',\n",
    "                'axes.titlepad': 20,\n",
    "            }\n",
    "        )\n",
    "\n",
    "        self.df = sns.load_dataset('tips')\n",
    "\n",
    "    def amostragem(self):\n",
    "        df_sample = self.df.sample(50)\n",
    "        print(df_sample.shape)\n",
    "        print(df_sample.head())\n",
    "\n",
    "\n",
    "if __name__ == '__main__':\n",
    "    introduction_to_univariate_analysis = IntroductionToUnivariateAnalysis()\n"
   ]
  },
  {
   "cell_type": "code",
   "execution_count": 5,
   "metadata": {},
   "outputs": [
    {
     "name": "stdout",
     "output_type": "stream",
     "text": [
      "(50, 7)\n",
      "     total_bill   tip     sex smoker   day    time  size\n",
      "144       16.43  2.30  Female     No  Thur   Lunch     2\n",
      "21        20.29  2.75  Female     No   Sat  Dinner     2\n",
      "94        22.75  3.25  Female     No   Fri  Dinner     2\n",
      "181       23.33  5.65    Male    Yes   Sun  Dinner     2\n",
      "113       23.95  2.55    Male     No   Sun  Dinner     2\n"
     ]
    }
   ],
   "source": [
    "\n",
    "introduction_to_univariate_analysis.amostragem()"
   ]
  }
 ],
 "metadata": {
  "kernelspec": {
   "display_name": "venv",
   "language": "python",
   "name": "python3"
  },
  "language_info": {
   "codemirror_mode": {
    "name": "ipython",
    "version": 3
   },
   "file_extension": ".py",
   "mimetype": "text/x-python",
   "name": "python",
   "nbconvert_exporter": "python",
   "pygments_lexer": "ipython3",
   "version": "3.10.6"
  },
  "orig_nbformat": 4,
  "vscode": {
   "interpreter": {
    "hash": "0f60f0d8225b498888813588bdbdff26fd82099ded266fc9d2291ee5204b5ef8"
   }
  }
 },
 "nbformat": 4,
 "nbformat_minor": 2
}
