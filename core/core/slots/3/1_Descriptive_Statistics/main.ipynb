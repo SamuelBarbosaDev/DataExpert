{
 "cells": [
  {
   "cell_type": "code",
   "execution_count": 92,
   "metadata": {},
   "outputs": [],
   "source": [
    "import sidetable\n",
    "import numpy as np\n",
    "import pandas as pd\n",
    "import seaborn as sns\n",
    "from scipy import stats\n",
    "import plotly.express as px\n",
    "import matplotlib.pyplot as plt\n",
    "import plotly.graph_objects as go"
   ]
  },
  {
   "attachments": {},
   "cell_type": "markdown",
   "metadata": {},
   "source": [
    "# Dataframes:"
   ]
  },
  {
   "cell_type": "code",
   "execution_count": 93,
   "metadata": {},
   "outputs": [],
   "source": [
    "df_tips = sns.load_dataset('tips')"
   ]
  },
  {
   "attachments": {},
   "cell_type": "markdown",
   "metadata": {},
   "source": [
    "# Estatística Descritiva:"
   ]
  },
  {
   "attachments": {},
   "cell_type": "markdown",
   "metadata": {},
   "source": [
    "### Código:"
   ]
  },
  {
   "cell_type": "code",
   "execution_count": 94,
   "metadata": {},
   "outputs": [],
   "source": [
    "class EstatísticaDescritiva():\n",
    "    \"\"\"\n",
    "        Média\n",
    "    \"\"\"\n",
    "    def __init__(self):\n",
    "        sns.set_theme(\n",
    "            context='talk',\n",
    "            style='ticks',\n",
    "            font_scale=8,\n",
    "            palette='viridis',\n",
    "            rc={\n",
    "                'figure.figsize': (12, 8),\n",
    "                'axes.grid': True,\n",
    "                'grid.alpha': .2,\n",
    "                'axes.titlesize': 'x-large',\n",
    "                'axes.titleweight': 'bold',\n",
    "                'axes.titlepad': 20,\n",
    "            }\n",
    "        )\n",
    "\n",
    "    def amostragem(self, df):\n",
    "        df_sample = df.sample(50)\n",
    "        display(df_sample.head())\n",
    "    \n",
    "    def average_forma_1(self, df):\n",
    "        resultado = df['tip'].mean()\n",
    "        print(resultado)\n",
    "\n",
    "    def average_forma_2(self, df):\n",
    "        resultado = df['tip'].agg('mean')\n",
    "        print(resultado)\n",
    "\n",
    "    def average_forma_3(self, df):\n",
    "        resultado = np.mean(df['tip'])\n",
    "        print(resultado)\n",
    "\n",
    "    def average_forma_4(self, df):\n",
    "        resultado = np.sum(df['tip']) / len(df['tip'])\n",
    "        print(resultado)\n",
    "\n",
    "    def average_ponderada(self, df):\n",
    "        resultado = np.average(\n",
    "            a=df['tip'],\n",
    "            weights=df['size']\n",
    "        )\n",
    "        print(resultado)\n",
    "\n",
    "    def trimmed_mean(self, df):\n",
    "        value = df['tip'].sort_values().reset_index()\n",
    "        rank = 10\n",
    "        ignorando_os_10_primeiros_e_os_10_ultimos = value[rank:-rank]\n",
    "        resultado = value[rank:-rank].sum() / (len(value[rank:-rank]) - 2 * rank)\n",
    "        \n",
    "        print(resultado)\n",
    "\n",
    "        resultado_2 = stats.trim_mean(value, .1)\n",
    "        print(resultado_2)\n",
    "\n",
    "    def media_harmonica(self, df):\n",
    "        value = df['tip'].sort_values().reset_index()\n",
    "        resultado = stats.hmean(value)\n",
    "        print(resultado)\n",
    "\n",
    "    def mediana_forma_1(self):\n",
    "        value = [i for i in range(100)]\n",
    "        value.append(7000)\n",
    "        np.random.shuffle(value)\n",
    "        resultado = int((len(value) + 1)/2 - 1)\n",
    "        print(resultado)\n",
    "\n",
    "    def mediana_forma_2(self):\n",
    "        value = [i for i in range(100)]\n",
    "        value.append(7000)\n",
    "        resultado = np.median(value)\n",
    "        print(resultado)\n",
    "\n",
    "    def moda_forma_1(self, df):\n",
    "        resultado = df['total_bill'].value_counts()\n",
    "        display(resultado)\n",
    "\n",
    "    def moda_forma_2(self, df):\n",
    "        resultado = df['total_bill'].mode()\n",
    "        display(resultado)\n",
    "\n",
    "    def quants_forma_1(self, df):\n",
    "        resultado = np.median(df['tip'])\n",
    "        print(resultado)\n",
    "\n",
    "    def quants_forma_2(self, df):\n",
    "        resultado = df['total_bill'].quantile([.25, .5, .75])\n",
    "        print(resultado)\n",
    "\n",
    "    def percentile_forma_1(self, df):\n",
    "        resultado = np.percentile(df['total_bill'], [[.1, .99]])\n",
    "        print(resultado)\n",
    "\n",
    "    def dispersion_forma_1(self, df):\n",
    "        resultado = df.select_dtypes('number').apply(lambda x: x.max() - x.min())\n",
    "        print(resultado)\n",
    "\n",
    "    def variancia_forma_1(self, df):\n",
    "        resultado = df['tip'].var()\n",
    "        print(resultado)\n",
    "\n",
    "    def variancia_forma_2(self, df):\n",
    "        resultado = np.var(\n",
    "            df['tip'],\n",
    "            ddof=1\n",
    "        )\n",
    "        print(resultado)\n",
    "    \n",
    "    def desvio_padrão(self, df):\n",
    "        resultado = df['tip'].std()\n",
    "        print(resultado)        \n",
    "\n",
    "if __name__ == '__main__':\n",
    "    estatística_descritiva = EstatísticaDescritiva()\n"
   ]
  },
  {
   "attachments": {},
   "cell_type": "markdown",
   "metadata": {},
   "source": [
    "### Output:"
   ]
  },
  {
   "cell_type": "code",
   "execution_count": 95,
   "metadata": {},
   "outputs": [
    {
     "data": {
      "text/html": [
       "<div>\n",
       "<style scoped>\n",
       "    .dataframe tbody tr th:only-of-type {\n",
       "        vertical-align: middle;\n",
       "    }\n",
       "\n",
       "    .dataframe tbody tr th {\n",
       "        vertical-align: top;\n",
       "    }\n",
       "\n",
       "    .dataframe thead th {\n",
       "        text-align: right;\n",
       "    }\n",
       "</style>\n",
       "<table border=\"1\" class=\"dataframe\">\n",
       "  <thead>\n",
       "    <tr style=\"text-align: right;\">\n",
       "      <th></th>\n",
       "      <th>total_bill</th>\n",
       "      <th>tip</th>\n",
       "      <th>sex</th>\n",
       "      <th>smoker</th>\n",
       "      <th>day</th>\n",
       "      <th>time</th>\n",
       "      <th>size</th>\n",
       "    </tr>\n",
       "  </thead>\n",
       "  <tbody>\n",
       "    <tr>\n",
       "      <th>0</th>\n",
       "      <td>16.99</td>\n",
       "      <td>1.01</td>\n",
       "      <td>Female</td>\n",
       "      <td>No</td>\n",
       "      <td>Sun</td>\n",
       "      <td>Dinner</td>\n",
       "      <td>2</td>\n",
       "    </tr>\n",
       "    <tr>\n",
       "      <th>1</th>\n",
       "      <td>10.34</td>\n",
       "      <td>1.66</td>\n",
       "      <td>Male</td>\n",
       "      <td>No</td>\n",
       "      <td>Sun</td>\n",
       "      <td>Dinner</td>\n",
       "      <td>3</td>\n",
       "    </tr>\n",
       "    <tr>\n",
       "      <th>2</th>\n",
       "      <td>21.01</td>\n",
       "      <td>3.50</td>\n",
       "      <td>Male</td>\n",
       "      <td>No</td>\n",
       "      <td>Sun</td>\n",
       "      <td>Dinner</td>\n",
       "      <td>3</td>\n",
       "    </tr>\n",
       "    <tr>\n",
       "      <th>3</th>\n",
       "      <td>23.68</td>\n",
       "      <td>3.31</td>\n",
       "      <td>Male</td>\n",
       "      <td>No</td>\n",
       "      <td>Sun</td>\n",
       "      <td>Dinner</td>\n",
       "      <td>2</td>\n",
       "    </tr>\n",
       "    <tr>\n",
       "      <th>4</th>\n",
       "      <td>24.59</td>\n",
       "      <td>3.61</td>\n",
       "      <td>Female</td>\n",
       "      <td>No</td>\n",
       "      <td>Sun</td>\n",
       "      <td>Dinner</td>\n",
       "      <td>4</td>\n",
       "    </tr>\n",
       "    <tr>\n",
       "      <th>...</th>\n",
       "      <td>...</td>\n",
       "      <td>...</td>\n",
       "      <td>...</td>\n",
       "      <td>...</td>\n",
       "      <td>...</td>\n",
       "      <td>...</td>\n",
       "      <td>...</td>\n",
       "    </tr>\n",
       "    <tr>\n",
       "      <th>239</th>\n",
       "      <td>29.03</td>\n",
       "      <td>5.92</td>\n",
       "      <td>Male</td>\n",
       "      <td>No</td>\n",
       "      <td>Sat</td>\n",
       "      <td>Dinner</td>\n",
       "      <td>3</td>\n",
       "    </tr>\n",
       "    <tr>\n",
       "      <th>240</th>\n",
       "      <td>27.18</td>\n",
       "      <td>2.00</td>\n",
       "      <td>Female</td>\n",
       "      <td>Yes</td>\n",
       "      <td>Sat</td>\n",
       "      <td>Dinner</td>\n",
       "      <td>2</td>\n",
       "    </tr>\n",
       "    <tr>\n",
       "      <th>241</th>\n",
       "      <td>22.67</td>\n",
       "      <td>2.00</td>\n",
       "      <td>Male</td>\n",
       "      <td>Yes</td>\n",
       "      <td>Sat</td>\n",
       "      <td>Dinner</td>\n",
       "      <td>2</td>\n",
       "    </tr>\n",
       "    <tr>\n",
       "      <th>242</th>\n",
       "      <td>17.82</td>\n",
       "      <td>1.75</td>\n",
       "      <td>Male</td>\n",
       "      <td>No</td>\n",
       "      <td>Sat</td>\n",
       "      <td>Dinner</td>\n",
       "      <td>2</td>\n",
       "    </tr>\n",
       "    <tr>\n",
       "      <th>243</th>\n",
       "      <td>18.78</td>\n",
       "      <td>3.00</td>\n",
       "      <td>Female</td>\n",
       "      <td>No</td>\n",
       "      <td>Thur</td>\n",
       "      <td>Dinner</td>\n",
       "      <td>2</td>\n",
       "    </tr>\n",
       "  </tbody>\n",
       "</table>\n",
       "<p>244 rows × 7 columns</p>\n",
       "</div>"
      ],
      "text/plain": [
       "     total_bill   tip     sex smoker   day    time  size\n",
       "0         16.99  1.01  Female     No   Sun  Dinner     2\n",
       "1         10.34  1.66    Male     No   Sun  Dinner     3\n",
       "2         21.01  3.50    Male     No   Sun  Dinner     3\n",
       "3         23.68  3.31    Male     No   Sun  Dinner     2\n",
       "4         24.59  3.61  Female     No   Sun  Dinner     4\n",
       "..          ...   ...     ...    ...   ...     ...   ...\n",
       "239       29.03  5.92    Male     No   Sat  Dinner     3\n",
       "240       27.18  2.00  Female    Yes   Sat  Dinner     2\n",
       "241       22.67  2.00    Male    Yes   Sat  Dinner     2\n",
       "242       17.82  1.75    Male     No   Sat  Dinner     2\n",
       "243       18.78  3.00  Female     No  Thur  Dinner     2\n",
       "\n",
       "[244 rows x 7 columns]"
      ]
     },
     "metadata": {},
     "output_type": "display_data"
    }
   ],
   "source": [
    "display(df_tips)"
   ]
  },
  {
   "cell_type": "code",
   "execution_count": 96,
   "metadata": {},
   "outputs": [
    {
     "data": {
      "text/html": [
       "<div>\n",
       "<style scoped>\n",
       "    .dataframe tbody tr th:only-of-type {\n",
       "        vertical-align: middle;\n",
       "    }\n",
       "\n",
       "    .dataframe tbody tr th {\n",
       "        vertical-align: top;\n",
       "    }\n",
       "\n",
       "    .dataframe thead th {\n",
       "        text-align: right;\n",
       "    }\n",
       "</style>\n",
       "<table border=\"1\" class=\"dataframe\">\n",
       "  <thead>\n",
       "    <tr style=\"text-align: right;\">\n",
       "      <th></th>\n",
       "      <th>total_bill</th>\n",
       "      <th>tip</th>\n",
       "      <th>sex</th>\n",
       "      <th>smoker</th>\n",
       "      <th>day</th>\n",
       "      <th>time</th>\n",
       "      <th>size</th>\n",
       "    </tr>\n",
       "  </thead>\n",
       "  <tbody>\n",
       "    <tr>\n",
       "      <th>0</th>\n",
       "      <td>16.99</td>\n",
       "      <td>1.01</td>\n",
       "      <td>Female</td>\n",
       "      <td>No</td>\n",
       "      <td>Sun</td>\n",
       "      <td>Dinner</td>\n",
       "      <td>2</td>\n",
       "    </tr>\n",
       "    <tr>\n",
       "      <th>143</th>\n",
       "      <td>27.05</td>\n",
       "      <td>5.00</td>\n",
       "      <td>Female</td>\n",
       "      <td>No</td>\n",
       "      <td>Thur</td>\n",
       "      <td>Lunch</td>\n",
       "      <td>6</td>\n",
       "    </tr>\n",
       "    <tr>\n",
       "      <th>187</th>\n",
       "      <td>30.46</td>\n",
       "      <td>2.00</td>\n",
       "      <td>Male</td>\n",
       "      <td>Yes</td>\n",
       "      <td>Sun</td>\n",
       "      <td>Dinner</td>\n",
       "      <td>5</td>\n",
       "    </tr>\n",
       "    <tr>\n",
       "      <th>73</th>\n",
       "      <td>25.28</td>\n",
       "      <td>5.00</td>\n",
       "      <td>Female</td>\n",
       "      <td>Yes</td>\n",
       "      <td>Sat</td>\n",
       "      <td>Dinner</td>\n",
       "      <td>2</td>\n",
       "    </tr>\n",
       "    <tr>\n",
       "      <th>131</th>\n",
       "      <td>20.27</td>\n",
       "      <td>2.83</td>\n",
       "      <td>Female</td>\n",
       "      <td>No</td>\n",
       "      <td>Thur</td>\n",
       "      <td>Lunch</td>\n",
       "      <td>2</td>\n",
       "    </tr>\n",
       "  </tbody>\n",
       "</table>\n",
       "</div>"
      ],
      "text/plain": [
       "     total_bill   tip     sex smoker   day    time  size\n",
       "0         16.99  1.01  Female     No   Sun  Dinner     2\n",
       "143       27.05  5.00  Female     No  Thur   Lunch     6\n",
       "187       30.46  2.00    Male    Yes   Sun  Dinner     5\n",
       "73        25.28  5.00  Female    Yes   Sat  Dinner     2\n",
       "131       20.27  2.83  Female     No  Thur   Lunch     2"
      ]
     },
     "metadata": {},
     "output_type": "display_data"
    }
   ],
   "source": [
    "estatística_descritiva.amostragem(df=df_tips)"
   ]
  },
  {
   "cell_type": "code",
   "execution_count": 97,
   "metadata": {},
   "outputs": [
    {
     "name": "stdout",
     "output_type": "stream",
     "text": [
      "2.9982786885245902\n"
     ]
    }
   ],
   "source": [
    "estatística_descritiva.average_forma_1(df=df_tips)"
   ]
  },
  {
   "cell_type": "code",
   "execution_count": 98,
   "metadata": {},
   "outputs": [
    {
     "name": "stdout",
     "output_type": "stream",
     "text": [
      "2.9982786885245902\n"
     ]
    }
   ],
   "source": [
    "estatística_descritiva.average_forma_2(df=df_tips)"
   ]
  },
  {
   "cell_type": "code",
   "execution_count": 99,
   "metadata": {},
   "outputs": [
    {
     "name": "stdout",
     "output_type": "stream",
     "text": [
      "2.9982786885245902\n"
     ]
    }
   ],
   "source": [
    "estatística_descritiva.average_forma_3(df=df_tips)"
   ]
  },
  {
   "cell_type": "code",
   "execution_count": 100,
   "metadata": {},
   "outputs": [
    {
     "name": "stdout",
     "output_type": "stream",
     "text": [
      "2.99827868852459\n"
     ]
    }
   ],
   "source": [
    "estatística_descritiva.average_forma_4(df=df_tips)"
   ]
  },
  {
   "cell_type": "code",
   "execution_count": 101,
   "metadata": {},
   "outputs": [
    {
     "name": "stdout",
     "output_type": "stream",
     "text": [
      "3.2478309409888357\n"
     ]
    }
   ],
   "source": [
    "estatística_descritiva.average_ponderada(df=df_tips)"
   ]
  },
  {
   "cell_type": "code",
   "execution_count": 102,
   "metadata": {},
   "outputs": [
    {
     "name": "stdout",
     "output_type": "stream",
     "text": [
      "index    131.700980\n",
      "tip        3.185147\n",
      "dtype: float64\n",
      "[121.5          2.84270408]\n"
     ]
    }
   ],
   "source": [
    "estatística_descritiva.trimmed_mean(df=df_tips)"
   ]
  },
  {
   "cell_type": "code",
   "execution_count": 103,
   "metadata": {},
   "outputs": [
    {
     "name": "stdout",
     "output_type": "stream",
     "text": [
      "[0.         2.48225291]\n"
     ]
    }
   ],
   "source": [
    "estatística_descritiva.media_harmonica(df=df_tips)"
   ]
  },
  {
   "cell_type": "code",
   "execution_count": 104,
   "metadata": {},
   "outputs": [
    {
     "name": "stdout",
     "output_type": "stream",
     "text": [
      "50\n"
     ]
    }
   ],
   "source": [
    "estatística_descritiva.mediana_forma_1()"
   ]
  },
  {
   "cell_type": "code",
   "execution_count": 105,
   "metadata": {},
   "outputs": [
    {
     "name": "stdout",
     "output_type": "stream",
     "text": [
      "50.0\n"
     ]
    }
   ],
   "source": [
    "estatística_descritiva.mediana_forma_2()"
   ]
  },
  {
   "cell_type": "code",
   "execution_count": 106,
   "metadata": {},
   "outputs": [
    {
     "data": {
      "text/plain": [
       "13.42    3\n",
       "13.81    2\n",
       "15.98    2\n",
       "17.92    2\n",
       "10.07    2\n",
       "        ..\n",
       "24.71    1\n",
       "21.16    1\n",
       "28.97    1\n",
       "22.49    1\n",
       "18.78    1\n",
       "Name: total_bill, Length: 229, dtype: int64"
      ]
     },
     "metadata": {},
     "output_type": "display_data"
    }
   ],
   "source": [
    "estatística_descritiva.moda_forma_1(df=df_tips)"
   ]
  },
  {
   "cell_type": "code",
   "execution_count": 107,
   "metadata": {},
   "outputs": [
    {
     "data": {
      "text/plain": [
       "0    13.42\n",
       "Name: total_bill, dtype: float64"
      ]
     },
     "metadata": {},
     "output_type": "display_data"
    }
   ],
   "source": [
    "estatística_descritiva.moda_forma_2(df=df_tips)"
   ]
  },
  {
   "cell_type": "code",
   "execution_count": 108,
   "metadata": {},
   "outputs": [
    {
     "name": "stdout",
     "output_type": "stream",
     "text": [
      "2.9\n"
     ]
    }
   ],
   "source": [
    "estatística_descritiva.quants_forma_1(df=df_tips)"
   ]
  },
  {
   "cell_type": "code",
   "execution_count": 109,
   "metadata": {},
   "outputs": [
    {
     "name": "stdout",
     "output_type": "stream",
     "text": [
      "0.25    13.3475\n",
      "0.50    17.7950\n",
      "0.75    24.1275\n",
      "Name: total_bill, dtype: float64\n"
     ]
    }
   ],
   "source": [
    "estatística_descritiva.quants_forma_2(df=df_tips)"
   ]
  },
  {
   "cell_type": "code",
   "execution_count": 110,
   "metadata": {},
   "outputs": [
    {
     "name": "stdout",
     "output_type": "stream",
     "text": [
      "[[3.72124 7.25   ]]\n"
     ]
    }
   ],
   "source": [
    "estatística_descritiva.percentile_forma_1(df=df_tips)"
   ]
  },
  {
   "cell_type": "code",
   "execution_count": 111,
   "metadata": {},
   "outputs": [
    {
     "name": "stdout",
     "output_type": "stream",
     "text": [
      "total_bill    47.74\n",
      "tip            9.00\n",
      "size           5.00\n",
      "dtype: float64\n"
     ]
    }
   ],
   "source": [
    "estatística_descritiva.dispersion_forma_1(df=df_tips)"
   ]
  },
  {
   "cell_type": "code",
   "execution_count": 112,
   "metadata": {},
   "outputs": [
    {
     "name": "stdout",
     "output_type": "stream",
     "text": [
      "1.9144546380624725\n"
     ]
    }
   ],
   "source": [
    "estatística_descritiva.variancia_forma_1(df=df_tips)"
   ]
  },
  {
   "cell_type": "code",
   "execution_count": 113,
   "metadata": {},
   "outputs": [
    {
     "name": "stdout",
     "output_type": "stream",
     "text": [
      "1.9144546380624725\n"
     ]
    }
   ],
   "source": [
    "estatística_descritiva.variancia_forma_2(df=df_tips)"
   ]
  },
  {
   "cell_type": "code",
   "execution_count": 114,
   "metadata": {},
   "outputs": [
    {
     "name": "stdout",
     "output_type": "stream",
     "text": [
      "1.3836381890011826\n"
     ]
    }
   ],
   "source": [
    "estatística_descritiva.desvio_padrão(df=df_tips)"
   ]
  }
 ],
 "metadata": {
  "kernelspec": {
   "display_name": "venv",
   "language": "python",
   "name": "python3"
  },
  "language_info": {
   "codemirror_mode": {
    "name": "ipython",
    "version": 3
   },
   "file_extension": ".py",
   "mimetype": "text/x-python",
   "name": "python",
   "nbconvert_exporter": "python",
   "pygments_lexer": "ipython3",
   "version": "3.9.13"
  },
  "orig_nbformat": 4,
  "vscode": {
   "interpreter": {
    "hash": "0f60f0d8225b498888813588bdbdff26fd82099ded266fc9d2291ee5204b5ef8"
   }
  }
 },
 "nbformat": 4,
 "nbformat_minor": 2
}
