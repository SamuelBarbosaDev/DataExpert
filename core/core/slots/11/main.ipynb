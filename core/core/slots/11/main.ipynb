{
 "cells": [
  {
   "cell_type": "code",
   "execution_count": 111,
   "metadata": {},
   "outputs": [],
   "source": [
    "import os\n",
    "\n",
    "# Defina a variável de ambiente SPARK_VERSION com a versão do Spark que você está usando\n",
    "os.environ[\"SPARK_VERSION\"] = \"3.0\"\n",
    "import pandas as pd\n",
    "from pyspark.ml import Pipeline\n",
    "from pyspark import SparkContext\n",
    "from pyspark.sql import SparkSession\n",
    "from pyspark.ml.feature import StringIndexer\n",
    "from pyspark.ml.feature import VectorAssembler\n",
    "from pyspark.ml.classification import LogisticRegression\n",
    "from pyspark.sql.functions import (\n",
    "    udf,\n",
    "    col,\n",
    "    year,\n",
    "    round,\n",
    "    date_format,\n",
    "    to_timestamp,\n",
    ")\n",
    "from pyspark.sql.types import (\n",
    "    StructType,\n",
    "    StructField,\n",
    "    IntegerType,\n",
    "    DoubleType,\n",
    "    StringType,\n",
    "    TimestampType\n",
    ")\n",
    "from pydeequ.analyzers import (\n",
    "    AnalysisRunner, \n",
    "    AnalyzerContext,\n",
    "    ApproxCountDistinct,\n",
    "    Completeness,\n",
    "    Compliance,\n",
    "    Mean,\n",
    "    Size,\n",
    ")\n",
    "from pydeequ.checks import (\n",
    "    Check,\n",
    "    CheckLevel,\n",
    "    ConstrainableDataTypes\n",
    ")\n",
    "from pydeequ.verification import (\n",
    "    VerificationResult,\n",
    "    VerificationSuite\n",
    ")\n",
    "from pydeequ.suggestions import (\n",
    "    ConstraintSuggestionRunner,\n",
    "    DEFAULT\n",
    ")"
   ]
  },
  {
   "cell_type": "markdown",
   "metadata": {},
   "source": [
    "Fonte: [spark.apache.org](https://spark.apache.org/)"
   ]
  },
  {
   "cell_type": "markdown",
   "metadata": {},
   "source": [
    "# Spark - RDD:"
   ]
  },
  {
   "cell_type": "markdown",
   "metadata": {},
   "source": [
    "O que é um RDD?"
   ]
  },
  {
   "cell_type": "markdown",
   "metadata": {},
   "source": [
    "O que é o SparkContext?"
   ]
  },
  {
   "cell_type": "code",
   "execution_count": 112,
   "metadata": {},
   "outputs": [
    {
     "ename": "ValueError",
     "evalue": "Cannot run multiple SparkContexts at once; existing SparkContext(app=Primeiro Contato com o spark, master=local) created by __init__ at /tmp/ipykernel_11341/121648590.py:1 ",
     "output_type": "error",
     "traceback": [
      "\u001b[0;31m---------------------------------------------------------------------------\u001b[0m",
      "\u001b[0;31mValueError\u001b[0m                                Traceback (most recent call last)",
      "\u001b[0;32m/tmp/ipykernel_11341/121648590.py\u001b[0m in \u001b[0;36m<module>\u001b[0;34m\u001b[0m\n\u001b[0;32m----> 1\u001b[0;31m sc = SparkContext(\n\u001b[0m\u001b[1;32m      2\u001b[0m     \u001b[0mmaster\u001b[0m\u001b[0;34m=\u001b[0m\u001b[0;34m'local'\u001b[0m\u001b[0;34m,\u001b[0m\u001b[0;34m\u001b[0m\u001b[0;34m\u001b[0m\u001b[0m\n\u001b[1;32m      3\u001b[0m     \u001b[0mappName\u001b[0m\u001b[0;34m=\u001b[0m\u001b[0;34m'Primeiro Contato com o spark'\u001b[0m\u001b[0;34m\u001b[0m\u001b[0;34m\u001b[0m\u001b[0m\n\u001b[1;32m      4\u001b[0m )\n",
      "\u001b[0;32m~/anaconda3/lib/python3.9/site-packages/pyspark/context.py\u001b[0m in \u001b[0;36m__init__\u001b[0;34m(self, master, appName, sparkHome, pyFiles, environment, batchSize, serializer, conf, gateway, jsc, profiler_cls, udf_profiler_cls, memory_profiler_cls)\u001b[0m\n\u001b[1;32m    196\u001b[0m             )\n\u001b[1;32m    197\u001b[0m \u001b[0;34m\u001b[0m\u001b[0m\n\u001b[0;32m--> 198\u001b[0;31m         \u001b[0mSparkContext\u001b[0m\u001b[0;34m.\u001b[0m\u001b[0m_ensure_initialized\u001b[0m\u001b[0;34m(\u001b[0m\u001b[0mself\u001b[0m\u001b[0;34m,\u001b[0m \u001b[0mgateway\u001b[0m\u001b[0;34m=\u001b[0m\u001b[0mgateway\u001b[0m\u001b[0;34m,\u001b[0m \u001b[0mconf\u001b[0m\u001b[0;34m=\u001b[0m\u001b[0mconf\u001b[0m\u001b[0;34m)\u001b[0m\u001b[0;34m\u001b[0m\u001b[0;34m\u001b[0m\u001b[0m\n\u001b[0m\u001b[1;32m    199\u001b[0m         \u001b[0;32mtry\u001b[0m\u001b[0;34m:\u001b[0m\u001b[0;34m\u001b[0m\u001b[0;34m\u001b[0m\u001b[0m\n\u001b[1;32m    200\u001b[0m             self._do_init(\n",
      "\u001b[0;32m~/anaconda3/lib/python3.9/site-packages/pyspark/context.py\u001b[0m in \u001b[0;36m_ensure_initialized\u001b[0;34m(cls, instance, gateway, conf)\u001b[0m\n\u001b[1;32m    443\u001b[0m \u001b[0;34m\u001b[0m\u001b[0m\n\u001b[1;32m    444\u001b[0m                     \u001b[0;31m# Raise error if there is already a running Spark context\u001b[0m\u001b[0;34m\u001b[0m\u001b[0;34m\u001b[0m\u001b[0m\n\u001b[0;32m--> 445\u001b[0;31m                     raise ValueError(\n\u001b[0m\u001b[1;32m    446\u001b[0m                         \u001b[0;34m\"Cannot run multiple SparkContexts at once; \"\u001b[0m\u001b[0;34m\u001b[0m\u001b[0;34m\u001b[0m\u001b[0m\n\u001b[1;32m    447\u001b[0m                         \u001b[0;34m\"existing SparkContext(app=%s, master=%s)\"\u001b[0m\u001b[0;34m\u001b[0m\u001b[0;34m\u001b[0m\u001b[0m\n",
      "\u001b[0;31mValueError\u001b[0m: Cannot run multiple SparkContexts at once; existing SparkContext(app=Primeiro Contato com o spark, master=local) created by __init__ at /tmp/ipykernel_11341/121648590.py:1 "
     ]
    }
   ],
   "source": [
    "sc = SparkContext(\n",
    "    master='local',\n",
    "    appName='Primeiro Contato com o spark'\n",
    ")"
   ]
  },
  {
   "cell_type": "markdown",
   "metadata": {},
   "source": [
    "## RDD:"
   ]
  },
  {
   "cell_type": "code",
   "execution_count": null,
   "metadata": {},
   "outputs": [],
   "source": [
    "path = r'../../../data/rdd_dataset.txt'\n",
    "rdd = sc.textFile(\n",
    "    path\n",
    ")"
   ]
  },
  {
   "cell_type": "code",
   "execution_count": null,
   "metadata": {},
   "outputs": [
    {
     "data": {
      "text/plain": [
       "['Cenoura',\n",
       " 'Otimista',\n",
       " 'Solitário',\n",
       " 'Imperfeição',\n",
       " 'Descoberta',\n",
       " 'Fantasia',\n",
       " 'DNC',\n",
       " 'Maravilhoso',\n",
       " 'Criatividade',\n",
       " 'Compreensão',\n",
       " 'Atraente',\n",
       " 'Festa',\n",
       " 'Intenção',\n",
       " 'Encontro',\n",
       " 'Destino',\n",
       " 'Sucesso',\n",
       " 'Conquistar',\n",
       " 'Simplicidade',\n",
       " 'Paz',\n",
       " 'Existência',\n",
       " 'Poderoso',\n",
       " 'DNC',\n",
       " 'Conseguir',\n",
       " 'Forte',\n",
       " 'Alegria',\n",
       " 'Espírito',\n",
       " 'Mudança',\n",
       " 'Coragem',\n",
       " 'Determinação',\n",
       " 'DNC']"
      ]
     },
     "execution_count": 4,
     "metadata": {},
     "output_type": "execute_result"
    }
   ],
   "source": [
    "rdd.collect()"
   ]
  },
  {
   "cell_type": "markdown",
   "metadata": {},
   "source": [
    "## Código:"
   ]
  },
  {
   "cell_type": "code",
   "execution_count": null,
   "metadata": {},
   "outputs": [],
   "source": [
    "class SparkRDD:\n",
    "    pass\n",
    "\n",
    "if __name__ == '__main__':\n",
    "    spark_rdd = SparkRDD()"
   ]
  },
  {
   "cell_type": "markdown",
   "metadata": {},
   "source": [
    "## Output:"
   ]
  },
  {
   "cell_type": "markdown",
   "metadata": {},
   "source": [
    "Filtrando por DNC?"
   ]
  },
  {
   "cell_type": "code",
   "execution_count": null,
   "metadata": {},
   "outputs": [
    {
     "name": "stderr",
     "output_type": "stream",
     "text": [
      "                                                                                \r"
     ]
    },
    {
     "data": {
      "text/plain": [
       "['DNC', 'DNC', 'DNC']"
      ]
     },
     "execution_count": 6,
     "metadata": {},
     "output_type": "execute_result"
    }
   ],
   "source": [
    "rdd_dnc = rdd.filter(lambda linha: 'DNC' in linha)\n",
    "rdd_dnc.collect()"
   ]
  },
  {
   "cell_type": "markdown",
   "metadata": {},
   "source": [
    "Quantas vezes a palavra 'DNC' aparece?"
   ]
  },
  {
   "cell_type": "code",
   "execution_count": null,
   "metadata": {},
   "outputs": [
    {
     "data": {
      "text/plain": [
       "3"
      ]
     },
     "execution_count": 7,
     "metadata": {},
     "output_type": "execute_result"
    }
   ],
   "source": [
    "rdd_dnc.count()"
   ]
  },
  {
   "cell_type": "markdown",
   "metadata": {},
   "source": [
    "#  PySpark - Leitura de Dados:"
   ]
  },
  {
   "cell_type": "markdown",
   "metadata": {},
   "source": [
    "O que é o SparkSession?"
   ]
  },
  {
   "cell_type": "code",
   "execution_count": null,
   "metadata": {},
   "outputs": [],
   "source": [
    "spark = SparkSession.builder.appName(\"Primeiro dataframe no spark\").getOrCreate()"
   ]
  },
  {
   "cell_type": "markdown",
   "metadata": {},
   "source": [
    "## DataFrame:"
   ]
  },
  {
   "cell_type": "code",
   "execution_count": null,
   "metadata": {},
   "outputs": [],
   "source": [
    "path = r'../../../data/base_de_dados.csv'\n",
    "df = spark.read.csv(\n",
    "    path,\n",
    "    sep=';',\n",
    "    header=True,\n",
    ")"
   ]
  },
  {
   "cell_type": "code",
   "execution_count": null,
   "metadata": {},
   "outputs": [
    {
     "name": "stdout",
     "output_type": "stream",
     "text": [
      "+---+--------+--------------------+--------------------+--------------------+--------------------+---------------------+---------------------+--------------+---------------+----------------+\n",
      "| id|   valor| parte_debitada_nome|parte_debitada_conta|parte_debitada_banco|parte_creditada_nome|parte_creditada_conta|parte_creditada_banco|chave_pix_tipo|chave_pix_valor|  data_transacao|\n",
      "+---+--------+--------------------+--------------------+--------------------+--------------------+---------------------+---------------------+--------------+---------------+----------------+\n",
      "|  1|    9.93|Dra. Ana Carolina...|            79470453|              Nubank|       Maysa da Cruz|             67162333|                 Itau|           cpf|     8439752610|18/02/2022 13:28|\n",
      "|  2|   15.38|        Ana Caldeira|            19689668|                Itau|        Evelyn Sales|             60005091|             Bradesco|           cpf|    27145380617|08/04/2022 01:47|\n",
      "|  3|   57.58|    Arthur Goncalves|            18856899|            Bradesco|          Maria Melo|             13496303|                  BTG|           cpf|    16452937006|14/07/2022 03:18|\n",
      "|  4|53705.13|  Ana Julia Caldeira|            22834741|                Itau|   Ana Livia Almeida|             44695116|               Nubank|           cpf|    26590384142|15/01/2022 18:06|\n",
      "|  5|25299.69|  Srta. Nicole Pinto|             3715882|              Nubank|Srta. Ana Laura d...|             21409465|               Nubank|           cpf|    73486105280|13/05/2022 11:04|\n",
      "|  6| 7165.06|   Gabriela Ferreira|             2243037|              Nubank|       Larissa Souza|             10689552|                 Itau|           cpf|    96845371237|11/09/2022 13:38|\n",
      "|  7|    6.16|    Heloisa da Rocha|            59778949|                 BTG|Dra. Vitoria Silv...|             56583792|               Nubank|           cpf|    89064175357|10/12/2021 12:37|\n",
      "|  8|  136.36|Srta. Isadora Cor...|            77102442|              Nubank|  Francisco da Costa|             96088386|               Nubank|           cpf|    85907632429|30/12/2021 23:18|\n",
      "|  9|  574.39|   Dr. Lucas da Cruz|            38501170|                 BTG|       Calebe da Luz|             19365554|             Bradesco|           cpf|    64720189520|21/06/2021 07:20|\n",
      "| 10|   42.88|     Mirella Martins|            29535709|            Bradesco|        Danilo Lopes|             60064650|                 Itau|           cpf|    87014935232|21/09/2022 17:19|\n",
      "| 11|33629.97|Sr. Vitor Gabriel...|            67010663|                 BTG|Sra. Lavinia Cald...|             48145941|               Nubank|           cpf|    63542098124|12/09/2022 00:29|\n",
      "| 12| 4374.56|      Nathan Peixoto|            22975623|              Nubank|        Diogo da Luz|             30302218|             Bradesco|           cpf|    72908154323|07/08/2022 17:01|\n",
      "| 13|  507.18|       Miguel Araujo|            75113657|              Nubank|Marcos Vinicius G...|             67418115|                 Itau|           cpf|    84763129031|07/03/2021 12:34|\n",
      "| 14|67758.87|     Juliana Correia|             4495167|                Itau|    Davi Lucas Porto|             94395923|                  BTG|           cpf|    97804215649|24/03/2021 22:58|\n",
      "| 15|  815.53|     Ana Laura Souza|            79650252|                Itau|        Isabel Costa|             28762988|                  BTG|           cpf|    51824039689|21/02/2022 11:25|\n",
      "| 16|    2.73|           Levi Lima|            73815441|                 BTG|Dra. Maria Luiza ...|             96594203|             Bradesco|           cpf|    94516738066|20/07/2021 09:17|\n",
      "| 17|    0.54|        Otavio Cunha|            85583961|            Bradesco|       Elisa Moreira|             97003354|             Bradesco|           cpf|    15248769094|16/02/2022 10:16|\n",
      "| 18|49836.72|Ana Carolina Oliv...|            80200942|                Itau|    Stella Fernandes|             31579145|                  BTG|           cpf|    47609381250|18/07/2022 22:46|\n",
      "| 19|    9.68|        Levi Martins|            12349481|                Itau|Joao Guilherme Me...|             31102492|                  BTG|       celular|    11916824404|26/02/2022 15:05|\n",
      "| 20| 9837.22|          Noah Cunha|            84622162|            Bradesco|         Juan Mendes|             97805965|             Bradesco|       celular|    11944547225|22/06/2021 05:39|\n",
      "+---+--------+--------------------+--------------------+--------------------+--------------------+---------------------+---------------------+--------------+---------------+----------------+\n",
      "only showing top 20 rows\n",
      "\n"
     ]
    }
   ],
   "source": [
    "df.show()"
   ]
  },
  {
   "cell_type": "markdown",
   "metadata": {},
   "source": [
    "## Código:"
   ]
  },
  {
   "cell_type": "code",
   "execution_count": null,
   "metadata": {},
   "outputs": [],
   "source": [
    "class LeituraDeDados:\n",
    "    pass\n",
    "\n",
    "if __name__ == \"__main__\":\n",
    "    leitura_de_dados = LeituraDeDados()"
   ]
  },
  {
   "cell_type": "markdown",
   "metadata": {},
   "source": [
    "## Output:"
   ]
  },
  {
   "cell_type": "markdown",
   "metadata": {},
   "source": [
    "Quais são os nomes das colunas?"
   ]
  },
  {
   "cell_type": "code",
   "execution_count": null,
   "metadata": {},
   "outputs": [
    {
     "data": {
      "text/plain": [
       "['id',\n",
       " 'valor',\n",
       " 'parte_debitada_nome',\n",
       " 'parte_debitada_conta',\n",
       " 'parte_debitada_banco',\n",
       " 'parte_creditada_nome',\n",
       " 'parte_creditada_conta',\n",
       " 'parte_creditada_banco',\n",
       " 'chave_pix_tipo',\n",
       " 'chave_pix_valor',\n",
       " 'data_transacao']"
      ]
     },
     "execution_count": 12,
     "metadata": {},
     "output_type": "execute_result"
    }
   ],
   "source": [
    "df.schema.fieldNames()"
   ]
  },
  {
   "cell_type": "markdown",
   "metadata": {},
   "source": [
    "Quais são os tipos?"
   ]
  },
  {
   "cell_type": "code",
   "execution_count": null,
   "metadata": {},
   "outputs": [
    {
     "name": "stdout",
     "output_type": "stream",
     "text": [
      "root\n",
      " |-- id: string (nullable = true)\n",
      " |-- valor: string (nullable = true)\n",
      " |-- parte_debitada_nome: string (nullable = true)\n",
      " |-- parte_debitada_conta: string (nullable = true)\n",
      " |-- parte_debitada_banco: string (nullable = true)\n",
      " |-- parte_creditada_nome: string (nullable = true)\n",
      " |-- parte_creditada_conta: string (nullable = true)\n",
      " |-- parte_creditada_banco: string (nullable = true)\n",
      " |-- chave_pix_tipo: string (nullable = true)\n",
      " |-- chave_pix_valor: string (nullable = true)\n",
      " |-- data_transacao: string (nullable = true)\n",
      "\n"
     ]
    }
   ],
   "source": [
    "df.printSchema()"
   ]
  },
  {
   "cell_type": "markdown",
   "metadata": {},
   "source": [
    "Como alterar os tipos da colunas?"
   ]
  },
  {
   "cell_type": "code",
   "execution_count": null,
   "metadata": {},
   "outputs": [],
   "source": [
    "schemas_pix = StructType([\n",
    "    StructField('id', IntegerType()),\n",
    "    StructField('value', DoubleType()),\n",
    "    StructField('parte_debitada_nome', StringType()),\n",
    "    StructField('parte_debitada_conta', StringType()),\n",
    "    StructField('parte_debitada_banco', StringType()),\n",
    "    StructField('parte_creditada_nome', StringType()),\n",
    "    StructField('parte_creditada_conta', StringType()),\n",
    "    StructField('parte_creditada_banco', StringType()),\n",
    "    StructField('chave_pix_tipo', StringType()),\n",
    "    StructField('chave_pix_valor', StringType()),\n",
    "    StructField('data_transacao', TimestampType()),\n",
    "\n",
    "])"
   ]
  },
  {
   "cell_type": "code",
   "execution_count": null,
   "metadata": {},
   "outputs": [],
   "source": [
    "df = spark.read.csv(\n",
    "    path=path,\n",
    "    header=True,\n",
    "    schema=schemas_pix,\n",
    "    sep=\";\",\n",
    "    timestampFormat=\"dd/MM/yyy HH:mm\"\n",
    ")"
   ]
  },
  {
   "cell_type": "code",
   "execution_count": null,
   "metadata": {},
   "outputs": [
    {
     "name": "stdout",
     "output_type": "stream",
     "text": [
      "+---+--------+--------------------+--------------------+--------------------+--------------------+---------------------+---------------------+--------------+---------------+-------------------+\n",
      "| id|   value| parte_debitada_nome|parte_debitada_conta|parte_debitada_banco|parte_creditada_nome|parte_creditada_conta|parte_creditada_banco|chave_pix_tipo|chave_pix_valor|     data_transacao|\n",
      "+---+--------+--------------------+--------------------+--------------------+--------------------+---------------------+---------------------+--------------+---------------+-------------------+\n",
      "|  1|    9.93|Dra. Ana Carolina...|            79470453|              Nubank|       Maysa da Cruz|             67162333|                 Itau|           cpf|     8439752610|2022-02-18 13:28:00|\n",
      "|  2|   15.38|        Ana Caldeira|            19689668|                Itau|        Evelyn Sales|             60005091|             Bradesco|           cpf|    27145380617|2022-04-08 01:47:00|\n",
      "|  3|   57.58|    Arthur Goncalves|            18856899|            Bradesco|          Maria Melo|             13496303|                  BTG|           cpf|    16452937006|2022-07-14 03:18:00|\n",
      "|  4|53705.13|  Ana Julia Caldeira|            22834741|                Itau|   Ana Livia Almeida|             44695116|               Nubank|           cpf|    26590384142|2022-01-15 18:06:00|\n",
      "|  5|25299.69|  Srta. Nicole Pinto|             3715882|              Nubank|Srta. Ana Laura d...|             21409465|               Nubank|           cpf|    73486105280|2022-05-13 11:04:00|\n",
      "|  6| 7165.06|   Gabriela Ferreira|             2243037|              Nubank|       Larissa Souza|             10689552|                 Itau|           cpf|    96845371237|2022-09-11 13:38:00|\n",
      "|  7|    6.16|    Heloisa da Rocha|            59778949|                 BTG|Dra. Vitoria Silv...|             56583792|               Nubank|           cpf|    89064175357|2021-12-10 12:37:00|\n",
      "|  8|  136.36|Srta. Isadora Cor...|            77102442|              Nubank|  Francisco da Costa|             96088386|               Nubank|           cpf|    85907632429|2021-12-30 23:18:00|\n",
      "|  9|  574.39|   Dr. Lucas da Cruz|            38501170|                 BTG|       Calebe da Luz|             19365554|             Bradesco|           cpf|    64720189520|2021-06-21 07:20:00|\n",
      "| 10|   42.88|     Mirella Martins|            29535709|            Bradesco|        Danilo Lopes|             60064650|                 Itau|           cpf|    87014935232|2022-09-21 17:19:00|\n",
      "| 11|33629.97|Sr. Vitor Gabriel...|            67010663|                 BTG|Sra. Lavinia Cald...|             48145941|               Nubank|           cpf|    63542098124|2022-09-12 00:29:00|\n",
      "| 12| 4374.56|      Nathan Peixoto|            22975623|              Nubank|        Diogo da Luz|             30302218|             Bradesco|           cpf|    72908154323|2022-08-07 17:01:00|\n",
      "| 13|  507.18|       Miguel Araujo|            75113657|              Nubank|Marcos Vinicius G...|             67418115|                 Itau|           cpf|    84763129031|2021-03-07 12:34:00|\n",
      "| 14|67758.87|     Juliana Correia|             4495167|                Itau|    Davi Lucas Porto|             94395923|                  BTG|           cpf|    97804215649|2021-03-24 22:58:00|\n",
      "| 15|  815.53|     Ana Laura Souza|            79650252|                Itau|        Isabel Costa|             28762988|                  BTG|           cpf|    51824039689|2022-02-21 11:25:00|\n",
      "| 16|    2.73|           Levi Lima|            73815441|                 BTG|Dra. Maria Luiza ...|             96594203|             Bradesco|           cpf|    94516738066|2021-07-20 09:17:00|\n",
      "| 17|    0.54|        Otavio Cunha|            85583961|            Bradesco|       Elisa Moreira|             97003354|             Bradesco|           cpf|    15248769094|2022-02-16 10:16:00|\n",
      "| 18|49836.72|Ana Carolina Oliv...|            80200942|                Itau|    Stella Fernandes|             31579145|                  BTG|           cpf|    47609381250|2022-07-18 22:46:00|\n",
      "| 19|    9.68|        Levi Martins|            12349481|                Itau|Joao Guilherme Me...|             31102492|                  BTG|       celular|    11916824404|2022-02-26 15:05:00|\n",
      "| 20| 9837.22|          Noah Cunha|            84622162|            Bradesco|         Juan Mendes|             97805965|             Bradesco|       celular|    11944547225|2021-06-22 05:39:00|\n",
      "+---+--------+--------------------+--------------------+--------------------+--------------------+---------------------+---------------------+--------------+---------------+-------------------+\n",
      "only showing top 20 rows\n",
      "\n"
     ]
    },
    {
     "name": "stderr",
     "output_type": "stream",
     "text": [
      "23/08/24 09:02:09 WARN CSVHeaderChecker: CSV header does not conform to the schema.\n",
      " Header: id, valor, parte_debitada_nome, parte_debitada_conta, parte_debitada_banco, parte_creditada_nome, parte_creditada_conta, parte_creditada_banco, chave_pix_tipo, chave_pix_valor, data_transacao\n",
      " Schema: id, value, parte_debitada_nome, parte_debitada_conta, parte_debitada_banco, parte_creditada_nome, parte_creditada_conta, parte_creditada_banco, chave_pix_tipo, chave_pix_valor, data_transacao\n",
      "Expected: value but found: valor\n",
      "CSV file: file:///home/guerrlr0/Documentos/010101110101/Programação/Samuel/Projetos/Python/outros/DataExpert/core/data/base_de_dados.csv\n"
     ]
    }
   ],
   "source": [
    "df.show()"
   ]
  },
  {
   "cell_type": "markdown",
   "metadata": {},
   "source": [
    "# PySpark- Manipulação de Dados I:"
   ]
  },
  {
   "cell_type": "markdown",
   "metadata": {},
   "source": [
    "## DataFrame:"
   ]
  },
  {
   "cell_type": "code",
   "execution_count": null,
   "metadata": {},
   "outputs": [],
   "source": [
    "df = spark.read.csv(\n",
    "    path=path,\n",
    "    header=True,\n",
    "    sep=';',\n",
    "    # inferSchema=True\n",
    ")"
   ]
  },
  {
   "cell_type": "code",
   "execution_count": null,
   "metadata": {},
   "outputs": [
    {
     "name": "stdout",
     "output_type": "stream",
     "text": [
      "+---+--------+--------------------+--------------------+--------------------+--------------------+---------------------+---------------------+--------------+---------------+----------------+\n",
      "| id|   valor| parte_debitada_nome|parte_debitada_conta|parte_debitada_banco|parte_creditada_nome|parte_creditada_conta|parte_creditada_banco|chave_pix_tipo|chave_pix_valor|  data_transacao|\n",
      "+---+--------+--------------------+--------------------+--------------------+--------------------+---------------------+---------------------+--------------+---------------+----------------+\n",
      "|  1|    9.93|Dra. Ana Carolina...|            79470453|              Nubank|       Maysa da Cruz|             67162333|                 Itau|           cpf|     8439752610|18/02/2022 13:28|\n",
      "|  2|   15.38|        Ana Caldeira|            19689668|                Itau|        Evelyn Sales|             60005091|             Bradesco|           cpf|    27145380617|08/04/2022 01:47|\n",
      "|  3|   57.58|    Arthur Goncalves|            18856899|            Bradesco|          Maria Melo|             13496303|                  BTG|           cpf|    16452937006|14/07/2022 03:18|\n",
      "|  4|53705.13|  Ana Julia Caldeira|            22834741|                Itau|   Ana Livia Almeida|             44695116|               Nubank|           cpf|    26590384142|15/01/2022 18:06|\n",
      "|  5|25299.69|  Srta. Nicole Pinto|             3715882|              Nubank|Srta. Ana Laura d...|             21409465|               Nubank|           cpf|    73486105280|13/05/2022 11:04|\n",
      "|  6| 7165.06|   Gabriela Ferreira|             2243037|              Nubank|       Larissa Souza|             10689552|                 Itau|           cpf|    96845371237|11/09/2022 13:38|\n",
      "|  7|    6.16|    Heloisa da Rocha|            59778949|                 BTG|Dra. Vitoria Silv...|             56583792|               Nubank|           cpf|    89064175357|10/12/2021 12:37|\n",
      "|  8|  136.36|Srta. Isadora Cor...|            77102442|              Nubank|  Francisco da Costa|             96088386|               Nubank|           cpf|    85907632429|30/12/2021 23:18|\n",
      "|  9|  574.39|   Dr. Lucas da Cruz|            38501170|                 BTG|       Calebe da Luz|             19365554|             Bradesco|           cpf|    64720189520|21/06/2021 07:20|\n",
      "| 10|   42.88|     Mirella Martins|            29535709|            Bradesco|        Danilo Lopes|             60064650|                 Itau|           cpf|    87014935232|21/09/2022 17:19|\n",
      "| 11|33629.97|Sr. Vitor Gabriel...|            67010663|                 BTG|Sra. Lavinia Cald...|             48145941|               Nubank|           cpf|    63542098124|12/09/2022 00:29|\n",
      "| 12| 4374.56|      Nathan Peixoto|            22975623|              Nubank|        Diogo da Luz|             30302218|             Bradesco|           cpf|    72908154323|07/08/2022 17:01|\n",
      "| 13|  507.18|       Miguel Araujo|            75113657|              Nubank|Marcos Vinicius G...|             67418115|                 Itau|           cpf|    84763129031|07/03/2021 12:34|\n",
      "| 14|67758.87|     Juliana Correia|             4495167|                Itau|    Davi Lucas Porto|             94395923|                  BTG|           cpf|    97804215649|24/03/2021 22:58|\n",
      "| 15|  815.53|     Ana Laura Souza|            79650252|                Itau|        Isabel Costa|             28762988|                  BTG|           cpf|    51824039689|21/02/2022 11:25|\n",
      "| 16|    2.73|           Levi Lima|            73815441|                 BTG|Dra. Maria Luiza ...|             96594203|             Bradesco|           cpf|    94516738066|20/07/2021 09:17|\n",
      "| 17|    0.54|        Otavio Cunha|            85583961|            Bradesco|       Elisa Moreira|             97003354|             Bradesco|           cpf|    15248769094|16/02/2022 10:16|\n",
      "| 18|49836.72|Ana Carolina Oliv...|            80200942|                Itau|    Stella Fernandes|             31579145|                  BTG|           cpf|    47609381250|18/07/2022 22:46|\n",
      "| 19|    9.68|        Levi Martins|            12349481|                Itau|Joao Guilherme Me...|             31102492|                  BTG|       celular|    11916824404|26/02/2022 15:05|\n",
      "| 20| 9837.22|          Noah Cunha|            84622162|            Bradesco|         Juan Mendes|             97805965|             Bradesco|       celular|    11944547225|22/06/2021 05:39|\n",
      "+---+--------+--------------------+--------------------+--------------------+--------------------+---------------------+---------------------+--------------+---------------+----------------+\n",
      "only showing top 20 rows\n",
      "\n"
     ]
    }
   ],
   "source": [
    "df.show()"
   ]
  },
  {
   "cell_type": "markdown",
   "metadata": {},
   "source": [
    "## Código:"
   ]
  },
  {
   "cell_type": "code",
   "execution_count": null,
   "metadata": {},
   "outputs": [],
   "source": [
    "class ManipulaçãoDeDadosI:\n",
    "    pass"
   ]
  },
  {
   "cell_type": "markdown",
   "metadata": {},
   "source": [
    "## Output:"
   ]
  },
  {
   "cell_type": "markdown",
   "metadata": {},
   "source": [
    "Quais são os tipos?"
   ]
  },
  {
   "cell_type": "code",
   "execution_count": null,
   "metadata": {},
   "outputs": [
    {
     "name": "stdout",
     "output_type": "stream",
     "text": [
      "root\n",
      " |-- id: string (nullable = true)\n",
      " |-- valor: string (nullable = true)\n",
      " |-- parte_debitada_nome: string (nullable = true)\n",
      " |-- parte_debitada_conta: string (nullable = true)\n",
      " |-- parte_debitada_banco: string (nullable = true)\n",
      " |-- parte_creditada_nome: string (nullable = true)\n",
      " |-- parte_creditada_conta: string (nullable = true)\n",
      " |-- parte_creditada_banco: string (nullable = true)\n",
      " |-- chave_pix_tipo: string (nullable = true)\n",
      " |-- chave_pix_valor: string (nullable = true)\n",
      " |-- data_transacao: string (nullable = true)\n",
      "\n"
     ]
    }
   ],
   "source": [
    "df.printSchema()"
   ]
  },
  {
   "cell_type": "markdown",
   "metadata": {},
   "source": [
    "Como altera o tipo de uma coluna?"
   ]
  },
  {
   "cell_type": "code",
   "execution_count": null,
   "metadata": {},
   "outputs": [],
   "source": [
    "df_cast = (\n",
    "    df\n",
    "    .withColumn(\n",
    "        'id', col('id').cast('int')\n",
    "    ).withColumn(\n",
    "        'valor', col('valor').cast('double')\n",
    "    ).withColumn(\n",
    "        'data_transacao', to_timestamp('data_transacao', 'dd/MM/yyy HH:mm')\n",
    "    )\n",
    ")"
   ]
  },
  {
   "cell_type": "code",
   "execution_count": null,
   "metadata": {},
   "outputs": [
    {
     "name": "stdout",
     "output_type": "stream",
     "text": [
      "root\n",
      " |-- id: integer (nullable = true)\n",
      " |-- valor: double (nullable = true)\n",
      " |-- parte_debitada_nome: string (nullable = true)\n",
      " |-- parte_debitada_conta: string (nullable = true)\n",
      " |-- parte_debitada_banco: string (nullable = true)\n",
      " |-- parte_creditada_nome: string (nullable = true)\n",
      " |-- parte_creditada_conta: string (nullable = true)\n",
      " |-- parte_creditada_banco: string (nullable = true)\n",
      " |-- chave_pix_tipo: string (nullable = true)\n",
      " |-- chave_pix_valor: string (nullable = true)\n",
      " |-- data_transacao: timestamp (nullable = true)\n",
      "\n"
     ]
    }
   ],
   "source": [
    "df_cast.printSchema()"
   ]
  },
  {
   "cell_type": "markdown",
   "metadata": {},
   "source": [
    "Como ficou o DataFrame?"
   ]
  },
  {
   "cell_type": "code",
   "execution_count": null,
   "metadata": {},
   "outputs": [
    {
     "name": "stdout",
     "output_type": "stream",
     "text": [
      "+---+--------+--------------------+--------------------+--------------------+--------------------+---------------------+---------------------+--------------+---------------+-------------------+\n",
      "| id|   valor| parte_debitada_nome|parte_debitada_conta|parte_debitada_banco|parte_creditada_nome|parte_creditada_conta|parte_creditada_banco|chave_pix_tipo|chave_pix_valor|     data_transacao|\n",
      "+---+--------+--------------------+--------------------+--------------------+--------------------+---------------------+---------------------+--------------+---------------+-------------------+\n",
      "|  1|    9.93|Dra. Ana Carolina...|            79470453|              Nubank|       Maysa da Cruz|             67162333|                 Itau|           cpf|     8439752610|2022-02-18 13:28:00|\n",
      "|  2|   15.38|        Ana Caldeira|            19689668|                Itau|        Evelyn Sales|             60005091|             Bradesco|           cpf|    27145380617|2022-04-08 01:47:00|\n",
      "|  3|   57.58|    Arthur Goncalves|            18856899|            Bradesco|          Maria Melo|             13496303|                  BTG|           cpf|    16452937006|2022-07-14 03:18:00|\n",
      "|  4|53705.13|  Ana Julia Caldeira|            22834741|                Itau|   Ana Livia Almeida|             44695116|               Nubank|           cpf|    26590384142|2022-01-15 18:06:00|\n",
      "|  5|25299.69|  Srta. Nicole Pinto|             3715882|              Nubank|Srta. Ana Laura d...|             21409465|               Nubank|           cpf|    73486105280|2022-05-13 11:04:00|\n",
      "|  6| 7165.06|   Gabriela Ferreira|             2243037|              Nubank|       Larissa Souza|             10689552|                 Itau|           cpf|    96845371237|2022-09-11 13:38:00|\n",
      "|  7|    6.16|    Heloisa da Rocha|            59778949|                 BTG|Dra. Vitoria Silv...|             56583792|               Nubank|           cpf|    89064175357|2021-12-10 12:37:00|\n",
      "|  8|  136.36|Srta. Isadora Cor...|            77102442|              Nubank|  Francisco da Costa|             96088386|               Nubank|           cpf|    85907632429|2021-12-30 23:18:00|\n",
      "|  9|  574.39|   Dr. Lucas da Cruz|            38501170|                 BTG|       Calebe da Luz|             19365554|             Bradesco|           cpf|    64720189520|2021-06-21 07:20:00|\n",
      "| 10|   42.88|     Mirella Martins|            29535709|            Bradesco|        Danilo Lopes|             60064650|                 Itau|           cpf|    87014935232|2022-09-21 17:19:00|\n",
      "| 11|33629.97|Sr. Vitor Gabriel...|            67010663|                 BTG|Sra. Lavinia Cald...|             48145941|               Nubank|           cpf|    63542098124|2022-09-12 00:29:00|\n",
      "| 12| 4374.56|      Nathan Peixoto|            22975623|              Nubank|        Diogo da Luz|             30302218|             Bradesco|           cpf|    72908154323|2022-08-07 17:01:00|\n",
      "| 13|  507.18|       Miguel Araujo|            75113657|              Nubank|Marcos Vinicius G...|             67418115|                 Itau|           cpf|    84763129031|2021-03-07 12:34:00|\n",
      "| 14|67758.87|     Juliana Correia|             4495167|                Itau|    Davi Lucas Porto|             94395923|                  BTG|           cpf|    97804215649|2021-03-24 22:58:00|\n",
      "| 15|  815.53|     Ana Laura Souza|            79650252|                Itau|        Isabel Costa|             28762988|                  BTG|           cpf|    51824039689|2022-02-21 11:25:00|\n",
      "| 16|    2.73|           Levi Lima|            73815441|                 BTG|Dra. Maria Luiza ...|             96594203|             Bradesco|           cpf|    94516738066|2021-07-20 09:17:00|\n",
      "| 17|    0.54|        Otavio Cunha|            85583961|            Bradesco|       Elisa Moreira|             97003354|             Bradesco|           cpf|    15248769094|2022-02-16 10:16:00|\n",
      "| 18|49836.72|Ana Carolina Oliv...|            80200942|                Itau|    Stella Fernandes|             31579145|                  BTG|           cpf|    47609381250|2022-07-18 22:46:00|\n",
      "| 19|    9.68|        Levi Martins|            12349481|                Itau|Joao Guilherme Me...|             31102492|                  BTG|       celular|    11916824404|2022-02-26 15:05:00|\n",
      "| 20| 9837.22|          Noah Cunha|            84622162|            Bradesco|         Juan Mendes|             97805965|             Bradesco|       celular|    11944547225|2021-06-22 05:39:00|\n",
      "+---+--------+--------------------+--------------------+--------------------+--------------------+---------------------+---------------------+--------------+---------------+-------------------+\n",
      "only showing top 20 rows\n",
      "\n"
     ]
    }
   ],
   "source": [
    "df_cast.show()"
   ]
  },
  {
   "cell_type": "markdown",
   "metadata": {},
   "source": [
    "Como vejo somente as colunas 'id' e 'valor'?"
   ]
  },
  {
   "cell_type": "code",
   "execution_count": null,
   "metadata": {},
   "outputs": [
    {
     "name": "stdout",
     "output_type": "stream",
     "text": [
      "+---+--------+\n",
      "| id|   valor|\n",
      "+---+--------+\n",
      "|  1|    9.93|\n",
      "|  2|   15.38|\n",
      "|  3|   57.58|\n",
      "|  4|53705.13|\n",
      "|  5|25299.69|\n",
      "|  6| 7165.06|\n",
      "|  7|    6.16|\n",
      "|  8|  136.36|\n",
      "|  9|  574.39|\n",
      "| 10|   42.88|\n",
      "| 11|33629.97|\n",
      "| 12| 4374.56|\n",
      "| 13|  507.18|\n",
      "| 14|67758.87|\n",
      "| 15|  815.53|\n",
      "| 16|    2.73|\n",
      "| 17|    0.54|\n",
      "| 18|49836.72|\n",
      "| 19|    9.68|\n",
      "| 20| 9837.22|\n",
      "+---+--------+\n",
      "only showing top 20 rows\n",
      "\n"
     ]
    }
   ],
   "source": [
    "df_cast.select(\n",
    "    'id',\n",
    "    'valor',\n",
    ").show()"
   ]
  },
  {
   "cell_type": "markdown",
   "metadata": {},
   "source": [
    "Como crio uma nova coluna?"
   ]
  },
  {
   "cell_type": "code",
   "execution_count": null,
   "metadata": {},
   "outputs": [],
   "source": [
    "df_dolar = df_cast.select(\n",
    "    'id',\n",
    "    'valor',\n",
    ").withColumn(\n",
    "    'valor_dolar',\n",
    "    round(col('valor')*2)\n",
    ")"
   ]
  },
  {
   "cell_type": "code",
   "execution_count": null,
   "metadata": {},
   "outputs": [
    {
     "name": "stdout",
     "output_type": "stream",
     "text": [
      "+---+--------+-----------+\n",
      "| id|   valor|valor_dolar|\n",
      "+---+--------+-----------+\n",
      "|  1|    9.93|       20.0|\n",
      "|  2|   15.38|       31.0|\n",
      "|  3|   57.58|      115.0|\n",
      "|  4|53705.13|   107410.0|\n",
      "|  5|25299.69|    50599.0|\n",
      "|  6| 7165.06|    14330.0|\n",
      "|  7|    6.16|       12.0|\n",
      "|  8|  136.36|      273.0|\n",
      "|  9|  574.39|     1149.0|\n",
      "| 10|   42.88|       86.0|\n",
      "| 11|33629.97|    67260.0|\n",
      "| 12| 4374.56|     8749.0|\n",
      "| 13|  507.18|     1014.0|\n",
      "| 14|67758.87|   135518.0|\n",
      "| 15|  815.53|     1631.0|\n",
      "| 16|    2.73|        5.0|\n",
      "| 17|    0.54|        1.0|\n",
      "| 18|49836.72|    99673.0|\n",
      "| 19|    9.68|       19.0|\n",
      "| 20| 9837.22|    19674.0|\n",
      "+---+--------+-----------+\n",
      "only showing top 20 rows\n",
      "\n"
     ]
    }
   ],
   "source": [
    "df_dolar.show()"
   ]
  },
  {
   "cell_type": "markdown",
   "metadata": {},
   "source": [
    "Como removo a coluna 'valor_dolar'?"
   ]
  },
  {
   "cell_type": "code",
   "execution_count": null,
   "metadata": {},
   "outputs": [
    {
     "name": "stdout",
     "output_type": "stream",
     "text": [
      "+---+--------+\n",
      "| id|   valor|\n",
      "+---+--------+\n",
      "|  1|    9.93|\n",
      "|  2|   15.38|\n",
      "|  3|   57.58|\n",
      "|  4|53705.13|\n",
      "|  5|25299.69|\n",
      "|  6| 7165.06|\n",
      "|  7|    6.16|\n",
      "|  8|  136.36|\n",
      "|  9|  574.39|\n",
      "| 10|   42.88|\n",
      "| 11|33629.97|\n",
      "| 12| 4374.56|\n",
      "| 13|  507.18|\n",
      "| 14|67758.87|\n",
      "| 15|  815.53|\n",
      "| 16|    2.73|\n",
      "| 17|    0.54|\n",
      "| 18|49836.72|\n",
      "| 19|    9.68|\n",
      "| 20| 9837.22|\n",
      "+---+--------+\n",
      "only showing top 20 rows\n",
      "\n"
     ]
    }
   ],
   "source": [
    "df_dolar.drop('valor_dolar').show()"
   ]
  },
  {
   "cell_type": "markdown",
   "metadata": {},
   "source": [
    "Como renomeo o nome da coluna 'valor_dolar'?"
   ]
  },
  {
   "cell_type": "code",
   "execution_count": null,
   "metadata": {},
   "outputs": [
    {
     "name": "stdout",
     "output_type": "stream",
     "text": [
      "+---+--------+-----------+\n",
      "| id|   valor|dolar_valor|\n",
      "+---+--------+-----------+\n",
      "|  1|    9.93|       20.0|\n",
      "|  2|   15.38|       31.0|\n",
      "|  3|   57.58|      115.0|\n",
      "|  4|53705.13|   107410.0|\n",
      "|  5|25299.69|    50599.0|\n",
      "|  6| 7165.06|    14330.0|\n",
      "|  7|    6.16|       12.0|\n",
      "|  8|  136.36|      273.0|\n",
      "|  9|  574.39|     1149.0|\n",
      "| 10|   42.88|       86.0|\n",
      "| 11|33629.97|    67260.0|\n",
      "| 12| 4374.56|     8749.0|\n",
      "| 13|  507.18|     1014.0|\n",
      "| 14|67758.87|   135518.0|\n",
      "| 15|  815.53|     1631.0|\n",
      "| 16|    2.73|        5.0|\n",
      "| 17|    0.54|        1.0|\n",
      "| 18|49836.72|    99673.0|\n",
      "| 19|    9.68|       19.0|\n",
      "| 20| 9837.22|    19674.0|\n",
      "+---+--------+-----------+\n",
      "only showing top 20 rows\n",
      "\n"
     ]
    }
   ],
   "source": [
    "df_dolar.withColumnRenamed(\n",
    "    'valor_dolar',\n",
    "    'dolar_valor'\n",
    ").show()"
   ]
  },
  {
   "cell_type": "markdown",
   "metadata": {},
   "source": [
    "Como vejo todos os pix do tipo 'cpf'?"
   ]
  },
  {
   "cell_type": "code",
   "execution_count": null,
   "metadata": {},
   "outputs": [
    {
     "name": "stdout",
     "output_type": "stream",
     "text": [
      "+---+--------+--------------+\n",
      "| id|   valor|chave_pix_tipo|\n",
      "+---+--------+--------------+\n",
      "|  1|    9.93|           cpf|\n",
      "|  2|   15.38|           cpf|\n",
      "|  3|   57.58|           cpf|\n",
      "|  4|53705.13|           cpf|\n",
      "|  5|25299.69|           cpf|\n",
      "|  6| 7165.06|           cpf|\n",
      "|  7|    6.16|           cpf|\n",
      "|  8|  136.36|           cpf|\n",
      "|  9|  574.39|           cpf|\n",
      "| 10|   42.88|           cpf|\n",
      "| 11|33629.97|           cpf|\n",
      "| 12| 4374.56|           cpf|\n",
      "| 13|  507.18|           cpf|\n",
      "| 14|67758.87|           cpf|\n",
      "| 15|  815.53|           cpf|\n",
      "| 16|    2.73|           cpf|\n",
      "| 17|    0.54|           cpf|\n",
      "| 18|49836.72|           cpf|\n",
      "| 41|   60.55|           cpf|\n",
      "| 42|    6.62|           cpf|\n",
      "+---+--------+--------------+\n",
      "only showing top 20 rows\n",
      "\n"
     ]
    }
   ],
   "source": [
    "df_cast.select(\n",
    "    'id',\n",
    "    'valor',\n",
    "    'chave_pix_tipo'\n",
    ").filter(\n",
    "    col('chave_pix_tipo') == 'cpf'\n",
    ").show()"
   ]
  },
  {
   "cell_type": "markdown",
   "metadata": {},
   "source": [
    "Como vejo todos os pixs que não são do tipo 'cpf'?"
   ]
  },
  {
   "cell_type": "code",
   "execution_count": null,
   "metadata": {},
   "outputs": [
    {
     "name": "stdout",
     "output_type": "stream",
     "text": [
      "+---+--------+--------------+\n",
      "| id|   valor|chave_pix_tipo|\n",
      "+---+--------+--------------+\n",
      "| 19|    9.68|       celular|\n",
      "| 20| 9837.22|       celular|\n",
      "| 21|    9.36|       celular|\n",
      "| 22|   22.43|       celular|\n",
      "| 23|    7.44|       celular|\n",
      "| 24|   40.36|       celular|\n",
      "| 25|   28.66|       celular|\n",
      "| 26|  154.98|       celular|\n",
      "| 27|35859.11|       celular|\n",
      "| 28|   89.94|       celular|\n",
      "| 29|  890.47|       celular|\n",
      "| 30| 3035.83|       celular|\n",
      "| 31|20875.64|       celular|\n",
      "| 32| 1508.83|       celular|\n",
      "| 33|    1.58|       celular|\n",
      "| 34|58083.62|       celular|\n",
      "| 35| 7944.02|       celular|\n",
      "| 36|48714.95|       celular|\n",
      "| 37|19799.16|       celular|\n",
      "| 38|   32.79|       celular|\n",
      "+---+--------+--------------+\n",
      "only showing top 20 rows\n",
      "\n"
     ]
    }
   ],
   "source": [
    "df_cast.select(\n",
    "    'id',\n",
    "    'valor',\n",
    "    'chave_pix_tipo',\n",
    ").filter(\n",
    "    col('chave_pix_tipo') != 'cpf' \n",
    ").show()"
   ]
  },
  {
   "cell_type": "markdown",
   "metadata": {},
   "source": [
    "Como vejo todos os pixs que são do tipo 'celular' & tem um valor maior que R$ 100,00?"
   ]
  },
  {
   "cell_type": "code",
   "execution_count": null,
   "metadata": {},
   "outputs": [
    {
     "name": "stdout",
     "output_type": "stream",
     "text": [
      "+---+--------+--------------+\n",
      "| id|   valor|chave_pix_tipo|\n",
      "+---+--------+--------------+\n",
      "| 20| 9837.22|       celular|\n",
      "| 26|  154.98|       celular|\n",
      "| 27|35859.11|       celular|\n",
      "| 29|  890.47|       celular|\n",
      "| 30| 3035.83|       celular|\n",
      "| 31|20875.64|       celular|\n",
      "| 32| 1508.83|       celular|\n",
      "| 34|58083.62|       celular|\n",
      "| 35| 7944.02|       celular|\n",
      "| 36|48714.95|       celular|\n",
      "| 37|19799.16|       celular|\n",
      "| 40|  829.87|       celular|\n",
      "+---+--------+--------------+\n",
      "\n"
     ]
    }
   ],
   "source": [
    "df_cast.select(\n",
    "    'id',\n",
    "    'valor',\n",
    "    'chave_pix_tipo',\n",
    ").filter(\n",
    "    (col('chave_pix_tipo') == 'celular') & \n",
    "    (col('valor') > 100)\n",
    ").show()"
   ]
  },
  {
   "cell_type": "markdown",
   "metadata": {},
   "source": [
    "Como vejo todos os pixs que são do tipo 'celular' ou 'cpf'?"
   ]
  },
  {
   "cell_type": "code",
   "execution_count": null,
   "metadata": {},
   "outputs": [
    {
     "name": "stdout",
     "output_type": "stream",
     "text": [
      "+---+--------+--------------+\n",
      "| id|   valor|chave_pix_tipo|\n",
      "+---+--------+--------------+\n",
      "|  1|    9.93|           cpf|\n",
      "|  2|   15.38|           cpf|\n",
      "|  3|   57.58|           cpf|\n",
      "|  4|53705.13|           cpf|\n",
      "|  5|25299.69|           cpf|\n",
      "|  6| 7165.06|           cpf|\n",
      "|  7|    6.16|           cpf|\n",
      "|  8|  136.36|           cpf|\n",
      "|  9|  574.39|           cpf|\n",
      "| 10|   42.88|           cpf|\n",
      "| 11|33629.97|           cpf|\n",
      "| 12| 4374.56|           cpf|\n",
      "| 13|  507.18|           cpf|\n",
      "| 14|67758.87|           cpf|\n",
      "| 15|  815.53|           cpf|\n",
      "| 16|    2.73|           cpf|\n",
      "| 17|    0.54|           cpf|\n",
      "| 18|49836.72|           cpf|\n",
      "| 19|    9.68|       celular|\n",
      "| 20| 9837.22|       celular|\n",
      "+---+--------+--------------+\n",
      "only showing top 20 rows\n",
      "\n"
     ]
    }
   ],
   "source": [
    "df_cast.select(\n",
    "    'id',\n",
    "    'valor',\n",
    "    'chave_pix_tipo',\n",
    ").filter(\n",
    "    (col('chave_pix_tipo') == 'celular') | \n",
    "    (col('chave_pix_tipo') == 'cpf')\n",
    ").show()"
   ]
  },
  {
   "cell_type": "markdown",
   "metadata": {},
   "source": [
    "Como deletar todos os nulos?"
   ]
  },
  {
   "cell_type": "code",
   "execution_count": null,
   "metadata": {},
   "outputs": [
    {
     "name": "stdout",
     "output_type": "stream",
     "text": [
      "+---+--------+--------------------+--------------------+--------------------+--------------------+---------------------+---------------------+--------------+---------------+-------------------+\n",
      "| id|   valor| parte_debitada_nome|parte_debitada_conta|parte_debitada_banco|parte_creditada_nome|parte_creditada_conta|parte_creditada_banco|chave_pix_tipo|chave_pix_valor|     data_transacao|\n",
      "+---+--------+--------------------+--------------------+--------------------+--------------------+---------------------+---------------------+--------------+---------------+-------------------+\n",
      "|  1|    9.93|Dra. Ana Carolina...|            79470453|              Nubank|       Maysa da Cruz|             67162333|                 Itau|           cpf|     8439752610|2022-02-18 13:28:00|\n",
      "|  2|   15.38|        Ana Caldeira|            19689668|                Itau|        Evelyn Sales|             60005091|             Bradesco|           cpf|    27145380617|2022-04-08 01:47:00|\n",
      "|  3|   57.58|    Arthur Goncalves|            18856899|            Bradesco|          Maria Melo|             13496303|                  BTG|           cpf|    16452937006|2022-07-14 03:18:00|\n",
      "|  4|53705.13|  Ana Julia Caldeira|            22834741|                Itau|   Ana Livia Almeida|             44695116|               Nubank|           cpf|    26590384142|2022-01-15 18:06:00|\n",
      "|  5|25299.69|  Srta. Nicole Pinto|             3715882|              Nubank|Srta. Ana Laura d...|             21409465|               Nubank|           cpf|    73486105280|2022-05-13 11:04:00|\n",
      "|  6| 7165.06|   Gabriela Ferreira|             2243037|              Nubank|       Larissa Souza|             10689552|                 Itau|           cpf|    96845371237|2022-09-11 13:38:00|\n",
      "|  7|    6.16|    Heloisa da Rocha|            59778949|                 BTG|Dra. Vitoria Silv...|             56583792|               Nubank|           cpf|    89064175357|2021-12-10 12:37:00|\n",
      "|  8|  136.36|Srta. Isadora Cor...|            77102442|              Nubank|  Francisco da Costa|             96088386|               Nubank|           cpf|    85907632429|2021-12-30 23:18:00|\n",
      "|  9|  574.39|   Dr. Lucas da Cruz|            38501170|                 BTG|       Calebe da Luz|             19365554|             Bradesco|           cpf|    64720189520|2021-06-21 07:20:00|\n",
      "| 10|   42.88|     Mirella Martins|            29535709|            Bradesco|        Danilo Lopes|             60064650|                 Itau|           cpf|    87014935232|2022-09-21 17:19:00|\n",
      "| 11|33629.97|Sr. Vitor Gabriel...|            67010663|                 BTG|Sra. Lavinia Cald...|             48145941|               Nubank|           cpf|    63542098124|2022-09-12 00:29:00|\n",
      "| 12| 4374.56|      Nathan Peixoto|            22975623|              Nubank|        Diogo da Luz|             30302218|             Bradesco|           cpf|    72908154323|2022-08-07 17:01:00|\n",
      "| 13|  507.18|       Miguel Araujo|            75113657|              Nubank|Marcos Vinicius G...|             67418115|                 Itau|           cpf|    84763129031|2021-03-07 12:34:00|\n",
      "| 14|67758.87|     Juliana Correia|             4495167|                Itau|    Davi Lucas Porto|             94395923|                  BTG|           cpf|    97804215649|2021-03-24 22:58:00|\n",
      "| 15|  815.53|     Ana Laura Souza|            79650252|                Itau|        Isabel Costa|             28762988|                  BTG|           cpf|    51824039689|2022-02-21 11:25:00|\n",
      "| 16|    2.73|           Levi Lima|            73815441|                 BTG|Dra. Maria Luiza ...|             96594203|             Bradesco|           cpf|    94516738066|2021-07-20 09:17:00|\n",
      "| 17|    0.54|        Otavio Cunha|            85583961|            Bradesco|       Elisa Moreira|             97003354|             Bradesco|           cpf|    15248769094|2022-02-16 10:16:00|\n",
      "| 18|49836.72|Ana Carolina Oliv...|            80200942|                Itau|    Stella Fernandes|             31579145|                  BTG|           cpf|    47609381250|2022-07-18 22:46:00|\n",
      "| 19|    9.68|        Levi Martins|            12349481|                Itau|Joao Guilherme Me...|             31102492|                  BTG|       celular|    11916824404|2022-02-26 15:05:00|\n",
      "| 20| 9837.22|          Noah Cunha|            84622162|            Bradesco|         Juan Mendes|             97805965|             Bradesco|       celular|    11944547225|2021-06-22 05:39:00|\n",
      "+---+--------+--------------------+--------------------+--------------------+--------------------+---------------------+---------------------+--------------+---------------+-------------------+\n",
      "only showing top 20 rows\n",
      "\n"
     ]
    }
   ],
   "source": [
    "df_cast.na.drop('any').show()"
   ]
  },
  {
   "cell_type": "markdown",
   "metadata": {},
   "source": [
    "Como deletar somente as linhas que estão totalmente nulas?"
   ]
  },
  {
   "cell_type": "code",
   "execution_count": null,
   "metadata": {},
   "outputs": [
    {
     "name": "stdout",
     "output_type": "stream",
     "text": [
      "+---+--------+--------------------+--------------------+--------------------+--------------------+---------------------+---------------------+--------------+---------------+-------------------+\n",
      "| id|   valor| parte_debitada_nome|parte_debitada_conta|parte_debitada_banco|parte_creditada_nome|parte_creditada_conta|parte_creditada_banco|chave_pix_tipo|chave_pix_valor|     data_transacao|\n",
      "+---+--------+--------------------+--------------------+--------------------+--------------------+---------------------+---------------------+--------------+---------------+-------------------+\n",
      "|  1|    9.93|Dra. Ana Carolina...|            79470453|              Nubank|       Maysa da Cruz|             67162333|                 Itau|           cpf|     8439752610|2022-02-18 13:28:00|\n",
      "|  2|   15.38|        Ana Caldeira|            19689668|                Itau|        Evelyn Sales|             60005091|             Bradesco|           cpf|    27145380617|2022-04-08 01:47:00|\n",
      "|  3|   57.58|    Arthur Goncalves|            18856899|            Bradesco|          Maria Melo|             13496303|                  BTG|           cpf|    16452937006|2022-07-14 03:18:00|\n",
      "|  4|53705.13|  Ana Julia Caldeira|            22834741|                Itau|   Ana Livia Almeida|             44695116|               Nubank|           cpf|    26590384142|2022-01-15 18:06:00|\n",
      "|  5|25299.69|  Srta. Nicole Pinto|             3715882|              Nubank|Srta. Ana Laura d...|             21409465|               Nubank|           cpf|    73486105280|2022-05-13 11:04:00|\n",
      "|  6| 7165.06|   Gabriela Ferreira|             2243037|              Nubank|       Larissa Souza|             10689552|                 Itau|           cpf|    96845371237|2022-09-11 13:38:00|\n",
      "|  7|    6.16|    Heloisa da Rocha|            59778949|                 BTG|Dra. Vitoria Silv...|             56583792|               Nubank|           cpf|    89064175357|2021-12-10 12:37:00|\n",
      "|  8|  136.36|Srta. Isadora Cor...|            77102442|              Nubank|  Francisco da Costa|             96088386|               Nubank|           cpf|    85907632429|2021-12-30 23:18:00|\n",
      "|  9|  574.39|   Dr. Lucas da Cruz|            38501170|                 BTG|       Calebe da Luz|             19365554|             Bradesco|           cpf|    64720189520|2021-06-21 07:20:00|\n",
      "| 10|   42.88|     Mirella Martins|            29535709|            Bradesco|        Danilo Lopes|             60064650|                 Itau|           cpf|    87014935232|2022-09-21 17:19:00|\n",
      "| 11|33629.97|Sr. Vitor Gabriel...|            67010663|                 BTG|Sra. Lavinia Cald...|             48145941|               Nubank|           cpf|    63542098124|2022-09-12 00:29:00|\n",
      "| 12| 4374.56|      Nathan Peixoto|            22975623|              Nubank|        Diogo da Luz|             30302218|             Bradesco|           cpf|    72908154323|2022-08-07 17:01:00|\n",
      "| 13|  507.18|       Miguel Araujo|            75113657|              Nubank|Marcos Vinicius G...|             67418115|                 Itau|           cpf|    84763129031|2021-03-07 12:34:00|\n",
      "| 14|67758.87|     Juliana Correia|             4495167|                Itau|    Davi Lucas Porto|             94395923|                  BTG|           cpf|    97804215649|2021-03-24 22:58:00|\n",
      "| 15|  815.53|     Ana Laura Souza|            79650252|                Itau|        Isabel Costa|             28762988|                  BTG|           cpf|    51824039689|2022-02-21 11:25:00|\n",
      "| 16|    2.73|           Levi Lima|            73815441|                 BTG|Dra. Maria Luiza ...|             96594203|             Bradesco|           cpf|    94516738066|2021-07-20 09:17:00|\n",
      "| 17|    0.54|        Otavio Cunha|            85583961|            Bradesco|       Elisa Moreira|             97003354|             Bradesco|           cpf|    15248769094|2022-02-16 10:16:00|\n",
      "| 18|49836.72|Ana Carolina Oliv...|            80200942|                Itau|    Stella Fernandes|             31579145|                  BTG|           cpf|    47609381250|2022-07-18 22:46:00|\n",
      "| 19|    9.68|        Levi Martins|            12349481|                Itau|Joao Guilherme Me...|             31102492|                  BTG|       celular|    11916824404|2022-02-26 15:05:00|\n",
      "| 20| 9837.22|          Noah Cunha|            84622162|            Bradesco|         Juan Mendes|             97805965|             Bradesco|       celular|    11944547225|2021-06-22 05:39:00|\n",
      "+---+--------+--------------------+--------------------+--------------------+--------------------+---------------------+---------------------+--------------+---------------+-------------------+\n",
      "only showing top 20 rows\n",
      "\n"
     ]
    }
   ],
   "source": [
    "df_cast.na.drop('all').show()"
   ]
  },
  {
   "cell_type": "markdown",
   "metadata": {},
   "source": [
    "Como deletar somente os nulos nas colunas 'id' e 'valor'?"
   ]
  },
  {
   "cell_type": "code",
   "execution_count": null,
   "metadata": {},
   "outputs": [
    {
     "name": "stdout",
     "output_type": "stream",
     "text": [
      "+---+--------+--------------------+--------------------+--------------------+--------------------+---------------------+---------------------+--------------+---------------+-------------------+\n",
      "| id|   valor| parte_debitada_nome|parte_debitada_conta|parte_debitada_banco|parte_creditada_nome|parte_creditada_conta|parte_creditada_banco|chave_pix_tipo|chave_pix_valor|     data_transacao|\n",
      "+---+--------+--------------------+--------------------+--------------------+--------------------+---------------------+---------------------+--------------+---------------+-------------------+\n",
      "|  1|    9.93|Dra. Ana Carolina...|            79470453|              Nubank|       Maysa da Cruz|             67162333|                 Itau|           cpf|     8439752610|2022-02-18 13:28:00|\n",
      "|  2|   15.38|        Ana Caldeira|            19689668|                Itau|        Evelyn Sales|             60005091|             Bradesco|           cpf|    27145380617|2022-04-08 01:47:00|\n",
      "|  3|   57.58|    Arthur Goncalves|            18856899|            Bradesco|          Maria Melo|             13496303|                  BTG|           cpf|    16452937006|2022-07-14 03:18:00|\n",
      "|  4|53705.13|  Ana Julia Caldeira|            22834741|                Itau|   Ana Livia Almeida|             44695116|               Nubank|           cpf|    26590384142|2022-01-15 18:06:00|\n",
      "|  5|25299.69|  Srta. Nicole Pinto|             3715882|              Nubank|Srta. Ana Laura d...|             21409465|               Nubank|           cpf|    73486105280|2022-05-13 11:04:00|\n",
      "|  6| 7165.06|   Gabriela Ferreira|             2243037|              Nubank|       Larissa Souza|             10689552|                 Itau|           cpf|    96845371237|2022-09-11 13:38:00|\n",
      "|  7|    6.16|    Heloisa da Rocha|            59778949|                 BTG|Dra. Vitoria Silv...|             56583792|               Nubank|           cpf|    89064175357|2021-12-10 12:37:00|\n",
      "|  8|  136.36|Srta. Isadora Cor...|            77102442|              Nubank|  Francisco da Costa|             96088386|               Nubank|           cpf|    85907632429|2021-12-30 23:18:00|\n",
      "|  9|  574.39|   Dr. Lucas da Cruz|            38501170|                 BTG|       Calebe da Luz|             19365554|             Bradesco|           cpf|    64720189520|2021-06-21 07:20:00|\n",
      "| 10|   42.88|     Mirella Martins|            29535709|            Bradesco|        Danilo Lopes|             60064650|                 Itau|           cpf|    87014935232|2022-09-21 17:19:00|\n",
      "| 11|33629.97|Sr. Vitor Gabriel...|            67010663|                 BTG|Sra. Lavinia Cald...|             48145941|               Nubank|           cpf|    63542098124|2022-09-12 00:29:00|\n",
      "| 12| 4374.56|      Nathan Peixoto|            22975623|              Nubank|        Diogo da Luz|             30302218|             Bradesco|           cpf|    72908154323|2022-08-07 17:01:00|\n",
      "| 13|  507.18|       Miguel Araujo|            75113657|              Nubank|Marcos Vinicius G...|             67418115|                 Itau|           cpf|    84763129031|2021-03-07 12:34:00|\n",
      "| 14|67758.87|     Juliana Correia|             4495167|                Itau|    Davi Lucas Porto|             94395923|                  BTG|           cpf|    97804215649|2021-03-24 22:58:00|\n",
      "| 15|  815.53|     Ana Laura Souza|            79650252|                Itau|        Isabel Costa|             28762988|                  BTG|           cpf|    51824039689|2022-02-21 11:25:00|\n",
      "| 16|    2.73|           Levi Lima|            73815441|                 BTG|Dra. Maria Luiza ...|             96594203|             Bradesco|           cpf|    94516738066|2021-07-20 09:17:00|\n",
      "| 17|    0.54|        Otavio Cunha|            85583961|            Bradesco|       Elisa Moreira|             97003354|             Bradesco|           cpf|    15248769094|2022-02-16 10:16:00|\n",
      "| 18|49836.72|Ana Carolina Oliv...|            80200942|                Itau|    Stella Fernandes|             31579145|                  BTG|           cpf|    47609381250|2022-07-18 22:46:00|\n",
      "| 19|    9.68|        Levi Martins|            12349481|                Itau|Joao Guilherme Me...|             31102492|                  BTG|       celular|    11916824404|2022-02-26 15:05:00|\n",
      "| 20| 9837.22|          Noah Cunha|            84622162|            Bradesco|         Juan Mendes|             97805965|             Bradesco|       celular|    11944547225|2021-06-22 05:39:00|\n",
      "+---+--------+--------------------+--------------------+--------------------+--------------------+---------------------+---------------------+--------------+---------------+-------------------+\n",
      "only showing top 20 rows\n",
      "\n"
     ]
    }
   ],
   "source": [
    "df_cast.na.drop('all', subset=['id', 'valor']).show()"
   ]
  },
  {
   "cell_type": "markdown",
   "metadata": {},
   "source": [
    "Como substitui os valores nulos na coluna 'valor' por 0?"
   ]
  },
  {
   "cell_type": "code",
   "execution_count": null,
   "metadata": {},
   "outputs": [
    {
     "name": "stdout",
     "output_type": "stream",
     "text": [
      "+---+--------+--------------------+--------------------+--------------------+--------------------+---------------------+---------------------+--------------+---------------+-------------------+\n",
      "| id|   valor| parte_debitada_nome|parte_debitada_conta|parte_debitada_banco|parte_creditada_nome|parte_creditada_conta|parte_creditada_banco|chave_pix_tipo|chave_pix_valor|     data_transacao|\n",
      "+---+--------+--------------------+--------------------+--------------------+--------------------+---------------------+---------------------+--------------+---------------+-------------------+\n",
      "|  1|    9.93|Dra. Ana Carolina...|            79470453|              Nubank|       Maysa da Cruz|             67162333|                 Itau|           cpf|     8439752610|2022-02-18 13:28:00|\n",
      "|  2|   15.38|        Ana Caldeira|            19689668|                Itau|        Evelyn Sales|             60005091|             Bradesco|           cpf|    27145380617|2022-04-08 01:47:00|\n",
      "|  3|   57.58|    Arthur Goncalves|            18856899|            Bradesco|          Maria Melo|             13496303|                  BTG|           cpf|    16452937006|2022-07-14 03:18:00|\n",
      "|  4|53705.13|  Ana Julia Caldeira|            22834741|                Itau|   Ana Livia Almeida|             44695116|               Nubank|           cpf|    26590384142|2022-01-15 18:06:00|\n",
      "|  5|25299.69|  Srta. Nicole Pinto|             3715882|              Nubank|Srta. Ana Laura d...|             21409465|               Nubank|           cpf|    73486105280|2022-05-13 11:04:00|\n",
      "|  6| 7165.06|   Gabriela Ferreira|             2243037|              Nubank|       Larissa Souza|             10689552|                 Itau|           cpf|    96845371237|2022-09-11 13:38:00|\n",
      "|  7|    6.16|    Heloisa da Rocha|            59778949|                 BTG|Dra. Vitoria Silv...|             56583792|               Nubank|           cpf|    89064175357|2021-12-10 12:37:00|\n",
      "|  8|  136.36|Srta. Isadora Cor...|            77102442|              Nubank|  Francisco da Costa|             96088386|               Nubank|           cpf|    85907632429|2021-12-30 23:18:00|\n",
      "|  9|  574.39|   Dr. Lucas da Cruz|            38501170|                 BTG|       Calebe da Luz|             19365554|             Bradesco|           cpf|    64720189520|2021-06-21 07:20:00|\n",
      "| 10|   42.88|     Mirella Martins|            29535709|            Bradesco|        Danilo Lopes|             60064650|                 Itau|           cpf|    87014935232|2022-09-21 17:19:00|\n",
      "| 11|33629.97|Sr. Vitor Gabriel...|            67010663|                 BTG|Sra. Lavinia Cald...|             48145941|               Nubank|           cpf|    63542098124|2022-09-12 00:29:00|\n",
      "| 12| 4374.56|      Nathan Peixoto|            22975623|              Nubank|        Diogo da Luz|             30302218|             Bradesco|           cpf|    72908154323|2022-08-07 17:01:00|\n",
      "| 13|  507.18|       Miguel Araujo|            75113657|              Nubank|Marcos Vinicius G...|             67418115|                 Itau|           cpf|    84763129031|2021-03-07 12:34:00|\n",
      "| 14|67758.87|     Juliana Correia|             4495167|                Itau|    Davi Lucas Porto|             94395923|                  BTG|           cpf|    97804215649|2021-03-24 22:58:00|\n",
      "| 15|  815.53|     Ana Laura Souza|            79650252|                Itau|        Isabel Costa|             28762988|                  BTG|           cpf|    51824039689|2022-02-21 11:25:00|\n",
      "| 16|    2.73|           Levi Lima|            73815441|                 BTG|Dra. Maria Luiza ...|             96594203|             Bradesco|           cpf|    94516738066|2021-07-20 09:17:00|\n",
      "| 17|    0.54|        Otavio Cunha|            85583961|            Bradesco|       Elisa Moreira|             97003354|             Bradesco|           cpf|    15248769094|2022-02-16 10:16:00|\n",
      "| 18|49836.72|Ana Carolina Oliv...|            80200942|                Itau|    Stella Fernandes|             31579145|                  BTG|           cpf|    47609381250|2022-07-18 22:46:00|\n",
      "| 19|    9.68|        Levi Martins|            12349481|                Itau|Joao Guilherme Me...|             31102492|                  BTG|       celular|    11916824404|2022-02-26 15:05:00|\n",
      "| 20| 9837.22|          Noah Cunha|            84622162|            Bradesco|         Juan Mendes|             97805965|             Bradesco|       celular|    11944547225|2021-06-22 05:39:00|\n",
      "+---+--------+--------------------+--------------------+--------------------+--------------------+---------------------+---------------------+--------------+---------------+-------------------+\n",
      "only showing top 20 rows\n",
      "\n"
     ]
    }
   ],
   "source": [
    "df_cast.na.fill(0, subset=['valor']).show()"
   ]
  },
  {
   "cell_type": "markdown",
   "metadata": {},
   "source": [
    "Qual a quantidade de transações feitas por tipo de chave pix?"
   ]
  },
  {
   "cell_type": "code",
   "execution_count": null,
   "metadata": {},
   "outputs": [
    {
     "name": "stdout",
     "output_type": "stream",
     "text": [
      "+--------------+-----+\n",
      "|chave_pix_tipo|count|\n",
      "+--------------+-----+\n",
      "|       celular|   22|\n",
      "|         email|   29|\n",
      "|           cpf|   49|\n",
      "+--------------+-----+\n",
      "\n"
     ]
    }
   ],
   "source": [
    "(\n",
    "    df_cast.select('chave_pix_tipo')\n",
    "    .groupby('chave_pix_tipo')\n",
    "    .count()\n",
    "    .show()\n",
    ")"
   ]
  },
  {
   "cell_type": "markdown",
   "metadata": {},
   "source": [
    "Qual a montante de transações feitas por tipo de chave pix?"
   ]
  },
  {
   "cell_type": "code",
   "execution_count": null,
   "metadata": {},
   "outputs": [
    {
     "name": "stdout",
     "output_type": "stream",
     "text": [
      "+--------------+------------------+\n",
      "|chave_pix_tipo|        sum(valor)|\n",
      "+--------------+------------------+\n",
      "|       celular|         207778.46|\n",
      "|         email|499009.38000000006|\n",
      "|           cpf| 659513.3499999997|\n",
      "+--------------+------------------+\n",
      "\n"
     ]
    }
   ],
   "source": [
    "(\n",
    "    df_cast.select('chave_pix_tipo', 'valor')\n",
    "    .groupby('chave_pix_tipo')\n",
    "    .sum('valor')\n",
    "    .show()\n",
    ")"
   ]
  },
  {
   "cell_type": "markdown",
   "metadata": {},
   "source": [
    "Qual o valor médio de transações feitas por tipo de chave pix?"
   ]
  },
  {
   "cell_type": "code",
   "execution_count": null,
   "metadata": {},
   "outputs": [
    {
     "name": "stdout",
     "output_type": "stream",
     "text": [
      "+--------------+------------------+\n",
      "|chave_pix_tipo|        avg(valor)|\n",
      "+--------------+------------------+\n",
      "|       celular| 9444.475454545454|\n",
      "|         email|          17207.22|\n",
      "|           cpf|13459.456122448973|\n",
      "+--------------+------------------+\n",
      "\n"
     ]
    }
   ],
   "source": [
    "(\n",
    "    df_cast.select('chave_pix_tipo', 'valor')\n",
    "    .groupby('chave_pix_tipo')\n",
    "    .avg('valor')\n",
    "    .show()\n",
    ")"
   ]
  },
  {
   "cell_type": "markdown",
   "metadata": {},
   "source": [
    "# Pyspark - Escrita de Dados:"
   ]
  },
  {
   "cell_type": "markdown",
   "metadata": {},
   "source": [
    "## DataFrame:"
   ]
  },
  {
   "cell_type": "code",
   "execution_count": null,
   "metadata": {},
   "outputs": [],
   "source": [
    "df_not_null = df_cast.na.fill(0, subset=['valor'])"
   ]
  },
  {
   "cell_type": "code",
   "execution_count": null,
   "metadata": {},
   "outputs": [
    {
     "name": "stdout",
     "output_type": "stream",
     "text": [
      "+---+--------+--------------------+--------------------+--------------------+--------------------+---------------------+---------------------+--------------+---------------+-------------------+\n",
      "| id|   valor| parte_debitada_nome|parte_debitada_conta|parte_debitada_banco|parte_creditada_nome|parte_creditada_conta|parte_creditada_banco|chave_pix_tipo|chave_pix_valor|     data_transacao|\n",
      "+---+--------+--------------------+--------------------+--------------------+--------------------+---------------------+---------------------+--------------+---------------+-------------------+\n",
      "|  1|    9.93|Dra. Ana Carolina...|            79470453|              Nubank|       Maysa da Cruz|             67162333|                 Itau|           cpf|     8439752610|2022-02-18 13:28:00|\n",
      "|  2|   15.38|        Ana Caldeira|            19689668|                Itau|        Evelyn Sales|             60005091|             Bradesco|           cpf|    27145380617|2022-04-08 01:47:00|\n",
      "|  3|   57.58|    Arthur Goncalves|            18856899|            Bradesco|          Maria Melo|             13496303|                  BTG|           cpf|    16452937006|2022-07-14 03:18:00|\n",
      "|  4|53705.13|  Ana Julia Caldeira|            22834741|                Itau|   Ana Livia Almeida|             44695116|               Nubank|           cpf|    26590384142|2022-01-15 18:06:00|\n",
      "|  5|25299.69|  Srta. Nicole Pinto|             3715882|              Nubank|Srta. Ana Laura d...|             21409465|               Nubank|           cpf|    73486105280|2022-05-13 11:04:00|\n",
      "|  6| 7165.06|   Gabriela Ferreira|             2243037|              Nubank|       Larissa Souza|             10689552|                 Itau|           cpf|    96845371237|2022-09-11 13:38:00|\n",
      "|  7|    6.16|    Heloisa da Rocha|            59778949|                 BTG|Dra. Vitoria Silv...|             56583792|               Nubank|           cpf|    89064175357|2021-12-10 12:37:00|\n",
      "|  8|  136.36|Srta. Isadora Cor...|            77102442|              Nubank|  Francisco da Costa|             96088386|               Nubank|           cpf|    85907632429|2021-12-30 23:18:00|\n",
      "|  9|  574.39|   Dr. Lucas da Cruz|            38501170|                 BTG|       Calebe da Luz|             19365554|             Bradesco|           cpf|    64720189520|2021-06-21 07:20:00|\n",
      "| 10|   42.88|     Mirella Martins|            29535709|            Bradesco|        Danilo Lopes|             60064650|                 Itau|           cpf|    87014935232|2022-09-21 17:19:00|\n",
      "| 11|33629.97|Sr. Vitor Gabriel...|            67010663|                 BTG|Sra. Lavinia Cald...|             48145941|               Nubank|           cpf|    63542098124|2022-09-12 00:29:00|\n",
      "| 12| 4374.56|      Nathan Peixoto|            22975623|              Nubank|        Diogo da Luz|             30302218|             Bradesco|           cpf|    72908154323|2022-08-07 17:01:00|\n",
      "| 13|  507.18|       Miguel Araujo|            75113657|              Nubank|Marcos Vinicius G...|             67418115|                 Itau|           cpf|    84763129031|2021-03-07 12:34:00|\n",
      "| 14|67758.87|     Juliana Correia|             4495167|                Itau|    Davi Lucas Porto|             94395923|                  BTG|           cpf|    97804215649|2021-03-24 22:58:00|\n",
      "| 15|  815.53|     Ana Laura Souza|            79650252|                Itau|        Isabel Costa|             28762988|                  BTG|           cpf|    51824039689|2022-02-21 11:25:00|\n",
      "| 16|    2.73|           Levi Lima|            73815441|                 BTG|Dra. Maria Luiza ...|             96594203|             Bradesco|           cpf|    94516738066|2021-07-20 09:17:00|\n",
      "| 17|    0.54|        Otavio Cunha|            85583961|            Bradesco|       Elisa Moreira|             97003354|             Bradesco|           cpf|    15248769094|2022-02-16 10:16:00|\n",
      "| 18|49836.72|Ana Carolina Oliv...|            80200942|                Itau|    Stella Fernandes|             31579145|                  BTG|           cpf|    47609381250|2022-07-18 22:46:00|\n",
      "| 19|    9.68|        Levi Martins|            12349481|                Itau|Joao Guilherme Me...|             31102492|                  BTG|       celular|    11916824404|2022-02-26 15:05:00|\n",
      "| 20| 9837.22|          Noah Cunha|            84622162|            Bradesco|         Juan Mendes|             97805965|             Bradesco|       celular|    11944547225|2021-06-22 05:39:00|\n",
      "+---+--------+--------------------+--------------------+--------------------+--------------------+---------------------+---------------------+--------------+---------------+-------------------+\n",
      "only showing top 20 rows\n",
      "\n"
     ]
    }
   ],
   "source": [
    "df_not_null.show()"
   ]
  },
  {
   "cell_type": "markdown",
   "metadata": {},
   "source": [
    "## Código:"
   ]
  },
  {
   "cell_type": "code",
   "execution_count": null,
   "metadata": {},
   "outputs": [],
   "source": []
  },
  {
   "cell_type": "markdown",
   "metadata": {},
   "source": [
    "## Output:"
   ]
  },
  {
   "cell_type": "markdown",
   "metadata": {},
   "source": [
    "Quais são os tipos?"
   ]
  },
  {
   "cell_type": "code",
   "execution_count": null,
   "metadata": {},
   "outputs": [
    {
     "name": "stdout",
     "output_type": "stream",
     "text": [
      "root\n",
      " |-- id: integer (nullable = true)\n",
      " |-- valor: double (nullable = false)\n",
      " |-- parte_debitada_nome: string (nullable = true)\n",
      " |-- parte_debitada_conta: string (nullable = true)\n",
      " |-- parte_debitada_banco: string (nullable = true)\n",
      " |-- parte_creditada_nome: string (nullable = true)\n",
      " |-- parte_creditada_conta: string (nullable = true)\n",
      " |-- parte_creditada_banco: string (nullable = true)\n",
      " |-- chave_pix_tipo: string (nullable = true)\n",
      " |-- chave_pix_valor: string (nullable = true)\n",
      " |-- data_transacao: timestamp (nullable = true)\n",
      "\n"
     ]
    }
   ],
   "source": [
    "df_not_null.printSchema()"
   ]
  },
  {
   "cell_type": "markdown",
   "metadata": {},
   "source": [
    "Como filtra pelo ano de 2022?"
   ]
  },
  {
   "cell_type": "code",
   "execution_count": null,
   "metadata": {},
   "outputs": [],
   "source": [
    "df_2022 = df_not_null.filter(\n",
    "    year(col('data_transacao')) == '2022'\n",
    ")"
   ]
  },
  {
   "cell_type": "markdown",
   "metadata": {},
   "source": [
    "Qual foi a quantidade de transações em 2022? "
   ]
  },
  {
   "cell_type": "code",
   "execution_count": null,
   "metadata": {},
   "outputs": [
    {
     "name": "stdout",
     "output_type": "stream",
     "text": [
      "+----+-----+\n",
      "|year|count|\n",
      "+----+-----+\n",
      "|2022|   48|\n",
      "+----+-----+\n",
      "\n"
     ]
    }
   ],
   "source": [
    "(\n",
    "    df_2022\n",
    "    .withColumn(\n",
    "        'year', year(col('data_transacao'))\n",
    "    )\n",
    "    .groupby('year')\n",
    "    .count()\n",
    "    .show()\n",
    ")"
   ]
  },
  {
   "cell_type": "markdown",
   "metadata": {},
   "source": [
    "Como guarda os dados no formato csv?"
   ]
  },
  {
   "cell_type": "code",
   "execution_count": null,
   "metadata": {},
   "outputs": [],
   "source": [
    "df_2022.write.mode('overwrite').csv('base_de_2022.csv')"
   ]
  },
  {
   "cell_type": "markdown",
   "metadata": {},
   "source": [
    "Como guarda os dados no formato parquet?"
   ]
  },
  {
   "cell_type": "code",
   "execution_count": null,
   "metadata": {},
   "outputs": [
    {
     "name": "stderr",
     "output_type": "stream",
     "text": [
      "                                                                                \r"
     ]
    }
   ],
   "source": [
    "df_2022.write.mode('overwrite').parquet('base_de_2022.parquet')"
   ]
  },
  {
   "cell_type": "markdown",
   "metadata": {},
   "source": [
    "# PySpark - Particionamento:"
   ]
  },
  {
   "cell_type": "markdown",
   "metadata": {},
   "source": [
    "## DataFrame:"
   ]
  },
  {
   "cell_type": "code",
   "execution_count": null,
   "metadata": {},
   "outputs": [],
   "source": [
    "df_pp = df_cast"
   ]
  },
  {
   "cell_type": "code",
   "execution_count": null,
   "metadata": {},
   "outputs": [
    {
     "name": "stdout",
     "output_type": "stream",
     "text": [
      "+---+--------+--------------------+--------------------+--------------------+--------------------+---------------------+---------------------+--------------+---------------+-------------------+\n",
      "| id|   valor| parte_debitada_nome|parte_debitada_conta|parte_debitada_banco|parte_creditada_nome|parte_creditada_conta|parte_creditada_banco|chave_pix_tipo|chave_pix_valor|     data_transacao|\n",
      "+---+--------+--------------------+--------------------+--------------------+--------------------+---------------------+---------------------+--------------+---------------+-------------------+\n",
      "|  1|    9.93|Dra. Ana Carolina...|            79470453|              Nubank|       Maysa da Cruz|             67162333|                 Itau|           cpf|     8439752610|2022-02-18 13:28:00|\n",
      "|  2|   15.38|        Ana Caldeira|            19689668|                Itau|        Evelyn Sales|             60005091|             Bradesco|           cpf|    27145380617|2022-04-08 01:47:00|\n",
      "|  3|   57.58|    Arthur Goncalves|            18856899|            Bradesco|          Maria Melo|             13496303|                  BTG|           cpf|    16452937006|2022-07-14 03:18:00|\n",
      "|  4|53705.13|  Ana Julia Caldeira|            22834741|                Itau|   Ana Livia Almeida|             44695116|               Nubank|           cpf|    26590384142|2022-01-15 18:06:00|\n",
      "|  5|25299.69|  Srta. Nicole Pinto|             3715882|              Nubank|Srta. Ana Laura d...|             21409465|               Nubank|           cpf|    73486105280|2022-05-13 11:04:00|\n",
      "|  6| 7165.06|   Gabriela Ferreira|             2243037|              Nubank|       Larissa Souza|             10689552|                 Itau|           cpf|    96845371237|2022-09-11 13:38:00|\n",
      "|  7|    6.16|    Heloisa da Rocha|            59778949|                 BTG|Dra. Vitoria Silv...|             56583792|               Nubank|           cpf|    89064175357|2021-12-10 12:37:00|\n",
      "|  8|  136.36|Srta. Isadora Cor...|            77102442|              Nubank|  Francisco da Costa|             96088386|               Nubank|           cpf|    85907632429|2021-12-30 23:18:00|\n",
      "|  9|  574.39|   Dr. Lucas da Cruz|            38501170|                 BTG|       Calebe da Luz|             19365554|             Bradesco|           cpf|    64720189520|2021-06-21 07:20:00|\n",
      "| 10|   42.88|     Mirella Martins|            29535709|            Bradesco|        Danilo Lopes|             60064650|                 Itau|           cpf|    87014935232|2022-09-21 17:19:00|\n",
      "| 11|33629.97|Sr. Vitor Gabriel...|            67010663|                 BTG|Sra. Lavinia Cald...|             48145941|               Nubank|           cpf|    63542098124|2022-09-12 00:29:00|\n",
      "| 12| 4374.56|      Nathan Peixoto|            22975623|              Nubank|        Diogo da Luz|             30302218|             Bradesco|           cpf|    72908154323|2022-08-07 17:01:00|\n",
      "| 13|  507.18|       Miguel Araujo|            75113657|              Nubank|Marcos Vinicius G...|             67418115|                 Itau|           cpf|    84763129031|2021-03-07 12:34:00|\n",
      "| 14|67758.87|     Juliana Correia|             4495167|                Itau|    Davi Lucas Porto|             94395923|                  BTG|           cpf|    97804215649|2021-03-24 22:58:00|\n",
      "| 15|  815.53|     Ana Laura Souza|            79650252|                Itau|        Isabel Costa|             28762988|                  BTG|           cpf|    51824039689|2022-02-21 11:25:00|\n",
      "| 16|    2.73|           Levi Lima|            73815441|                 BTG|Dra. Maria Luiza ...|             96594203|             Bradesco|           cpf|    94516738066|2021-07-20 09:17:00|\n",
      "| 17|    0.54|        Otavio Cunha|            85583961|            Bradesco|       Elisa Moreira|             97003354|             Bradesco|           cpf|    15248769094|2022-02-16 10:16:00|\n",
      "| 18|49836.72|Ana Carolina Oliv...|            80200942|                Itau|    Stella Fernandes|             31579145|                  BTG|           cpf|    47609381250|2022-07-18 22:46:00|\n",
      "| 19|    9.68|        Levi Martins|            12349481|                Itau|Joao Guilherme Me...|             31102492|                  BTG|       celular|    11916824404|2022-02-26 15:05:00|\n",
      "| 20| 9837.22|          Noah Cunha|            84622162|            Bradesco|         Juan Mendes|             97805965|             Bradesco|       celular|    11944547225|2021-06-22 05:39:00|\n",
      "+---+--------+--------------------+--------------------+--------------------+--------------------+---------------------+---------------------+--------------+---------------+-------------------+\n",
      "only showing top 20 rows\n",
      "\n"
     ]
    }
   ],
   "source": [
    "df_pp.show()"
   ]
  },
  {
   "cell_type": "markdown",
   "metadata": {},
   "source": [
    "## Código:"
   ]
  },
  {
   "cell_type": "code",
   "execution_count": null,
   "metadata": {},
   "outputs": [],
   "source": []
  },
  {
   "cell_type": "markdown",
   "metadata": {},
   "source": [
    "# output:"
   ]
  },
  {
   "cell_type": "code",
   "execution_count": null,
   "metadata": {},
   "outputs": [
    {
     "name": "stdout",
     "output_type": "stream",
     "text": [
      "root\n",
      " |-- id: integer (nullable = true)\n",
      " |-- valor: double (nullable = true)\n",
      " |-- parte_debitada_nome: string (nullable = true)\n",
      " |-- parte_debitada_conta: string (nullable = true)\n",
      " |-- parte_debitada_banco: string (nullable = true)\n",
      " |-- parte_creditada_nome: string (nullable = true)\n",
      " |-- parte_creditada_conta: string (nullable = true)\n",
      " |-- parte_creditada_banco: string (nullable = true)\n",
      " |-- chave_pix_tipo: string (nullable = true)\n",
      " |-- chave_pix_valor: string (nullable = true)\n",
      " |-- data_transacao: timestamp (nullable = true)\n",
      "\n"
     ]
    }
   ],
   "source": [
    "df_pp.printSchema()"
   ]
  },
  {
   "cell_type": "markdown",
   "metadata": {},
   "source": [
    "Como verficar as partições?"
   ]
  },
  {
   "cell_type": "code",
   "execution_count": null,
   "metadata": {},
   "outputs": [
    {
     "data": {
      "text/plain": [
       "1"
      ]
     },
     "execution_count": 50,
     "metadata": {},
     "output_type": "execute_result"
    }
   ],
   "source": [
    "df_pp.rdd.getNumPartitions()"
   ]
  },
  {
   "cell_type": "markdown",
   "metadata": {},
   "source": [
    "Como verificar as especificações da marquina?"
   ]
  },
  {
   "cell_type": "code",
   "execution_count": null,
   "metadata": {},
   "outputs": [],
   "source": [
    "# !lscpu"
   ]
  },
  {
   "cell_type": "markdown",
   "metadata": {},
   "source": [
    "Como particionar a coluna 'chave_pix_tipo'?"
   ]
  },
  {
   "cell_type": "code",
   "execution_count": null,
   "metadata": {},
   "outputs": [],
   "source": [
    "(\n",
    "    df_pp\n",
    "    .write\n",
    "    .mode('overwrite')\n",
    "    .partitionBy('chave_pix_tipo')\n",
    "    .parquet('chave_pix_tipo')\n",
    ")"
   ]
  },
  {
   "cell_type": "markdown",
   "metadata": {},
   "source": [
    "Como criar uma coluna de data nesse formato 'yyy-mm-dd'?"
   ]
  },
  {
   "cell_type": "code",
   "execution_count": null,
   "metadata": {},
   "outputs": [],
   "source": [
    "df_final = df_cast.withColumn(\n",
    "    'data_particao',\n",
    "    date_format(col('data_transacao'), 'yyyy-mm-dd')\n",
    ")"
   ]
  },
  {
   "cell_type": "code",
   "execution_count": null,
   "metadata": {},
   "outputs": [
    {
     "name": "stdout",
     "output_type": "stream",
     "text": [
      "+---+--------+--------------------+--------------------+--------------------+--------------------+---------------------+---------------------+--------------+---------------+-------------------+-------------+\n",
      "| id|   valor| parte_debitada_nome|parte_debitada_conta|parte_debitada_banco|parte_creditada_nome|parte_creditada_conta|parte_creditada_banco|chave_pix_tipo|chave_pix_valor|     data_transacao|data_particao|\n",
      "+---+--------+--------------------+--------------------+--------------------+--------------------+---------------------+---------------------+--------------+---------------+-------------------+-------------+\n",
      "|  1|    9.93|Dra. Ana Carolina...|            79470453|              Nubank|       Maysa da Cruz|             67162333|                 Itau|           cpf|     8439752610|2022-02-18 13:28:00|   2022-28-18|\n",
      "|  2|   15.38|        Ana Caldeira|            19689668|                Itau|        Evelyn Sales|             60005091|             Bradesco|           cpf|    27145380617|2022-04-08 01:47:00|   2022-47-08|\n",
      "|  3|   57.58|    Arthur Goncalves|            18856899|            Bradesco|          Maria Melo|             13496303|                  BTG|           cpf|    16452937006|2022-07-14 03:18:00|   2022-18-14|\n",
      "|  4|53705.13|  Ana Julia Caldeira|            22834741|                Itau|   Ana Livia Almeida|             44695116|               Nubank|           cpf|    26590384142|2022-01-15 18:06:00|   2022-06-15|\n",
      "|  5|25299.69|  Srta. Nicole Pinto|             3715882|              Nubank|Srta. Ana Laura d...|             21409465|               Nubank|           cpf|    73486105280|2022-05-13 11:04:00|   2022-04-13|\n",
      "|  6| 7165.06|   Gabriela Ferreira|             2243037|              Nubank|       Larissa Souza|             10689552|                 Itau|           cpf|    96845371237|2022-09-11 13:38:00|   2022-38-11|\n",
      "|  7|    6.16|    Heloisa da Rocha|            59778949|                 BTG|Dra. Vitoria Silv...|             56583792|               Nubank|           cpf|    89064175357|2021-12-10 12:37:00|   2021-37-10|\n",
      "|  8|  136.36|Srta. Isadora Cor...|            77102442|              Nubank|  Francisco da Costa|             96088386|               Nubank|           cpf|    85907632429|2021-12-30 23:18:00|   2021-18-30|\n",
      "|  9|  574.39|   Dr. Lucas da Cruz|            38501170|                 BTG|       Calebe da Luz|             19365554|             Bradesco|           cpf|    64720189520|2021-06-21 07:20:00|   2021-20-21|\n",
      "| 10|   42.88|     Mirella Martins|            29535709|            Bradesco|        Danilo Lopes|             60064650|                 Itau|           cpf|    87014935232|2022-09-21 17:19:00|   2022-19-21|\n",
      "| 11|33629.97|Sr. Vitor Gabriel...|            67010663|                 BTG|Sra. Lavinia Cald...|             48145941|               Nubank|           cpf|    63542098124|2022-09-12 00:29:00|   2022-29-12|\n",
      "| 12| 4374.56|      Nathan Peixoto|            22975623|              Nubank|        Diogo da Luz|             30302218|             Bradesco|           cpf|    72908154323|2022-08-07 17:01:00|   2022-01-07|\n",
      "| 13|  507.18|       Miguel Araujo|            75113657|              Nubank|Marcos Vinicius G...|             67418115|                 Itau|           cpf|    84763129031|2021-03-07 12:34:00|   2021-34-07|\n",
      "| 14|67758.87|     Juliana Correia|             4495167|                Itau|    Davi Lucas Porto|             94395923|                  BTG|           cpf|    97804215649|2021-03-24 22:58:00|   2021-58-24|\n",
      "| 15|  815.53|     Ana Laura Souza|            79650252|                Itau|        Isabel Costa|             28762988|                  BTG|           cpf|    51824039689|2022-02-21 11:25:00|   2022-25-21|\n",
      "| 16|    2.73|           Levi Lima|            73815441|                 BTG|Dra. Maria Luiza ...|             96594203|             Bradesco|           cpf|    94516738066|2021-07-20 09:17:00|   2021-17-20|\n",
      "| 17|    0.54|        Otavio Cunha|            85583961|            Bradesco|       Elisa Moreira|             97003354|             Bradesco|           cpf|    15248769094|2022-02-16 10:16:00|   2022-16-16|\n",
      "| 18|49836.72|Ana Carolina Oliv...|            80200942|                Itau|    Stella Fernandes|             31579145|                  BTG|           cpf|    47609381250|2022-07-18 22:46:00|   2022-46-18|\n",
      "| 19|    9.68|        Levi Martins|            12349481|                Itau|Joao Guilherme Me...|             31102492|                  BTG|       celular|    11916824404|2022-02-26 15:05:00|   2022-05-26|\n",
      "| 20| 9837.22|          Noah Cunha|            84622162|            Bradesco|         Juan Mendes|             97805965|             Bradesco|       celular|    11944547225|2021-06-22 05:39:00|   2021-39-22|\n",
      "+---+--------+--------------------+--------------------+--------------------+--------------------+---------------------+---------------------+--------------+---------------+-------------------+-------------+\n",
      "only showing top 20 rows\n",
      "\n"
     ]
    }
   ],
   "source": [
    "df_final.show()"
   ]
  },
  {
   "cell_type": "markdown",
   "metadata": {},
   "source": [
    "Como guarda os dados no formato parquet?"
   ]
  },
  {
   "cell_type": "code",
   "execution_count": null,
   "metadata": {},
   "outputs": [
    {
     "name": "stderr",
     "output_type": "stream",
     "text": [
      "                                                                                \r"
     ]
    }
   ],
   "source": [
    "(\n",
    "    df_final\n",
    "    .write\n",
    "    .mode('overwrite')\n",
    "    .partitionBy('data_particao')\n",
    "    .parquet('data_particao')\n",
    ")"
   ]
  },
  {
   "cell_type": "markdown",
   "metadata": {},
   "source": [
    "Como ler o df particionado?"
   ]
  },
  {
   "cell_type": "code",
   "execution_count": null,
   "metadata": {},
   "outputs": [
    {
     "name": "stderr",
     "output_type": "stream",
     "text": [
      "                                                                                \r"
     ]
    }
   ],
   "source": [
    "df_particionado = (\n",
    "    spark\n",
    "    .read\n",
    "    .parquet('data_particao')\n",
    ")"
   ]
  },
  {
   "cell_type": "code",
   "execution_count": null,
   "metadata": {},
   "outputs": [
    {
     "name": "stdout",
     "output_type": "stream",
     "text": [
      "+---+--------+--------------------+--------------------+--------------------+--------------------+---------------------+---------------------+--------------+--------------------+-------------------+-------------+\n",
      "| id|   valor| parte_debitada_nome|parte_debitada_conta|parte_debitada_banco|parte_creditada_nome|parte_creditada_conta|parte_creditada_banco|chave_pix_tipo|     chave_pix_valor|     data_transacao|data_particao|\n",
      "+---+--------+--------------------+--------------------+--------------------+--------------------+---------------------+---------------------+--------------+--------------------+-------------------+-------------+\n",
      "| 87|    0.93|     Mariane da Mota|            84120695|            Bradesco|Dra. Alana das Neves|             96784904|             Bradesco|         email|alana.das.neves@h...|2021-06-20 16:41:00|   2021-41-20|\n",
      "| 88|78347.58|     Lorenzo Ribeiro|            50434631|                 BTG|Maria Clara Rodri...|             26325899|                 Itau|         email|maria.clara.rodri...|2021-03-18 14:21:00|   2021-21-18|\n",
      "| 78|81977.98|      Giovanna Costa|            37809286|                Itau|Joao Guilherme Ramos|             75756231|             Bradesco|         email|joao.guilherme.ra...|2021-02-16 18:57:00|   2021-57-16|\n",
      "| 77| 8265.44|         Sarah Jesus|             4764581|                 BTG|Luiz Henrique das...|             71227398|                  BTG|         email|luiz.henrique.das...|2021-11-21 09:17:00|   2021-17-21|\n",
      "| 95|  202.69| Joao Gabriel Castro|            50219556|                 BTG|   Ana Clara Ribeiro|             98997500|               Nubank|         email|ana.clara.ribeiro...|2021-04-19 12:46:00|   2021-46-19|\n",
      "| 81|     1.9|    Srta. Lara Costa|            81344472|                 BTG|Sra. Gabrielly Ca...|             10431480|                  BTG|         email|gabrielly.caldeir...|2021-08-11 04:10:00|   2021-10-11|\n",
      "| 76| 9320.87|  Joao Pedro Freitas|            26109760|                Itau|   Srta. Laura Pinto|             84371001|               Nubank|         email|srta..laura.pinto...|2021-07-16 00:01:00|   2021-01-16|\n",
      "| 82| 2842.73|     Juliana Cardoso|            75484383|                Itau| Ana Luiza Fernandes|               320358|               Nubank|         email|ana.luiza.fernand...|2022-10-29 23:43:00|   2022-43-29|\n",
      "| 90|   32.23|  Sr. Matheus Santos|            73634717|            Bradesco|     Isabel Ferreira|              4979355|               Nubank|         email|isabel.ferreira@g...|2022-08-22 19:56:00|   2022-56-22|\n",
      "| 79| 78559.4|Lucas Gabriel Car...|            21729930|            Bradesco|       Brenda da Luz|             11563344|                 Itau|         email|brenda.da.luz@hot...|2022-01-09 22:31:00|   2022-31-09|\n",
      "| 85|    4.68|          Joao Rocha|            38006155|            Bradesco|    Juliana da Cunha|             31455037|             Bradesco|         email|juliana.da.cunha@...|2022-02-23 01:30:00|   2022-30-23|\n",
      "| 96|  869.39|  Ana Livia Carvalho|            95439137|                Itau| Dra. Vitoria da Paz|             32448747|                  BTG|         email|vitoria.da.paz@ho...|2022-07-30 19:56:00|   2022-56-30|\n",
      "| 29|  890.47|Sr. Luiz Felipe S...|            20051189|            Bradesco|Enzo Gabriel Cardoso|             17302910|               Nubank|       celular|         31920761665|2022-11-19 19:25:00|   2022-25-19|\n",
      "| 73|  570.52|    Dr. Caue Rezende|             1586882|                 BTG|   Francisco Azevedo|             73933646|                  BTG|         email|francisco.azevedo...|2021-08-02 18:40:00|   2021-40-02|\n",
      "| 86|94736.79|Joao Vitor Cavalc...|            52265189|                 BTG|        Stella Gomes|             93858790|               Nubank|         email|stella.gomes@yaho...|2021-01-26 00:04:00|   2021-04-26|\n",
      "| 99|    9.77|   Ana Livia Correia|            37128931|                Itau|     Gabrielly Viana|             97906999|               Nubank|         email|gabrielly.viana@g...|2022-02-01 20:54:00|   2022-54-01|\n",
      "| 11|33629.97|Sr. Vitor Gabriel...|            67010663|                 BTG|Sra. Lavinia Cald...|             48145941|               Nubank|           cpf|         63542098124|2022-09-12 00:29:00|   2022-29-12|\n",
      "| 30| 3035.83|Dr. Davi Lucas Ca...|             7706330|                 BTG|Enzo Gabriel Nasc...|             95438570|               Nubank|       celular|         21995027998|2021-01-09 02:17:00|   2021-17-09|\n",
      "| 75| 1188.65|    Davi Lucas Viana|             8744886|              Nubank|        Enrico Sales|             41968952|             Bradesco|         email|enrico.sales@hotm...|2022-04-12 04:02:00|   2022-02-12|\n",
      "| 80|  452.38|     Arthur Carvalho|            23482854|            Bradesco|      Catarina Moura|             38128549|                  BTG|         email|catarina.moura@gm...|2022-11-04 01:50:00|   2022-50-04|\n",
      "+---+--------+--------------------+--------------------+--------------------+--------------------+---------------------+---------------------+--------------+--------------------+-------------------+-------------+\n",
      "only showing top 20 rows\n",
      "\n"
     ]
    }
   ],
   "source": [
    "df_particionado.show()"
   ]
  },
  {
   "cell_type": "markdown",
   "metadata": {},
   "source": [
    "Qual é a quantidade de partições?"
   ]
  },
  {
   "cell_type": "code",
   "execution_count": null,
   "metadata": {},
   "outputs": [
    {
     "data": {
      "text/plain": [
       "4"
      ]
     },
     "execution_count": 58,
     "metadata": {},
     "output_type": "execute_result"
    }
   ],
   "source": [
    "df_particionado.rdd.getNumPartitions()"
   ]
  },
  {
   "cell_type": "markdown",
   "metadata": {},
   "source": [
    "Como diminuir o número de partições?"
   ]
  },
  {
   "cell_type": "code",
   "execution_count": null,
   "metadata": {},
   "outputs": [],
   "source": [
    "df_particionado_coalesce = (\n",
    "    df_particionado\n",
    "    .coalesce(2)\n",
    ")"
   ]
  },
  {
   "cell_type": "code",
   "execution_count": null,
   "metadata": {},
   "outputs": [
    {
     "data": {
      "text/plain": [
       "2"
      ]
     },
     "execution_count": 60,
     "metadata": {},
     "output_type": "execute_result"
    }
   ],
   "source": [
    "df_particionado_coalesce.rdd.getNumPartitions()"
   ]
  },
  {
   "cell_type": "markdown",
   "metadata": {},
   "source": [
    "Como criar uma coluna de data nesse formato 'yyyy-mm'?"
   ]
  },
  {
   "cell_type": "code",
   "execution_count": null,
   "metadata": {},
   "outputs": [],
   "source": [
    "df_final_ano_mes = df_cast.withColumn(\n",
    "    'data_particao',\n",
    "    date_format(col('data_transacao'), 'yyyy-MM')\n",
    ")"
   ]
  },
  {
   "cell_type": "markdown",
   "metadata": {},
   "source": [
    "Como guardar os dados no formato parquet?"
   ]
  },
  {
   "cell_type": "code",
   "execution_count": null,
   "metadata": {},
   "outputs": [],
   "source": [
    "(\n",
    "    df_final_ano_mes\n",
    "    .write\n",
    "    .mode('overwrite')\n",
    "    .partitionBy('data_particao')\n",
    "    .parquet('data_particao')\n",
    ")"
   ]
  },
  {
   "cell_type": "markdown",
   "metadata": {},
   "source": [
    "# SparkUI - Prática:"
   ]
  },
  {
   "cell_type": "markdown",
   "metadata": {},
   "source": [
    "## Schema:"
   ]
  },
  {
   "cell_type": "code",
   "execution_count": null,
   "metadata": {},
   "outputs": [],
   "source": [
    "schema_remetente_distinatario = StructType([\n",
    "    StructField('nome', StringType()),\n",
    "    StructField('banco', StringType()),\n",
    "    StructField('tipo', StringType()),\n",
    "])\n",
    "\n",
    "schema = StructType([\n",
    "    StructField('id_transacao', StringType()),\n",
    "    StructField('chave_pix', StringType()),\n",
    "    StructField('destinatario', schema_remetente_distinatario),\n",
    "    StructField('remetente', schema_remetente_distinatario),\n",
    "    StructField('valor', DoubleType()),\n",
    "    StructField('transaction_date', TimestampType()),\n",
    "])"
   ]
  },
  {
   "cell_type": "markdown",
   "metadata": {},
   "source": [
    "## DataFrame:"
   ]
  },
  {
   "cell_type": "code",
   "execution_count": null,
   "metadata": {},
   "outputs": [],
   "source": [
    "path = r'../../../data/pix_transactions.json'\n",
    "df = spark.read.json(\n",
    "    path,\n",
    "    schema=schema,\n",
    "    timestampFormat='yyyy-MM-dd'\n",
    ")"
   ]
  },
  {
   "cell_type": "code",
   "execution_count": null,
   "metadata": {},
   "outputs": [
    {
     "name": "stderr",
     "output_type": "stream",
     "text": [
      "[Stage 44:>                                                         (0 + 1) / 1]\r"
     ]
    },
    {
     "name": "stdout",
     "output_type": "stream",
     "text": [
      "+------------+---------+--------------------+--------------------+--------+-------------------+\n",
      "|id_transacao|chave_pix|        destinatario|           remetente|   valor|   transaction_date|\n",
      "+------------+---------+--------------------+--------------------+--------+-------------------+\n",
      "|        1000|      cpf|{Gabriel Cunha, I...|{Jonathan Gonsalv...|    7.05|2022-03-19 00:00:00|\n",
      "|        1001|aleatoria|{Diego Souza, XP,...|{Jonathan Gonsalv...|   37.28|2021-01-26 00:00:00|\n",
      "|        1002|aleatoria|{Nicole Nunes, BT...|{Jonathan Gonsalv...|  282.73|2022-05-31 00:00:00|\n",
      "|        1003|aleatoria|{Maria Fernanda C...|{Jonathan Gonsalv...| 8447.92|2022-07-04 00:00:00|\n",
      "|        1004|aleatoria|{Isabel Silva, C6...|{Jonathan Gonsalv...|   58.51|2021-09-11 00:00:00|\n",
      "|        1005|  celular|{Anthony Carvalho...|{Jonathan Gonsalv...| 6655.12|2022-02-11 00:00:00|\n",
      "|        1006|      cpf|{Eloah Monteiro, ...|{Jonathan Gonsalv...| 9912.25|2022-05-10 00:00:00|\n",
      "|        1007|aleatoria|{Sophie Rocha, BT...|{Jonathan Gonsalv...| 8212.91|2022-08-28 00:00:00|\n",
      "|        1008|      cpf|{Pietro Ribeiro, ...|{Jonathan Gonsalv...|   91.71|2022-03-23 00:00:00|\n",
      "|        1009|      cpf|{Eloah Teixeira, ...|{Jonathan Gonsalv...|   44.29|2021-09-18 00:00:00|\n",
      "|        1010|    email|{Emanuella Sales,...|{Jonathan Gonsalv...|     8.2|2022-11-10 00:00:00|\n",
      "|        1011|    email|{Valentina Campos...|{Jonathan Gonsalv...|    1.69|2021-07-15 00:00:00|\n",
      "|        1012|    email|{Stella Araujo, X...|{Jonathan Gonsalv...|  442.76|2021-11-14 00:00:00|\n",
      "|        1013|aleatoria|{Benicio Costela,...|{Jonathan Gonsalv...|    5.02|2022-11-15 00:00:00|\n",
      "|        1014|      cpf|{Joao Fernandes, ...|{Jonathan Gonsalv...|79576.33|2021-03-13 00:00:00|\n",
      "|        1015|    email|{Gabriela da Roch...|{Jonathan Gonsalv...|   96.61|2022-08-05 00:00:00|\n",
      "|        1016|  celular|{Larissa Aragao, ...|{Jonathan Gonsalv...|   16.92|2022-09-01 00:00:00|\n",
      "|        1017|  celular|{Theo Dias, BTG, PJ}|{Jonathan Gonsalv...| 7128.87|2022-02-02 00:00:00|\n",
      "|        1018|aleatoria|{Danilo Jesus, XP...|{Jonathan Gonsalv...| 1658.63|2021-08-11 00:00:00|\n",
      "|        1019|  celular|{Bruno Correia, C...|{Jonathan Gonsalv...| 3935.92|2022-07-14 00:00:00|\n",
      "+------------+---------+--------------------+--------------------+--------+-------------------+\n",
      "only showing top 20 rows\n",
      "\n"
     ]
    },
    {
     "name": "stderr",
     "output_type": "stream",
     "text": [
      "                                                                                \r"
     ]
    }
   ],
   "source": [
    "df.show()"
   ]
  },
  {
   "cell_type": "markdown",
   "metadata": {},
   "source": [
    "## Código:"
   ]
  },
  {
   "cell_type": "code",
   "execution_count": null,
   "metadata": {},
   "outputs": [],
   "source": []
  },
  {
   "cell_type": "markdown",
   "metadata": {},
   "source": [
    "## Output:"
   ]
  },
  {
   "cell_type": "code",
   "execution_count": null,
   "metadata": {},
   "outputs": [
    {
     "name": "stdout",
     "output_type": "stream",
     "text": [
      "root\n",
      " |-- id_transacao: string (nullable = true)\n",
      " |-- chave_pix: string (nullable = true)\n",
      " |-- destinatario: struct (nullable = true)\n",
      " |    |-- nome: string (nullable = true)\n",
      " |    |-- banco: string (nullable = true)\n",
      " |    |-- tipo: string (nullable = true)\n",
      " |-- remetente: struct (nullable = true)\n",
      " |    |-- nome: string (nullable = true)\n",
      " |    |-- banco: string (nullable = true)\n",
      " |    |-- tipo: string (nullable = true)\n",
      " |-- valor: double (nullable = true)\n",
      " |-- transaction_date: timestamp (nullable = true)\n",
      "\n"
     ]
    }
   ],
   "source": [
    "df.printSchema()"
   ]
  },
  {
   "cell_type": "markdown",
   "metadata": {},
   "source": [
    "# SparkSQL - Introdução:"
   ]
  },
  {
   "cell_type": "markdown",
   "metadata": {},
   "source": [
    "## Schema:"
   ]
  },
  {
   "cell_type": "code",
   "execution_count": null,
   "metadata": {},
   "outputs": [],
   "source": [
    "schema = StructType([\n",
    "    StructField('id', IntegerType()),\n",
    "    StructField('valor', DoubleType()),\n",
    "    StructField('parte_debitada_nome', StringType()),\n",
    "    StructField('parte_debitada_conta', StringType()),\n",
    "    StructField('parte_debitada_banco', StringType()),\n",
    "    StructField('parte_creditada_nome', StringType()),\n",
    "    StructField('parte_creditada_conta', StringType()),\n",
    "    StructField('parte_creditada_banco', StringType()),\n",
    "    StructField('chave_pix_tipo', StringType()),\n",
    "    StructField('chave_pix_valor', StringType()),\n",
    "    StructField('data_transacao', TimestampType())\n",
    "])"
   ]
  },
  {
   "cell_type": "markdown",
   "metadata": {},
   "source": [
    "## DataFrame:"
   ]
  },
  {
   "cell_type": "code",
   "execution_count": null,
   "metadata": {},
   "outputs": [],
   "source": [
    "path = r'../../../data/base_de_dados.csv'\n",
    "df = spark.read.csv(\n",
    "    path=path,\n",
    "    header=True,\n",
    "    schema=schema,\n",
    "    sep=';',\n",
    "    timestampFormat='dd/MM/yyyy HH:mm'\n",
    ").createOrReplaceTempView(\"base_pix\")"
   ]
  },
  {
   "cell_type": "code",
   "execution_count": null,
   "metadata": {},
   "outputs": [
    {
     "name": "stdout",
     "output_type": "stream",
     "text": [
      "+---+--------+--------------------+--------------------+--------------------+--------------------+---------------------+---------------------+--------------+---------------+-------------------+\n",
      "| id|   valor| parte_debitada_nome|parte_debitada_conta|parte_debitada_banco|parte_creditada_nome|parte_creditada_conta|parte_creditada_banco|chave_pix_tipo|chave_pix_valor|     data_transacao|\n",
      "+---+--------+--------------------+--------------------+--------------------+--------------------+---------------------+---------------------+--------------+---------------+-------------------+\n",
      "|  1|    9.93|Dra. Ana Carolina...|            79470453|              Nubank|       Maysa da Cruz|             67162333|                 Itau|           cpf|     8439752610|2022-02-18 13:28:00|\n",
      "|  2|   15.38|        Ana Caldeira|            19689668|                Itau|        Evelyn Sales|             60005091|             Bradesco|           cpf|    27145380617|2022-04-08 01:47:00|\n",
      "|  3|   57.58|    Arthur Goncalves|            18856899|            Bradesco|          Maria Melo|             13496303|                  BTG|           cpf|    16452937006|2022-07-14 03:18:00|\n",
      "|  4|53705.13|  Ana Julia Caldeira|            22834741|                Itau|   Ana Livia Almeida|             44695116|               Nubank|           cpf|    26590384142|2022-01-15 18:06:00|\n",
      "|  5|25299.69|  Srta. Nicole Pinto|             3715882|              Nubank|Srta. Ana Laura d...|             21409465|               Nubank|           cpf|    73486105280|2022-05-13 11:04:00|\n",
      "|  6| 7165.06|   Gabriela Ferreira|             2243037|              Nubank|       Larissa Souza|             10689552|                 Itau|           cpf|    96845371237|2022-09-11 13:38:00|\n",
      "|  7|    6.16|    Heloisa da Rocha|            59778949|                 BTG|Dra. Vitoria Silv...|             56583792|               Nubank|           cpf|    89064175357|2021-12-10 12:37:00|\n",
      "|  8|  136.36|Srta. Isadora Cor...|            77102442|              Nubank|  Francisco da Costa|             96088386|               Nubank|           cpf|    85907632429|2021-12-30 23:18:00|\n",
      "|  9|  574.39|   Dr. Lucas da Cruz|            38501170|                 BTG|       Calebe da Luz|             19365554|             Bradesco|           cpf|    64720189520|2021-06-21 07:20:00|\n",
      "| 10|   42.88|     Mirella Martins|            29535709|            Bradesco|        Danilo Lopes|             60064650|                 Itau|           cpf|    87014935232|2022-09-21 17:19:00|\n",
      "| 11|33629.97|Sr. Vitor Gabriel...|            67010663|                 BTG|Sra. Lavinia Cald...|             48145941|               Nubank|           cpf|    63542098124|2022-09-12 00:29:00|\n",
      "| 12| 4374.56|      Nathan Peixoto|            22975623|              Nubank|        Diogo da Luz|             30302218|             Bradesco|           cpf|    72908154323|2022-08-07 17:01:00|\n",
      "| 13|  507.18|       Miguel Araujo|            75113657|              Nubank|Marcos Vinicius G...|             67418115|                 Itau|           cpf|    84763129031|2021-03-07 12:34:00|\n",
      "| 14|67758.87|     Juliana Correia|             4495167|                Itau|    Davi Lucas Porto|             94395923|                  BTG|           cpf|    97804215649|2021-03-24 22:58:00|\n",
      "| 15|  815.53|     Ana Laura Souza|            79650252|                Itau|        Isabel Costa|             28762988|                  BTG|           cpf|    51824039689|2022-02-21 11:25:00|\n",
      "| 16|    2.73|           Levi Lima|            73815441|                 BTG|Dra. Maria Luiza ...|             96594203|             Bradesco|           cpf|    94516738066|2021-07-20 09:17:00|\n",
      "| 17|    0.54|        Otavio Cunha|            85583961|            Bradesco|       Elisa Moreira|             97003354|             Bradesco|           cpf|    15248769094|2022-02-16 10:16:00|\n",
      "| 18|49836.72|Ana Carolina Oliv...|            80200942|                Itau|    Stella Fernandes|             31579145|                  BTG|           cpf|    47609381250|2022-07-18 22:46:00|\n",
      "| 19|    9.68|        Levi Martins|            12349481|                Itau|Joao Guilherme Me...|             31102492|                  BTG|       celular|    11916824404|2022-02-26 15:05:00|\n",
      "| 20| 9837.22|          Noah Cunha|            84622162|            Bradesco|         Juan Mendes|             97805965|             Bradesco|       celular|    11944547225|2021-06-22 05:39:00|\n",
      "+---+--------+--------------------+--------------------+--------------------+--------------------+---------------------+---------------------+--------------+---------------+-------------------+\n",
      "only showing top 20 rows\n",
      "\n"
     ]
    }
   ],
   "source": [
    "spark.sql('select * from base_pix').show()"
   ]
  },
  {
   "cell_type": "markdown",
   "metadata": {},
   "source": [
    "## Código:"
   ]
  },
  {
   "cell_type": "code",
   "execution_count": null,
   "metadata": {},
   "outputs": [],
   "source": []
  },
  {
   "cell_type": "markdown",
   "metadata": {},
   "source": [
    "## Output:"
   ]
  },
  {
   "cell_type": "markdown",
   "metadata": {},
   "source": [
    "Qual foi a quantidade de transações por tido de chave pix?"
   ]
  },
  {
   "cell_type": "code",
   "execution_count": null,
   "metadata": {},
   "outputs": [
    {
     "name": "stdout",
     "output_type": "stream",
     "text": [
      "+--------------+----------+\n",
      "|chave_pix_tipo|quantidade|\n",
      "+--------------+----------+\n",
      "|       celular|        22|\n",
      "|         email|        29|\n",
      "|           cpf|        49|\n",
      "+--------------+----------+\n",
      "\n"
     ]
    }
   ],
   "source": [
    "query = \"\"\"\n",
    "select\n",
    "    chave_pix_tipo,\n",
    "    count(id) as quantidade\n",
    "from base_pix\n",
    "\n",
    "group by chave_pix_tipo\n",
    "\"\"\"\n",
    "spark.sql(query).show()"
   ]
  },
  {
   "cell_type": "markdown",
   "metadata": {},
   "source": [
    "Qual foi o valor total transacionado por tipo de chave pix?"
   ]
  },
  {
   "cell_type": "code",
   "execution_count": null,
   "metadata": {},
   "outputs": [
    {
     "name": "stdout",
     "output_type": "stream",
     "text": [
      "+--------------+-----------+\n",
      "|chave_pix_tipo|valor_total|\n",
      "+--------------+-----------+\n",
      "|       celular|  207778.46|\n",
      "|         email|  499009.38|\n",
      "|           cpf|  659513.35|\n",
      "+--------------+-----------+\n",
      "\n"
     ]
    }
   ],
   "source": [
    "query = \"\"\"\n",
    "select\n",
    "    chave_pix_tipo,\n",
    "    round(sum(valor), 2) as valor_total\n",
    "from base_pix\n",
    "\n",
    "group by chave_pix_tipo\n",
    "\"\"\"\n",
    "spark.sql(query).show()"
   ]
  },
  {
   "cell_type": "markdown",
   "metadata": {},
   "source": [
    "Qual foi a média transacionado por tipo de chave pix?"
   ]
  },
  {
   "cell_type": "code",
   "execution_count": null,
   "metadata": {},
   "outputs": [
    {
     "name": "stdout",
     "output_type": "stream",
     "text": [
      "+--------------+--------+\n",
      "|chave_pix_tipo|   media|\n",
      "+--------------+--------+\n",
      "|       celular| 9444.48|\n",
      "|         email|17207.22|\n",
      "|           cpf|13459.46|\n",
      "+--------------+--------+\n",
      "\n"
     ]
    }
   ],
   "source": [
    "query = \"\"\"\n",
    "select\n",
    "    chave_pix_tipo,\n",
    "    round(avg(valor), 2) as media\n",
    "from base_pix\n",
    "\n",
    "group by chave_pix_tipo\n",
    "\"\"\"\n",
    "\n",
    "spark.sql(query).show()"
   ]
  },
  {
   "cell_type": "markdown",
   "metadata": {},
   "source": [
    "# SparkSQL - II:"
   ]
  },
  {
   "cell_type": "markdown",
   "metadata": {},
   "source": [
    "## Schema:"
   ]
  },
  {
   "cell_type": "code",
   "execution_count": null,
   "metadata": {},
   "outputs": [],
   "source": [
    "schema_remetente_distinatario = StructType([\n",
    "    StructField('nome', StringType()),\n",
    "    StructField('banco', StringType()),\n",
    "    StructField('tipo', StringType()),\n",
    "])\n",
    "\n",
    "schema = StructType([\n",
    "    StructField('id_transacao', StringType()),\n",
    "    StructField('chave_pix', StringType()),\n",
    "    StructField('destinatario', schema_remetente_distinatario),\n",
    "    StructField('remetente', schema_remetente_distinatario),\n",
    "    StructField('valor', DoubleType()),\n",
    "    StructField('transaction_date', TimestampType()),\n",
    "])"
   ]
  },
  {
   "cell_type": "markdown",
   "metadata": {},
   "source": [
    "## DataFrame:"
   ]
  },
  {
   "cell_type": "code",
   "execution_count": null,
   "metadata": {},
   "outputs": [],
   "source": [
    "path = r'../../../data/pix_transactions.json'\n",
    "df = spark.read.json(\n",
    "    path,\n",
    "    schema=schema,\n",
    "    timestampFormat='yyyy-MM-dd'\n",
    ").createOrReplaceTempView(\"base_pix_json\")"
   ]
  },
  {
   "cell_type": "code",
   "execution_count": null,
   "metadata": {},
   "outputs": [
    {
     "name": "stderr",
     "output_type": "stream",
     "text": [
      "[Stage 55:>                                                         (0 + 1) / 1]\r"
     ]
    },
    {
     "name": "stdout",
     "output_type": "stream",
     "text": [
      "+------------+---------+--------------------+--------------------+--------+-------------------+\n",
      "|id_transacao|chave_pix|        destinatario|           remetente|   valor|   transaction_date|\n",
      "+------------+---------+--------------------+--------------------+--------+-------------------+\n",
      "|        1000|      cpf|{Gabriel Cunha, I...|{Jonathan Gonsalv...|    7.05|2022-03-19 00:00:00|\n",
      "|        1001|aleatoria|{Diego Souza, XP,...|{Jonathan Gonsalv...|   37.28|2021-01-26 00:00:00|\n",
      "|        1002|aleatoria|{Nicole Nunes, BT...|{Jonathan Gonsalv...|  282.73|2022-05-31 00:00:00|\n",
      "|        1003|aleatoria|{Maria Fernanda C...|{Jonathan Gonsalv...| 8447.92|2022-07-04 00:00:00|\n",
      "|        1004|aleatoria|{Isabel Silva, C6...|{Jonathan Gonsalv...|   58.51|2021-09-11 00:00:00|\n",
      "|        1005|  celular|{Anthony Carvalho...|{Jonathan Gonsalv...| 6655.12|2022-02-11 00:00:00|\n",
      "|        1006|      cpf|{Eloah Monteiro, ...|{Jonathan Gonsalv...| 9912.25|2022-05-10 00:00:00|\n",
      "|        1007|aleatoria|{Sophie Rocha, BT...|{Jonathan Gonsalv...| 8212.91|2022-08-28 00:00:00|\n",
      "|        1008|      cpf|{Pietro Ribeiro, ...|{Jonathan Gonsalv...|   91.71|2022-03-23 00:00:00|\n",
      "|        1009|      cpf|{Eloah Teixeira, ...|{Jonathan Gonsalv...|   44.29|2021-09-18 00:00:00|\n",
      "|        1010|    email|{Emanuella Sales,...|{Jonathan Gonsalv...|     8.2|2022-11-10 00:00:00|\n",
      "|        1011|    email|{Valentina Campos...|{Jonathan Gonsalv...|    1.69|2021-07-15 00:00:00|\n",
      "|        1012|    email|{Stella Araujo, X...|{Jonathan Gonsalv...|  442.76|2021-11-14 00:00:00|\n",
      "|        1013|aleatoria|{Benicio Costela,...|{Jonathan Gonsalv...|    5.02|2022-11-15 00:00:00|\n",
      "|        1014|      cpf|{Joao Fernandes, ...|{Jonathan Gonsalv...|79576.33|2021-03-13 00:00:00|\n",
      "|        1015|    email|{Gabriela da Roch...|{Jonathan Gonsalv...|   96.61|2022-08-05 00:00:00|\n",
      "|        1016|  celular|{Larissa Aragao, ...|{Jonathan Gonsalv...|   16.92|2022-09-01 00:00:00|\n",
      "|        1017|  celular|{Theo Dias, BTG, PJ}|{Jonathan Gonsalv...| 7128.87|2022-02-02 00:00:00|\n",
      "|        1018|aleatoria|{Danilo Jesus, XP...|{Jonathan Gonsalv...| 1658.63|2021-08-11 00:00:00|\n",
      "|        1019|  celular|{Bruno Correia, C...|{Jonathan Gonsalv...| 3935.92|2022-07-14 00:00:00|\n",
      "+------------+---------+--------------------+--------------------+--------+-------------------+\n",
      "only showing top 20 rows\n",
      "\n"
     ]
    },
    {
     "name": "stderr",
     "output_type": "stream",
     "text": [
      "                                                                                \r"
     ]
    }
   ],
   "source": [
    "spark.sql('select * from base_pix_json').show()"
   ]
  },
  {
   "cell_type": "markdown",
   "metadata": {},
   "source": [
    "## Código:"
   ]
  },
  {
   "cell_type": "code",
   "execution_count": null,
   "metadata": {},
   "outputs": [],
   "source": []
  },
  {
   "cell_type": "markdown",
   "metadata": {},
   "source": [
    "## Output:"
   ]
  },
  {
   "cell_type": "code",
   "execution_count": null,
   "metadata": {},
   "outputs": [
    {
     "name": "stderr",
     "output_type": "stream",
     "text": [
      "[Stage 56:>                                                         (0 + 1) / 1]\r"
     ]
    },
    {
     "name": "stdout",
     "output_type": "stream",
     "text": [
      "+--------+--------+\n",
      "|   banco|   valor|\n",
      "+--------+--------+\n",
      "|     BTG|99946.78|\n",
      "|     BTG| 99913.9|\n",
      "|Bradesco|99910.87|\n",
      "|Bradesco|99887.88|\n",
      "|      C6|99980.03|\n",
      "|      C6|99964.99|\n",
      "|   Caixa|99969.06|\n",
      "|   Caixa|99933.09|\n",
      "|    Itau|99999.54|\n",
      "|    Itau|99951.02|\n",
      "|  Nubank|99935.45|\n",
      "|  Nubank|99914.35|\n",
      "|      XP|99961.28|\n",
      "|      XP|99934.01|\n",
      "+--------+--------+\n",
      "\n"
     ]
    },
    {
     "name": "stderr",
     "output_type": "stream",
     "text": [
      "                                                                                \r"
     ]
    }
   ],
   "source": [
    "query = \"\"\"\n",
    "with cte_base_window(\n",
    "    select\n",
    "        destinatario.banco,\n",
    "        valor,\n",
    "        row_number() over(partition by destinatario.banco order by valor desc) as row_number\n",
    "    from base_pix_json\n",
    ") \n",
    "\n",
    "select\n",
    "    banco,\n",
    "    valor\n",
    "from cte_base_window\n",
    "where row_number in (1, 2)\n",
    "\"\"\"\n",
    "spark.sql(query).show()"
   ]
  },
  {
   "cell_type": "markdown",
   "metadata": {},
   "source": [
    "# SparkML - Intodução e Preparação dos Dados:"
   ]
  },
  {
   "cell_type": "markdown",
   "metadata": {},
   "source": [
    "# Schema:"
   ]
  },
  {
   "cell_type": "code",
   "execution_count": null,
   "metadata": {},
   "outputs": [],
   "source": [
    "schema_remetente_destinatario = StructType([\n",
    "    StructField('nome', StringType()),\n",
    "    StructField('banco', StringType()),\n",
    "    StructField('tipo', StringType())\n",
    "])\n",
    "\n",
    "schema = StructType([\n",
    "    StructField('id_transacao', IntegerType()),\n",
    "    StructField('valor', DoubleType()),\n",
    "    StructField('remetente', schema_remetente_destinatario),\n",
    "    StructField('destinatario', schema_remetente_destinatario),\n",
    "    StructField('chave_pix', StringType()),\n",
    "    StructField('categoria', StringType()),\n",
    "    StructField('transaction_date', StringType()),\n",
    "    StructField('fraude', IntegerType())\n",
    "])"
   ]
  },
  {
   "cell_type": "markdown",
   "metadata": {},
   "source": [
    "# DataFrame:"
   ]
  },
  {
   "cell_type": "code",
   "execution_count": null,
   "metadata": {},
   "outputs": [],
   "source": [
    "path = r'../../../data/case_final.json'\n",
    "df = spark.read.json(\n",
    "    path=path,\n",
    "    schema=schema,\n",
    "    timestampFormat=\"yyyy-MM-dd HH:mm:ss\"\n",
    ")"
   ]
  },
  {
   "cell_type": "code",
   "execution_count": null,
   "metadata": {},
   "outputs": [
    {
     "name": "stdout",
     "output_type": "stream",
     "text": [
      "+------------+------------------+--------------------+--------------------+---------+-------------+-------------------+------+\n",
      "|id_transacao|             valor|           remetente|        destinatario|chave_pix|    categoria|   transaction_date|fraude|\n",
      "+------------+------------------+--------------------+--------------------+---------+-------------+-------------------+------+\n",
      "|        1000|            588.08|{Jonathan Gonsalv...|{Calebe Melo, Cai...|aleatoria|       outros|2021-07-16 05:00:55|     0|\n",
      "|        1001|           80682.5|{Jonathan Gonsalv...|{Davi Lucas Perei...|  celular|transferencia|2022-04-20 12:34:01|     1|\n",
      "|        1002|             549.9|{Jonathan Gonsalv...|{Sabrina Castro, ...|      cpf|        lazer|2022-07-10 16:51:34|     0|\n",
      "|        1003|             90.83|{Jonathan Gonsalv...|{Francisco da Con...|aleatoria|   transporte|2022-10-20 10:57:36|     0|\n",
      "|        1004|13272.619999999999|{Jonathan Gonsalv...|{Isabelly Ferreir...|    email|transferencia|2021-04-06 20:26:51|     0|\n",
      "|        1005|           9347.58|{Jonathan Gonsalv...|{Srta. Maria da C...|aleatoria|        saude|2022-07-24 15:22:27|     0|\n",
      "|        1006|           7836.76|{Jonathan Gonsalv...|{Catarina Duarte,...|      cpf|    presentes|2022-10-05 19:20:24|     0|\n",
      "|        1007|           3883.62|{Jonathan Gonsalv...|{Vitor Correia, X...|      cpf|    vestuario|2021-04-24 17:36:34|     0|\n",
      "|        1008|               4.0|{Jonathan Gonsalv...|{Theo Novaes, C6,...|aleatoria|        saude|2021-11-16 21:46:47|     0|\n",
      "|        1009|              24.3|{Jonathan Gonsalv...|{Isabel Caldeira,...|      cpf|transferencia|2021-07-26 02:08:49|     0|\n",
      "|        1010|           87555.3|{Jonathan Gonsalv...|{Sr. Henrique Car...|aleatoria|transferencia|2022-03-14 15:34:45|     1|\n",
      "|        1011|          21345.91|{Jonathan Gonsalv...|{Felipe Cavalcant...|      cpf|transferencia|2021-10-31 04:31:51|     1|\n",
      "|        1012|          73605.85|{Jonathan Gonsalv...|{Dr. Davi da Luz,...|  celular|transferencia|2021-04-30 19:19:56|     1|\n",
      "|        1013|             93.53|{Jonathan Gonsalv...|{Stephany Cardoso...|      cpf|  alimentacao|2023-01-13 13:39:57|     0|\n",
      "|        1014|            564.11|{Jonathan Gonsalv...|{Sra. Julia Arauj...|aleatoria|    vestuario|2022-05-27 23:06:08|     0|\n",
      "|        1015|              3.59|{Jonathan Gonsalv...|{Carolina Farias,...|    email|        saude|2021-10-06 21:19:58|     0|\n",
      "|        1016|          19164.89|{Jonathan Gonsalv...|{Isabelly da Cost...|    email|  alimentacao|2022-03-06 17:59:43|     0|\n",
      "|        1017|             68.45|{Jonathan Gonsalv...|{Joao Miguel Silv...|aleatoria|    vestuario|2022-04-01 18:17:40|     0|\n",
      "|        1018|            941.25|{Jonathan Gonsalv...|{Matheus Moura, C...|  celular|    vestuario|2022-05-23 00:28:13|     0|\n",
      "|        1019|27009.910000000003|{Jonathan Gonsalv...|{Gabrielly Goncal...|    email|transferencia|2021-08-04 23:22:37|     1|\n",
      "+------------+------------------+--------------------+--------------------+---------+-------------+-------------------+------+\n",
      "only showing top 20 rows\n",
      "\n"
     ]
    },
    {
     "name": "stderr",
     "output_type": "stream",
     "text": [
      "                                                                                \r"
     ]
    }
   ],
   "source": [
    "df.show()"
   ]
  },
  {
   "cell_type": "markdown",
   "metadata": {},
   "source": [
    "## Código:"
   ]
  },
  {
   "cell_type": "code",
   "execution_count": null,
   "metadata": {},
   "outputs": [],
   "source": []
  },
  {
   "cell_type": "markdown",
   "metadata": {},
   "source": [
    "## Output:"
   ]
  },
  {
   "cell_type": "markdown",
   "metadata": {},
   "source": [
    "### Entendimento dos dados:"
   ]
  },
  {
   "cell_type": "code",
   "execution_count": null,
   "metadata": {},
   "outputs": [
    {
     "name": "stdout",
     "output_type": "stream",
     "text": [
      "root\n",
      " |-- id_transacao: integer (nullable = true)\n",
      " |-- valor: double (nullable = true)\n",
      " |-- remetente: struct (nullable = true)\n",
      " |    |-- nome: string (nullable = true)\n",
      " |    |-- banco: string (nullable = true)\n",
      " |    |-- tipo: string (nullable = true)\n",
      " |-- destinatario: struct (nullable = true)\n",
      " |    |-- nome: string (nullable = true)\n",
      " |    |-- banco: string (nullable = true)\n",
      " |    |-- tipo: string (nullable = true)\n",
      " |-- chave_pix: string (nullable = true)\n",
      " |-- categoria: string (nullable = true)\n",
      " |-- transaction_date: string (nullable = true)\n",
      " |-- fraude: integer (nullable = true)\n",
      "\n"
     ]
    }
   ],
   "source": [
    "df.printSchema()"
   ]
  },
  {
   "cell_type": "markdown",
   "metadata": {},
   "source": [
    "### Preparação dos dados:"
   ]
  },
  {
   "cell_type": "markdown",
   "metadata": {},
   "source": [
    "Como transforma a struct na coluna 'destinatario' em novas colunas?"
   ]
  },
  {
   "cell_type": "code",
   "execution_count": null,
   "metadata": {},
   "outputs": [],
   "source": [
    "df_flatten = df.withColumns({\n",
    "    'destinatario_nome': col('destinatario').getField('nome'),\n",
    "    'destinatario_banco': col('destinatario').getField('banco'),\n",
    "    'destinatario_tipo': col('destinatario').getField('tipo'),\n",
    "})"
   ]
  },
  {
   "cell_type": "markdown",
   "metadata": {},
   "source": [
    "Como deletar as colunas 'remetente' e 'destinatario'?"
   ]
  },
  {
   "cell_type": "code",
   "execution_count": null,
   "metadata": {},
   "outputs": [],
   "source": [
    "df_flatten = df_flatten.drop('remetente', 'destinatario')"
   ]
  },
  {
   "cell_type": "markdown",
   "metadata": {},
   "source": [
    "Qual foi o resultado final da preparação dos dados?"
   ]
  },
  {
   "cell_type": "code",
   "execution_count": null,
   "metadata": {},
   "outputs": [
    {
     "name": "stdout",
     "output_type": "stream",
     "text": [
      "+------------+------------------+---------+-------------+-------------------+------+--------------------+------------------+-----------------+\n",
      "|id_transacao|             valor|chave_pix|    categoria|   transaction_date|fraude|   destinatario_nome|destinatario_banco|destinatario_tipo|\n",
      "+------------+------------------+---------+-------------+-------------------+------+--------------------+------------------+-----------------+\n",
      "|        1000|            588.08|aleatoria|       outros|2021-07-16 05:00:55|     0|         Calebe Melo|             Caixa|               PF|\n",
      "|        1001|           80682.5|  celular|transferencia|2022-04-20 12:34:01|     1|  Davi Lucas Pereira|             Caixa|               PJ|\n",
      "|        1002|             549.9|      cpf|        lazer|2022-07-10 16:51:34|     0|      Sabrina Castro|            Nubank|               PF|\n",
      "|        1003|             90.83|aleatoria|   transporte|2022-10-20 10:57:36|     0|Francisco da Conc...|            Nubank|               PJ|\n",
      "|        1004|13272.619999999999|    email|transferencia|2021-04-06 20:26:51|     0|   Isabelly Ferreira|               BTG|               PJ|\n",
      "|        1005|           9347.58|aleatoria|        saude|2022-07-24 15:22:27|     0|Srta. Maria da Cunha|              Itau|               PJ|\n",
      "|        1006|           7836.76|      cpf|    presentes|2022-10-05 19:20:24|     0|     Catarina Duarte|                C6|               PF|\n",
      "|        1007|           3883.62|      cpf|    vestuario|2021-04-24 17:36:34|     0|       Vitor Correia|                XP|               PJ|\n",
      "|        1008|               4.0|aleatoria|        saude|2021-11-16 21:46:47|     0|         Theo Novaes|                C6|               PJ|\n",
      "|        1009|              24.3|      cpf|transferencia|2021-07-26 02:08:49|     0|     Isabel Caldeira|                XP|               PJ|\n",
      "|        1010|           87555.3|aleatoria|transferencia|2022-03-14 15:34:45|     1|Sr. Henrique Cardoso|            Nubank|               PF|\n",
      "|        1011|          21345.91|      cpf|transferencia|2021-10-31 04:31:51|     1|   Felipe Cavalcanti|            Nubank|               PJ|\n",
      "|        1012|          73605.85|  celular|transferencia|2021-04-30 19:19:56|     1|     Dr. Davi da Luz|          Bradesco|               PJ|\n",
      "|        1013|             93.53|      cpf|  alimentacao|2023-01-13 13:39:57|     0|    Stephany Cardoso|                C6|               PJ|\n",
      "|        1014|            564.11|aleatoria|    vestuario|2022-05-27 23:06:08|     0|   Sra. Julia Araujo|              Itau|               PJ|\n",
      "|        1015|              3.59|    email|        saude|2021-10-06 21:19:58|     0|     Carolina Farias|            Nubank|               PJ|\n",
      "|        1016|          19164.89|    email|  alimentacao|2022-03-06 17:59:43|     0|   Isabelly da Costa|            Nubank|               PJ|\n",
      "|        1017|             68.45|aleatoria|    vestuario|2022-04-01 18:17:40|     0|Joao Miguel Silveira|                C6|               PJ|\n",
      "|        1018|            941.25|  celular|    vestuario|2022-05-23 00:28:13|     0|       Matheus Moura|                C6|               PF|\n",
      "|        1019|27009.910000000003|    email|transferencia|2021-08-04 23:22:37|     1| Gabrielly Goncalves|              Itau|               PJ|\n",
      "+------------+------------------+---------+-------------+-------------------+------+--------------------+------------------+-----------------+\n",
      "only showing top 20 rows\n",
      "\n"
     ]
    }
   ],
   "source": [
    "df_flatten.show()"
   ]
  },
  {
   "cell_type": "markdown",
   "metadata": {},
   "source": [
    "Como transforma as variáveis categoricas em númericas?"
   ]
  },
  {
   "cell_type": "code",
   "execution_count": null,
   "metadata": {},
   "outputs": [
    {
     "name": "stderr",
     "output_type": "stream",
     "text": [
      "                                                                                \r"
     ]
    }
   ],
   "source": [
    "indexer = StringIndexer(\n",
    "    inputCols=[\n",
    "        'destinatario_nome',\n",
    "        'destinatario_banco',\n",
    "        'destinatario_tipo',\n",
    "        'categoria',\n",
    "        'chave_pix'\n",
    "    ],\n",
    "    outputCols=[\n",
    "        'destinatario_nome_index',\n",
    "        'destinatario_banco_index',\n",
    "        'destinatario_tipo_index',\n",
    "        'categoria_index',\n",
    "        'chave_pix_index'        \n",
    "    ]\n",
    ")\n",
    "\n",
    "df_index = indexer.fit(df_flatten).transform(df_flatten)"
   ]
  },
  {
   "cell_type": "markdown",
   "metadata": {},
   "source": [
    "Qual foi o resultado?"
   ]
  },
  {
   "cell_type": "code",
   "execution_count": null,
   "metadata": {},
   "outputs": [
    {
     "name": "stdout",
     "output_type": "stream",
     "text": [
      "root\n",
      " |-- id_transacao: integer (nullable = true)\n",
      " |-- valor: double (nullable = true)\n",
      " |-- chave_pix: string (nullable = true)\n",
      " |-- categoria: string (nullable = true)\n",
      " |-- transaction_date: string (nullable = true)\n",
      " |-- fraude: integer (nullable = true)\n",
      " |-- destinatario_nome: string (nullable = true)\n",
      " |-- destinatario_banco: string (nullable = true)\n",
      " |-- destinatario_tipo: string (nullable = true)\n",
      " |-- destinatario_nome_index: double (nullable = false)\n",
      " |-- destinatario_banco_index: double (nullable = false)\n",
      " |-- destinatario_tipo_index: double (nullable = false)\n",
      " |-- categoria_index: double (nullable = false)\n",
      " |-- chave_pix_index: double (nullable = false)\n",
      "\n"
     ]
    }
   ],
   "source": [
    "df_index.printSchema()"
   ]
  },
  {
   "cell_type": "code",
   "execution_count": null,
   "metadata": {},
   "outputs": [
    {
     "name": "stderr",
     "output_type": "stream",
     "text": [
      "23/08/24 09:02:33 WARN DAGScheduler: Broadcasting large task binary with size 1275.1 KiB\n"
     ]
    },
    {
     "name": "stdout",
     "output_type": "stream",
     "text": [
      "+------------+------------------+---------+-------------+-------------------+------+--------------------+------------------+-----------------+-----------------------+------------------------+-----------------------+---------------+---------------+\n",
      "|id_transacao|             valor|chave_pix|    categoria|   transaction_date|fraude|   destinatario_nome|destinatario_banco|destinatario_tipo|destinatario_nome_index|destinatario_banco_index|destinatario_tipo_index|categoria_index|chave_pix_index|\n",
      "+------------+------------------+---------+-------------+-------------------+------+--------------------+------------------+-----------------+-----------------------+------------------------+-----------------------+---------------+---------------+\n",
      "|        1000|            588.08|aleatoria|       outros|2021-07-16 05:00:55|     0|         Calebe Melo|             Caixa|               PF|                12045.0|                     4.0|                    1.0|            6.0|            3.0|\n",
      "|        1001|           80682.5|  celular|transferencia|2022-04-20 12:34:01|     1|  Davi Lucas Pereira|             Caixa|               PJ|                  259.0|                     4.0|                    0.0|            0.0|            2.0|\n",
      "|        1002|             549.9|      cpf|        lazer|2022-07-10 16:51:34|     0|      Sabrina Castro|            Nubank|               PF|                  132.0|                     2.0|                    1.0|            4.0|            1.0|\n",
      "|        1003|             90.83|aleatoria|   transporte|2022-10-20 10:57:36|     0|Francisco da Conc...|            Nubank|               PJ|                10475.0|                     2.0|                    0.0|            8.0|            3.0|\n",
      "|        1004|13272.619999999999|    email|transferencia|2021-04-06 20:26:51|     0|   Isabelly Ferreira|               BTG|               PJ|                 4159.0|                     1.0|                    0.0|            0.0|            0.0|\n",
      "|        1005|           9347.58|aleatoria|        saude|2022-07-24 15:22:27|     0|Srta. Maria da Cunha|              Itau|               PJ|                26853.0|                     3.0|                    0.0|            3.0|            3.0|\n",
      "|        1006|           7836.76|      cpf|    presentes|2022-10-05 19:20:24|     0|     Catarina Duarte|                C6|               PF|                 5578.0|                     5.0|                    1.0|            7.0|            1.0|\n",
      "|        1007|           3883.62|      cpf|    vestuario|2021-04-24 17:36:34|     0|       Vitor Correia|                XP|               PJ|                13528.0|                     0.0|                    0.0|            2.0|            1.0|\n",
      "|        1008|               4.0|aleatoria|        saude|2021-11-16 21:46:47|     0|         Theo Novaes|                C6|               PJ|                 1141.0|                     5.0|                    0.0|            3.0|            3.0|\n",
      "|        1009|              24.3|      cpf|transferencia|2021-07-26 02:08:49|     0|     Isabel Caldeira|                XP|               PJ|                 8369.0|                     0.0|                    0.0|            0.0|            1.0|\n",
      "|        1010|           87555.3|aleatoria|transferencia|2022-03-14 15:34:45|     1|Sr. Henrique Cardoso|            Nubank|               PF|                22115.0|                     2.0|                    1.0|            0.0|            3.0|\n",
      "|        1011|          21345.91|      cpf|transferencia|2021-10-31 04:31:51|     1|   Felipe Cavalcanti|            Nubank|               PJ|                 5897.0|                     2.0|                    0.0|            0.0|            1.0|\n",
      "|        1012|          73605.85|  celular|transferencia|2021-04-30 19:19:56|     1|     Dr. Davi da Luz|          Bradesco|               PJ|                12212.0|                     6.0|                    0.0|            0.0|            2.0|\n",
      "|        1013|             93.53|      cpf|  alimentacao|2023-01-13 13:39:57|     0|    Stephany Cardoso|                C6|               PJ|                   10.0|                     5.0|                    0.0|            1.0|            1.0|\n",
      "|        1014|            564.11|aleatoria|    vestuario|2022-05-27 23:06:08|     0|   Sra. Julia Araujo|              Itau|               PJ|                24413.0|                     3.0|                    0.0|            2.0|            3.0|\n",
      "|        1015|              3.59|    email|        saude|2021-10-06 21:19:58|     0|     Carolina Farias|            Nubank|               PJ|                10121.0|                     2.0|                    0.0|            3.0|            0.0|\n",
      "|        1016|          19164.89|    email|  alimentacao|2022-03-06 17:59:43|     0|   Isabelly da Costa|            Nubank|               PJ|                 6122.0|                     2.0|                    0.0|            1.0|            0.0|\n",
      "|        1017|             68.45|aleatoria|    vestuario|2022-04-01 18:17:40|     0|Joao Miguel Silveira|                C6|               PJ|                 6214.0|                     5.0|                    0.0|            2.0|            3.0|\n",
      "|        1018|            941.25|  celular|    vestuario|2022-05-23 00:28:13|     0|       Matheus Moura|                C6|               PF|                 1829.0|                     5.0|                    1.0|            2.0|            2.0|\n",
      "|        1019|27009.910000000003|    email|transferencia|2021-08-04 23:22:37|     1| Gabrielly Goncalves|              Itau|               PJ|                 5973.0|                     3.0|                    0.0|            0.0|            0.0|\n",
      "+------------+------------------+---------+-------------+-------------------+------+--------------------+------------------+-----------------+-----------------------+------------------------+-----------------------+---------------+---------------+\n",
      "only showing top 20 rows\n",
      "\n"
     ]
    },
    {
     "name": "stderr",
     "output_type": "stream",
     "text": [
      "                                                                                \r"
     ]
    }
   ],
   "source": [
    "df_index.show()"
   ]
  },
  {
   "cell_type": "markdown",
   "metadata": {},
   "source": [
    "Como separar a fraude da não fraude?"
   ]
  },
  {
   "cell_type": "code",
   "execution_count": null,
   "metadata": {},
   "outputs": [],
   "source": [
    "is_fraud = df_index.filter(\"fraude == 1\")\n",
    "no_fraud = df_index.filter(\"fraude == 0\")"
   ]
  },
  {
   "cell_type": "markdown",
   "metadata": {},
   "source": [
    "Como separar uma amostra dos dados?"
   ]
  },
  {
   "cell_type": "code",
   "execution_count": null,
   "metadata": {},
   "outputs": [],
   "source": [
    "no_fraud = no_fraud.sample(False, 0.01, seed=123) "
   ]
  },
  {
   "cell_type": "markdown",
   "metadata": {},
   "source": [
    "Como unir dois dataframes e ordernar pela data?"
   ]
  },
  {
   "cell_type": "code",
   "execution_count": null,
   "metadata": {},
   "outputs": [
    {
     "name": "stderr",
     "output_type": "stream",
     "text": [
      "                                                                                \r"
     ]
    },
    {
     "data": {
      "text/plain": [
       "16202"
      ]
     },
     "execution_count": 89,
     "metadata": {},
     "output_type": "execute_result"
    }
   ],
   "source": [
    "df_concat = no_fraud.union(is_fraud)\n",
    "df = df_concat.sort(\"transaction_date\")\n",
    "df.count()"
   ]
  },
  {
   "cell_type": "markdown",
   "metadata": {},
   "source": [
    "### Modelagem:"
   ]
  },
  {
   "cell_type": "markdown",
   "metadata": {},
   "source": [
    "Como separar os dados de traino dos dados de test?"
   ]
  },
  {
   "cell_type": "code",
   "execution_count": null,
   "metadata": {},
   "outputs": [
    {
     "name": "stderr",
     "output_type": "stream",
     "text": [
      "23/08/24 09:02:35 WARN DAGScheduler: Broadcasting large task binary with size 1292.6 KiB\n",
      "23/08/24 09:02:37 WARN DAGScheduler: Broadcasting large task binary with size 1304.9 KiB\n",
      "23/08/24 09:02:38 WARN DAGScheduler: Broadcasting large task binary with size 1295.9 KiB\n",
      "23/08/24 09:02:39 WARN DAGScheduler: Broadcasting large task binary with size 1292.6 KiB\n",
      "23/08/24 09:02:40 WARN DAGScheduler: Broadcasting large task binary with size 1304.9 KiB\n",
      "[Stage 76:=============================>                            (1 + 1) / 2]\r"
     ]
    },
    {
     "name": "stdout",
     "output_type": "stream",
     "text": [
      "train = 11278  test = 4924\n"
     ]
    },
    {
     "name": "stderr",
     "output_type": "stream",
     "text": [
      "23/08/24 09:02:41 WARN DAGScheduler: Broadcasting large task binary with size 1295.9 KiB\n",
      "                                                                                \r"
     ]
    }
   ],
   "source": [
    "train, test = df.randomSplit([0.7, 0.3], seed = 123)\n",
    "print(\"train =\", train.count(), \" test =\", test.count())"
   ]
  },
  {
   "cell_type": "markdown",
   "metadata": {},
   "source": [
    "Como indentificar fraudes?"
   ]
  },
  {
   "cell_type": "code",
   "execution_count": null,
   "metadata": {},
   "outputs": [],
   "source": [
    "is_fraud = udf(lambda fraud: 1.0 if fraud > 0 else 0.0, DoubleType())\n",
    "train = train.withColumn(\"is_fraud\", is_fraud(train.fraude))"
   ]
  },
  {
   "cell_type": "code",
   "execution_count": null,
   "metadata": {},
   "outputs": [
    {
     "name": "stderr",
     "output_type": "stream",
     "text": [
      "23/08/24 09:02:42 WARN DAGScheduler: Broadcasting large task binary with size 1292.6 KiB\n",
      "23/08/24 09:02:43 WARN DAGScheduler: Broadcasting large task binary with size 1304.9 KiB\n",
      "23/08/24 09:02:44 WARN DAGScheduler: Broadcasting large task binary with size 1303.5 KiB\n",
      "[Stage 85:>                                                         (0 + 1) / 1]\r"
     ]
    },
    {
     "name": "stdout",
     "output_type": "stream",
     "text": [
      "+------------+------------------+---------+-------------+-------------------+------+--------------------+------------------+-----------------+-----------------------+------------------------+-----------------------+---------------+---------------+--------+\n",
      "|id_transacao|             valor|chave_pix|    categoria|   transaction_date|fraude|   destinatario_nome|destinatario_banco|destinatario_tipo|destinatario_nome_index|destinatario_banco_index|destinatario_tipo_index|categoria_index|chave_pix_index|is_fraud|\n",
      "+------------+------------------+---------+-------------+-------------------+------+--------------------+------------------+-----------------+-----------------------+------------------------+-----------------------+---------------+---------------+--------+\n",
      "|        1001|           80682.5|  celular|transferencia|2022-04-20 12:34:01|     1|  Davi Lucas Pereira|             Caixa|               PJ|                  259.0|                     4.0|                    0.0|            0.0|            2.0|     1.0|\n",
      "|        1010|           87555.3|aleatoria|transferencia|2022-03-14 15:34:45|     1|Sr. Henrique Cardoso|            Nubank|               PF|                22115.0|                     2.0|                    1.0|            0.0|            3.0|     1.0|\n",
      "|        1012|          73605.85|  celular|transferencia|2021-04-30 19:19:56|     1|     Dr. Davi da Luz|          Bradesco|               PJ|                12212.0|                     6.0|                    0.0|            0.0|            2.0|     1.0|\n",
      "|        1019|27009.910000000003|    email|transferencia|2021-08-04 23:22:37|     1| Gabrielly Goncalves|              Itau|               PJ|                 5973.0|                     3.0|                    0.0|            0.0|            0.0|     1.0|\n",
      "|        1023|           67206.2|      cpf|transferencia|2022-07-24 04:08:47|     1|     Stella Oliveira|              Itau|               PF|                 3228.0|                     3.0|                    1.0|            0.0|            1.0|     1.0|\n",
      "|        1030|          34697.35|      cpf|transferencia|2021-11-26 01:14:31|     1|      Arthur Costela|                C6|               PJ|                 2171.0|                     5.0|                    0.0|            0.0|            1.0|     1.0|\n",
      "|        1036|          20660.32|aleatoria|transferencia|2021-07-26 21:19:26|     1|Joao Pedro Nascim...|                C6|               PF|                 2672.0|                     5.0|                    1.0|            0.0|            3.0|     1.0|\n",
      "|        1044|          57316.31|    email|transferencia|2022-02-08 17:45:44|     1|       Julia Costela|                C6|               PF|                   16.0|                     5.0|                    1.0|            0.0|            0.0|     1.0|\n",
      "|        1054|          43089.52|      cpf|transferencia|2021-02-17 13:48:19|     1|         Diogo Jesus|                XP|               PF|                 2374.0|                     0.0|                    1.0|            0.0|            1.0|     1.0|\n",
      "|        1070|          68105.27|    email|transferencia|2022-02-07 18:26:56|     1| Ana Carolina da Paz|             Caixa|               PF|                 5260.0|                     4.0|                    1.0|            0.0|            0.0|     1.0|\n",
      "|        1079|23601.260000000002|      cpf|transferencia|2022-11-18 21:45:33|     1|     Melissa Almeida|            Nubank|               PJ|                 1834.0|                     2.0|                    0.0|            0.0|            1.0|     1.0|\n",
      "|        1080|          55322.18|aleatoria|transferencia|2022-03-27 06:43:57|     1|     Marcela da Mata|             Caixa|               PF|                 4541.0|                     4.0|                    1.0|            0.0|            3.0|     1.0|\n",
      "|        1096|          52426.54|    email|transferencia|2021-12-02 20:00:39|     1|Joao Vitor Cavalc...|                C6|               PJ|                 2675.0|                     5.0|                    0.0|            0.0|            0.0|     1.0|\n",
      "|        1102|          33017.97|    email|transferencia|2022-04-14 11:29:35|     1|        Murilo Sales|               BTG|               PJ|                 6860.0|                     1.0|                    0.0|            0.0|            0.0|     1.0|\n",
      "|        1106|          34960.46|  celular|transferencia|2021-12-26 05:35:37|     1|  Dr. Noah Rodrigues|          Bradesco|               PF|                18614.0|                     6.0|                    1.0|            0.0|            2.0|     1.0|\n",
      "|        1107|          40388.89|aleatoria|transferencia|2022-03-11 08:05:44|     1|      Eloah da Costa|               BTG|               PJ|                12388.0|                     1.0|                    0.0|            0.0|            3.0|     1.0|\n",
      "|        1118|59447.619999999995|  celular|transferencia|2022-08-02 19:58:31|     1| Guilherme das Neves|                XP|               PF|                 5994.0|                     0.0|                    1.0|            0.0|            2.0|     1.0|\n",
      "|        1122|          51475.73|aleatoria|transferencia|2023-01-02 02:58:17|     1|   Alexandre Ribeiro|              Itau|               PJ|                11823.0|                     3.0|                    0.0|            0.0|            3.0|     1.0|\n",
      "|        1123|          46113.83|    email|transferencia|2022-10-14 08:44:44|     1|       Rebeca da Luz|                XP|               PF|                  633.0|                     0.0|                    1.0|            0.0|            0.0|     1.0|\n",
      "|        1128|           56395.0|      cpf|transferencia|2022-05-26 17:20:57|     1|Pedro Henrique Fe...|                C6|               PF|                15250.0|                     5.0|                    1.0|            0.0|            1.0|     1.0|\n",
      "+------------+------------------+---------+-------------+-------------------+------+--------------------+------------------+-----------------+-----------------------+------------------------+-----------------------+---------------+---------------+--------+\n",
      "only showing top 20 rows\n",
      "\n"
     ]
    },
    {
     "name": "stderr",
     "output_type": "stream",
     "text": [
      "                                                                                \r"
     ]
    }
   ],
   "source": [
    "train.show()"
   ]
  },
  {
   "cell_type": "markdown",
   "metadata": {},
   "source": [
    "Como ficou o Schema do dataframe train?"
   ]
  },
  {
   "cell_type": "code",
   "execution_count": null,
   "metadata": {},
   "outputs": [
    {
     "name": "stdout",
     "output_type": "stream",
     "text": [
      "root\n",
      " |-- id_transacao: integer (nullable = true)\n",
      " |-- valor: double (nullable = true)\n",
      " |-- chave_pix: string (nullable = true)\n",
      " |-- categoria: string (nullable = true)\n",
      " |-- transaction_date: string (nullable = true)\n",
      " |-- fraude: integer (nullable = true)\n",
      " |-- destinatario_nome: string (nullable = true)\n",
      " |-- destinatario_banco: string (nullable = true)\n",
      " |-- destinatario_tipo: string (nullable = true)\n",
      " |-- destinatario_nome_index: double (nullable = false)\n",
      " |-- destinatario_banco_index: double (nullable = false)\n",
      " |-- destinatario_tipo_index: double (nullable = false)\n",
      " |-- categoria_index: double (nullable = false)\n",
      " |-- chave_pix_index: double (nullable = false)\n",
      " |-- is_fraud: double (nullable = true)\n",
      "\n"
     ]
    }
   ],
   "source": [
    "train.printSchema()"
   ]
  },
  {
   "cell_type": "markdown",
   "metadata": {},
   "source": [
    "Quais são as colunas do dataframe train?"
   ]
  },
  {
   "cell_type": "code",
   "execution_count": null,
   "metadata": {},
   "outputs": [
    {
     "data": {
      "text/plain": [
       "['id_transacao',\n",
       " 'valor',\n",
       " 'chave_pix',\n",
       " 'categoria',\n",
       " 'transaction_date',\n",
       " 'fraude',\n",
       " 'destinatario_nome',\n",
       " 'destinatario_banco',\n",
       " 'destinatario_tipo',\n",
       " 'destinatario_nome_index',\n",
       " 'destinatario_banco_index',\n",
       " 'destinatario_tipo_index',\n",
       " 'categoria_index',\n",
       " 'chave_pix_index',\n",
       " 'is_fraud']"
      ]
     },
     "execution_count": 94,
     "metadata": {},
     "output_type": "execute_result"
    }
   ],
   "source": [
    "train.columns"
   ]
  },
  {
   "cell_type": "markdown",
   "metadata": {},
   "source": [
    "O que é um 'Vector Assembler'?"
   ]
  },
  {
   "cell_type": "code",
   "execution_count": null,
   "metadata": {},
   "outputs": [],
   "source": [
    "assembler = VectorAssembler(\n",
    "    inputCols = [x for x in train.columns if x not in ['transaction_date', 'fraude', 'is_fraud', 'destinatario_nome', 'destinatario_banco', 'destinatario_tipo', 'chave_pix', 'categoria']],\n",
    "    outputCol=\"features\"\n",
    ")"
   ]
  },
  {
   "cell_type": "markdown",
   "metadata": {},
   "source": [
    "Como criar um módelo de regressão logística?"
   ]
  },
  {
   "cell_type": "code",
   "execution_count": null,
   "metadata": {},
   "outputs": [],
   "source": [
    "lr = LogisticRegression().setParams(\n",
    "    maxIter=100000,\n",
    "    labelCol = \"is_fraud\",\n",
    "    predictionCol=\"prediction\"\n",
    ")"
   ]
  },
  {
   "cell_type": "markdown",
   "metadata": {},
   "source": [
    "Como treinar o modelo?"
   ]
  },
  {
   "cell_type": "code",
   "execution_count": null,
   "metadata": {},
   "outputs": [
    {
     "name": "stderr",
     "output_type": "stream",
     "text": [
      "23/08/24 09:02:46 WARN DAGScheduler: Broadcasting large task binary with size 1292.6 KiB\n",
      "23/08/24 09:02:47 WARN DAGScheduler: Broadcasting large task binary with size 1304.9 KiB\n",
      "23/08/24 09:02:49 WARN DAGScheduler: Broadcasting large task binary with size 1292.6 KiB\n",
      "23/08/24 09:02:51 WARN DAGScheduler: Broadcasting large task binary with size 1304.9 KiB\n",
      "23/08/24 09:02:52 WARN DAGScheduler: Broadcasting large task binary with size 1341.3 KiB\n",
      "23/08/24 09:02:55 WARN DAGScheduler: Broadcasting large task binary with size 1342.0 KiB\n",
      "23/08/24 09:02:56 WARN DAGScheduler: Broadcasting large task binary with size 1342.0 KiB\n",
      "23/08/24 09:02:56 WARN DAGScheduler: Broadcasting large task binary with size 1342.0 KiB\n",
      "23/08/24 09:02:56 WARN DAGScheduler: Broadcasting large task binary with size 1342.0 KiB\n",
      "23/08/24 09:02:56 WARN DAGScheduler: Broadcasting large task binary with size 1342.0 KiB\n",
      "23/08/24 09:02:56 WARN DAGScheduler: Broadcasting large task binary with size 1342.0 KiB\n",
      "23/08/24 09:02:56 WARN DAGScheduler: Broadcasting large task binary with size 1342.0 KiB\n",
      "23/08/24 09:02:56 WARN DAGScheduler: Broadcasting large task binary with size 1342.0 KiB\n",
      "23/08/24 09:02:56 WARN DAGScheduler: Broadcasting large task binary with size 1342.0 KiB\n",
      "23/08/24 09:02:56 WARN DAGScheduler: Broadcasting large task binary with size 1342.0 KiB\n",
      "23/08/24 09:02:57 WARN DAGScheduler: Broadcasting large task binary with size 1342.0 KiB\n",
      "23/08/24 09:02:57 WARN DAGScheduler: Broadcasting large task binary with size 1342.0 KiB\n",
      "23/08/24 09:02:57 WARN DAGScheduler: Broadcasting large task binary with size 1342.0 KiB\n",
      "23/08/24 09:02:57 WARN DAGScheduler: Broadcasting large task binary with size 1342.0 KiB\n",
      "23/08/24 09:02:57 WARN DAGScheduler: Broadcasting large task binary with size 1342.0 KiB\n",
      "23/08/24 09:02:57 WARN DAGScheduler: Broadcasting large task binary with size 1342.0 KiB\n",
      "23/08/24 09:02:57 WARN DAGScheduler: Broadcasting large task binary with size 1342.0 KiB\n",
      "23/08/24 09:02:57 WARN DAGScheduler: Broadcasting large task binary with size 1342.0 KiB\n",
      "23/08/24 09:02:57 WARN DAGScheduler: Broadcasting large task binary with size 1342.0 KiB\n",
      "23/08/24 09:02:57 WARN DAGScheduler: Broadcasting large task binary with size 1342.0 KiB\n",
      "23/08/24 09:02:57 WARN DAGScheduler: Broadcasting large task binary with size 1342.0 KiB\n",
      "23/08/24 09:02:57 WARN DAGScheduler: Broadcasting large task binary with size 1342.0 KiB\n",
      "23/08/24 09:02:58 WARN DAGScheduler: Broadcasting large task binary with size 1342.0 KiB\n",
      "23/08/24 09:02:58 WARN DAGScheduler: Broadcasting large task binary with size 1342.0 KiB\n",
      "23/08/24 09:02:58 WARN DAGScheduler: Broadcasting large task binary with size 1342.0 KiB\n",
      "23/08/24 09:02:58 WARN DAGScheduler: Broadcasting large task binary with size 1342.0 KiB\n",
      "23/08/24 09:02:58 WARN DAGScheduler: Broadcasting large task binary with size 1342.0 KiB\n",
      "23/08/24 09:02:58 WARN DAGScheduler: Broadcasting large task binary with size 1342.0 KiB\n",
      "23/08/24 09:02:58 WARN DAGScheduler: Broadcasting large task binary with size 1342.0 KiB\n",
      "23/08/24 09:02:58 WARN DAGScheduler: Broadcasting large task binary with size 1342.0 KiB\n",
      "23/08/24 09:02:58 WARN DAGScheduler: Broadcasting large task binary with size 1342.0 KiB\n",
      "23/08/24 09:02:59 WARN DAGScheduler: Broadcasting large task binary with size 1342.0 KiB\n",
      "23/08/24 09:02:59 WARN DAGScheduler: Broadcasting large task binary with size 1342.0 KiB\n",
      "23/08/24 09:02:59 WARN DAGScheduler: Broadcasting large task binary with size 1292.6 KiB\n",
      "23/08/24 09:03:00 WARN DAGScheduler: Broadcasting large task binary with size 1304.9 KiB\n",
      "23/08/24 09:03:02 WARN DAGScheduler: Broadcasting large task binary with size 1292.6 KiB\n",
      "23/08/24 09:03:03 WARN DAGScheduler: Broadcasting large task binary with size 1304.9 KiB\n",
      "[Stage 161:============================>                            (1 + 1) / 2]\r"
     ]
    }
   ],
   "source": [
    "model = Pipeline(stages=[assembler, lr]).fit(train)"
   ]
  },
  {
   "cell_type": "markdown",
   "metadata": {},
   "source": [
    "Como realizar uma predição?"
   ]
  },
  {
   "cell_type": "code",
   "execution_count": null,
   "metadata": {},
   "outputs": [],
   "source": [
    "predicted = model.transform(test)"
   ]
  },
  {
   "cell_type": "markdown",
   "metadata": {},
   "source": [
    "Qual foi resultado da predição?"
   ]
  },
  {
   "cell_type": "code",
   "execution_count": null,
   "metadata": {},
   "outputs": [
    {
     "name": "stderr",
     "output_type": "stream",
     "text": [
      "23/08/24 09:03:05 WARN DAGScheduler: Broadcasting large task binary with size 1292.6 KiB\n",
      "23/08/24 09:03:06 WARN DAGScheduler: Broadcasting large task binary with size 1304.9 KiB\n",
      "[Stage 163:============================>                            (1 + 1) / 2]\r"
     ]
    },
    {
     "name": "stdout",
     "output_type": "stream",
     "text": [
      "+------------+--------+---------+-------------+-------------------+------+--------------------+------------------+-----------------+-----------------------+------------------------+-----------------------+---------------+---------------+--------------------+--------------------+--------------------+----------+\n",
      "|id_transacao|   valor|chave_pix|    categoria|   transaction_date|fraude|   destinatario_nome|destinatario_banco|destinatario_tipo|destinatario_nome_index|destinatario_banco_index|destinatario_tipo_index|categoria_index|chave_pix_index|            features|       rawPrediction|         probability|prediction|\n",
      "+------------+--------+---------+-------------+-------------------+------+--------------------+------------------+-----------------+-----------------------+------------------------+-----------------------+---------------+---------------+--------------------+--------------------+--------------------+----------+\n",
      "|        1011|21345.91|      cpf|transferencia|2021-10-31 04:31:51|     1|   Felipe Cavalcanti|            Nubank|               PJ|                 5897.0|                     2.0|                    0.0|            0.0|            1.0|[1011.0,21345.91,...|[-30.160797827686...|[7.96768091944686...|       1.0|\n",
      "|        1027|75786.55|  celular|transferencia|2021-10-20 19:39:46|     1|      Otavio Freitas|            Nubank|               PF|                  341.0|                     2.0|                    1.0|            0.0|            2.0|[1027.0,75786.55,...|[-299.98801472702...|[5.21027405023044...|       1.0|\n",
      "|        1038|86418.48|    email|transferencia|2021-11-23 13:32:51|     1|         Isis Farias|             Caixa|               PJ|                 2628.0|                     4.0|                    0.0|            0.0|            0.0|[1038.0,86418.48,...|[-359.78118686414...|[5.61068455366922...|       1.0|\n",
      "|        1066|87812.62|  celular|transferencia|2022-05-07 08:23:02|     1|       Joana Barbosa|             Caixa|               PJ|                12610.0|                     4.0|                    0.0|            0.0|            2.0|[1066.0,87812.62,...|[-373.26121043841...|[7.84722306564688...|       1.0|\n",
      "|        1069|48297.18|  celular|transferencia|2021-04-10 15:10:51|     1|          Nina Jesus|          Bradesco|               PF|                 3088.0|                     6.0|                    1.0|            0.0|            2.0|[1069.0,48297.18,...|[-154.69106359426...|[6.58452849224117...|       1.0|\n",
      "|        1100|34793.98|    email|transferencia|2021-01-17 11:59:46|     1|Dr. Luiz Gustavo ...|              Itau|               PF|                18369.0|                     3.0|                    1.0|            0.0|            0.0|[1100.0,34793.98,...|[-93.382255045324...|[2.78356858291810...|       1.0|\n",
      "|        1120|45131.35|aleatoria|transferencia|2022-01-22 01:55:24|     1|       Joaquim Cunha|              Itau|               PF|                 4262.0|                     3.0|                    1.0|            0.0|            3.0|[1120.0,45131.35,...|[-143.79458016097...|[3.55473564010317...|       1.0|\n",
      "|        1136|37926.52|  celular|transferencia|2021-12-07 19:35:51|     1|Sra. Emanuella Me...|                C6|               PJ|                24117.0|                     5.0|                    0.0|            0.0|            2.0|[1136.0,37926.52,...|[-120.30657667536...|[5.64309826992085...|       1.0|\n",
      "|        1137|54317.83|    email|transferencia|2021-08-28 10:31:35|     1|      Gabriel Farias|              Itau|               PJ|                 5945.0|                     3.0|                    0.0|            0.0|            0.0|[1137.0,54317.83,...|[-197.39364800255...|[1.87511500760414...|       1.0|\n",
      "|        1152|38907.48|  celular|transferencia|2021-02-07 04:17:16|     1|       Alice Azevedo|            Nubank|               PJ|                 1192.0|                     2.0|                    0.0|            0.0|            2.0|[1152.0,38907.48,...|[-119.55421947584...|[1.19746324874276...|       1.0|\n",
      "|        1154|32825.54|  celular|transferencia|2022-07-25 20:07:56|     1|       Caua da Costa|          Bradesco|               PJ|                 3730.0|                     6.0|                    0.0|            0.0|            2.0|[1154.0,32825.54,...|[-84.244042582617...|[2.58986527805057...|       1.0|\n",
      "|        1165| 68717.9|  celular|transferencia|2021-07-28 04:26:56|     1|   Dr. Kaique Duarte|                C6|               PF|                14147.0|                     5.0|                    1.0|            0.0|            2.0|[1165.0,68717.9,1...|[-265.61765894415...|[4.40267294135941...|       1.0|\n",
      "|        1186|47684.29|      cpf|transferencia|2021-07-09 14:17:11|     1|Dr. Gustavo Henri...|          Bradesco|               PJ|                17690.0|                     6.0|                    0.0|            0.0|            1.0|[1186.0,47684.29,...|[-165.45019414311...|[1.39924464602013...|       1.0|\n",
      "|        1193|79174.38|aleatoria|transferencia|2022-10-22 06:42:08|     1|        Calebe Porto|                C6|               PF|                 3670.0|                     5.0|                    1.0|            0.0|            3.0|[1193.0,79174.38,...|[-316.04751387609...|[5.52470005413532...|       1.0|\n",
      "|        1232|48993.64|      cpf|transferencia|2021-12-06 08:48:14|     1|Srta. Isadora Nas...|                XP|               PJ|                26324.0|                     0.0|                    0.0|            0.0|            1.0|[1232.0,48993.64,...|[-183.46379965916...|[2.10224911837433...|       1.0|\n",
      "|        1234|42959.57|  celular|transferencia|2021-04-16 23:50:25|     1|Maria Eduarda Car...|                C6|               PF|                   55.0|                     5.0|                    1.0|            0.0|            2.0|[1234.0,42959.57,...|[-127.25645860451...|[5.41031113965286...|       1.0|\n",
      "|        1283|36345.31|  celular|transferencia|2021-08-08 19:37:56|     1|    Rafaela Teixeira|            Nubank|               PJ|                 4920.0|                     2.0|                    0.0|            0.0|            2.0|[1283.0,36345.31,...|[-107.95175952176...|[1.30962370643498...|       1.0|\n",
      "|        1305|85179.93|      cpf|transferencia|2021-03-07 10:57:20|     1|  Dra. Mirella Moura|               BTG|               PF|                14765.0|                     1.0|                    1.0|            0.0|            1.0|[1305.0,85179.93,...|[-354.57510761786...|[1.02326316606354...|       1.0|\n",
      "|        1320|77228.12|  celular|transferencia|2021-10-21 06:14:15|     1|        Sophie Rocha|                XP|               PJ|                 3225.0|                     0.0|                    0.0|            0.0|            2.0|[1320.0,77228.12,...|[-320.01225539147...|[1.04819803704867...|       1.0|\n",
      "|        1331|71392.99|      cpf|transferencia|2021-12-24 17:29:48|     1|        Yuri Pereira|              Itau|               PF|                 7357.0|                     3.0|                    1.0|            0.0|            1.0|[1331.0,71392.99,...|[-278.02304570753...|[1.80353845713681...|       1.0|\n",
      "+------------+--------+---------+-------------+-------------------+------+--------------------+------------------+-----------------+-----------------------+------------------------+-----------------------+---------------+---------------+--------------------+--------------------+--------------------+----------+\n",
      "only showing top 20 rows\n",
      "\n"
     ]
    },
    {
     "name": "stderr",
     "output_type": "stream",
     "text": [
      "23/08/24 09:03:07 WARN DAGScheduler: Broadcasting large task binary with size 1341.1 KiB\n",
      "                                                                                \r"
     ]
    }
   ],
   "source": [
    "predicted.show()"
   ]
  },
  {
   "cell_type": "markdown",
   "metadata": {},
   "source": [
    "Como posso verificar a acurácia do modelo?"
   ]
  },
  {
   "cell_type": "code",
   "execution_count": null,
   "metadata": {},
   "outputs": [
    {
     "name": "stderr",
     "output_type": "stream",
     "text": [
      "23/08/24 09:03:08 WARN DAGScheduler: Broadcasting large task binary with size 1292.6 KiB\n",
      "23/08/24 09:03:09 WARN DAGScheduler: Broadcasting large task binary with size 1304.9 KiB\n",
      "23/08/24 09:03:11 WARN DAGScheduler: Broadcasting large task binary with size 1340.3 KiB\n",
      "23/08/24 09:03:11 WARN DAGScheduler: Broadcasting large task binary with size 1330.7 KiB\n",
      "23/08/24 09:03:11 WARN DAGScheduler: Broadcasting large task binary with size 1330.4 KiB\n",
      "23/08/24 09:03:11 WARN DAGScheduler: Broadcasting large task binary with size 1328.0 KiB\n",
      "23/08/24 09:03:11 WARN DAGScheduler: Broadcasting large task binary with size 1292.6 KiB\n",
      "23/08/24 09:03:13 WARN DAGScheduler: Broadcasting large task binary with size 1304.9 KiB\n",
      "23/08/24 09:03:14 WARN DAGScheduler: Broadcasting large task binary with size 1346.9 KiB\n",
      "23/08/24 09:03:15 WARN DAGScheduler: Broadcasting large task binary with size 1334.5 KiB\n",
      "23/08/24 09:03:15 WARN DAGScheduler: Broadcasting large task binary with size 1337.8 KiB\n"
     ]
    },
    {
     "name": "stdout",
     "output_type": "stream",
     "text": [
      "+-------------------+---+----+\n",
      "|is_fraud_prediction|0.0| 1.0|\n",
      "+-------------------+---+----+\n",
      "|                1.0|  0|4682|\n",
      "|                0.0|242|   0|\n",
      "+-------------------+---+----+\n",
      "\n"
     ]
    },
    {
     "name": "stderr",
     "output_type": "stream",
     "text": [
      "                                                                                \r"
     ]
    }
   ],
   "source": [
    "predicted = predicted.withColumn('is_fraud', is_fraud(predicted.fraude))\n",
    "predicted.crosstab('is_fraud', 'prediction').show()"
   ]
  },
  {
   "cell_type": "markdown",
   "metadata": {},
   "source": [
    "Como criar novos valores para testando o nosso modelo?"
   ]
  },
  {
   "cell_type": "code",
   "execution_count": null,
   "metadata": {},
   "outputs": [],
   "source": [
    "df_teste_cols = [\n",
    "    'id_transacao',\n",
    "    'valor', \n",
    "    'transaction_date',\n",
    "    'destinatario_nome_index',\n",
    "    'destinatario_banco_index',\n",
    "    'destinatario_tipo_index',\n",
    "    'chave_pix_index',\n",
    "    'categoria_index',\n",
    "    'fraude'\n",
    "]\n",
    "\n",
    "df_teste_data = [\n",
    "    (999,103.2, \"2023-01-01 11:56:41\", 328.0, 4.0, 1.0, 3.0, 5.0, 0),\n",
    "    (998, 500000.0, \"2023-01-01 11:56:41\", 328.0, 2.0, 3.0, 2.0, 5.0, 1),\n",
    "    (997, 19999.0, \"2023-01-01 11:56:41\", 328.0, 1.0, 2.0, 1.0, 5.0, 0),\n",
    "]\n",
    "\n",
    "df_teste = spark.createDataFrame(df_teste_data).toDF(*df_teste_cols)"
   ]
  },
  {
   "cell_type": "markdown",
   "metadata": {},
   "source": [
    "Como realizar a predição com os novos valores?"
   ]
  },
  {
   "cell_type": "code",
   "execution_count": null,
   "metadata": {},
   "outputs": [],
   "source": [
    "new_prediction = model.transform(df_teste)"
   ]
  },
  {
   "cell_type": "markdown",
   "metadata": {},
   "source": [
    "Qual foi o resultado da predição?"
   ]
  },
  {
   "cell_type": "code",
   "execution_count": null,
   "metadata": {},
   "outputs": [
    {
     "name": "stdout",
     "output_type": "stream",
     "text": [
      "+------------+--------+-------------------+-----------------------+------------------------+-----------------------+---------------+---------------+------+--------------------+--------------------+-----------+----------+\n",
      "|id_transacao|   valor|   transaction_date|destinatario_nome_index|destinatario_banco_index|destinatario_tipo_index|chave_pix_index|categoria_index|fraude|            features|       rawPrediction|probability|prediction|\n",
      "+------------+--------+-------------------+-----------------------+------------------------+-----------------------+---------------+---------------+------+--------------------+--------------------+-----------+----------+\n",
      "|         999|   103.2|2023-01-01 11:56:41|                  328.0|                     4.0|                    1.0|            3.0|            5.0|     0|[999.0,103.2,328....|[426.491663442539...|  [1.0,0.0]|       0.0|\n",
      "|         998|500000.0|2023-01-01 11:56:41|                  328.0|                     2.0|                    3.0|            2.0|            5.0|     1|[998.0,500000.0,3...|[-2127.7942951680...|  [0.0,1.0]|       1.0|\n",
      "|         997| 19999.0|2023-01-01 11:56:41|                  328.0|                     1.0|                    2.0|            1.0|            5.0|     0|[997.0,19999.0,32...|[331.314039851042...|  [1.0,0.0]|       0.0|\n",
      "+------------+--------+-------------------+-----------------------+------------------------+-----------------------+---------------+---------------+------+--------------------+--------------------+-----------+----------+\n",
      "\n"
     ]
    }
   ],
   "source": [
    "new_prediction.show()"
   ]
  },
  {
   "cell_type": "markdown",
   "metadata": {},
   "source": [
    "# Data Quality - Deequ:"
   ]
  },
  {
   "cell_type": "markdown",
   "metadata": {},
   "source": [
    "Fonte: [Deequ AWS](https://aws.amazon.com/pt/blogs/big-data/test-data-quality-at-scale-with-deequ/)"
   ]
  },
  {
   "cell_type": "markdown",
   "metadata": {},
   "source": [
    "Fonte: [Deequ Doc](https://github.com/awslabs/deequ)"
   ]
  },
  {
   "cell_type": "markdown",
   "metadata": {},
   "source": [
    "## Schema:"
   ]
  },
  {
   "cell_type": "code",
   "execution_count": null,
   "metadata": {},
   "outputs": [],
   "source": [
    "schema_remetente_destinatario = StructType([\n",
    "    StructField('nome', StringType()),\n",
    "    StructField('banco', StringType()),\n",
    "    StructField('tipo', StringType())\n",
    "])\n",
    "\n",
    "schema = StructType([\n",
    "    StructField('id_transacao', IntegerType()),\n",
    "    StructField('valor', DoubleType()),\n",
    "    StructField('remetente', schema_remetente_destinatario),\n",
    "    StructField('destinatario', schema_remetente_destinatario),\n",
    "    StructField('chave_pix', StringType()),\n",
    "    StructField('categoria', StringType()),\n",
    "    StructField('transaction_date', StringType()),\n",
    "    StructField('fraude', IntegerType())\n",
    "])"
   ]
  },
  {
   "cell_type": "markdown",
   "metadata": {},
   "source": [
    "## DataFrame:"
   ]
  },
  {
   "cell_type": "code",
   "execution_count": null,
   "metadata": {},
   "outputs": [],
   "source": [
    "path = '../../../data/case_final.json'\n",
    "\n",
    "df = spark.read.json(\n",
    "    path,\n",
    "    schema=schema,\n",
    "    timestampFormat=\"yyyy-MM-dd HH:mm:ss\"\n",
    ")"
   ]
  },
  {
   "cell_type": "markdown",
   "metadata": {},
   "source": [
    "## Código:"
   ]
  },
  {
   "cell_type": "code",
   "execution_count": null,
   "metadata": {},
   "outputs": [],
   "source": []
  },
  {
   "cell_type": "markdown",
   "metadata": {},
   "source": [
    "## Output:"
   ]
  },
  {
   "cell_type": "code",
   "execution_count": null,
   "metadata": {},
   "outputs": [],
   "source": [
    "df.printSchema()"
   ]
  },
  {
   "cell_type": "markdown",
   "metadata": {},
   "source": [
    "Como transformo uma Struct em uma coluna?"
   ]
  },
  {
   "cell_type": "code",
   "execution_count": null,
   "metadata": {},
   "outputs": [],
   "source": [
    "df = df.withColumn(\n",
    "      'destinatario_nome', col('destinatario').getField('nome')\n",
    "    ).withColumn(\n",
    "      'destinatario_banco', col('destinatario').getField('banco')\n",
    "    ).withColumn(\n",
    "      'destinatario_tipo', col('destinatario').getField('tipo')\n",
    "    ).withColumn(\n",
    "      'remetente_nome', col('remetente').getField('nome')\n",
    "    ).withColumn(\n",
    "      'remetente_banco', col('remetente').getField('banco')\n",
    "    ).withColumn(\n",
    "      'remetente_tipo', col('remetente').getField('tipo')\n",
    ")"
   ]
  },
  {
   "cell_type": "markdown",
   "metadata": {},
   "source": [
    "Como removo as colunas 'destinatario' e 'remetente'?"
   ]
  },
  {
   "cell_type": "code",
   "execution_count": null,
   "metadata": {},
   "outputs": [],
   "source": [
    "df = df.drop('remetente', 'destinatario')"
   ]
  },
  {
   "cell_type": "markdown",
   "metadata": {},
   "source": [
    "Como posso guardar o resultado das análises?"
   ]
  },
  {
   "cell_type": "code",
   "execution_count": null,
   "metadata": {},
   "outputs": [],
   "source": [
    "analysisResult = (\n",
    "    AnalysisRunner(spark).onData(df)\n",
    "    .addAnalyzer(Size())\n",
    "    .addAnalyzer(Completeness('id_transacao'))\n",
    "    .addAnalyzer(Compliance(\"valor\", \"valor > 0\"))\n",
    "    .run()\n",
    ")"
   ]
  },
  {
   "cell_type": "markdown",
   "metadata": {},
   "source": [
    "O que é o 'analysisResult'?"
   ]
  },
  {
   "cell_type": "code",
   "execution_count": null,
   "metadata": {},
   "outputs": [],
   "source": [
    "analysisResult"
   ]
  },
  {
   "cell_type": "markdown",
   "metadata": {},
   "source": [
    "Como transformar um 'JavaObject id=o89' em um DataFrame?"
   ]
  },
  {
   "cell_type": "code",
   "execution_count": null,
   "metadata": {},
   "outputs": [],
   "source": [
    "analysisResult_df = AnalyzerContext.successMetricsAsDataFrame(spark, analysisResult)"
   ]
  },
  {
   "cell_type": "code",
   "execution_count": null,
   "metadata": {},
   "outputs": [],
   "source": [
    "analysisResult_df.show()"
   ]
  },
  {
   "cell_type": "markdown",
   "metadata": {},
   "source": [
    "Como posso ter sugestões de métricas de qualidade?"
   ]
  },
  {
   "cell_type": "code",
   "execution_count": null,
   "metadata": {},
   "outputs": [],
   "source": [
    "suggestionResult = ConstraintSuggestionRunner(spark).onData(df).addConstraintRule(DEFAULT()).run()"
   ]
  },
  {
   "cell_type": "markdown",
   "metadata": {},
   "source": [
    "analysisResult_df.show()"
   ]
  },
  {
   "cell_type": "markdown",
   "metadata": {},
   "source": [
    "Como vejo todas as sugestões?"
   ]
  },
  {
   "cell_type": "code",
   "execution_count": null,
   "metadata": {},
   "outputs": [],
   "source": [
    "for sugg in suggestionResult['constraint_suggestions']:\n",
    "  print(f\"Sugestao de Constraint: \\'{sugg['column_name']}\\': {sugg['description']}\")\n",
    "  print(f\"PySpark Code: {sugg['code_for_constraint']}\\n\")"
   ]
  },
  {
   "cell_type": "markdown",
   "metadata": {},
   "source": [
    "Como verifico 'error' e 'Warning'?"
   ]
  },
  {
   "cell_type": "code",
   "execution_count": null,
   "metadata": {},
   "outputs": [],
   "source": [
    "check = Check(spark, CheckLevel.Warning, \"Review Check\")\n",
    "error = Check(spark, CheckLevel.Error, \"Error\")"
   ]
  },
  {
   "cell_type": "markdown",
   "metadata": {},
   "source": [
    "Como posso criar métricas de qualidade?"
   ]
  },
  {
   "cell_type": "code",
   "execution_count": null,
   "metadata": {},
   "outputs": [],
   "source": [
    "checkResult = (\n",
    "    VerificationSuite(spark)\n",
    "    .onData(df)\n",
    "    .addCheck(\n",
    "        check.hasDataType(\"id_transacao\",ConstrainableDataTypes.Integral)\n",
    "        .isNonNegative(\"id_transacao\")\n",
    "        .isComplete(\"id_transacao\") \n",
    "        .isUnique('id_transcao')\n",
    "    )\n",
    "    .run()\n",
    ")"
   ]
  },
  {
   "cell_type": "markdown",
   "metadata": {},
   "source": [
    "Como posso verificar as métricas de qualidade?"
   ]
  },
  {
   "cell_type": "code",
   "execution_count": null,
   "metadata": {},
   "outputs": [],
   "source": [
    "checkResult_df = VerificationResult.checkResultsAsDataFrame(spark, checkResult)\n",
    "checkResult_df.show(truncate=False)"
   ]
  },
  {
   "cell_type": "markdown",
   "metadata": {},
   "source": [
    "Como posso testando se a verificação de qualidade está funcionando corretamente?  "
   ]
  },
  {
   "cell_type": "code",
   "execution_count": null,
   "metadata": {},
   "outputs": [],
   "source": [
    "checkResult = (\n",
    "    VerificationSuite(spark)\n",
    "    .onData(df)\n",
    "    .addCheck(\n",
    "        error\n",
    "        .isContainedIn(\"remetente_tipo\", [\"CNPJ\"])\n",
    "    )\n",
    "    .run()\n",
    ")"
   ]
  },
  {
   "cell_type": "markdown",
   "metadata": {},
   "source": [
    "Como posso verificar o teste?"
   ]
  },
  {
   "cell_type": "code",
   "execution_count": null,
   "metadata": {},
   "outputs": [],
   "source": [
    "checkResult_df = VerificationResult.checkResultsAsDataFrame(spark, checkResult)\n",
    "checkResult_df.show(truncate=False)"
   ]
  }
 ],
 "metadata": {
  "kernelspec": {
   "display_name": "base",
   "language": "python",
   "name": "python3"
  },
  "language_info": {
   "codemirror_mode": {
    "name": "ipython",
    "version": 3
   },
   "file_extension": ".py",
   "mimetype": "text/x-python",
   "name": "python",
   "nbconvert_exporter": "python",
   "pygments_lexer": "ipython3",
   "version": "3.9.13"
  },
  "orig_nbformat": 4
 },
 "nbformat": 4,
 "nbformat_minor": 2
}
