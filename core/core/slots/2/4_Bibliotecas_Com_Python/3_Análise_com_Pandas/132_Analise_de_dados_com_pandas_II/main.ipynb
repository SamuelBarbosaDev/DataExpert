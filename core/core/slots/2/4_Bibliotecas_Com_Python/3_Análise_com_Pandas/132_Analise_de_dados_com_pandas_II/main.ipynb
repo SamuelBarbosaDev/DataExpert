{
 "cells": [
  {
   "cell_type": "code",
   "execution_count": 1,
   "metadata": {},
   "outputs": [],
   "source": [
    "import pandas as pd"
   ]
  },
  {
   "cell_type": "code",
   "execution_count": 2,
   "metadata": {},
   "outputs": [],
   "source": [
    "class AnaliseDeDadosComPandasII():\n",
    "    \"\"\"\n",
    "        Analise De Dados Com Pandas II\n",
    "    \"\"\"\n",
    "    def __init__(self):\n",
    "        self.path = r'../DataFrame/credit_card_clients_2.csv'\n",
    "        self.credit = pd.read_csv(\n",
    "            self.path\n",
    "        )\n",
    "    \n",
    "    def extraindo_um_sumario_das_estatisticas_descritivas(self):\n",
    "        credit = self.credit.describe()\n",
    "        print(f'\\nSúmario:\\n{credit}')\n",
    "    \n",
    "    def extraindo_um_sumario_filtrado(self):\n",
    "        credit = self.credit['BILL_AMT4'].describe()\n",
    "        print(f'\\nSúmario:\\n{credit}')"
   ]
  },
  {
   "cell_type": "code",
   "execution_count": 3,
   "metadata": {},
   "outputs": [
    {
     "name": "stdout",
     "output_type": "stream",
     "text": [
      "\n",
      "Súmario:\n",
      "                 ID       LIMIT_BAL          SEX     EDUCATION      MARRIAGE  \\\n",
      "count  30017.000000    30003.000000  30003.00000  30003.000000  30003.000000   \n",
      "mean   15009.000000   167471.486118      2.60354      2.852948      1.718461   \n",
      "std     8665.305851   129747.540674    173.18208    173.187526     28.861831   \n",
      "min        1.000000    10000.000000      1.00000      0.000000      0.000000   \n",
      "25%     7505.000000    50000.000000      1.00000      1.000000      1.000000   \n",
      "50%    15009.000000   140000.000000      2.00000      2.000000      2.000000   \n",
      "75%    22513.000000   240000.000000      2.00000      2.000000      2.000000   \n",
      "max    30017.000000  1000000.000000  29999.00000  30000.000000   5000.000000   \n",
      "\n",
      "                AGE         PAY_0         PAY_2         PAY_3         PAY_4  \\\n",
      "count  30003.000000  30003.000000  30003.000000  30003.000000  30003.000000   \n",
      "mean      35.484252     -0.016665     -0.133687     -0.166150     -0.219111   \n",
      "std        9.219731      1.123761      1.197190      1.196827      1.199148   \n",
      "min        0.000000     -2.000000     -2.000000     -2.000000     -2.000000   \n",
      "25%       28.000000     -1.000000     -1.000000     -1.000000     -1.000000   \n",
      "50%       34.000000      0.000000      0.000000      0.000000      0.000000   \n",
      "75%       41.000000      0.000000      0.000000      0.000000      0.000000   \n",
      "max       79.000000      8.000000      8.000000      8.000000     46.000000   \n",
      "\n",
      "       ...      BILL_AMT4      BILL_AMT5      BILL_AMT6       PAY_AMT1  \\\n",
      "count  ...   30003.000000   30003.000000   30003.000000   30003.000000   \n",
      "mean   ...   43261.058527   40309.531880   38868.895710    5663.150518   \n",
      "std    ...   64330.147936   60794.595547   59551.862862   16562.510846   \n",
      "min    ... -170000.000000  -81334.000000 -339603.000000       0.000000   \n",
      "25%    ...    2326.500000    1763.000000    1256.000000    1000.000000   \n",
      "50%    ...   19052.000000   18105.000000   17068.000000    2100.000000   \n",
      "75%    ...   54494.500000   50182.500000   49183.500000    5006.000000   \n",
      "max    ...  891586.000000  927171.000000  961664.000000  873552.000000   \n",
      "\n",
      "           PAY_AMT2       PAY_AMT3       PAY_AMT4       PAY_AMT5  \\\n",
      "count  3.000300e+04   30003.000000   30003.000000   30003.000000   \n",
      "mean   5.920691e+03    5226.909942    4826.878679    4800.055228   \n",
      "std    2.303977e+04   17607.986765   15666.477207   15278.405942   \n",
      "min    0.000000e+00       0.000000       0.000000       0.000000   \n",
      "25%    8.330000e+02     390.000000     296.000000     253.500000   \n",
      "50%    2.009000e+03    1800.000000    1500.000000    1500.000000   \n",
      "75%    5.000000e+03    4505.000000    4013.500000    4032.000000   \n",
      "max    1.684259e+06  896040.000000  621000.000000  426529.000000   \n",
      "\n",
      "            PAY_AMT6  default payment next month  \n",
      "count   30003.000000                30003.000000  \n",
      "mean     5215.591441                    0.290504  \n",
      "std     17776.698879                   12.002641  \n",
      "min         0.000000                    0.000000  \n",
      "25%       118.000000                    0.000000  \n",
      "50%      1500.000000                    0.000000  \n",
      "75%      4000.000000                    0.000000  \n",
      "max    528666.000000                 2078.000000  \n",
      "\n",
      "[8 rows x 25 columns]\n"
     ]
    }
   ],
   "source": [
    "if __name__ == '__main__':\n",
    "    analise_de_dados_com_pandas_ii = AnaliseDeDadosComPandasII()\n",
    "    analise_de_dados_com_pandas_ii.extraindo_um_sumario_das_estatisticas_descritivas()"
   ]
  }
 ],
 "metadata": {
  "kernelspec": {
   "display_name": "venv",
   "language": "python",
   "name": "python3"
  },
  "language_info": {
   "codemirror_mode": {
    "name": "ipython",
    "version": 3
   },
   "file_extension": ".py",
   "mimetype": "text/x-python",
   "name": "python",
   "nbconvert_exporter": "python",
   "pygments_lexer": "ipython3",
   "version": "3.10.6"
  },
  "orig_nbformat": 4,
  "vscode": {
   "interpreter": {
    "hash": "0f60f0d8225b498888813588bdbdff26fd82099ded266fc9d2291ee5204b5ef8"
   }
  }
 },
 "nbformat": 4,
 "nbformat_minor": 2
}
