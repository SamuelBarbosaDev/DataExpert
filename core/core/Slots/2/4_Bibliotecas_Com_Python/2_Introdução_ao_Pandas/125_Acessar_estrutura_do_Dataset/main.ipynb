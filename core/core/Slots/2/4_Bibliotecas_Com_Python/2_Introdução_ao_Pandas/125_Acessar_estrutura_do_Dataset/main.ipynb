{
 "cells": [
  {
   "cell_type": "code",
   "execution_count": 3,
   "metadata": {},
   "outputs": [],
   "source": [
    "import pandas as pd"
   ]
  },
  {
   "cell_type": "code",
   "execution_count": 20,
   "metadata": {},
   "outputs": [],
   "source": [
    "class AcessarEstruturaDoDataset():\n",
    "    \"\"\"\n",
    "    Acessar Estrutura Do Dataset\n",
    "    \"\"\"\n",
    "    def __init__(self):\n",
    "        self.path = r'../Dataset_colabs/clientes_rename.xlsx'\n",
    "        self.credit = pd.read_excel(\n",
    "            self.path\n",
    "        )\n",
    "    \n",
    "    def index_do_dataframe(self):\n",
    "        print(f'\\nIndex: {self.credit.index}')\n",
    "    \n",
    "    def colunas_do_dataframe(self):\n",
    "        print(f'\\nColunas: {self.credit.columns}')\n",
    "    \n",
    "    def chaves_do_dataframe(self):\n",
    "        print(f'\\nKeys: {self.credit.keys()}')\n",
    "\n",
    "    def valores_do_dataframe(self):\n",
    "        print(f'\\nValores: {self.credit.values}')\n",
    "\n",
    "    def tipos_de_dados_do_dataframe(self):\n",
    "        print(f'\\nTipos: {self.credit.dtypes}')"
   ]
  },
  {
   "cell_type": "code",
   "execution_count": 22,
   "metadata": {},
   "outputs": [
    {
     "name": "stdout",
     "output_type": "stream",
     "text": [
      "\n",
      "Tipos: Unnamed: 0             int64\n",
      "ID                     int64\n",
      "valor_credito          int64\n",
      "sexo                   int64\n",
      "nivel_escolaridade     int64\n",
      "estado_civil           int64\n",
      "idade                  int64\n",
      "status_pag_set_2005    int64\n",
      "status_pag_ago_2005    int64\n",
      "status_pag_jul_2005    int64\n",
      "status_pag_jun_2005    int64\n",
      "status_pag_mai_2005    int64\n",
      "status_pag_abr_2005    int64\n",
      "extrato_set_2005       int64\n",
      "extrato_ago_2005       int64\n",
      "extrato_jul_2005       int64\n",
      "extrato_jun_2005       int64\n",
      "extrato_mai_2005       int64\n",
      "extrato_abr_2005       int64\n",
      "valor_pag_set_2005     int64\n",
      "valor_pag_ago_2005     int64\n",
      "valor_pag_jul_2005     int64\n",
      "valor_pag_jun_2005     int64\n",
      "valor_pag_mai_2005     int64\n",
      "valor_pag_abr_2005     int64\n",
      "dtype: object\n"
     ]
    }
   ],
   "source": [
    "if __name__ == '__main__':\n",
    "    acessar_estrutura_do_dataset = AcessarEstruturaDoDataset()\n",
    "    acessar_estrutura_do_dataset.index_do_dataframe()\n",
    "    acessar_estrutura_do_dataset.colunas_do_dataframe()\n",
    "    acessar_estrutura_do_dataset.chaves_do_dataframe()\n",
    "    acessar_estrutura_do_dataset.valores_do_dataframe()\n",
    "    acessar_estrutura_do_dataset.tipos_de_dados_do_dataframe()"
   ]
  }
 ],
 "metadata": {
  "kernelspec": {
   "display_name": "venv",
   "language": "python",
   "name": "python3"
  },
  "language_info": {
   "codemirror_mode": {
    "name": "ipython",
    "version": 3
   },
   "file_extension": ".py",
   "mimetype": "text/x-python",
   "name": "python",
   "nbconvert_exporter": "python",
   "pygments_lexer": "ipython3",
   "version": "3.10.6 (main, Nov 14 2022, 16:10:14) [GCC 11.3.0]"
  },
  "orig_nbformat": 4,
  "vscode": {
   "interpreter": {
    "hash": "fdeef196cbc11763b1c323759417fa872cd136b2a56707c291d126ad470f1ee8"
   }
  }
 },
 "nbformat": 4,
 "nbformat_minor": 2
}
