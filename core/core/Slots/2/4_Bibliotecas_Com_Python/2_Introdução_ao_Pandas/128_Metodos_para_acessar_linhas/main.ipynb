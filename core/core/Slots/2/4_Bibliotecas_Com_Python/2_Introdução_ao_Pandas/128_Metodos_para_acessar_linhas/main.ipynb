{
 "cells": [
  {
   "cell_type": "code",
   "execution_count": 3,
   "metadata": {},
   "outputs": [],
   "source": [
    "import pandas as pd"
   ]
  },
  {
   "cell_type": "code",
   "execution_count": 19,
   "metadata": {},
   "outputs": [],
   "source": [
    "class MetodosParaAcessarLinhas():\n",
    "    \"\"\"\n",
    "        Metodos Para Acessar Linhas\n",
    "    \"\"\"\n",
    "    def __init__(self):\n",
    "        self.path = r'../Dataset_colabs/clientes_rename.xlsx'\n",
    "        self.credit = pd.read_excel(\n",
    "            self.path\n",
    "        )\n",
    "    \n",
    "    def acessando_linha(self):\n",
    "        print(f'\\nAcessando Linha:\\n {self.credit.loc[0]}')\n",
    "    \n",
    "    def acessando_multiplas_linhas(self):\n",
    "        print(f'\\nAcessando Multiplas Linha:\\n {self.credit.loc[0: 2]}')\n",
    "    \n",
    "    def acessando_linhas_e_colunas(self):\n",
    "        print(f'\\nAcessando Multiplas Linha:\\n {self.credit.loc[0: 2, [\"valor_credito\", \"sexo\"]]}')\n",
    "\n",
    "    def acessando_linhas_e_colunas_de_forma_numerica(self):\n",
    "        print(f'\\nAcessando Multiplas Linha e Colunas:\\n {self.credit.iloc[0: 2, 2:6]}')\n",
    "\n",
    "    def acessando_linhas_a_partir_da_mascara_booleana(self):\n",
    "        print(f'\\nAcessando Linha:\\n {self.credit[self.credit[\"nivel_escolaridade\"]==2]}')\n"
   ]
  },
  {
   "cell_type": "code",
   "execution_count": 20,
   "metadata": {},
   "outputs": [
    {
     "name": "stdout",
     "output_type": "stream",
     "text": [
      "\n",
      "Acessando Linha:\n",
      "        Unnamed: 0     ID  valor_credito  sexo  nivel_escolaridade  \\\n",
      "0               0      1          20000     2                   2   \n",
      "1               1      2         120000     2                   2   \n",
      "2               2      3          90000     2                   2   \n",
      "3               3      4          50000     2                   2   \n",
      "4               4      5          50000     1                   2   \n",
      "...           ...    ...            ...   ...                 ...   \n",
      "29990       29990  29991         140000     1                   2   \n",
      "29991       29991  29992         210000     1                   2   \n",
      "29994       29994  29995          80000     1                   2   \n",
      "29997       29997  29998          30000     1                   2   \n",
      "29999       29999  30000          50000     1                   2   \n",
      "\n",
      "       estado_civil  idade  status_pag_set_2005  status_pag_ago_2005  \\\n",
      "0                 1     24                    2                    2   \n",
      "1                 2     26                   -1                    2   \n",
      "2                 2     34                    0                    0   \n",
      "3                 1     37                    0                    0   \n",
      "4                 1     57                   -1                    0   \n",
      "...             ...    ...                  ...                  ...   \n",
      "29990             1     41                    0                    0   \n",
      "29991             1     34                    3                    2   \n",
      "29994             2     34                    2                    2   \n",
      "29997             2     37                    4                    3   \n",
      "29999             1     46                    0                    0   \n",
      "\n",
      "       status_pag_jul_2005  ...  extrato_jul_2005  extrato_jun_2005  \\\n",
      "0                       -1  ...               689                 0   \n",
      "1                        0  ...              2682              3272   \n",
      "2                        0  ...             13559             14331   \n",
      "3                        0  ...             49291             28314   \n",
      "4                       -1  ...             35835             20940   \n",
      "...                    ...  ...               ...               ...   \n",
      "29990                    0  ...            139110            138262   \n",
      "29991                    2  ...              2500              2500   \n",
      "29994                    2  ...             79384             77519   \n",
      "29997                    2  ...              2758             20878   \n",
      "29999                    0  ...             49764             36535   \n",
      "\n",
      "       extrato_mai_2005  extrato_abr_2005  valor_pag_set_2005  \\\n",
      "0                     0                 0                   0   \n",
      "1                  3455              3261                   0   \n",
      "2                 14948             15549                1518   \n",
      "3                 28959             29547                2000   \n",
      "4                 19146             19131                2000   \n",
      "...                 ...               ...                 ...   \n",
      "29990             49675             46121                6000   \n",
      "29991              2500              2500                   0   \n",
      "29994             82607             81158                7000   \n",
      "29997             20582             19357                   0   \n",
      "29999             32428             15313                2078   \n",
      "\n",
      "       valor_pag_ago_2005  valor_pag_jul_2005  valor_pag_jun_2005  \\\n",
      "0                     689                   0                   0   \n",
      "1                    1000                1000                1000   \n",
      "2                    1500                1000                1000   \n",
      "3                    2019                1200                1100   \n",
      "4                   36681               10000                9000   \n",
      "...                   ...                 ...                 ...   \n",
      "29990                7000                4228                1505   \n",
      "29991                   0                   0                   0   \n",
      "29994                3500                   0                7000   \n",
      "29997                   0               22000                4200   \n",
      "29999                1800                1430                1000   \n",
      "\n",
      "       valor_pag_mai_2005  valor_pag_abr_2005  \n",
      "0                       0                   0  \n",
      "1                       0                2000  \n",
      "2                    1000                5000  \n",
      "3                    1069                1000  \n",
      "4                     689                 679  \n",
      "...                   ...                 ...  \n",
      "29990                2000                2000  \n",
      "29991                   0                   0  \n",
      "29994                   0                4000  \n",
      "29997                2000                3100  \n",
      "29999                1000                1000  \n",
      "\n",
      "[14030 rows x 25 columns]\n"
     ]
    }
   ],
   "source": [
    "if __name__ == '__main__':\n",
    "    metodos_para_acessar_linhas = MetodosParaAcessarLinhas()\n",
    "    # metodos_para_acessar_linhas.acessando_linha()\n",
    "    # metodos_para_acessar_linhas.acessando_multiplas_linhas()\n",
    "    # metodos_para_acessar_linhas.acessando_linhas_e_colunas()\n",
    "    # metodos_para_acessar_linhas.acessando_linhas_e_colunas_de_forma_numerica()\n",
    "    metodos_para_acessar_linhas.acessando_linhas_a_partir_da_mascara_booleana()"
   ]
  }
 ],
 "metadata": {
  "kernelspec": {
   "display_name": "venv",
   "language": "python",
   "name": "python3"
  },
  "language_info": {
   "codemirror_mode": {
    "name": "ipython",
    "version": 3
   },
   "file_extension": ".py",
   "mimetype": "text/x-python",
   "name": "python",
   "nbconvert_exporter": "python",
   "pygments_lexer": "ipython3",
   "version": "3.10.6"
  },
  "orig_nbformat": 4,
  "vscode": {
   "interpreter": {
    "hash": "fdeef196cbc11763b1c323759417fa872cd136b2a56707c291d126ad470f1ee8"
   }
  }
 },
 "nbformat": 4,
 "nbformat_minor": 2
}
