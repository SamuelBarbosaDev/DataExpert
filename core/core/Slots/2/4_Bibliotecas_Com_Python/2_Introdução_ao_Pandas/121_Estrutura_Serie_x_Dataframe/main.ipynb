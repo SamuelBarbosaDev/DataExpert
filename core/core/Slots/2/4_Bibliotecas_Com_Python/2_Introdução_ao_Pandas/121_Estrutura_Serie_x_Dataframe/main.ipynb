{
 "cells": [
  {
   "cell_type": "code",
   "execution_count": 1,
   "metadata": {},
   "outputs": [],
   "source": [
    "import pandas as pd"
   ]
  },
  {
   "cell_type": "code",
   "execution_count": 17,
   "metadata": {},
   "outputs": [],
   "source": [
    "class EstruturaSerieXDataframe():\n",
    "    \"\"\"\n",
    "    Trabalhando com pandas\n",
    "    \"\"\"\n",
    "    def __init__(self):\n",
    "        self.clientes = [\n",
    "            'Samuel', 'Rafael', 'carla'\n",
    "        ]\n",
    "        self.indice = []\n",
    "\n",
    "    def criando_uma_serie(self):\n",
    "        for indice, valor in enumerate(self.clientes):\n",
    "            self.indice.append(indice)\n",
    "        \n",
    "        self.serie = pd.Series(\n",
    "            data=self.clientes,\n",
    "            index=self.indice,\n",
    "            name='nome dos clientes'\n",
    "        )\n",
    "\n",
    "        print(self.serie)\n",
    "\n",
    "    def criando_um_dataframe(self):\n",
    "        self.df = pd.DataFrame(\n",
    "            {\n",
    "               'nome': ['Samuel', 'Rafael', 'carla'],\n",
    "               'idade': [19, 17, 78],\n",
    "               'sexo': ['m', 'm', 'f'],\n",
    "            }\n",
    "        )\n",
    "        print(f'\\nDataFrame:\\n{self.df}')\n",
    "        print(f'\\nSerie:\\n{ self.df[\"nome\"] }')"
   ]
  },
  {
   "cell_type": "code",
   "execution_count": 18,
   "metadata": {},
   "outputs": [
    {
     "name": "stdout",
     "output_type": "stream",
     "text": [
      "0    Samuel\n",
      "1    Rafael\n",
      "2     carla\n",
      "Name: nome dos clientes, dtype: object\n",
      "\n",
      "DataFrame:\n",
      "     nome  idade sexo\n",
      "0  Samuel     19    m\n",
      "1  Rafael     17    m\n",
      "2   carla     78    f\n",
      "\n",
      "Serie:\n",
      "0    Samuel\n",
      "1    Rafael\n",
      "2     carla\n",
      "Name: nome, dtype: object\n"
     ]
    }
   ],
   "source": [
    "if __name__ == '__main__':\n",
    "    estrutura_serie_x_dataframe = EstruturaSerieXDataframe()\n",
    "    estrutura_serie_x_dataframe.criando_uma_serie()\n",
    "    estrutura_serie_x_dataframe.criando_um_dataframe()"
   ]
  }
 ],
 "metadata": {
  "kernelspec": {
   "display_name": "venv",
   "language": "python",
   "name": "python3"
  },
  "language_info": {
   "codemirror_mode": {
    "name": "ipython",
    "version": 3
   },
   "file_extension": ".py",
   "mimetype": "text/x-python",
   "name": "python",
   "nbconvert_exporter": "python",
   "pygments_lexer": "ipython3",
   "version": "3.10.6 (main, Nov 14 2022, 16:10:14) [GCC 11.3.0]"
  },
  "orig_nbformat": 4,
  "vscode": {
   "interpreter": {
    "hash": "0f60f0d8225b498888813588bdbdff26fd82099ded266fc9d2291ee5204b5ef8"
   }
  }
 },
 "nbformat": 4,
 "nbformat_minor": 2
}
