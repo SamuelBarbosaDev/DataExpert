{
 "cells": [
  {
   "cell_type": "code",
   "execution_count": 1,
   "metadata": {},
   "outputs": [],
   "source": [
    "import numpy as np"
   ]
  },
  {
   "cell_type": "code",
   "execution_count": 56,
   "metadata": {},
   "outputs": [],
   "source": [
    "class ManipulaçãoComArray():\n",
    "    \"\"\"\n",
    "    Manipulação Com Array\n",
    "    \"\"\"\n",
    "    def __init__(self):\n",
    "        self.matriz = np.arange(0, 100)\n",
    "        self.matriz_reshape = self.matriz.reshape(10, 10)\n",
    "        self.matriz_newaxis = self.matriz[np.newaxis]\n",
    "\n",
    "    def matriz_reshape_informações(self):\n",
    "        print(\n",
    "            f\"\"\" \n",
    "{'=='*17}\n",
    "Matriz:\n",
    "{self.matriz_reshape}\n",
    "{'=='*17}\n",
    "ndim: {self.matriz_reshape.ndim}\n",
    "{'=='*17}\n",
    "shape: {self.matriz_reshape.shape}\n",
    "{'=='*17}\n",
    "size: {self.matriz_reshape.size}\n",
    "{'=='*17}\n",
    "            \"\"\"\n",
    "            )\n",
    "\n",
    "    def matriz_newaxis_informações(self):\n",
    "        print(\n",
    "            f\"\"\" \n",
    "{'=='*17}\n",
    "Matriz:\n",
    "{self.matriz_newaxis}\n",
    "{'=='*17}\n",
    "ndim: {self.matriz_newaxis.ndim}\n",
    "{'=='*17}\n",
    "shape: {self.matriz_newaxis.shape}\n",
    "{'=='*17}\n",
    "size: {self.matriz_newaxis.size}\n",
    "{'=='*17}\n",
    "            \"\"\"\n",
    "            )"
   ]
  },
  {
   "cell_type": "code",
   "execution_count": 57,
   "metadata": {},
   "outputs": [
    {
     "name": "stdout",
     "output_type": "stream",
     "text": [
      " \n",
      "==================================\n",
      "Matriz:\n",
      "[[ 0  1  2  3  4  5  6  7  8  9]\n",
      " [10 11 12 13 14 15 16 17 18 19]\n",
      " [20 21 22 23 24 25 26 27 28 29]\n",
      " [30 31 32 33 34 35 36 37 38 39]\n",
      " [40 41 42 43 44 45 46 47 48 49]\n",
      " [50 51 52 53 54 55 56 57 58 59]\n",
      " [60 61 62 63 64 65 66 67 68 69]\n",
      " [70 71 72 73 74 75 76 77 78 79]\n",
      " [80 81 82 83 84 85 86 87 88 89]\n",
      " [90 91 92 93 94 95 96 97 98 99]]\n",
      "==================================\n",
      "ndim: 2\n",
      "==================================\n",
      "shape: (10, 10)\n",
      "==================================\n",
      "size: 100\n",
      "==================================\n",
      "            \n"
     ]
    }
   ],
   "source": [
    "if __name__ == \"__main__\":\n",
    "    aula_115 = ManipulaçãoComArray()\n",
    "    aula_115.matriz_reshape_informações()\n"
   ]
  }
 ],
 "metadata": {
  "kernelspec": {
   "display_name": "venv",
   "language": "python",
   "name": "python3"
  },
  "language_info": {
   "codemirror_mode": {
    "name": "ipython",
    "version": 3
   },
   "file_extension": ".py",
   "mimetype": "text/x-python",
   "name": "python",
   "nbconvert_exporter": "python",
   "pygments_lexer": "ipython3",
   "version": "3.10.6 (main, Nov 14 2022, 16:10:14) [GCC 11.3.0]"
  },
  "orig_nbformat": 4,
  "vscode": {
   "interpreter": {
    "hash": "0f60f0d8225b498888813588bdbdff26fd82099ded266fc9d2291ee5204b5ef8"
   }
  }
 },
 "nbformat": 4,
 "nbformat_minor": 2
}
