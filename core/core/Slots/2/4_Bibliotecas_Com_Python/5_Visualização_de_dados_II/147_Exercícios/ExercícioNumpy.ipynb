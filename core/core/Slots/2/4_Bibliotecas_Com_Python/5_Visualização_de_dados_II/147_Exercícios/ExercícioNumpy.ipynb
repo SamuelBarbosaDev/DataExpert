{
 "cells": [
  {
   "cell_type": "code",
   "execution_count": 1,
   "metadata": {},
   "outputs": [],
   "source": [
    "import numpy as np\n",
    "import pandas as pd\n",
    "import seaborn as sns\n",
    "import plotly.express as px\n",
    "import matplotlib.pyplot as plt\n",
    "import plotly.graph_objects as go"
   ]
  },
  {
   "cell_type": "code",
   "execution_count": 108,
   "metadata": {},
   "outputs": [],
   "source": [
    "class ExercícioNumpy():\n",
    "    \"\"\"\n",
    "        Numpy\n",
    "\n",
    "            1. Utilizando a biblioteca numpy siga as instruções abaixo:\n",
    "                1. Crie um array 6x6 preenchido com zero\n",
    "                2. Preencha o centro desse array com um array 4x4 preenchido com uns\n",
    "                3. Preencha o centro desse array com um array 2x2 preenchido com dois\n",
    "                4. Gere um segundo array 6x6 com números inteiros aleatórios entre 0 e 2.\n",
    "                5. Subtraia o primeiro array pelo segundo\n",
    "    \"\"\"\n",
    "    def __init__(self):\n",
    "        self.array = np.zeros(\n",
    "            shape=(6, 6),\n",
    "            dtype=int,\n",
    "        )\n",
    "        self.array_4x4 = np.ones(\n",
    "            shape=(4, 4),\n",
    "            dtype=int,\n",
    "        )\n",
    "        self.array_2x2 = np.full(\n",
    "            shape=(2, 2),\n",
    "            fill_value=2,\n",
    "            dtype=int,\n",
    "        )\n",
    "        self.array_random = np.random.randint(\n",
    "            low=0, \n",
    "            high=2, \n",
    "            size=(6, 6),\n",
    "            dtype=int\n",
    "        )\n",
    "        \n",
    "    def criando_um_array_6x6(self):\n",
    "        print(f'\\n6x6:\\n{self.array}')\n",
    "    \n",
    "    def inserindo_um_array_4x4_no_array_6x6(self):\n",
    "        self.array[1:5, 1:5] = self.array_4x4\n",
    "        print(f'\\n4x4 in 6x6:\\n{self.array}')\n",
    "\n",
    "    def inserindo_um_array_2x2_no_array_4x4(self):\n",
    "        self.array[2:4, 2:4] = self.array_2x2\n",
    "        print(f'\\n2x2 in 4x4 in 6x6:\\n{self.array}')\n",
    "    \n",
    "    def gerando_uma_matriz_aleatoria(self):\n",
    "        print(f'\\nRandom:\\n{self.array_random}')\n",
    "    \n",
    "    def subtraíndo_matrizes(self):\n",
    "        resultado = self.array - self.array_random\n",
    "        print(f'\\n6x6 - 6x6_random:\\n{resultado}')"
   ]
  },
  {
   "cell_type": "code",
   "execution_count": 109,
   "metadata": {},
   "outputs": [
    {
     "name": "stdout",
     "output_type": "stream",
     "text": [
      "\n",
      "4x4 in 6x6:\n",
      "[[0 0 0 0 0 0]\n",
      " [0 1 1 1 1 0]\n",
      " [0 1 1 1 1 0]\n",
      " [0 1 1 1 1 0]\n",
      " [0 1 1 1 1 0]\n",
      " [0 0 0 0 0 0]]\n",
      "\n",
      "2x2 in 4x4 in 6x6:\n",
      "[[0 0 0 0 0 0]\n",
      " [0 1 1 1 1 0]\n",
      " [0 1 2 2 1 0]\n",
      " [0 1 2 2 1 0]\n",
      " [0 1 1 1 1 0]\n",
      " [0 0 0 0 0 0]]\n",
      "\n",
      "Random:\n",
      "[[0 1 1 0 0 1]\n",
      " [0 1 0 0 1 0]\n",
      " [1 0 0 0 0 1]\n",
      " [1 1 1 1 0 1]\n",
      " [1 1 1 0 0 0]\n",
      " [0 1 1 0 1 0]]\n",
      "\n",
      "6x6 - 6x6_random:\n",
      "[[ 0 -1 -1  0  0 -1]\n",
      " [ 0  0  1  1  0  0]\n",
      " [-1  1  2  2  1 -1]\n",
      " [-1  0  1  1  1 -1]\n",
      " [-1  0  0  1  1  0]\n",
      " [ 0 -1 -1  0 -1  0]]\n"
     ]
    }
   ],
   "source": [
    "if __name__ == '__main__':\n",
    "    exercício_numpy = ExercícioNumpy()\n",
    "    exercício_numpy.inserindo_um_array_4x4_no_array_6x6()\n",
    "    exercício_numpy.inserindo_um_array_2x2_no_array_4x4()\n",
    "    exercício_numpy.gerando_uma_matriz_aleatoria()\n",
    "    exercício_numpy.subtraíndo_matrizes()"
   ]
  }
 ],
 "metadata": {
  "kernelspec": {
   "display_name": "venv",
   "language": "python",
   "name": "python3"
  },
  "language_info": {
   "codemirror_mode": {
    "name": "ipython",
    "version": 3
   },
   "file_extension": ".py",
   "mimetype": "text/x-python",
   "name": "python",
   "nbconvert_exporter": "python",
   "pygments_lexer": "ipython3",
   "version": "3.10.6 (main, Nov 14 2022, 16:10:14) [GCC 11.3.0]"
  },
  "orig_nbformat": 4,
  "vscode": {
   "interpreter": {
    "hash": "0f60f0d8225b498888813588bdbdff26fd82099ded266fc9d2291ee5204b5ef8"
   }
  }
 },
 "nbformat": 4,
 "nbformat_minor": 2
}
