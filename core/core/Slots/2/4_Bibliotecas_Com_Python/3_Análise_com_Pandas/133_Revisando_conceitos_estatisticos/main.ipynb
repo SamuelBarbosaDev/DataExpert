{
 "cells": [
  {
   "cell_type": "code",
   "execution_count": 1,
   "metadata": {},
   "outputs": [],
   "source": [
    "import pandas as pd"
   ]
  },
  {
   "cell_type": "code",
   "execution_count": 10,
   "metadata": {},
   "outputs": [],
   "source": [
    "class RevisandoConceitosEstatisticos():\n",
    "    \"\"\"\n",
    "        Revisando conceitos estatisticos\n",
    "    \"\"\"\n",
    "    def __init__(self):\n",
    "        self.path = r'../DataFrame/credit_card_clients_2.csv'\n",
    "        self.credit = pd.read_csv(\n",
    "            self.path\n",
    "        )\n",
    "    \n",
    "    def media(self):\n",
    "        credit = self.credit['LIMIT_BAL'].mean()\n",
    "        print(f'\\nMédia: \\n{credit}')\n",
    "    \n",
    "    def mediana(self):\n",
    "        credit = self.credit['LIMIT_BAL'].median()\n",
    "        print(f'\\nMédiana: \\n{credit}')\n",
    "    \n",
    "    def moda(self):\n",
    "        credit = self.credit['LIMIT_BAL'].mode()\n",
    "        print(f'\\nModa: \\n{credit}')\n",
    "\n",
    "    def variancia(self):\n",
    "        credit = self.credit['LIMIT_BAL'].var()\n",
    "        print(f'\\nVariância: \\n{credit}')\n",
    "    \n",
    "    def desvio_padrão(self):\n",
    "        credit = self.credit['LIMIT_BAL'].std()\n",
    "        print(f'\\nDisvio Padão: \\n{credit}')        "
   ]
  },
  {
   "cell_type": "code",
   "execution_count": 11,
   "metadata": {},
   "outputs": [
    {
     "name": "stdout",
     "output_type": "stream",
     "text": [
      "\n",
      "Média: \n",
      "167471.48611805486\n",
      "\n",
      "Médiana: \n",
      "140000.0\n",
      "\n",
      "Moda: \n",
      "0    50000.0\n",
      "Name: LIMIT_BAL, dtype: float64\n",
      "\n",
      "Variância: \n",
      "16834424311.013964\n",
      "\n",
      "Disvio Padão: \n",
      "129747.54067424154\n"
     ]
    }
   ],
   "source": [
    "if __name__ == '__main__':\n",
    "    revisando_conceitos_estatisticos = RevisandoConceitosEstatisticos()\n",
    "    revisando_conceitos_estatisticos.media()\n",
    "    revisando_conceitos_estatisticos.mediana()\n",
    "    revisando_conceitos_estatisticos.moda()\n",
    "    revisando_conceitos_estatisticos.variancia()\n",
    "    revisando_conceitos_estatisticos.desvio_padrão()"
   ]
  }
 ],
 "metadata": {
  "kernelspec": {
   "display_name": "venv",
   "language": "python",
   "name": "python3"
  },
  "language_info": {
   "codemirror_mode": {
    "name": "ipython",
    "version": 3
   },
   "file_extension": ".py",
   "mimetype": "text/x-python",
   "name": "python",
   "nbconvert_exporter": "python",
   "pygments_lexer": "ipython3",
   "version": "3.10.6 (main, Nov 14 2022, 16:10:14) [GCC 11.3.0]"
  },
  "orig_nbformat": 4,
  "vscode": {
   "interpreter": {
    "hash": "0f60f0d8225b498888813588bdbdff26fd82099ded266fc9d2291ee5204b5ef8"
   }
  }
 },
 "nbformat": 4,
 "nbformat_minor": 2
}
