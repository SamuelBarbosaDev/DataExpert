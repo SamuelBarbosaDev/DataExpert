{
 "cells": [
  {
   "cell_type": "code",
   "execution_count": 10,
   "metadata": {},
   "outputs": [],
   "source": [
    "import sidetable\n",
    "import numpy as np\n",
    "import pandas as pd\n",
    "import seaborn as sns\n",
    "from scipy import stats\n",
    "import plotly.express as px\n",
    "import matplotlib.pyplot as plt\n",
    "import plotly.graph_objects as go"
   ]
  },
  {
   "cell_type": "code",
   "execution_count": 11,
   "metadata": {},
   "outputs": [],
   "source": [
    "class Quants():\n",
    "    \"\"\"\n",
    "        Quantis\n",
    "    \"\"\"\n",
    "    def __init__(self):\n",
    "        sns.set_theme(\n",
    "            context='talk',\n",
    "            style='ticks',\n",
    "            font_scale=8,\n",
    "            palette='viridis',\n",
    "            rc={\n",
    "                'figure.figsize': (12, 8),\n",
    "                'axes.grid': True,\n",
    "                'grid.alpha': .2,\n",
    "                'axes.titlesize': 'x-large',\n",
    "                'axes.titleweight': 'bold',\n",
    "                'axes.titlepad': 20,\n",
    "            }\n",
    "        )\n",
    "\n",
    "        self.df = sns.load_dataset('tips')\n",
    "\n",
    "    def amostragem(self):\n",
    "        df_tips_sample = self.df.sample(50)\n",
    "        print(df_tips_sample.shape)\n",
    "        print(df_tips_sample.head())\n",
    "    \n",
    "    def quants_forma_1(self):\n",
    "        resultado = np.median(self.df['tip'])\n",
    "        print(resultado)\n",
    "\n",
    "    def quants_forma_2(self):\n",
    "        resultado = self.df['total_bill'].quantile([.25, .5, .75])\n",
    "        print(resultado)\n",
    "\n",
    "if __name__ == '__main__':\n",
    "    quants = Quants()"
   ]
  },
  {
   "cell_type": "code",
   "execution_count": 12,
   "metadata": {},
   "outputs": [
    {
     "name": "stdout",
     "output_type": "stream",
     "text": [
      "2.9\n"
     ]
    }
   ],
   "source": [
    "quants.quants_forma_1()"
   ]
  },
  {
   "cell_type": "code",
   "execution_count": 13,
   "metadata": {},
   "outputs": [
    {
     "name": "stdout",
     "output_type": "stream",
     "text": [
      "0.25    13.3475\n",
      "0.50    17.7950\n",
      "0.75    24.1275\n",
      "Name: total_bill, dtype: float64\n"
     ]
    }
   ],
   "source": [
    "quants.quants_forma_2()"
   ]
  }
 ],
 "metadata": {
  "kernelspec": {
   "display_name": "venv",
   "language": "python",
   "name": "python3"
  },
  "language_info": {
   "codemirror_mode": {
    "name": "ipython",
    "version": 3
   },
   "file_extension": ".py",
   "mimetype": "text/x-python",
   "name": "python",
   "nbconvert_exporter": "python",
   "pygments_lexer": "ipython3",
   "version": "3.10.6"
  },
  "orig_nbformat": 4,
  "vscode": {
   "interpreter": {
    "hash": "0f60f0d8225b498888813588bdbdff26fd82099ded266fc9d2291ee5204b5ef8"
   }
  }
 },
 "nbformat": 4,
 "nbformat_minor": 2
}
