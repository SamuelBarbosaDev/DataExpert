{
 "cells": [
  {
   "cell_type": "code",
   "execution_count": 3,
   "metadata": {},
   "outputs": [],
   "source": [
    "import sidetable\n",
    "import numpy as np\n",
    "import pandas as pd\n",
    "import seaborn as sns\n",
    "from scipy import stats\n",
    "import plotly.express as px\n",
    "import matplotlib.pyplot as plt\n",
    "import plotly.graph_objects as go"
   ]
  },
  {
   "cell_type": "code",
   "execution_count": 21,
   "metadata": {},
   "outputs": [],
   "source": [
    "class IntroductionToStatistics():\n",
    "    \"\"\"\n",
    "        Amostragem - Prática\n",
    "    \"\"\"\n",
    "    def __init__(self):\n",
    "        pass\n",
    "\n",
    "    def amostragem(self):\n",
    "        sns.set_theme(\n",
    "            context='talk',\n",
    "            style='ticks',\n",
    "            font_scale=8,\n",
    "            palette='viridis',\n",
    "            rc={\n",
    "                'figure.figsize': (12, 8),\n",
    "                'axes.grid': True,\n",
    "                'grid.alpha': .2,\n",
    "                'axes.titlesize': 'x-large',\n",
    "                'axes.titleweight': 'bold',\n",
    "                'axes.titlepad': 20,\n",
    "            }\n",
    "        )\n",
    "\n",
    "        df_tips = sns.load_dataset('tips')\n",
    "        df_tips_sample = df_tips.sample(50)\n",
    "        print(df_tips_sample.shape)\n",
    "        print(df_tips_sample.head())\n"
   ]
  },
  {
   "cell_type": "code",
   "execution_count": 22,
   "metadata": {},
   "outputs": [
    {
     "name": "stdout",
     "output_type": "stream",
     "text": [
      "(50, 7)\n",
      "     total_bill   tip     sex smoker  day    time  size\n",
      "93        16.32  4.30  Female    Yes  Fri  Dinner     2\n",
      "28        21.70  4.30    Male     No  Sat  Dinner     2\n",
      "112       38.07  4.00    Male     No  Sun  Dinner     3\n",
      "5         25.29  4.71    Male     No  Sun  Dinner     4\n",
      "237       32.83  1.17    Male    Yes  Sat  Dinner     2\n"
     ]
    }
   ],
   "source": [
    "if __name__ == '__main__':\n",
    "    introduction_to_statistics = IntroductionToStatistics()\n",
    "    introduction_to_statistics.amostragem()"
   ]
  }
 ],
 "metadata": {
  "kernelspec": {
   "display_name": "venv",
   "language": "python",
   "name": "python3"
  },
  "language_info": {
   "codemirror_mode": {
    "name": "ipython",
    "version": 3
   },
   "file_extension": ".py",
   "mimetype": "text/x-python",
   "name": "python",
   "nbconvert_exporter": "python",
   "pygments_lexer": "ipython3",
   "version": "3.10.6"
  },
  "orig_nbformat": 4,
  "vscode": {
   "interpreter": {
    "hash": "0f60f0d8225b498888813588bdbdff26fd82099ded266fc9d2291ee5204b5ef8"
   }
  }
 },
 "nbformat": 4,
 "nbformat_minor": 2
}
