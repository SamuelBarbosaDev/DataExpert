{
 "cells": [
  {
   "cell_type": "code",
   "execution_count": 1,
   "metadata": {},
   "outputs": [],
   "source": [
    "import numpy as np"
   ]
  },
  {
   "cell_type": "code",
   "execution_count": 3,
   "metadata": {},
   "outputs": [],
   "source": [
    "class ArraysNaPratica():\n",
    "    def __init__(self):\n",
    "        \"\"\"\n",
    "        Criando as matrizes.\n",
    "        \"\"\"\n",
    "        self.matriz_array = np.array(\n",
    "            [[1, 2, 3], [9, 8, 7]]\n",
    "        )\n",
    "        self.matriz_arange = np.arange(3, 11)\n",
    "        self.matriz_linspace = np.linspace(5, 25, num=5)\n",
    "\n",
    "    def retorna_informações_das_matrizes(self):\n",
    "        tamanho_da_matriz_array = self.matriz_array.shape\n",
    "        quantidades_de_linhas_array = self.matriz_array.ndim\n",
    "\n",
    "        tamanho_da_matriz_arange = self.matriz_arange.shape\n",
    "        quantidades_de_linhas_arange = self.matriz_arange.ndim\n",
    "\n",
    "        print(f\"\"\"\n",
    "        --array--\n",
    "        o tamanho da array em cada dimensão: {tamanho_da_matriz_array}|\n",
    "        Quantidade de linhas: {quantidades_de_linhas_array}|\n",
    "\n",
    "        --arange--\n",
    "        o tamanho da array em cada dimensão: {tamanho_da_matriz_arange}|\n",
    "        Quantidade de linhas: {quantidades_de_linhas_arange}|\n",
    "\n",
    "        --linspace--\n",
    "        printando a matriz_linspace: {self.matriz_linspace}|\n",
    "        \"\"\")"
   ]
  },
  {
   "cell_type": "code",
   "execution_count": 4,
   "metadata": {},
   "outputs": [
    {
     "name": "stdout",
     "output_type": "stream",
     "text": [
      "\n",
      "        --array--\n",
      "        o tamanho da array em cada dimensão: (2, 3)|\n",
      "        Quantidade de linhas: 2|\n",
      "\n",
      "        --arange--\n",
      "        o tamanho da array em cada dimensão: (8,)|\n",
      "        Quantidade de linhas: 1|\n",
      "\n",
      "        --linspace--\n",
      "        printando a matriz_linspace: [ 5. 10. 15. 20. 25.]|\n",
      "        \n"
     ]
    }
   ],
   "source": [
    "if __name__ == '__main__':\n",
    "    estudo_numpy = ArraysNaPratica()\n",
    "    estudo_numpy.retorna_informações_das_matrizes()\n"
   ]
  }
 ],
 "metadata": {
  "kernelspec": {
   "display_name": "venv",
   "language": "python",
   "name": "python3"
  },
  "language_info": {
   "codemirror_mode": {
    "name": "ipython",
    "version": 3
   },
   "file_extension": ".py",
   "mimetype": "text/x-python",
   "name": "python",
   "nbconvert_exporter": "python",
   "pygments_lexer": "ipython3",
   "version": "3.10.6 (main, Nov 14 2022, 16:10:14) [GCC 11.3.0]"
  },
  "orig_nbformat": 4,
  "vscode": {
   "interpreter": {
    "hash": "0f60f0d8225b498888813588bdbdff26fd82099ded266fc9d2291ee5204b5ef8"
   }
  }
 },
 "nbformat": 4,
 "nbformat_minor": 2
}
