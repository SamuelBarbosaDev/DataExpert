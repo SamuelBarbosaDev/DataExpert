{
 "cells": [
  {
   "cell_type": "code",
   "execution_count": 10,
   "metadata": {},
   "outputs": [],
   "source": [
    "import numpy as np"
   ]
  },
  {
   "cell_type": "code",
   "execution_count": 18,
   "metadata": {},
   "outputs": [],
   "source": [
    "class Matrizes():\n",
    "    \"\"\"\n",
    "    Ordenando Juntando e dividindo matrizes\n",
    "    \"\"\"\n",
    "    def __init__(self):\n",
    "        self.matriz = np.array(\n",
    "            [1, 2, 3, 4, 5, 76, 8, 564, 3465, 67, 3]\n",
    "        )\n",
    "\n",
    "    def ordenando_matriz(self):\n",
    "        self.matriz = np.sort(self.matriz)\n",
    "        print(f'Matriz \\n{self.matriz}')\n",
    "    \n",
    "    def dividindo_matriz(self):\n",
    "        for item in self.matriz.flat:\n",
    "            print(f'item: {item}')"
   ]
  },
  {
   "cell_type": "code",
   "execution_count": 19,
   "metadata": {},
   "outputs": [
    {
     "name": "stdout",
     "output_type": "stream",
     "text": [
      "Matriz \n",
      "[   1    2    3    3    4    5    8   67   76  564 3465]\n",
      "item: 1\n",
      "item: 2\n",
      "item: 3\n",
      "item: 3\n",
      "item: 4\n",
      "item: 5\n",
      "item: 8\n",
      "item: 67\n",
      "item: 76\n",
      "item: 564\n",
      "item: 3465\n"
     ]
    }
   ],
   "source": [
    "if __name__ == \"__main__\":\n",
    "    matrizes = Matrizes()\n",
    "    matrizes.ordenando_matriz()\n",
    "    matrizes.dividindo_matriz()"
   ]
  }
 ],
 "metadata": {
  "kernelspec": {
   "display_name": "venv",
   "language": "python",
   "name": "python3"
  },
  "language_info": {
   "codemirror_mode": {
    "name": "ipython",
    "version": 3
   },
   "file_extension": ".py",
   "mimetype": "text/x-python",
   "name": "python",
   "nbconvert_exporter": "python",
   "pygments_lexer": "ipython3",
   "version": "3.10.6 (main, Nov 14 2022, 16:10:14) [GCC 11.3.0]"
  },
  "orig_nbformat": 4,
  "vscode": {
   "interpreter": {
    "hash": "fdeef196cbc11763b1c323759417fa872cd136b2a56707c291d126ad470f1ee8"
   }
  }
 },
 "nbformat": 4,
 "nbformat_minor": 2
}
