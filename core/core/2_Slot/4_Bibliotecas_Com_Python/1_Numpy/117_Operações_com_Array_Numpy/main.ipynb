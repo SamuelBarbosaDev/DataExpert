{
 "cells": [
  {
   "cell_type": "code",
   "execution_count": 11,
   "metadata": {},
   "outputs": [],
   "source": [
    "import numpy as np"
   ]
  },
  {
   "cell_type": "code",
   "execution_count": 55,
   "metadata": {},
   "outputs": [],
   "source": [
    "class OperaçõesComArray():\n",
    "    \"\"\"\n",
    "    Operações Com Array\n",
    "    \"\"\"\n",
    "    def __init__(self):\n",
    "        self.matriz = np.array(\n",
    "            [\n",
    "                [1, 2], \n",
    "                [3, 4],\n",
    "            ]\n",
    "        )\n",
    "\n",
    "        self.matriz_ones = np.ones(\n",
    "            [2, 2]\n",
    "        )\n",
    "\n",
    "        self.matriz_zeros_like = np.zeros_like(self.matriz)\n",
    "    \n",
    "    def somando_arrays(self):\n",
    "        print(f\"Somando Arrays:\\n{self.matriz + self.matriz_ones}\")\n",
    "\n",
    "    def subtraindo_arrays(self):\n",
    "        print(f\"Subtraindo Arrays:\\n{self.matriz - self.matriz_ones}\")\n",
    "\n",
    "    def multiplicando_arrays(self):\n",
    "        print(f\"multiplicando Arrays:\\n{self.matriz * self.matriz_ones}\")\n",
    "\n",
    "    def dividindo_arrays(self):\n",
    "        print(f\"Dividindo Arrays:\\n{self.matriz / self.matriz_ones}\")\n",
    "\n",
    "    def somando_constante(self, constante=10):\n",
    "        print(f\"Somando Constante:\\n{self.matriz + constante}\")\n",
    "\n",
    "    def multiplicando_constante(self, constante=10):\n",
    "        print(f\"Multiplicando Constante:\\n{self.matriz * constante}\")\n"
   ]
  },
  {
   "cell_type": "code",
   "execution_count": 56,
   "metadata": {},
   "outputs": [
    {
     "name": "stdout",
     "output_type": "stream",
     "text": [
      "Somando Constante:\n",
      "[[11 12]\n",
      " [13 14]]\n",
      "Multiplicando Constante:\n",
      "[[10 20]\n",
      " [30 40]]\n"
     ]
    }
   ],
   "source": [
    "if __name__ == '__main__':\n",
    "    operações_com_array = OperaçõesComArray()\n",
    "    operações_com_array.somando_constante()\n",
    "    operações_com_array.multiplicando_constante()\n"
   ]
  }
 ],
 "metadata": {
  "kernelspec": {
   "display_name": "venv",
   "language": "python",
   "name": "python3"
  },
  "language_info": {
   "codemirror_mode": {
    "name": "ipython",
    "version": 3
   },
   "file_extension": ".py",
   "mimetype": "text/x-python",
   "name": "python",
   "nbconvert_exporter": "python",
   "pygments_lexer": "ipython3",
   "version": "3.10.6 (main, Nov 14 2022, 16:10:14) [GCC 11.3.0]"
  },
  "orig_nbformat": 4,
  "vscode": {
   "interpreter": {
    "hash": "0f60f0d8225b498888813588bdbdff26fd82099ded266fc9d2291ee5204b5ef8"
   }
  }
 },
 "nbformat": 4,
 "nbformat_minor": 2
}
