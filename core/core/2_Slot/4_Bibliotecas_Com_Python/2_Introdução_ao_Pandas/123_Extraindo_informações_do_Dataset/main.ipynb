{
 "cells": [
  {
   "cell_type": "code",
   "execution_count": 3,
   "metadata": {},
   "outputs": [],
   "source": [
    "import pandas as pd"
   ]
  },
  {
   "cell_type": "code",
   "execution_count": 31,
   "metadata": {},
   "outputs": [],
   "source": [
    "class ExtraindoInformaçõesDoDataset():\n",
    "    \"\"\"\n",
    "        Extraindo Informações Do Dataset.\n",
    "    \"\"\"\n",
    "    def __init__(self):\n",
    "        self.path = r'../Dataset_colabs/credit_card_clients.csv'\n",
    "        self.credit = pd.read_csv(\n",
    "            self.path\n",
    "        )\n",
    "\n",
    "    def shape_do_dataset(self):\n",
    "        print(f'Shape: {self.credit.shape}')\n",
    "        \n",
    "    def informações_do_dataset(self):\n",
    "        print(f'\\nInformações Do DataSet: \\n{self.credit.info()}')\n",
    "    \n",
    "    def os_vinte_primeiros_clientes(self):\n",
    "        print(f'\\nOs Vinte Primeiros Clientes: \\n{self.credit.head(20)}')\n",
    "\n",
    "    def os_vintes_ultimos_clientes(self):\n",
    "        print(f'\\nOs Vinte Últimos Clientes: \\n{self.credit.tail(20)}')\n"
   ]
  },
  {
   "cell_type": "code",
   "execution_count": 32,
   "metadata": {},
   "outputs": [
    {
     "name": "stdout",
     "output_type": "stream",
     "text": [
      "Shape: (30000, 25)\n"
     ]
    }
   ],
   "source": [
    "if __name__ == '__main__':\n",
    "    extraindo_informações_do_dataset = ExtraindoInformaçõesDoDataset()\n",
    "    extraindo_informações_do_dataset.informações_do_dataset()\n",
    "    extraindo_informações_do_dataset.os_vinte_primeiros_clientes()\n",
    "    extraindo_informações_do_dataset.os_vintes_ultimos_clientes()\n",
    "    extraindo_informações_do_dataset.shape_do_dataset()"
   ]
  }
 ],
 "metadata": {
  "kernelspec": {
   "display_name": "venv",
   "language": "python",
   "name": "python3"
  },
  "language_info": {
   "codemirror_mode": {
    "name": "ipython",
    "version": 3
   },
   "file_extension": ".py",
   "mimetype": "text/x-python",
   "name": "python",
   "nbconvert_exporter": "python",
   "pygments_lexer": "ipython3",
   "version": "3.10.6 (main, Nov 14 2022, 16:10:14) [GCC 11.3.0]"
  },
  "orig_nbformat": 4,
  "vscode": {
   "interpreter": {
    "hash": "fdeef196cbc11763b1c323759417fa872cd136b2a56707c291d126ad470f1ee8"
   }
  }
 },
 "nbformat": 4,
 "nbformat_minor": 2
}
