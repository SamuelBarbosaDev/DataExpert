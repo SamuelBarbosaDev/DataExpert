{
 "cells": [
  {
   "cell_type": "code",
   "execution_count": 1,
   "metadata": {},
   "outputs": [],
   "source": [
    "import pandas as pd\n",
    "import seaborn as sns\n",
    "import plotly.express as px\n",
    "import matplotlib.pyplot as plt\n",
    "import plotly.graph_objects as go"
   ]
  },
  {
   "cell_type": "code",
   "execution_count": null,
   "metadata": {},
   "outputs": [],
   "source": [
    "class Dynamics():\n",
    "    \"\"\"\n",
    "        04/02/22\n",
    "    \"\"\"\n",
    "    def __init__(self):\n",
    "        path = r'data/houses_to_rent .xlsx'\n",
    "        self.df = pd.read_excel(\n",
    "            path\n",
    "        )\n",
    "\n",
    "if __name__ == '__main__':\n",
    "    dynamics = Dynamics()"
   ]
  },
  {
   "cell_type": "code",
   "execution_count": null,
   "metadata": {},
   "outputs": [],
   "source": []
  }
 ],
 "metadata": {
  "kernelspec": {
   "display_name": "venv",
   "language": "python",
   "name": "python3"
  },
  "language_info": {
   "codemirror_mode": {
    "name": "ipython",
    "version": 3
   },
   "file_extension": ".py",
   "mimetype": "text/x-python",
   "name": "python",
   "nbconvert_exporter": "python",
   "pygments_lexer": "ipython3",
   "version": "3.10.6"
  },
  "orig_nbformat": 4,
  "vscode": {
   "interpreter": {
    "hash": "0f60f0d8225b498888813588bdbdff26fd82099ded266fc9d2291ee5204b5ef8"
   }
  }
 },
 "nbformat": 4,
 "nbformat_minor": 2
}
